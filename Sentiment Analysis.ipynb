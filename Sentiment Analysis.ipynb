{
 "cells": [
  {
   "cell_type": "markdown",
   "id": "502bd47a",
   "metadata": {},
   "source": [
    "<figcaption style=\"color: #008080; font-weight: bold; font-size: 18px;\">\n",
    "    <img src=\"startimage.jpg\">\n",
    "    Emotion Detection Project\n",
    "</figcaption>"
   ]
  },
  {
   "cell_type": "markdown",
   "id": "0bf2d9c2",
   "metadata": {},
   "source": [
    "## <font color='#3f51b5'>1.Import Libraries </font> "
   ]
  },
  {
   "cell_type": "code",
   "execution_count": 1,
   "id": "c19558b4",
   "metadata": {},
   "outputs": [],
   "source": [
    "from string import punctuation\n",
    "from nltk.tokenize import word_tokenize\n",
    "from nltk.corpus import stopwords\n",
    "from nltk.stem import PorterStemmer\n",
    "from nltk.stem import SnowballStemmer\n",
    "from nltk.stem import WordNetLemmatizer\n",
    "######\n",
    "from sklearn.feature_extraction.text import CountVectorizer\n",
    "from sklearn.feature_extraction.text import TfidfVectorizer\n",
    "import pandas as pd \n",
    "import matplotlib.pyplot as plt\n",
    "from sklearn.naive_bayes import MultinomialNB\n",
    "from sklearn.metrics import precision_score, recall_score, accuracy_score,confusion_matrix,classification_report\n",
    "from sklearn.ensemble import RandomForestClassifier\n",
    "from sklearn import tree\n",
    "import numpy as np\n",
    "from keras.models import Sequential\n",
    "from keras.layers import LSTM,Dense\n",
    "import seaborn as sns\n"
   ]
  },
  {
   "cell_type": "code",
   "execution_count": 2,
   "id": "e35f768b",
   "metadata": {},
   "outputs": [],
   "source": [
    "import warnings\n",
    "warnings.filterwarnings('ignore')"
   ]
  },
  {
   "cell_type": "markdown",
   "id": "5c4ec5ed",
   "metadata": {},
   "source": [
    "## <font color='#3f51b5'>2.Data Loading For Traning </font> "
   ]
  },
  {
   "cell_type": "code",
   "execution_count": 3,
   "id": "19a367e2",
   "metadata": {},
   "outputs": [
    {
     "name": "stdout",
     "output_type": "stream",
     "text": [
      "['i didnt feel humiliated', 'i can go from feeling so hopeless to so damned hopeful just from being around someone who cares and is awake', 'im grabbing a minute to post i feel greedy wrong', 'i am ever feeling nostalgic about the fireplace i will know that it is still on the property', 'i am feeling grouchy', 'ive been feeling a little burdened lately wasnt sure why that was', 'ive been taking or milligrams or times recommended amount and ive fallen asleep a lot faster but i also feel like so funny', 'i feel as confused about life as a teenager or as jaded as a year old man', 'i have been with petronas for years i feel that petronas has performed well and made a huge profit', 'i feel romantic too']\n",
      "**************************************************\n",
      "['sadness', 'sadness', 'anger', 'love', 'anger', 'sadness', 'surprise', 'fear', 'joy', 'love']\n"
     ]
    }
   ],
   "source": [
    "file=open('train.txt','r')\n",
    "x_train=[]\n",
    "y_train=[]\n",
    "for line in file: \n",
    "    l=line.split(';')\n",
    "    x_train.append(l[0])\n",
    "    y_train.append(l[1].strip())\n",
    "print(x_train[0:10])\n",
    "print(50*'*')\n",
    "print(y_train[0:10])\n"
   ]
  },
  {
   "cell_type": "markdown",
   "id": "4a73ba41",
   "metadata": {},
   "source": [
    "## <font color='#3f51b5'>3. Data Loading For Testing </font> "
   ]
  },
  {
   "cell_type": "code",
   "execution_count": 4,
   "id": "a257aa3f",
   "metadata": {},
   "outputs": [
    {
     "name": "stdout",
     "output_type": "stream",
     "text": [
      "['sadness', 'sadness', 'sadness', 'joy', 'sadness', 'fear', 'anger', 'joy', 'joy', 'anger']\n",
      "**************************************************\n",
      "['im feeling rather rotten so im not very ambitious right now', 'im updating my blog because i feel shitty', 'i never make her separate from me because i don t ever want her to feel like i m ashamed with her', 'i left with my bouquet of red and yellow tulips under my arm feeling slightly more optimistic than when i arrived', 'i was feeling a little vain when i did this one', 'i cant walk into a shop anywhere where i do not feel uncomfortable', 'i felt anger when at the end of a telephone call', 'i explain why i clung to a relationship with a boy who was in many ways immature and uncommitted despite the excitement i should have been feeling for getting accepted into the masters program at the university of virginia', 'i like to have the same breathless feeling as a reader eager to see what will happen next', 'i jest i feel grumpy tired and pre menstrual which i probably am but then again its only been a week and im about as fit as a walrus on vacation for the summer']\n"
     ]
    }
   ],
   "source": [
    "file=open('test.txt','r')\n",
    "x_test=[]\n",
    "y_test=[]\n",
    "for line in file: \n",
    "    l=line.split(';')\n",
    "    x_test.append(l[0])\n",
    "    y_test.append(l[1].strip())\n",
    "print(y_test[0:10])\n",
    "print(50*'*')\n",
    "print(x_test[0:10])"
   ]
  },
  {
   "cell_type": "code",
   "execution_count": 5,
   "id": "c65b9f26",
   "metadata": {},
   "outputs": [],
   "source": [
    "x_data = x_train + x_test\n",
    "y_data = y_train + y_test"
   ]
  },
  {
   "cell_type": "code",
   "execution_count": 6,
   "id": "f5ce4972",
   "metadata": {},
   "outputs": [
    {
     "data": {
      "text/plain": [
       "(20000, 1)"
      ]
     },
     "execution_count": 6,
     "metadata": {},
     "output_type": "execute_result"
    }
   ],
   "source": [
    "x_traindata = np.array(x_data)\n",
    "df = pd.DataFrame(x_traindata)\n",
    "df.shape"
   ]
  },
  {
   "cell_type": "code",
   "execution_count": 7,
   "id": "0c1bf5ee",
   "metadata": {},
   "outputs": [
    {
     "data": {
      "image/png": "[encoded data removed]",
      "text/plain": [
       "<Figure size 1400x800 with 1 Axes>"
      ]
     },
     "metadata": {},
     "output_type": "display_data"
    }
   ],
   "source": [
    "df = pd.DataFrame({'Sentiment': y_data})\n",
    "# Plot the bar\n",
    "plt.figure(figsize=(14,8))\n",
    "df['Sentiment'].value_counts().plot(kind = 'bar',cmap='PiYG')\n",
    "plt.show()"
   ]
  },
  {
   "cell_type": "code",
   "execution_count": 8,
   "id": "511254e8",
   "metadata": {},
   "outputs": [
    {
     "name": "stdout",
     "output_type": "stream",
     "text": [
      "Original dataset shape Counter({'joy': 6761, 'sadness': 5797, 'anger': 2709, 'fear': 2373, 'love': 1641, 'surprise': 719})\n",
      "After Oversample dataset shape Counter({'sadness': 6761, 'anger': 6761, 'love': 6761, 'surprise': 6761, 'fear': 6761, 'joy': 6761})\n"
     ]
    }
   ],
   "source": [
    "import imblearn\n",
    "from collections import Counter\n",
    "import numpy as np\n",
    "x_data=np.array(x_data)\n",
    "from imblearn.over_sampling import RandomOverSampler \n",
    "ROS = RandomOverSampler()\n",
    "print('Original dataset shape %s' % Counter(y_data))\n",
    "x_data, y_data = ROS.fit_resample(x_data.reshape(-1,1),y_data)\n",
    "print('After Oversample dataset shape %s' % Counter(y_data))"
   ]
  },
  {
   "cell_type": "code",
   "execution_count": 9,
   "id": "75038b85",
   "metadata": {},
   "outputs": [
    {
     "data": {
      "image/png": "[encoded data removed]",
      "text/plain": [
       "<Figure size 1400x800 with 1 Axes>"
      ]
     },
     "metadata": {},
     "output_type": "display_data"
    }
   ],
   "source": [
    "df = pd.DataFrame({'Sentiment': y_data})\n",
    "# Plot the bar\n",
    "plt.figure(figsize=(14,8))\n",
    "df['Sentiment'].value_counts().plot(kind = 'bar',cmap='PiYG')\n",
    "plt.show()"
   ]
  },
  {
   "cell_type": "markdown",
   "id": "a6e4549e",
   "metadata": {},
   "source": [
    "## <font color='#3f51b5'>4. Preprocessing </font> "
   ]
  },
  {
   "cell_type": "code",
   "execution_count": 10,
   "id": "207bf700",
   "metadata": {},
   "outputs": [],
   "source": [
    "class Preprocessing:\n",
    "    def __init__(self, data):\n",
    "        self.txt = data\n",
    "#*************************************#\n",
    "    def remove_punctuation(self):\n",
    "        punc = list(punctuation)\n",
    "        remove_pun = []\n",
    "        for sentence in self.txt:\n",
    "            new_sentence = ''\n",
    "            for char in sentence:\n",
    "                if char not in punc:\n",
    "                    new_sentence += char\n",
    "            remove_pun.append(new_sentence)\n",
    "        self.txt = remove_pun\n",
    "        #print(self.txt)\n",
    "#*************************************#  \n",
    "    def Word_Tokenization(self):\n",
    "        tokenized_sentences = []\n",
    "        for sentence in self.txt:\n",
    "            tokens = word_tokenize(sentence)\n",
    "            tokenized_sentences.append(tokens)\n",
    "        self.txt = tokenized_sentences\n",
    "        #print(self.txt)\n",
    "#*************************************#\n",
    "    def remove_stop_words(self):\n",
    "        stop_words = stopwords.words('english')\n",
    "        filtered_sentences = []\n",
    "        for sentence in self.txt:\n",
    "            filtered_words = []\n",
    "            for word in sentence:\n",
    "                if word.lower() not in stop_words:\n",
    "                    filtered_words.append(word.lower())\n",
    "            filtered_sentences.append(filtered_words)\n",
    "        self.txt = filtered_sentences\n",
    "        #print(self.txt)\n",
    "#*************************************#\n",
    "    def snowball_stemmer(self):\n",
    "        ps = SnowballStemmer(language='english')\n",
    "        snowball_sentences = []\n",
    "        for sentence in self.txt:\n",
    "            snowball_words = []\n",
    "            for word in sentence:\n",
    "                snowball_words.append(ps.stem(word))\n",
    "            snowball_sentences.append(snowball_words)\n",
    "        self.txt = snowball_sentences\n",
    "        #print(self.txt)\n",
    "#*************************************#\n",
    "    def lemmatization(self):\n",
    "        lemmatizer=WordNetLemmatizer()\n",
    "        lemma_sentences = []\n",
    "        for sentence in self.txt:\n",
    "            lemma_words = []\n",
    "            for word in sentence:\n",
    "                lemma_words.append(lemmatizer.lemmatize(word))\n",
    "            lemma_sentences.append(lemma_words)\n",
    "        self.txt = lemma_sentences\n",
    "        #print(self.txt)\n",
    "#*************************************#\n",
    "    def portstemmer_sentence(self):\n",
    "        ps = PorterStemmer()\n",
    "        portstemmer_sentences = []\n",
    "        for sentence in self.txt:\n",
    "            portstemmer_words = []\n",
    "            for word in sentence:\n",
    "                portstemmer_words.append(ps.stem(word))\n",
    "            portstemmer_sentences.append(portstemmer_words)\n",
    "        self.txt = portstemmer_sentences\n",
    "        #print(self.txt)\n",
    "#*************************************#\n",
    "    def preprocessing_end(self):\n",
    "        return self.txt\n",
    "#*************************************#\n",
    "    def return_data(self):\n",
    "        new=[]\n",
    "        for sentences in self.txt:\n",
    "            sentence = ' '.join(sentences)\n",
    "            new.append(sentence)\n",
    "        return new"
   ]
  },
  {
   "cell_type": "code",
   "execution_count": 11,
   "id": "ec8991c4",
   "metadata": {},
   "outputs": [],
   "source": [
    "pre_xtrain=Preprocessing(x_data)#constructor for x_data"
   ]
  },
  {
   "cell_type": "markdown",
   "id": "0f2b444d",
   "metadata": {},
   "source": [
    "## <font color='#3f51b5'>4.1-Remove puntuation </font> "
   ]
  },
  {
   "cell_type": "code",
   "execution_count": 12,
   "id": "18aed381",
   "metadata": {},
   "outputs": [],
   "source": [
    "pre_xtrain.remove_punctuation()"
   ]
  },
  {
   "cell_type": "markdown",
   "id": "75195d6e",
   "metadata": {},
   "source": [
    "## <font color='#3f51b5'>4.2-Word_Tokenization </font>  "
   ]
  },
  {
   "cell_type": "code",
   "execution_count": 13,
   "id": "22a15fd4",
   "metadata": {},
   "outputs": [],
   "source": [
    "pre_xtrain.Word_Tokenization()"
   ]
  },
  {
   "cell_type": "markdown",
   "id": "b1dc964c",
   "metadata": {},
   "source": [
    "## <font color='#3f51b5'>4.3-Remove_stop_words </font>  "
   ]
  },
  {
   "cell_type": "code",
   "execution_count": 14,
   "id": "42524da3",
   "metadata": {},
   "outputs": [],
   "source": [
    "pre_xtrain.remove_stop_words()"
   ]
  },
  {
   "cell_type": "markdown",
   "id": "4e2c317f",
   "metadata": {},
   "source": [
    "## <font color='#3f51b5'>4.4- Porter Stemmer ||Snowball Stemmer || lemmatizer </font>  \n"
   ]
  },
  {
   "cell_type": "code",
   "execution_count": 15,
   "id": "caccd715",
   "metadata": {
    "scrolled": true
   },
   "outputs": [],
   "source": [
    "#pre_xtrain.snowball_stemmer()\n",
    "pre_xtrain.lemmatization()\n",
    "#pre_xtrain.portstemmer_sentence()"
   ]
  },
  {
   "cell_type": "markdown",
   "id": "ad557c91",
   "metadata": {},
   "source": [
    "## <font color='red'>4.5-Final Result</font>"
   ]
  },
  {
   "cell_type": "code",
   "execution_count": 16,
   "id": "a766fcfb",
   "metadata": {},
   "outputs": [
    {
     "name": "stdout",
     "output_type": "stream",
     "text": [
      "[['didnt', 'feel', 'humiliated'], ['go', 'feeling', 'hopeless', 'damned', 'hopeful', 'around', 'someone', 'care', 'awake'], ['im', 'grabbing', 'minute', 'post', 'feel', 'greedy', 'wrong'], ['ever', 'feeling', 'nostalgic', 'fireplace', 'know', 'still', 'property'], ['feeling', 'grouchy']]\n"
     ]
    }
   ],
   "source": [
    "x_data=pre_xtrain.preprocessing_end()\n",
    "print(x_data[0:5])"
   ]
  },
  {
   "cell_type": "markdown",
   "id": "305e38dd",
   "metadata": {},
   "source": [
    "## <font color='#3f51b5'>5.1-Prepare For Vectorization  </font>  "
   ]
  },
  {
   "cell_type": "code",
   "execution_count": 17,
   "id": "433ce6aa",
   "metadata": {},
   "outputs": [
    {
     "name": "stdout",
     "output_type": "stream",
     "text": [
      "['didnt feel humiliated', 'go feeling hopeless damned hopeful around someone care awake', 'im grabbing minute post feel greedy wrong', 'ever feeling nostalgic fireplace know still property', 'feeling grouchy', 'ive feeling little burdened lately wasnt sure', 'ive taking milligram time recommended amount ive fallen asleep lot faster also feel like funny', 'feel confused life teenager jaded year old man', 'petronas year feel petronas performed well made huge profit', 'feel romantic']\n"
     ]
    }
   ],
   "source": [
    "vector=pre_xtrain.return_data()\n",
    "print(vector[0:10])"
   ]
  },
  {
   "cell_type": "markdown",
   "id": "36b7eae2",
   "metadata": {},
   "source": [
    "##  <font color='#008080'>5.2-TF-IDF(term frequency-inverse document frequency)</font>  "
   ]
  },
  {
   "cell_type": "code",
   "execution_count": 18,
   "id": "07f66bd3",
   "metadata": {},
   "outputs": [
    {
     "name": "stdout",
     "output_type": "stream",
     "text": [
      "(40566, 15081)\n"
     ]
    },
    {
     "data": {
      "text/html": [
       "<div>\n",
       "<style scoped>\n",
       "    .dataframe tbody tr th:only-of-type {\n",
       "        vertical-align: middle;\n",
       "    }\n",
       "\n",
       "    .dataframe tbody tr th {\n",
       "        vertical-align: top;\n",
       "    }\n",
       "\n",
       "    .dataframe thead th {\n",
       "        text-align: right;\n",
       "    }\n",
       "</style>\n",
       "<table border=\"1\" class=\"dataframe\">\n",
       "  <thead>\n",
       "    <tr style=\"text-align: right;\">\n",
       "      <th></th>\n",
       "      <th>aa</th>\n",
       "      <th>aaaaaaand</th>\n",
       "      <th>aaaaand</th>\n",
       "      <th>aaaah</th>\n",
       "      <th>aaaand</th>\n",
       "      <th>aac</th>\n",
       "      <th>aahhh</th>\n",
       "      <th>aaron</th>\n",
       "      <th>ab</th>\n",
       "      <th>abandon</th>\n",
       "      <th>...</th>\n",
       "      <th>zoned</th>\n",
       "      <th>zonisamide</th>\n",
       "      <th>zoo</th>\n",
       "      <th>zoom</th>\n",
       "      <th>zooming</th>\n",
       "      <th>zq</th>\n",
       "      <th>zucchini</th>\n",
       "      <th>zum</th>\n",
       "      <th>zumba</th>\n",
       "      <th>zz</th>\n",
       "    </tr>\n",
       "  </thead>\n",
       "  <tbody>\n",
       "    <tr>\n",
       "      <th>0</th>\n",
       "      <td>0.0</td>\n",
       "      <td>0.0</td>\n",
       "      <td>0.0</td>\n",
       "      <td>0.0</td>\n",
       "      <td>0.0</td>\n",
       "      <td>0.0</td>\n",
       "      <td>0.0</td>\n",
       "      <td>0.0</td>\n",
       "      <td>0.0</td>\n",
       "      <td>0.0</td>\n",
       "      <td>...</td>\n",
       "      <td>0.0</td>\n",
       "      <td>0.0</td>\n",
       "      <td>0.0</td>\n",
       "      <td>0.0</td>\n",
       "      <td>0.0</td>\n",
       "      <td>0.0</td>\n",
       "      <td>0.0</td>\n",
       "      <td>0.0</td>\n",
       "      <td>0.0</td>\n",
       "      <td>0.0</td>\n",
       "    </tr>\n",
       "    <tr>\n",
       "      <th>1</th>\n",
       "      <td>0.0</td>\n",
       "      <td>0.0</td>\n",
       "      <td>0.0</td>\n",
       "      <td>0.0</td>\n",
       "      <td>0.0</td>\n",
       "      <td>0.0</td>\n",
       "      <td>0.0</td>\n",
       "      <td>0.0</td>\n",
       "      <td>0.0</td>\n",
       "      <td>0.0</td>\n",
       "      <td>...</td>\n",
       "      <td>0.0</td>\n",
       "      <td>0.0</td>\n",
       "      <td>0.0</td>\n",
       "      <td>0.0</td>\n",
       "      <td>0.0</td>\n",
       "      <td>0.0</td>\n",
       "      <td>0.0</td>\n",
       "      <td>0.0</td>\n",
       "      <td>0.0</td>\n",
       "      <td>0.0</td>\n",
       "    </tr>\n",
       "    <tr>\n",
       "      <th>2</th>\n",
       "      <td>0.0</td>\n",
       "      <td>0.0</td>\n",
       "      <td>0.0</td>\n",
       "      <td>0.0</td>\n",
       "      <td>0.0</td>\n",
       "      <td>0.0</td>\n",
       "      <td>0.0</td>\n",
       "      <td>0.0</td>\n",
       "      <td>0.0</td>\n",
       "      <td>0.0</td>\n",
       "      <td>...</td>\n",
       "      <td>0.0</td>\n",
       "      <td>0.0</td>\n",
       "      <td>0.0</td>\n",
       "      <td>0.0</td>\n",
       "      <td>0.0</td>\n",
       "      <td>0.0</td>\n",
       "      <td>0.0</td>\n",
       "      <td>0.0</td>\n",
       "      <td>0.0</td>\n",
       "      <td>0.0</td>\n",
       "    </tr>\n",
       "    <tr>\n",
       "      <th>3</th>\n",
       "      <td>0.0</td>\n",
       "      <td>0.0</td>\n",
       "      <td>0.0</td>\n",
       "      <td>0.0</td>\n",
       "      <td>0.0</td>\n",
       "      <td>0.0</td>\n",
       "      <td>0.0</td>\n",
       "      <td>0.0</td>\n",
       "      <td>0.0</td>\n",
       "      <td>0.0</td>\n",
       "      <td>...</td>\n",
       "      <td>0.0</td>\n",
       "      <td>0.0</td>\n",
       "      <td>0.0</td>\n",
       "      <td>0.0</td>\n",
       "      <td>0.0</td>\n",
       "      <td>0.0</td>\n",
       "      <td>0.0</td>\n",
       "      <td>0.0</td>\n",
       "      <td>0.0</td>\n",
       "      <td>0.0</td>\n",
       "    </tr>\n",
       "    <tr>\n",
       "      <th>4</th>\n",
       "      <td>0.0</td>\n",
       "      <td>0.0</td>\n",
       "      <td>0.0</td>\n",
       "      <td>0.0</td>\n",
       "      <td>0.0</td>\n",
       "      <td>0.0</td>\n",
       "      <td>0.0</td>\n",
       "      <td>0.0</td>\n",
       "      <td>0.0</td>\n",
       "      <td>0.0</td>\n",
       "      <td>...</td>\n",
       "      <td>0.0</td>\n",
       "      <td>0.0</td>\n",
       "      <td>0.0</td>\n",
       "      <td>0.0</td>\n",
       "      <td>0.0</td>\n",
       "      <td>0.0</td>\n",
       "      <td>0.0</td>\n",
       "      <td>0.0</td>\n",
       "      <td>0.0</td>\n",
       "      <td>0.0</td>\n",
       "    </tr>\n",
       "  </tbody>\n",
       "</table>\n",
       "<p>5 rows × 15081 columns</p>\n",
       "</div>"
      ],
      "text/plain": [
       "    aa  aaaaaaand  aaaaand  aaaah  aaaand  aac  aahhh  aaron   ab  abandon  \\\n",
       "0  0.0        0.0      0.0    0.0     0.0  0.0    0.0    0.0  0.0      0.0   \n",
       "1  0.0        0.0      0.0    0.0     0.0  0.0    0.0    0.0  0.0      0.0   \n",
       "2  0.0        0.0      0.0    0.0     0.0  0.0    0.0    0.0  0.0      0.0   \n",
       "3  0.0        0.0      0.0    0.0     0.0  0.0    0.0    0.0  0.0      0.0   \n",
       "4  0.0        0.0      0.0    0.0     0.0  0.0    0.0    0.0  0.0      0.0   \n",
       "\n",
       "   ...  zoned  zonisamide  zoo  zoom  zooming   zq  zucchini  zum  zumba   zz  \n",
       "0  ...    0.0         0.0  0.0   0.0      0.0  0.0       0.0  0.0    0.0  0.0  \n",
       "1  ...    0.0         0.0  0.0   0.0      0.0  0.0       0.0  0.0    0.0  0.0  \n",
       "2  ...    0.0         0.0  0.0   0.0      0.0  0.0       0.0  0.0    0.0  0.0  \n",
       "3  ...    0.0         0.0  0.0   0.0      0.0  0.0       0.0  0.0    0.0  0.0  \n",
       "4  ...    0.0         0.0  0.0   0.0      0.0  0.0       0.0  0.0    0.0  0.0  \n",
       "\n",
       "[5 rows x 15081 columns]"
      ]
     },
     "execution_count": 18,
     "metadata": {},
     "output_type": "execute_result"
    }
   ],
   "source": [
    "tfidf_vec = TfidfVectorizer()\n",
    "tfidf_vec_fit = tfidf_vec.fit(vector)\n",
    "x_data = tfidf_vec.fit_transform(vector)\n",
    "print(x_data.toarray().shape)\n",
    "df = pd.DataFrame(x_data.toarray(),columns=tfidf_vec.get_feature_names_out())\n",
    "df.head()"
   ]
  },
  {
   "cell_type": "markdown",
   "id": "51ee77a0",
   "metadata": {},
   "source": [
    "##  <font color='#008080'>5.3 Count Vectorization</font>  "
   ]
  },
  {
   "cell_type": "code",
   "execution_count": 19,
   "id": "971f32be",
   "metadata": {},
   "outputs": [
    {
     "name": "stdout",
     "output_type": "stream",
     "text": [
      "{'didnt': 3586, 'feel': 4884, 'humiliated': 6380, 'go': 5624, 'feeling': 4888, 'hopeless': 6291, 'damned': 3165, 'hopeful': 6288, 'around': 706, 'someone': 12316, 'care': 1916, 'awake': 931, 'im': 6510, 'grabbing': 5681, 'minute': 8424, 'post': 10095, 'greedy': 5741, 'wrong': 14926, 'ever': 4545, 'nostalgic': 9027, 'fireplace': 5008, 'know': 7395, 'still': 12663, 'property': 10368, 'grouchy': 5781, 'ive': 7024, 'little': 7766, 'burdened': 1757, 'lately': 7504, 'wasnt': 14554, 'sure': 12974, 'taking': 13122, 'milligram': 8388, 'time': 13474, 'recommended': 10771, 'amount': 468, 'fallen': 4785, 'asleep': 770, 'lot': 7873, 'faster': 4829, 'also': 415, 'like': 7697, 'funny': 5389, 'confused': 2657, 'life': 7673, 'teenager': 13231, 'jaded': 7041, 'year': 14979, 'old': 9209, 'man': 8047, 'petronas': 9783, 'performed': 9714, 'well': 14638, 'made': 7981, 'huge': 6358, 'profit': 10326, 'romantic': 11286, 'make': 8022, 'suffering': 12891, 'seeing': 11648, 'mean': 8220, 'something': 12319, 'running': 11367, 'divine': 3812, 'experience': 4673, 'expect': 4663, 'type': 13861, 'spiritual': 12458, 'encounter': 4332, 'think': 13381, 'easiest': 4106, 'dissatisfied': 3765, 'low': 7904, 'energy': 4362, 'thirsty': 13387, 'immense': 6532, 'sympathy': 13081, 'general': 5481, 'point': 9997, 'possible': 10093, 'proto': 10394, 'writer': 14919, 'trying': 13782, 'find': 4988, 'write': 14918, 'corner': 2855, 'sign': 11962, 'agent': 281, 'let': 7636, 'alone': 405, 'publishing': 10453, 'contract': 2779, 'precious': 10160, 'reassured': 10725, 'anxiety': 585, 'side': 11945, 'really': 10712, 'embarrassed': 4261, 'pretty': 10242, 'pathetic': 9608, 'started': 12593, 'sentimental': 11715, 'doll': 3847, 'child': 2174, 'began': 1177, 'collection': 2441, 'vintage': 14389, 'barbie': 1054, 'sixty': 12036, 'compromised': 2582, 'skeptical': 12047, 'value': 14262, 'every': 4549, 'unit': 14052, 'work': 14864, 'put': 10506, 'irritated': 6982, 'rejected': 10884, 'without': 14814, 'anyone': 592, 'anything': 594, 'saying': 11507, 'completely': 2556, 'overwhelmed': 9436, 'two': 13851, 'strategy': 12733, 'help': 6108, 'grounded': 5783, 'pour': 10120, 'heart': 6050, 'journal': 7179, 'form': 5220, 'letter': 7641, 'god': 5627, 'end': 4339, 'list': 7747, 'five': 5027, 'thing': 13379, 'grateful': 5722, 'amused': 478, 'delighted': 3371, 'able': 25, 'chai': 2064, 'lifeline': 7674, 'support': 12957, 'encouragement': 4336, 'great': 5734, 'glad': 5573, 'already': 413, 'fucked': 5351, 'though': 13400, 'dont': 3868, 'usually': 14222, 'eat': 4113, 'morning': 8591, 'love': 7891, 'wish': 14799, 'best': 1257, 'longer': 7835, 'tolerate': 13531, 'effect': 4168, 'bm': 1460, 'fact': 4760, 'turned': 13820, 'bitter': 1344, 'angry': 518, 'person': 9747, 'always': 432, 'particularly': 9572, 'kind': 7349, 'people': 9695, 'stressed': 12746, 'inhibited': 6744, 'el': 4204, 'kitchen': 7366, 'painting': 9494, 'picture': 9837, 'become': 1153, 'defeated': 3321, 'kinda': 7350, 'appalled': 623, 'need': 8838, 'explain': 4681, 'wide': 14729, 'lenghth': 7617, 'body': 1475, 'measure': 8228, 'etc': 4504, 'pp': 10130, 'superior': 12940, 'dead': 3240, 'chicken': 2170, 'grieving': 5755, 'get': 5527, 'giddy': 5545, 'elegant': 4222, 'perfectly': 9711, 'fitted': 5025, 'pencil': 9682, 'skirt': 12067, 'remember': 10948, 'acutely': 151, 'distressed': 3791, 'day': 3223, 'seen': 11658, 'heard': 6046, 'read': 10688, 'past': 9596, 'couple': 2908, 'left': 7588, 'impressed': 6575, 'company': 2525, 'climbed': 2330, 'hill': 6178, 'frustrated': 5344, 'id': 6452, 'much': 8666, 'paced': 9460, 'entirely': 4421, 'course': 2913, 'factor': 4761, 'never': 8900, 'hampered': 5896, 'dent': 3409, 'imagine': 6517, 'real': 10698, 'scenario': 11533, 'would': 14893, 'emotionally': 4290, 'connected': 2670, 'enough': 4394, 'totally': 13582, 'accepted': 68, 'safe': 11415, 'morally': 8578, 'acceptable': 66, 'close': 2349, 'prolonged': 10348, 'physical': 9820, 'contact': 2741, 'sex': 11773, 'expected': 4665, 'subsequently': 12853, 'content': 2759, 'creative': 2980, 'however': 6340, 'want': 14516, 'causing': 2002, 'le': 7551, 'splendid': 12468, 'self': 11676, 'step': 12637, 'away': 937, 'bit': 1334, 'rude': 11343, 'writing': 14922, 'elderly': 4213, 'gentleman': 5502, 'ask': 766, 'gift': 5546, 'christmas': 2225, 'mild': 8377, 'greed': 5740, 'protected': 10385, 'small': 12156, 'season': 11624, 'word': 14861, 'plan': 9913, 'share': 11811, 'everyday': 4553, 'story': 12707, 'traveling': 13687, 'adventure': 225, 'inspiration': 6802, 'handmade': 5912, 'creation': 2979, 'hope': 6286, 'inspired': 6804, 'tree': 13708, 'got': 5668, 'festive': 4918, 'spurring': 12520, 'book': 1513, 'worn': 14877, 'concealer': 2591, 'brave': 1603, 'pale': 9504, 'perfect': 9709, 'strongly': 12775, 'passionate': 9592, 'jerk': 7106, 'decides': 3279, 'poke': 10006, 'fun': 5374, 'discouraged': 3688, 'robbing': 11254, 'peter': 9780, 'pay': 9635, 'paul': 9624, 'cow': 2926, 'cant': 1880, 'afford': 260, 'way': 14573, 'listless': 7756, 'new': 8905, 'different': 3594, 'lost': 7872, 'special': 12410, 'mind': 8399, 'worry': 14879, 'sane': 11456, 'wanted': 14518, 'felt': 4898, 'reading': 10692, 'many': 8091, 'said': 11422, 'sam': 11441, 'guarantee': 5803, 'used': 14214, 'paragraph': 9536, 'tell': 13244, 'sad': 11404, 'first': 5014, 'home': 6241, 'mine': 8404, 'boat': 1466, 'trip': 13741, 'denmark': 3403, 'stopped': 12698, 'cold': 2424, 'hot': 6322, 'dough': 3905, 'found': 5242, 'selfish': 11677, 'spoiled': 12475, 'stymied': 12825, 'wrote': 14930, 'unsure': 14139, 'might': 8368, 'somewhere': 12325, 'unintended': 14045, 'bag': 1002, 'qaf': 10520, 'look': 7842, 'cryin': 3066, 'jacynthe': 7039, 'lookin': 7844, 'good': 5645, 'feelin': 4887, 'gorgeous': 5662, 'rupaul': 11369, 'skin': 12057, 'scissor': 11563, 'sister': 12023, 'valentine': 14253, 'sun': 12922, 'fed': 4870, 'kayle': 7292, 'daddy': 3146, 'gerling': 5517, 'unkind': 14063, 'basically': 1089, 'fake': 4782, 'realm': 10713, 'science': 11558, 'fiction': 4935, 'hate': 5985, 'living': 7777, 'dad': 3145, 'roof': 11293, 'give': 5568, 'excuse': 4617, 'asshole': 792, 'he': 6017, 'providing': 10408, 'live': 7768, 'unwelcome': 14154, 'ill': 6497, 'leave': 7579, 'keep': 7295, 'pleasantly': 9949, 'surprised': 12986, 'supportiveness': 12962, 'ease': 4102, 'situation': 12033, 'anymore': 591, 'vigorous': 14376, 'sexual': 11777, 'activity': 143, 'coming': 2489, 'yes': 14995, 'misspelt': 8461, 'cumming': 3090, 'part': 9563, 'begin': 1180, 'fall': 4784, 'mom': 8528, 'graceful': 5685, 'warm': 14530, 'loving': 7902, 'smile': 12171, 'rob': 11252, 'nurture': 9085, 'heal': 6034, 'talk': 13129, 'brother': 1682, 'law': 7533, 'extremely': 4729, 'popular': 10053, 'one': 9234, 'stiff': 12658, 'ate': 817, 'could': 2885, 'gentle': 5501, 'tingle': 13487, 'throughout': 13425, 'almost': 403, 'healing': 6037, 'place': 9905, 'cellular': 2035, 'level': 7645, 'pressured': 10228, 'young': 15019, 'beautiful': 1147, 'thin': 13378, 'depending': 3423, 'trend': 13714, 'girl': 5564, 'rejuvenated': 10890, 'butt': 1791, 'implant': 6555, 'several': 11766, 'week': 14610, 'tortured': 13571, 'hallucination': 5889, 'moving': 8648, 'figure': 4960, 'sound': 12371, 'vibration': 14352, 'nearly': 8828, 'finished': 4996, 'detox': 3515, 'amazing': 436, 'back': 975, 'former': 5225, 'asked': 767, 'prayer': 10151, 'others': 9331, 'considered': 2700, 'may': 8197, 'deserve': 3460, 'answered': 561, 'pain': 9486, 'parent': 9548, 'enraged': 4397, 'becomes': 1154, 'violent': 14393, 'roller': 11280, 'coaster': 2387, 'emotion': 4288, 'supposed': 12964, 'unpleasant': 14090, 'suppose': 12963, 'truth': 13776, 'shared': 11812, 'havent': 6002, 'faithful': 4778, 'dwelled': 4064, 'doubt': 3898, 'uncertainty': 13922, 'faith': 4777, 'bought': 1551, 'clearly': 2310, 'makeup': 8026, 'miserable': 8436, 'proudest': 10398, 'mum': 8694, 'earth': 4098, 'family': 4797, 'matter': 8184, 'else': 4244, 'michelle': 8351, 'ballistic': 1024, 'necessarily': 8832, 'bomb': 1491, 'necessary': 8833, 'see': 11645, 'print': 10274, 'ovary': 9377, 'aching': 115, 'talking': 13132, 'chris': 2218, 'mostly': 8606, 'took': 13553, 'unimportant': 14037, 'stuff': 12801, 'tired': 13499, 'ready': 10695, 'finding': 4989, 'given': 5570, 'unsuitable': 14135, 'image': 6512, 'blamed': 1366, 'result': 11106, 'sit': 12024, 'successfully': 12873, 'manage': 8048, 'stretch': 12750, 'mxm': 8740, 'canvas': 1885, 'achievement': 113, 'worthwhile': 14889, 'usage': 14209, 'money': 8544, 'use': 14213, 'future': 5400, 'brief': 1645, 'nay': 8819, 'important': 6564, 'honored': 6275, 'influence': 6715, 'talented': 13125, 'fully': 5370, 'alive': 379, 'woman': 14838, 'angered': 514, 'firey': 5010, 'piece': 9843, 'garbage': 5434, 'leanne': 7568, 'thought': 13401, 'miss': 8453, 'drove': 3990, 'dannika': 3186, 'school': 11551, 'rushed': 11374, 'greeted': 5746, 'hellip': 6104, 'furious': 5391, 'shooter': 11883, 'happy': 5938, 'excited': 4607, 'since': 11996, 'learned': 7572, 'show': 11914, 'horse': 6311, 'trusting': 13773, 'relaxed': 10904, 'quiet': 10550, 'handled': 5910, 'frequently': 5302, 'start': 12592, 'december': 3271, 'done': 3863, 'smug': 12191, 'realize': 10708, 'everything': 4557, 'ok': 9204, 'worthless': 14887, 'struggling': 12785, 'lay': 7540, 'bed': 1160, 'dark': 3192, 'terrified': 13288, 'least': 7577, 'meet': 8255, 'airport': 326, 'supportive': 12961, 'arm': 697, 'today': 13516, 'mood': 8564, 'strange': 12724, 'entire': 4419, 'guess': 5810, 'passed': 9584, 'involved': 6944, 'car': 1901, 'accident': 76, 'bringing': 1655, 'present': 10215, 'exam': 4584, 'flying': 5142, 'colour': 2457, 'letting': 7642, 'animosity': 530, 'towards': 13607, 'wronged': 14927, 'dog': 3843, 'understand': 13961, 'decided': 3277, 'throwing': 13427, 'shitty': 11868, 'shit': 11867, 'paper': 9529, 'starting': 12595, 'wryly': 14932, 'banal': 1033, 'comedy': 2477, 'error': 4472, 'turning': 13821, 'vital': 14415, 'hear': 6045, 'owner': 9447, 'victimized': 14359, 'association': 801, 'attorney': 866, 'manager': 8052, 'say': 11506, 'goodbye': 5646, 'fam': 4791, 'theyre': 13369, 'cry': 3065, 'heartless': 6061, 'bitch': 1335, 'hey': 6149, 'spend': 12435, 'another': 557, 'country': 2905, 'wont': 14850, 'lily': 7708, 'going': 5635, 'opportunity': 9271, 'lasted': 7500, 'short': 11890, 'month': 8560, 'alba': 347, 'fitting': 5026, 'ton': 13543, 'catching': 1985, 'hard': 5945, 'obtain': 9141, 'high': 6164, 'technical': 13218, 'skill': 12052, 'wushu': 14937, 'ashamed': 757, 'somehow': 12313, 'motivated': 8616, 'saw': 11505, 'kid': 7331, 'performance': 9713, 'whole': 14711, 'heartedly': 6059, 'despite': 3483, 'tiredness': 13500, 'getting': 5531, 'overwhelming': 9437, 'spritz': 12513, 'toner': 13546, 'calm': 1843, 'soothe': 12346, 'effort': 4182, 'required': 11030, 'better': 1267, 'whether': 14677, 'member': 8275, 'college': 2444, 'friend': 5314, 'neighbor': 8858, 'street': 12740, 'even': 4539, 'complete': 2554, 'stranger': 12726, 'soon': 12337, 'ons': 9242, 'coronation': 2858, 'seriously': 11741, 'alright': 414, 'class': 2286, 'combination': 2468, 'unsuccessful': 14134, 'stress': 12745, 'late': 7503, 'horrible': 6304, 'resulted': 11107, 'grappling': 5717, 'rarely': 10651, 'advance': 220, 'cause': 2000, 'stick': 12653, 'rule': 11358, 'posting': 10100, 'online': 9240, 'wouldnt': 14894, 'prepared': 10203, 'somebody': 12311, 'face': 4750, 'useful': 14215, 'becoming': 1155, 'group': 5785, 'idea': 6455, 'ugly': 13880, 'inclined': 6624, 'wear': 14585, 'ratty': 10662, 'jean': 7086, 'sweatshirt': 13034, 'dress': 3962, 'pair': 9495, 'heel': 6084, 'house': 6330, 'boost': 1520, 'esteem': 4497, 'slightly': 12114, 'definitely': 3345, 'bother': 1542, 'buy': 1798, 'homesick': 6254, 'yet': 14998, 'dance': 3171, 'workout': 14871, 'fabulous': 4749, 'eye': 4735, 'touch': 13586, 'assuredly': 810, 'return': 11129, 'shall': 11796, 'vain': 14249, 'friday': 5312, 'awful': 944, 'cramp': 2948, 'honoured': 6276, 'call': 1836, 'brotherhood': 1683, 'begun': 1183, 'apprehensive': 650, 'thick': 13373, 'black': 1353, 'rain': 10608, 'cloud': 2361, 'stormed': 12704, 'sky': 12071, 'town': 13611, 'stated': 12605, 'reason': 10720, 'fearful': 4855, 'unsafe': 14115, 'shaken': 11792, 'tsa': 13784, 'quite': 10561, 'pulled': 10458, 'croissant': 3023, 'lunch': 7941, 'awkward': 947, 'overcompensate': 9390, 'talkative': 13130, 'finally': 4983, 'companion': 2523, 'especially': 4484, 'lonely': 7830, 'disappoint': 3656, 'loved': 7894, 'blog': 1415, 'img': 6524, 'src': 12544, 'http': 6348, 'eager': 4078, 'quilting': 10556, 'horny': 6302, 'poem': 9989, 'pressure': 10227, 'uncomfortable': 13928, 'sense': 11702, 'understanding': 13964, 'land': 7473, 'raising': 10617, 'son': 12327, 'father': 4836, 'ancestral': 494, 'shower': 11918, 'questioning': 10544, 'fantastic': 4808, 'confident': 2639, 'movement': 8644, 'effortlessly': 4184, 'energetic': 4356, 'bouncy': 1557, 'gym': 5850, 'run': 11362, 'outside': 9365, 'take': 13116, 'pram': 10144, 'long': 7832, 'walk': 14492, 'often': 9195, 'three': 13410, 'strong': 12772, 'burst': 1777, 'tear': 13207, 'devastating': 3524, 'release': 10908, 'seemed': 11654, 'rich': 11186, 'space': 12383, 'dumping': 4039, 'pumpkin': 10468, 'spice': 12442, 'latte': 7512, 'last': 7499, 'coffee': 2404, 'maybe': 8198, 'badly': 996, 'shes': 11843, 'hyperchondria': 6426, 'exaggeration': 4583, 'habit': 5855, 'openly': 9258, 'questioned': 10543, 'clench': 2313, 'assured': 809, 'called': 1838, 'figured': 4961, 'right': 11201, 'name': 8776, 'utterly': 14235, 'affirmed': 259, 'question': 10541, 'perhaps': 9719, 'office': 9186, 'nice': 8925, 'hair': 5873, 'rebellious': 10733, 'celebrates': 2025, 'eid': 4197, 'wash': 14549, 'generous': 5493, 'sleep': 12096, 'deprived': 3440, 'sleeping': 12098, 'night': 8945, 'giving': 5572, 'bloging': 1419, 'sitting': 12031, 'amp': 470, 'cat': 1979, 'lucky': 7924, 'woke': 14835, 'sick': 11940, 'protect': 10384, 'witch': 14807, 'hunt': 6402, 'repressed': 11015, 'memory': 8283, 'therapy': 13358, 'disgusted': 3710, 'associated': 800, 'race': 10576, 'nationality': 8807, 'laughed': 7517, 'bitterly': 1345, 'wished': 14800, 'knew': 7384, 'hated': 5986, 'forever': 5207, 'mellow': 8266, 'soft': 12277, 'easy': 4111, 'beginning': 1181, 'told': 13529, 'indecisive': 6653, 'genre': 5499, 'disservice': 3769, 'resolved': 11066, 'artifically': 733, 'artistic': 738, 'manitz': 8078, 'draw': 3945, 'circle': 2256, 'dot': 3893, 'bigger': 1298, 'line': 7722, 'accent': 63, 'mark': 8115, 'spanish': 12391, 'pissed': 9888, 'brazil': 1607, 'bus': 1781, 'steep': 12629, 'mountain': 8630, 'middle': 8357, 'big': 1296, 'storm': 12703, 'wondering': 14846, 'whimper': 14681, 'unloved': 14075, 'uncared': 13919, 'certainly': 2053, 'whats': 14664, 'personal': 9749, 'curious': 3099, 'youd': 15017, 'watch': 14559, 'sorry': 12359, 'humor': 6387, 'foot': 5180, 'door': 3878, 'world': 14874, 'walking': 14495, 'trail': 13634, 'fell': 4894, 'whatever': 14661, 'come': 2473, 'directly': 3640, 'jealous': 7084, 'insecure': 6783, 'trust': 13771, 'worthy': 14890, 'sweet': 13040, 'holiday': 6227, 'influenced': 6716, 'dash': 3202, 'happiness': 5935, 'emily': 4279, 'dickinson': 3581, 'example': 4589, 'instead': 6813, 'colon': 2451, 'semi': 11686, 'enhance': 4377, 'enjambment': 4378, 'sonnet': 12333, 'fatter': 4840, 'remain': 10936, 'control': 2793, 'peanut': 9654, 'butter': 1792, 'bread': 1611, 'impossible': 6568, 'looking': 7845, 'third': 13386, 'hell': 6102, 'needy': 8845, 'neglected': 8853, 'claim': 2267, 'redeem': 10795, 'beating': 1143, 'head': 6019, 'wall': 14497, 'either': 4203, 'intimidated': 6898, 'concept': 2598, 'lit': 7757, 'groggy': 5774, 'routine': 11322, 'view': 14370, 'isnt': 6995, 'thats': 13338, 'fine': 4990, 'hold': 6222, 'shocked': 11874, 'awe': 939, 'wonder': 14841, 'rumour': 11361, 'st': 12551, 'fear': 4853, 'failure': 4771, 'valued': 14263, 'appreciated': 646, 'arent': 684, 'anywhere': 598, 'nature': 8811, 'relationship': 10899, 'change': 2083, 'distracted': 3786, 'regularly': 10869, 'relaxing': 10906, 'music': 8722, 'invigorated': 6935, 'afterward': 274, 'tend': 13262, 'practice': 10136, 'shut': 11932, 'youtube': 15027, 'specifically': 12418, 'tango': 13149, 'shy': 11935, 'mak': 8021, 'opposite': 9274, 'far': 4811, 'pic': 9828, 'lol': 7820, 'weird': 14629, 'slept': 12103, 'okay': 9205, 'thinking': 13383, 'earlier': 4086, 'here': 6131, 'cooped': 2828, 'restless': 11094, 'weight': 14622, 'fit': 5022, 'tiny': 13493, 'unable': 13900, 'presence': 10214, 'fan': 4799, 'current': 3106, 'president': 10222, 'conservative': 2693, 'enclose': 4327, 'verse': 14335, 'weigh': 14618, 'odd': 9165, 'complacent': 2548, 'vulnerable': 14460, 'parenting': 9550, 'punished': 10476, 'stupid': 12815, 'chastised': 2119, 'behaving': 1188, 'stay': 12617, 'simply': 11987, 'contented': 2760, 'cut': 3122, 'everyone': 4555, 'comfort': 2482, 'solitude': 12300, 'meditation': 8250, 'working': 14868, 'project': 10342, 'nervous': 8878, 'act': 133, 'bird': 1325, 'air': 320, 'carefree': 1922, 'manner': 8082, 'revise': 11159, 'reply': 11004, 'appropriate': 656, 'receive': 10740, 'offended': 9176, 'died': 3588, 'irrevocably': 6977, 'gone': 5643, 'alex': 360, 'matt': 8182, 'regretful': 10864, 'visit': 14408, 'educating': 4158, 'supporting': 12960, 'educationg': 4161, 'mama': 8042, 'papa': 9526, 'key': 7314, 'hostile': 6320, 'toward': 13606, 'boring': 1530, 'sewing': 11772, 'nothing': 9036, 'fabric': 4748, 'liked': 7700, 'original': 9314, 'fragrance': 5258, 'freshen': 5305, 'lightly': 7690, 'scent': 11536, 'underwear': 13972, 'drawer': 3946, 'gorgeously': 5663, 'glamorous': 5577, 'girly': 5567, 'apart': 604, 'push': 10500, 'succeed': 12868, 'successful': 12872, 'wounding': 14898, 'process': 10300, 'underway': 13971, 'sometimes': 12322, 'added': 158, 'antagonism': 564, 'misunderstanding': 8471, 'reluctant': 10932, 'wholeheartedly': 14712, 'traditional': 13627, 'armistice': 700, 'remembrance': 10953, 'leg': 7591, 'mile': 8379, 'unfair': 14003, 'reaction': 10684, 'blessed': 1391, 'abused': 53, 'maligned': 8036, 'anticipating': 571, 'danger': 3178, 'typing': 13866, 'gosman': 5665, 'touristy': 13602, 'montauk': 8559, 'area': 682, 'infrequent': 6730, 'visitor': 14411, 'harbor': 5944, 'cawing': 2012, 'seagull': 11616, 'lapping': 7488, 'water': 14564, 'wood': 14851, 'piling': 9854, 'breeze': 1629, 'admit': 193, 'hilarious': 6176, 'card': 1911, 'exactly': 4580, 'moment': 8530, 'hy': 6417, 'dull': 4027, 'inarticulate': 6603, 'normal': 9015, 'kick': 7327, 'gear': 5466, 'irritable': 6979, 'motivation': 8618, 'innocent': 6766, 'illustrating': 6507, 'satisfaction': 11483, 'contributing': 2791, 'looter': 7858, 'driven': 3981, 'consumerism': 2737, 'corpse': 2862, 'america': 452, 'revered': 11150, 'younger': 15020, 'resentful': 11044, 'vacation': 14242, 'obligation': 9121, 'headache': 6020, 'emotional': 4289, 'blackmailed': 1356, 'herpes': 6139, 'checkup': 2135, 'clinic': 2335, 'wednesday': 14606, 'worked': 14866, 'try': 13779, 'disheartened': 3716, 'bitchy': 1338, 'upon': 14181, 'retrospect': 11127, 'shake': 11791, 'second': 11632, 'terrible': 13285, 'making': 8028, 'definitive': 3348, 'decision': 3281, 'certain': 2052, 'egg': 4189, 'benedict': 1230, 'equally': 4457, 'delicious': 3368, 'summery': 12919, 'element': 4223, 'favorite': 4847, 'beach': 1126, 'bummin': 1740, 'smiled': 12172, 'continue': 2770, 'define': 3340, 'discover': 3691, 'amsterdam': 476, 'whenever': 14670, 'pang': 9516, 'blank': 1369, 'sickness': 11944, 'missing': 8458, 'cultural': 3084, 'mindset': 8403, 'american': 453, 'city': 2262, 'arcade': 673, 'simple': 11981, 'purpose': 10491, 'absolutely': 40, 'comfortable': 2483, 'physically': 9822, 'practically': 10135, 'sympathetic': 13076, 'hopped': 6295, 'tube': 13793, 'ride': 11193, 'london': 7827, 'ignored': 6491, 'monitoring': 8549, 'across': 132, 'please': 9951, 'stop': 12697, 'cancer': 1872, 'there': 13359, 'chance': 2081, 'joy': 7186, 'dream': 3953, 'true': 13764, 'cranky': 2953, 'puzzling': 10514, 'particular': 9571, 'administrator': 186, 'singled': 12010, 'praise': 10142, 'ability': 23, 'student': 12796, 'ssr': 12549, 'productive': 10316, 'tried': 13730, 'fill': 4966, 'befriending': 1174, 'using': 14219, 'needed': 8839, 'loser': 7867, 'peace': 9648, 'within': 14813, 'external': 4720, 'positive': 10084, 'break': 1612, 'exhausted': 4633, 'guilty': 5823, 'hung': 6398, 'baby': 966, 'neglecting': 8855, 'beloved': 1220, 'shalt': 11798, 'co': 2383, 'din': 3617, 'hw': 6416, 'keen': 7293, 'xxx': 14961, 'edge': 4143, 'precipice': 10161, 'staring': 12588, 'ahead': 306, 'front': 5333, 'uni': 14032, 'free': 5287, 'advocate': 240, 'die': 3587, 'lobbying': 7792, 'politician': 10021, 'sympathic': 13077, 'paying': 9638, 'attention': 861, 'block': 1412, 'tingly': 13489, 'knowing': 7396, 'hour': 6328, 'examination': 4585, 'hesitant': 6144, 'suggestion': 12902, 'outcome': 9343, 'sincere': 11997, 'terribly': 13286, 'fond': 5170, 'majority': 8019, 'precise': 10162, 'gaining': 5410, 'damaged': 3160, 'aspect': 772, 'security': 11643, 'bombed': 1494, 'interview': 6891, 'freaking': 5283, 'tastic': 13174, 'taken': 13119, 'build': 1725, 'inventory': 6927, 'sauce': 11490, 'oil': 9199, 'non': 8992, 'perishable': 9722, 'single': 12009, 'item': 7015, 'recipe': 10750, 'advise': 238, 'whose': 14724, 'cool': 2823, 'pull': 10457, 'pick': 9829, 'smelly': 12168, 'jalopy': 7051, 'plant': 9920, 'window': 14772, 'drag': 3929, 'sand': 11449, 'traditionalist': 13628, 'hesitate': 6145, 'offending': 9178, 'honest': 6267, 'created': 2976, 'ago': 293, 'skeletal': 12044, 'remains': 10940, 'hoax': 6211, 'material': 8172, 'kit': 7365, 'site': 12026, 'beautifully': 1148, 'curated': 3094, 'blood': 1429, 'proved': 10401, 'lethargic': 7639, 'rubbish': 11338, 'iron': 6964, 'prescribed': 10213, 'tablet': 13098, 'dangerous': 3179, 'compassionate': 2534, 'doesnt': 3842, 'capture': 1898, 'beauty': 1149, 'lovely': 7897, 'polish': 10016, 'main': 8009, 'root': 11298, 'secure': 11642, 'financially': 4986, 'socially': 12266, 'bite': 1339, 'bullet': 1731, 'supported': 12958, 'obnoxiously': 9127, 'immature': 6528, 'sounding': 12373, 'verbal': 14324, 'tic': 13446, 'voice': 14430, 'nasal': 8797, 'sharpest': 11820, 'tool': 13554, 'shed': 11829, 'nightmare': 8951, 'disturbed': 3798, 'case': 1963, 'customer': 3120, 'sufferer': 12890, 'battle': 1113, 'exceptionally': 4600, 'tomorrow': 13542, 'monday': 8542, 'timetable': 13480, 'wheeeeee': 14667, 'forward': 5237, 'beaten': 1142, 'disappointment': 3659, 'husband': 6414, 'crappy': 2956, 'convinced': 2812, 'pattern': 9622, 'wearing': 14590, 'slutty': 12150, 'antique': 576, 'obviously': 9144, 'edgy': 4144, 'perverse': 9765, 'pride': 10260, 'managed': 8050, 'ordered': 9291, 'reach': 10678, 'tempting': 13259, 'human': 6367, 'flesh': 5070, 'impatient': 6545, 'easily': 4107, 'annoyed': 546, 'outraged': 9358, 'blatant': 1376, 'defiance': 3335, 'seems': 11657, 'olivias': 9216, 'prominent': 10350, 'characteristic': 2100, 'positively': 10085, 'official': 9188, 'mainly': 8011, 'text': 13307, 'clever': 2316, 'written': 14923, 'rather': 10657, 'spoken': 12478, 'seriouly': 11739, 'respected': 11076, 'privacy': 10283, 'devotee': 3539, 'relieved': 10921, 'title': 13506, 'deen': 3309, 'bandhu': 1037, 'afraid': 269, 'uplifter': 14175, 'consider': 2695, 'hence': 6120, 'unworthy': 14162, 'benefit': 1234, 'personality': 9750, 'joseph': 7175, 'walt': 14505, 'mother': 8608, 'finance': 4984, 'six': 12035, 'defend': 3326, 'warming': 14534, 'excelent': 4594, 'video': 14364, 'game': 5420, 'anime': 528, 'movie': 8646, 'master': 8162, 'wanting': 14520, 'enjoy': 4381, 'desire': 3468, 'affection': 251, 'saving': 11498, 'eaten': 4114, 'quickly': 10549, 'cost': 2877, 'burden': 1756, 'boyfriend': 1577, 'weve': 14655, 'brighter': 1650, 'max': 8193, 'isolated': 6998, 'crowd': 3036, 'anti': 568, 'social': 12259, 'turn': 13819, 'continuously': 2777, 'suicidalness': 12904, 'loyal': 7913, 'style': 12821, 'homeless': 6243, 'waste': 14555, 'agitated': 290, 'dose': 3892, 'shift': 11849, 'thief': 13376, 'nov': 9053, 'exit': 4652, 'store': 12701, 'kerry': 7312, 'civil': 2263, 'union': 14049, 'gay': 5462, 'equality': 4456, 'judged': 7201, 'ridiculed': 11196, 'intelligent': 6841, 'insulted': 6827, 'light': 7681, 'yellow': 14991, 'brick': 1637, 'road': 11246, 'shining': 11858, 'actually': 148, 'sorrowful': 12358, 'boot': 1522, 'envious': 4436, 'curse': 3110, 'together': 13527, 'apologize': 616, 'youre': 15023, 'naomi': 8787, 'klein': 7377, 'sens': 11698, 'unconsciousness': 13939, 'came': 1855, 'suspect': 13005, 'private': 10284, 'faux': 4843, 'hawk': 6008, 'must': 8730, 'looked': 7843, 'dykey': 4072, 'cast': 1971, 'caveman': 2010, 'complimented': 2570, 'plus': 9975, 'diverse': 3806, 'price': 10254, 'tag': 13108, 'fund': 5378, 'plot': 9962, 'lighted': 7682, 'relatively': 10901, 'economically': 4136, 'empty': 4313, 'href': 6345, 'provokingbeauty': 10415, 'font': 5174, 'friendly': 5316, 'hand': 5900, 'bead': 1130, 'consciously': 2684, 'breathing': 1625, 'accomplish': 85, 'afternoon': 273, 'compare': 2527, 'rotten': 11310, 'checking': 2133, 'hemorrhoid': 6118, 'shoe': 11877, 'glamourous': 5579, 'designer': 3465, 'box': 1572, 'trimming': 13738, 'largely': 7493, 'hidden': 6157, 'warmly': 14535, 'hugging': 6361, 'became': 1150, 'dismayed': 3727, 'studied': 12797, 'outfit': 9348, 'wax': 14570, 'unibrow': 14033, 'rid': 11190, 'spare': 12392, 'creeping': 2995, 'eyelid': 4740, 'width': 14733, 'li': 7652, 'border': 1525, 'px': 10515, 'margin': 8101, 'recall': 10738, 'longing': 7838, 'watched': 14561, 'olympic': 9220, 'runner': 11364, 'bodypump': 1477, 'dvd': 4061, 'gather': 5452, 'coaching': 2385, 'tip': 13494, 'compulsory': 2585, 'cue': 3077, 'limited': 7716, 'phone': 9804, 'arrangment': 713, 'bring': 1654, 'pas': 9581, 'pea': 9647, 'receiving': 10743, 'attack': 849, 'document': 3833, 'familiar': 4794, 'batch': 1099, 'file': 4964, 'thankful': 13327, 'blessing': 1392, 'hoping': 6294, 'weatherman': 14594, 'forecast': 5195, 'venture': 14318, 'microcosm': 8353, 'missed': 8455, 'party': 9579, 'learnt': 7575, 'instinct': 6817, 'blossoming': 1436, 'nemo': 8866, 'happen': 5926, 'session': 11753, 'gave': 5460, 'move': 8642, 'loneliness': 7829, 'newtown': 8917, 'disappointed': 3657, 'paining': 9489, 'lord': 7860, 'betrayed': 1265, 'lose': 7866, 'loyalty': 7914, 'frantic': 5269, 'responsibility': 11085, 'teacher': 13200, 'honor': 6274, 'tranquil': 13648, 'lyric': 7966, 'steve': 12646, 'broke': 1671, 'beared': 1138, 'witness': 14818, 'incredibly': 6649, 'bouncer': 1554, 'emo': 4284, 'smoker': 12181, 'quit': 10560, 'believe': 1202, 'cigarette': 2247, 'mailbox': 8005, 'mailman': 8007, 'grocery': 5773, 'clerk': 2314, 'risk': 11232, 'total': 13579, 'willingness': 14758, 'sensation': 11699, 'emerge': 4272, 'insecurity': 6785, 'pictured': 9838, 'crave': 2960, 'submission': 12844, 'submissive': 12845, 'tender': 13265, 'wake': 14483, 'falling': 4786, 'deep': 3310, 'slumber': 12145, 'sort': 12360, 'hindrance': 6186, 'keeping': 7297, 'sensitive': 11708, 'spelled': 12431, 'round': 11315, 'quarter': 10532, 'snow': 12235, 'accumulate': 96, 'conifer': 2668, 'shoveling': 11913, 'shirt': 11865, 'sleeve': 12102, 'honkerblonked': 6272, 'gotten': 5671, 'taste': 13171, 'play': 9932, 'squeal': 12531, 'glee': 5590, 'mud': 8669, 'squishing': 12543, 'toe': 13523, 'outdoors': 9346, 'humorous': 6389, 'caller': 1839, 'busy': 1787, 'thread': 13405, 'energized': 4360, 'potential': 10108, 'society': 12268, 'privileged': 10288, 'nauseated': 8815, 'thrilled': 13416, 'pitiful': 9897, 'wailing': 14475, 'salty': 11435, 'anger': 513, 'hurt': 6410, 'saturating': 11488, 'virtually': 14401, 'fat': 4831, 'thousand': 13404, 'island': 6991, 'large': 7492, 'quantity': 10529, 'substance': 12859, 'leaf': 7559, 'lettuce': 7643, 'cucumber': 3072, 'sugar': 12897, 'burn': 1768, 'folk': 5160, 'virginia': 14399, 'florida': 5109, 'handful': 5906, 'swing': 13056, 'state': 12604, 'agree': 298, 'constant': 2715, 'barrage': 1075, 'putting': 10511, 'death': 3255, 'row': 11323, 'smart': 12159, 'waking': 14485, 'devoted': 3538, 'lesson': 7632, 'learning': 7573, 'sadness': 11414, 'distinctly': 3781, 'clermont': 2315, 'focus': 5148, 'seem': 11652, 'naughty': 8813, 'including': 6628, 'cherish': 2155, 'sharing': 11814, 'instructables': 6820, 'weekend': 14612, 'continued': 2771, 'along': 406, 'probably': 10292, 'dish': 3714, 'wed': 14604, 'fight': 4953, 'finland': 4999, 'landed': 7474, 'paris': 9552, 'grade': 5689, 'janne': 7065, 'suominen': 12932, 'aac': 5, 'scared': 11524, 'terrific': 13287, 'surgery': 12982, 'honestly': 6268, 'stunned': 12810, 'caring': 1935, 'attract': 867, 'buti': 1790, 'decide': 3276, 'staying': 12619, 'worse': 14881, 'cried': 3005, 'thanking': 13330, 'yardage': 14969, 'art': 726, 'gallery': 5413, 'losing': 7869, 'adapt': 154, 'abdomen': 17, 'welcomed': 14635, 'tight': 13464, 'knit': 7387, 'doubtful': 3900, 'smaller': 12157, 'lego': 7604, 'motor': 8621, 'delay': 3361, 'exercise': 4625, 'meantime': 8227, 'fulfilling': 5364, 'misplaced': 8450, 'pity': 9900, 'amazed': 434, 'known': 7401, 'skip': 12064, 'lazy': 7547, 'devoid': 3536, 'comment': 2493, 'add': 157, 'pileon': 9852, 'clear': 2305, 'interested': 6864, 'applying': 643, 'communion': 2517, 'tremendous': 13710, 'importance': 6563, 'personally': 9752, 'theologically': 13350, 'depressed': 3433, 'trapped': 13678, 'near': 8824, 'brig': 1647, 'building': 1726, 'strengthening': 12744, 'christianity': 2223, 'bike': 1302, 'rest': 11087, 'temple': 13253, 'toni': 13549, 'ight': 6482, 'excess': 4602, 'merican': 8311, 'seldom': 11669, 'witnessed': 14819, 'er': 4462, 'hah': 5865, 'happpy': 5937, 'field': 4940, 'academic': 59, 'athletics': 829, 'anxious': 586, 'job': 7136, 'require': 11029, 'pop': 10046, 'chair': 2068, 'theyd': 13367, 'navigating': 8818, 'punching': 10472, 'headed': 6024, 'onto': 9245, 'normally': 9019, 'size': 12037, 'perspective': 9755, 'sake': 11428, 'huckleberry': 6353, 'finn': 5000, 'censored': 2040, 'kamiki': 7258, 'kun': 7426, 'laugh': 7515, 'nozomi': 9060, 'knot': 7392, 'stomach': 12689, 'fool': 5177, 'nonchan': 8995, 'choice': 2205, 'recognizing': 10767, 'choose': 2209, 'persistence': 9744, 'allowing': 396, 'celebrated': 2024, 'wait': 14479, 'till': 13471, 'spirit': 12457, 'guide': 5816, 'observant': 9129, 'cheerleader': 2143, 'depressing': 3435, 'grey': 5751, 'unrewarding': 14113, 'sweaty': 13035, 'episode': 4452, 'wonderful': 14843, 'beaubronz': 1146, 'tanning': 13154, 'brand': 1596, 'latest': 7507, 'mantra': 8085, 'stolen': 12688, 'boudoir': 1549, 'lash': 7498, 'asma': 771, 'docrat': 3830, 'watching': 14563, 'romcoms': 11289, 'entered': 4407, 'morris': 8596, 'changed': 2084, 'contemplating': 2755, 'recent': 10744, 'amongst': 464, 'belief': 1200, 'siege': 11951, 'disadvantaged': 3648, 'regard': 10847, 'chemo': 2152, 'toxin': 13612, 'washing': 14551, 'cell': 2032, 'cringe': 3010, 'hosted': 6318, 'series': 11735, 'threatened': 13408, 'allthingsbucks': 399, 'brought': 1684, 'lump': 7937, 'throat': 13420, 'upset': 14186, 'shouldnt': 11906, 'lame': 7470, 'determined': 3511, 'nomming': 8991, 'artist': 737, 'display': 3743, 'public': 10445, 'lively': 7772, 'dazed': 3231, 'twitter': 13850, 'hurting': 6412, 'assaulted': 779, 'wrap': 14903, 'thyroid': 13441, 'dramatic': 3938, 'whiny': 14690, 'test': 13297, 'yesterday': 14996, 'doctor': 3831, 'needle': 8843, 'inside': 6788, 'spent': 12439, 'dizzy': 3821, 'meat': 8231, 'eating': 4117, 'nineteen': 8961, 'female': 4899, 'worried': 14878, 'cubicle': 3071, 'unless': 14067, 'fairly': 4775, 'clean': 2298, 'slate': 12087, 'unilaterally': 14035, 'forgiving': 5215, 'intentionally': 6853, 'carelessness': 1926, 'thereby': 13360, 'forget': 5209, 'perceived': 9700, 'insult': 6826, 'abuse': 52, 'teach': 13198, 'harder': 5950, 'bury': 1779, 'holy': 6238, 'gooooood': 5656, 'massage': 8157, 'reassuring': 10727, 'reached': 10679, 'career': 1920, 'highly': 6168, 'conversation': 2802, 'bad': 993, 'gigantic': 5550, 'slow': 12133, 'clumsy': 2373, 'google': 5652, 'seo': 11717, 'wink': 14779, 'next': 8918, 'mistake': 8464, 'sliding': 12110, 'throbbing': 13421, 'cock': 2393, 'novel': 9054, 'position': 10082, 'uncertain': 13921, 'stock': 12684, 'market': 8117, 'rally': 10618, 'judging': 7204, 'disbelieving': 3667, 'oh': 9197, 'super': 12933, 'closer': 2352, 'due': 4023, 'date': 3209, 'page': 9478, 'irresponcible': 6975, 'favourite': 4849, 'uk': 13884, 'limit': 7714, 'happier': 5932, 'confronted': 2655, 'player': 9936, 'benzema': 1244, 'mould': 8626, 'impending': 6546, 'prize': 10289, 'layered': 7542, 'forgiveness': 5214, 'expectation': 4664, 'gloomy': 5606, 'completed': 2555, 'lifestyle': 7676, 'porn': 10062, 'industry': 6686, 'satisfied': 11485, 'fulfilled': 5363, 'buck': 1710, 'overhear': 9405, 'victory': 14363, 'tune': 13809, 'geek': 5470, 'ringtone': 11219, 'triumphant': 13747, 'literature': 7762, 'author': 897, 'dumb': 4031, 'soo': 12336, 'mixture': 8480, 'hungry': 6401, 'topic': 13559, 'backing': 981, 'actual': 146, 'knowledge': 7398, 'relying': 10935, 'solely': 12292, 'opinion': 9264, 'open': 9254, 'everytime': 4559, 'went': 14643, 'hike': 6174, 'jubilant': 7196, 'proud': 10397, 'touched': 13587, 'soccer': 12257, 'ball': 1022, 'accept': 65, 'limitation': 7715, 'older': 9211, 'held': 6099, 'charmed': 2110, 'exciting': 4610, 'chapter': 2096, 'judge': 7200, 'responsible': 11086, 'action': 137, 'stem': 12635, 'mainstream': 8012, 'importantly': 6565, 'community': 2518, 'seek': 11649, 'belongingness': 1218, 'edition': 4150, 'song': 12329, 'constantly': 2716, 'baker': 1014, 'thia': 13372, 'sandwich': 11454, 'scruncher': 11606, 'mini': 8409, 'rex': 11175, 'currently': 3107, 'tongue': 13547, 'carby': 1908, 'glycemic': 5618, 'meal': 8219, 'breakfast': 1614, 'dessert': 3486, 'encoding': 4329, 'utf': 14226, 'locale': 7796, 'en': 4315, 'isprivate': 7001, 'false': 4787, 'ismobile': 6994, 'mobileclass': 8492, 'isprivateblog': 7002, 'languagedirection': 7483, 'ltr': 7919, 'feedlinks': 4882, 'link': 7730, 'rel': 10893, 'alternate': 420, 'application': 640, 'atom': 840, 'xml': 14956, 'standing': 12580, 'ovation': 9378, 'nesting': 8885, 'homemaking': 6248, 'pregnant': 10190, 'reprieve': 11018, 'youll': 15018, 'notice': 9040, 'halloween': 5887, 'moz': 8650, 'gracious': 5688, 'heat': 6065, 'resource': 11074, 'answer': 560, 'asking': 768, 'fitness': 5024, 'wise': 14796, 'calf': 1832, 'tire': 13498, 'darkness': 3196, 'ought': 9336, 'adding': 163, 'sarcastic': 11468, 'age': 276, 'couldnt': 2886, 'distraught': 3789, 'helpless': 6112, 'lorena': 7864, 'kidnapped': 7336, 'band': 1035, 'enemy': 4355, 'desperate': 3478, 'freedom': 5288, 'unfortunate': 14018, 'mister': 8466, 'magnum': 8000, 'cheer': 2137, 'travelling': 13689, 'period': 9721, 'tragic': 13633, 'sparkle': 12394, 'drained': 3935, 'chatted': 2121, 'masturbate': 8166, 'stinkin': 12674, 'reviewer': 11156, 'sunday': 12924, 'silent': 11971, 'audience': 878, 'falsely': 4788, 'inflated': 6712, 'expressing': 4708, 'articulate': 730, 'nap': 8788, 'grumpy': 5801, 'studying': 12800, 'discovering': 3693, 'crossed': 3028, 'portray': 10071, 'exact': 4579, 'meaning': 8222, 'truly': 13768, 'condition': 2620, 'worker': 14867, 'fly': 5141, 'uae': 13869, 'oblivious': 9125, 'conflict': 2648, 'plague': 9909, 'resolving': 11067, 'cena': 2039, 'kissing': 7364, 'maria': 8105, 'surprisingly': 12988, 'obnoxious': 9126, 'definately': 3338, 'weather': 14593, 'pressing': 10226, 'torso': 13569, 'siwons': 12034, 'breath': 1621, 'indifferent': 6666, 'treasured': 13700, 'bloom': 1432, 'casual': 1977, 'lift': 7678, 'sat': 11478, 'couch': 2882, 'checked': 2132, 'happened': 5928, 'milestone': 8381, 'snuggle': 12244, 'growing': 5789, 'kindness': 7356, 'allow': 391, 'conscious': 2683, 'interact': 6855, 'various': 14279, 'moisturizer': 8518, 'oily': 9202, 'product': 10314, 'designed': 3464, 'contain': 2745, 'moisturizing': 8519, 'ingredient': 6739, 'environment': 4438, 'spider': 12444, 'discussion': 3700, 'color': 2452, 'georgia': 5513, 'serif': 11736, 'height': 6091, 'deny': 3412, 'crush': 3058, 'ache': 108, 'settled': 11759, 'weariness': 14589, 'slipped': 12118, 'shoulder': 11904, 'nowhere': 9058, 'closing': 2355, 'uncle': 13925, 'radio': 10596, 'accidentally': 77, 'feared': 4854, 'playing': 9940, 'conflicted': 2649, 'follower': 5166, 'christ': 2220, 'celebrate': 2023, 'pagan': 9477, 'originated': 9317, 'modern': 8500, 'pill': 9855, 'weightless': 14624, 'repentant': 10991, 'opposition': 9275, 'daycare': 3224, 'relax': 10902, 'motif': 8613, 'inbalance': 6606, 'committment': 2504, 'counselling': 2894, 'reconciliation': 10775, 'valuable': 14261, 'training': 13640, 'grammar': 5698, 'language': 7482, 'comparing': 2529, 'sneha': 12214, 'leader': 7555, 'depict': 3425, 'george': 5512, 'fulfill': 5362, 'forgetting': 5211, 'hands': 5914, 'aahhh': 6, 'magic': 7991, 'scone': 11568, 'food': 5175, 'frugal': 5340, 'giggle': 5551, 'nervously': 8880, 'helplessness': 6114, 'kill': 7339, 'messy': 8324, 'photo': 9806, 'loathed': 7790, 'picked': 9830, 'numb': 9073, 'spiteful': 12465, 'vindictive': 14382, 'soundtrack': 12375, 'reassures': 10726, 'uptight': 14192, 'nervs': 8882, 'pursue': 10496, 'wedding': 14605, 'min': 8396, 'fast': 4828, 'stubborn': 12790, 'lacking': 7448, 'patience': 9611, 'twist': 13846, 'create': 2975, 'explanation': 4685, 'mad': 7979, 'yup': 15035, 'medium': 8253, 'coverage': 2921, 'sometime': 12321, 'neglectful': 8854, 'fellow': 4896, 'blogger': 1417, 'glass': 5588, 'frame': 5261, 'paranoid': 9543, 'rewrite': 11173, 'fma': 5143, 'op': 9253, 'half': 5883, 'term': 13279, 'adventurous': 226, 'admire': 188, 'athleticism': 828, 'entertained': 4410, 'severely': 11769, 'shape': 11808, 'participate': 9569, 'event': 4541, 'secretary': 11636, 'eh': 4193, 'unhappy': 14028, 'flower': 5119, 'wonderfully': 14845, 'hive': 6202, 'layer': 7541, 'moss': 8605, 'encased': 4324, 'shell': 11836, 'muffling': 8676, 'sharper': 11819, 'pleasant': 9948, 'painful': 9488, 'nameless': 8778, 'mid': 8355, 'bottom': 1548, 'graduate': 5692, 'marginally': 8104, 'attached': 847, 'awash': 936, 'sea': 11614, 'overeducated': 9400, 'underpaid': 13957, 'indentured': 6655, 'peer': 9672, 'duped': 4049, 'promise': 10352, 'debt': 3262, 'chemistry': 2151, 'contribute': 2788, 'patient': 9612, 'daily': 3150, 'breast': 1618, 'milk': 8383, 'formula': 5227, 'trotted': 13755, 'enter': 4406, 'drunk': 4000, 'feminist': 4904, 'issue': 7006, 'faking': 4783, 'welcome': 14634, 'mommyhood': 8535, 'inability': 6592, 'breastfeed': 1619, 'peaceful': 9649, 'xox': 14957, 'itll': 7018, 'flawless': 5064, 'joyful': 7187, 'conspiracy': 2713, 'theory': 13351, 'unsolved': 14126, 'crime': 3007, 'hugely': 6359, 'feed': 4878, 'melancholy': 8262, 'wither': 14812, 'culture': 3086, 'allowed': 394, 'awesome': 941, 'pleased': 9952, 'tonight': 13550, 'lead': 7553, 'actively': 140, 'borne': 1532, 'scare': 11522, 'tug': 13801, 'socket': 12270, 'nowwwwww': 9059, 'displayed': 3744, 'yearning': 14984, 'semblance': 11683, 'normality': 9017, 'appears': 633, 'dancing': 3176, 'arab': 670, 'armed': 699, 'soldier': 12290, 'fixed': 5030, 'easier': 4105, 'research': 11037, 'trial': 13719, 'success': 12871, 'garden': 5436, 'whitleys': 14704, 'shoot': 11882, 'tempted': 13258, 'anyways': 597, 'doha': 3844, 'urge': 14197, 'fix': 5028, 'brew': 1632, 'faired': 4774, 'compared': 2528, 'unrelated': 14108, 'permanent': 9726, 'intellectual': 6838, 'progress': 10335, 'exert': 4628, 'speaking': 12408, 'japanese': 7068, 'arrangement': 712, 'pass': 9582, 'dating': 3212, 'record': 10776, 'wretched': 14914, 'glum': 5616, 'forelorn': 5203, 'heartbroken': 6055, 'horribly': 6305, 'join': 7151, 'lady': 7456, 'celebration': 2027, 'womanhood': 14839, 'team': 13203, 'four': 5247, 'noticable': 9039, 'birding': 1326, 'squeak': 12530, 'baachan': 961, 'trolley': 13749, 'planned': 9917, 'summer': 12918, 'breathe': 1622, 'warning': 14541, 'benign': 1238, 'improve': 6583, 'prepare': 10202, 'heartbreak': 6053, 'danielle': 3184, 'military': 8382, 'wife': 14737, 'thru': 13429, 'suddenly': 12885, 'smarter': 12160, 'smell': 12166, 'bear': 1136, 'motion': 8614, 'bored': 1527, 'ended': 4342, 'shoeless': 11879, 'slowing': 12136, 'critical': 3014, 'dennis': 3405, 'covingtons': 2925, 'article': 728, 'merit': 8313, 'noted': 9034, 'business': 1784, 'refers': 10818, 'ironically': 6966, 'loudons': 7885, 'kate': 7280, 'mcgarrigle': 8210, 'rufus': 11351, 'wainwright': 14476, 'birthday': 1328, 'captured': 1899, 'envisioned': 4442, 'intended': 6843, 'vision': 14407, 'intention': 6850, 'cute': 3123, 'rafael': 10598, 'bosch': 1536, 'attend': 858, 'blogging': 1418, 'relentless': 10913, 'offer': 9182, 'deal': 3246, 'fandom': 4803, 'disoriented': 3736, 'zero': 15054, 'med': 8237, 'vitamin': 14416, 'fluid': 5129, 'troubled': 13757, 'ongoing': 9237, 'relocation': 10930, 'healthy': 6042, 'optimistic': 9282, 'lack': 7446, 'gulam': 5829, 'ali': 369, 'classical': 2288, 'singer': 12007, 'guy': 5846, 'genuine': 5506, 'treat': 13702, 'quality': 10527, 'sale': 11430, 'hiding': 6162, 'according': 91, 'keenly': 7294, 'greatly': 5738, 'shielding': 11848, 'offspring': 9193, 'health': 6039, 'problem': 10294, 'traitor': 13643, 'among': 463, 'cover': 2920, 'snotface': 12234, 'as': 747, 'hole': 6226, 'hookah': 6280, 'reciprocated': 10752, 'bryan': 1701, 'differently': 3595, 'believed': 1203, 'truthful': 13777, 'sticky': 12657, 'droppings': 3989, 'fault': 4842, 'behavior': 1189, 'existed': 4647, 'reveal': 11138, 'youve': 15028, 'tough': 13590, 'endeavoring': 4341, 'honesty': 6269, 'authenticity': 896, 'gwiyomi': 5849, 'press': 10223, 'shine': 11857, 'thigh': 13377, 'frightened': 5320, 'spending': 12436, 'poisoned': 10004, 'chalice': 2071, 'introvert': 6913, 'preferably': 10182, 'crew': 3001, 'galley': 5414, 'room': 11294, 'whale': 14658, 'noise': 8983, 'generic': 5491, 'bath': 1101, 'bodywork': 1478, 'invest': 6929, 'throw': 13426, 'predictable': 10173, 'liberated': 7658, 'recognize': 10765, 'discontent': 3683, 'happens': 5930, 'torture': 13570, 'dealing': 3248, 'fertility': 4913, 'irate': 6956, 'moronic': 8592, 'prep': 10200, 'sleepless': 12099, 'shaky': 11795, 'worst': 14885, 'hit': 6199, 'damage': 3159, 'destruction': 3495, 'ocean': 9163, 'win': 14766, 'oscar': 9327, 'narrated': 8792, 'erik': 4467, 'prince': 10271, 'autobiography': 904, 'civilian': 2264, 'warrior': 14545, 'blackwater': 1358, 'unsung': 14136, 'hero': 6135, 'war': 14522, 'terror': 13292, 'released': 10909, 'th': 13316, 'dependency': 3421, 'neediness': 8841, 'prior': 10277, 'recently': 10745, 'mccarthy': 8208, 'consistently': 2705, 'humanize': 6370, 'character': 2098, 'balancing': 1019, 'uneasy': 13990, 'transition': 13665, 'boy': 1575, 'inadequate': 6598, 'predominantly': 10178, 'function': 5375, 'arranged': 711, 'twelve': 13839, 'previous': 10251, 'usual': 14221, 'recognized': 10766, 'autistic': 901, 'guest': 5813, 'message': 8320, 'coursing': 2914, 'cycle': 3133, 'california': 1834, 'ness': 8883, 'pool': 10040, 'drinking': 3975, 'wine': 14774, 'spritzer': 12514, 'nagalene': 8761, 'connecting': 2672, 'via': 14347, 'wifi': 14738, 'stellarium': 12634, 'star': 12584, 'washington': 14552, 'permanently': 9728, 'although': 424, 'torn': 13565, 'bleu': 1393, 'guilt': 5821, 'similarly': 11979, 'situated': 12032, 'neighborhood': 8859, 'blue': 1446, 'red': 10791, 'heavy': 6076, 'table': 13097, 'otherwise': 9332, 'tournament': 13603, 'deck': 3283, 'possibly': 10094, 'zendikar': 15052, 'rotates': 11308, 'brandy': 1600, 'considering': 2701, 'pretending': 10238, 'detail': 3499, 'sharpe': 11818, 'plateau': 9928, 'buying': 1800, 'wardrobe': 14524, 'degree': 3354, 'biology': 1319, 'blown': 1441, 'incomplete': 6635, 'connection': 2673, 'poppy': 10052, 'unwanted': 14151, 'beast': 1140, 'shot': 11901, 'screamed': 11590, 'loud': 7882, 'ignorance': 6487, 'engage': 4366, 'debate': 3257, 'broaden': 1668, 'lousy': 7890, 'dismiss': 3728, 'bright': 1648, 'cheerful': 2139, 'dreary': 3960, 'tolerable': 13530, 'assume': 803, 'moral': 8576, 'damn': 3163, 'sweetly': 13044, 'ironic': 6965, 'broadly': 1670, 'respectful': 11077, 'belong': 1215, 'brad': 1583, 'eric': 4465, 'wat': 14558, 'extent': 4718, 'favour': 4848, 'shadow': 11787, 'amorous': 465, 'stage': 12560, 'experienced': 4674, 'realise': 10701, 'pray': 10149, 'cancel': 1870, 'stressing': 12748, 'babysitting': 972, 'village': 14379, 'stared': 12587, 'ran': 10623, 'kept': 7308, 'benevolent': 1236, 'inspiring': 6806, 'solace': 12286, 'proof': 10363, 'ro': 11245, 'anna': 535, 'wealth': 14581, 'enjoys': 4386, 'tuck': 13796, 'belly': 1213, 'hen': 6119, 'coo': 2818, 'cuddle': 3073, 'interest': 6863, 'firstborn': 5015, 'perceives': 9701, 'walia': 14491, 'suspicious': 13010, 'tarun': 13166, 'ban': 1032, 'fail': 4767, 'path': 9606, 'nine': 8960, 'dare': 3190, 'biggest': 1299, 'stiller': 12664, 'vaughn': 14287, 'hater': 5989, 'enjoyment': 4385, 'punjabi': 10478, 'lobia': 7794, 'masala': 8146, 'winter': 14784, 'protein': 10391, 'punch': 10470, 'warmer': 14532, 'terrifying': 13289, 'park': 9555, 'pensive': 9692, 'tense': 13271, 'reader': 10689, 'anticipation': 572, 'bqff': 1578, 'loaded': 7787, 'behind': 1191, 'investigate': 6931, 'mythology': 8755, 'subject': 12836, 'shopping': 11888, 'limiting': 7717, 'reasonably': 10722, 'greater': 5736, 'injury': 6757, 'impacted': 6542, 'portland': 10068, 'stopping': 12699, 'fire': 5003, 'scientist': 11560, 'observing': 9134, 'moon': 8566, 'mention': 8298, 'gravity': 5729, 'sociable': 12258, 'force': 5187, 'agnostic': 292, 'atheist': 824, 'judeo': 7199, 'christian': 2222, 'fundamentalist': 5380, 'excitement': 4609, 'newborn': 8907, 'wee': 14607, 'sadly': 11413, 'outgrown': 9351, 'fave': 4844, 'thrifted': 13413, 'version': 14336, 'stand': 12576, 'finish': 4995, 'refuse': 10841, 'rate': 10655, 'publisher': 10451, 'snobbish': 12225, 'jeanette': 7087, 'winterson': 14786, 'essentially': 4492, 'scope': 11570, 'explore': 4694, 'petty': 9785, 'fleshed': 5071, 'fluttering': 5139, 'vertigo': 14338, 'handle': 5909, 'admitted': 196, 'defeat': 3320, 'lake': 7466, 'coz': 2933, 'journalist': 7183, 'combined': 2470, 'ridden': 11191, 'semester': 11685, 'lucy': 7925, 'crafted': 2943, 'click': 2322, 'switched': 13063, 'fuck': 5350, 'favor': 4845, 'entitled': 4424, 'remorseful': 10963, 'diet': 3590, 'loss': 7871, 'experiencing': 4675, 'imagining': 6519, 'forearm': 5193, 'disappear': 3653, 'realized': 10709, 'larger': 7494, 'network': 8891, 'interaction': 6858, 'affectionate': 252, 'adore': 208, 'leonard': 7626, 'cohen': 2411, 'searching': 11623, 'tearful': 13209, 'evening': 4540, 'challenge': 2074, 'therefore': 13361, 'train': 13636, 'machine': 7974, 'printer': 10275, 'teenaged': 13230, 'devastated': 3523, 'pimple': 9861, 'prom': 10349, 'bookmark': 1516, 'april': 666, 'url': 14205, 'fn': 5144, 'www': 14942, 'mask': 8153, 'missgivings': 8456, 'supermarket': 12942, 'dinner': 3626, 'account': 92, 'terminando': 13281, 'com': 2464, 'eight': 4198, 'um': 13895, 'ano': 552, 'depois': 3429, 'full': 5366, 'inconsistent': 6638, 'euan': 4516, 'hauled': 5995, 'murder': 8707, 'experimented': 4677, 'partner': 9577, 'ther': 13354, 'fuckin': 5353, 'chill': 2181, 'impacting': 6543, 'passion': 9591, 'chocolate': 2203, 'cookie': 2820, 'sits': 12029, 'spite': 12464, 'raging': 10603, 'pm': 9980, 'likely': 7703, 'erupt': 4474, 'victim': 14358, 'bothered': 1543, 'ehb': 4195, 'ow': 9442, 'resolve': 11065, 'grievance': 5753, 'attire': 864, 'regular': 10868, 'based': 1082, 'primer': 10268, 'attainable': 853, 'hint': 6189, 'nouveau': 9052, 'era': 4463, 'bracelet': 1581, 'stair': 12565, 'occasionally': 9147, 'number': 9074, 'consecutive': 2688, 'bow': 1565, 'convenience': 2797, 'iphone': 6951, 'internet': 6878, 'tv': 13830, 'have': 6001, 'concern': 2601, 'laced': 7444, 'pounded': 10118, 'pavement': 9629, 'male': 8034, 'men': 8285, 'telling': 13245, 'direction': 3638, 'childhood': 2176, 'clue': 2369, 'joined': 7152, 'elihu': 4234, 'christmastime': 2227, 'mill': 8385, 'darkly': 3195, 'stately': 12606, 'meeting': 8256, 'adult': 218, 'praying': 10152, 'design': 3463, 'brain': 1590, 'dis': 3645, 'visiting': 14410, 'neglect': 8852, 'funeral': 5385, 'killed': 7340, 'ecstatic': 4139, 'proplems': 10369, 'bitched': 1336, 'expressed': 4707, 'intensity': 6847, 'spouse': 12499, 'agony': 297, 'waiting': 14481, 'news': 8913, 'uninspired': 14040, 'intimate': 6894, 'bodily': 1474, 'girlfriend': 5565, 'avoid': 919, 'elevated': 4226, 'lexicon': 7650, 'uncomposed': 13932, 'dressed': 3963, 'director': 3641, 'editor': 4151, 'teachable': 13199, 'tiphany': 13495, 'genuinely': 5507, 'literary': 7761, 'legitimate': 7601, 'analyze': 489, 'ignoring': 6492, 'heartbreaking': 6054, 'alarming': 345, 'compassion': 2533, 'email': 4251, 'deeply': 3316, 'steal': 12623, 'joshua': 7177, 'sincerity': 11999, 'dontknow': 3869, 'linus': 7734, 'forgotten': 5217, 'suffer': 12888, 'produce': 10310, 'includes': 6627, 'increasing': 6646, 'dirty': 3644, 'trash': 13680, 'bin': 1309, 'nobody': 8975, 'sought': 12365, 'curl': 3101, 'natural': 8809, 'lowlights': 7911, 'section': 11639, 'gon': 5641, 'na': 8756, 'rainy': 10614, 'lapse': 7489, 'sanity': 11460, 'rampage': 10621, 'slightest': 12113, 'inconvenience': 6639, 'stare': 12586, 'computer': 2587, 'screen': 11593, 'scratch': 11586, 'drink': 3973, 'pot': 10104, 'sentence': 11713, 'consists': 2707, 'poop': 10041, 'joke': 7156, 'drop': 3986, 'excruciating': 4616, 'horrific': 6307, 'helping': 6111, 'fresh': 5304, 'fig': 4952, 'delicate': 3367, 'prettier': 10240, 'dried': 3968, 'hgtv': 6151, 'order': 9290, 'describing': 3454, 'express': 4706, 'gene': 5477, 'dominant': 3854, 'poet': 9990, 'crazy': 2971, 'covetousnes': 2924, 'hopelessness': 6293, 'disturbing': 3799, 'scar': 11520, 'covered': 2922, 'chest': 2160, 'rhythm': 11180, 'remind': 10954, 'terpene': 13283, 'flavour': 5061, 'gained': 5409, 'wieght': 14734, 'pound': 10117, 'explains': 4684, 'resigned': 11057, 'docile': 3829, 'decade': 3264, 'jolly': 7160, 'reminds': 10958, 'ra': 10573, 'sexually': 11779, 'attractive': 870, 'excluded': 4613, 'fantabulous': 4807, 'cheated': 2128, 'lie': 7668, 'frankly': 5268, 'lion': 7736, 'prey': 10253, 'surround': 12991, 'bible': 1288, 'transcend': 13651, 'awkwardly': 948, 'melbourne': 8263, 'heavenly': 6071, 'slough': 12131, 'carapace': 1904, 'crud': 3044, 'enveloped': 4434, 'thirty': 13389, 'glasgow': 5587, 'leadingstrings': 7558, 'set': 11754, 'specific': 12417, 'needing': 8842, 'constraint': 2722, 'meditating': 8249, 'greatness': 5739, 'psalm': 10421, 'laze': 7545, 'pajama': 9498, 'study': 12799, 'terry': 13296, 'drive': 3979, 'yippee': 15003, 'beyond': 1275, 'disagree': 3649, 'admission': 192, 'category': 1988, 'puppy': 10482, 'clothes': 2359, 'dickensian': 3580, 'orphan': 9322, 'generally': 5485, 'blanked': 1370, 'seamlessly': 11619, 'jumped': 7223, 'inferring': 6706, 'taiwan': 13114, 'shop': 11885, 'bathroom': 1104, 'depends': 3424, 'aroused': 708, 'chronically': 2229, 'enormous': 4392, 'pink': 9872, 'flamingo': 5044, 'shooting': 11884, 'afterwards': 275, 'agreed': 299, 'rang': 10631, 'listening': 7752, 'atheism': 823, 'fails': 4770, 'log': 7807, 'yeah': 14978, 'nominated': 8989, 'award': 933, 'received': 10741, 'sudden': 12884, 'outburst': 9340, 'hide': 6158, 'extra': 4723, 'biochem': 1315, 'ruach': 11333, 'hakodesh': 5880, 'attempted': 856, 'suck': 12877, 'nevermind': 8902, 'pie': 9842, 'posted': 10097, 'crap': 2955, 'zoom': 15074, 'difficulty': 3598, 'desert': 3458, 'temporarily': 13255, 'loose': 7853, 'noone': 9007, 'anyway': 596, 'random': 10628, 'tick': 13447, 'keyboard': 7315, 'spilled': 12448, 'travel': 13685, 'scott': 11577, 'dale': 3154, 'frusterated': 5343, 'neurotic': 8896, 'freak': 5280, 'smoothly': 12188, 'twenty': 13840, 'adaption': 156, 'harden': 5948, 'toughen': 13591, 'myelf': 8742, 'enlist': 4388, 'difficult': 3597, 'mehow': 8259, 'casually': 1978, 'remark': 10942, 'infield': 6709, 'insider': 6789, 'plain': 9911, 'tank': 13151, 'top': 13558, 'zara': 15045, 'caught': 1998, 'occupying': 9155, 'chore': 2214, 'ex': 4578, 'sample': 11443, 'denied': 3399, 'teaching': 13201, 'stone': 12691, 'grumble': 5797, 'groan': 5771, 'journey': 7184, 'thus': 13438, 'junk': 7232, 'thursday': 13437, 'foggy': 5153, 'rollercoaster': 11281, 'unplanned': 14089, 'failed': 4768, 'impressive': 6579, 'background': 980, 'secretly': 11638, 'learn': 7571, 'common': 2507, 'ground': 5782, 'disliked': 3724, 'major': 8018, 'orgasm': 9309, 'screw': 11598, 'aware': 934, 'complaining': 2550, 'achieve': 111, 'goal': 5625, 'surprise': 12985, 'lyme': 7964, 'coinfections': 2419, 'amazingly': 437, 'weighing': 14620, 'filling': 4968, 'homework': 6257, 'olympics': 9221, 'rainbow': 10610, 'classroom': 2290, 'thanks': 13332, 'tissue': 13502, 'idiotic': 6469, 'hadnt': 5860, 'yelled': 14989, 'frustration': 5347, 'million': 8389, 'sending': 11693, 'solved': 12307, 'utter': 14232, 'gratitude': 5725, 'thankfulness': 13329, 'gesture': 5526, 'notion': 9048, 'ensuring': 4404, 'respect': 11075, 'survived': 12998, 'comprehensive': 2578, 'survive': 12997, 'winner': 14781, 'access': 71, 'hollywood': 6237, 'sofa': 12276, 'button': 1795, 'layout': 7544, 'haptic': 5940, 'feedback': 4879, 'herrman': 6140, 'haptics': 5941, 'hardcore': 5946, 'sxe': 13070, 'chocolating': 2204, 'signal': 11963, 'agreement': 301, 'straight': 12714, 'readily': 10691, 'aside': 765, 'cared': 1917, 'rounded': 11317, 'bopping': 1524, 'singing': 12008, 'charming': 2111, 'exchange': 4604, 'oatmeal': 9107, 'separated': 11722, 'schedule': 11543, 'backed': 978, 'mere': 8307, 'tall': 13133, 'espresso': 4487, 'finger': 4992, 'beneath': 1229, 'clawed': 2296, 'distance': 3774, 'sampled': 11444, 'scratchy': 11588, 'marge': 8100, 'simpson': 11988, 'sore': 12356, 'whisper': 14698, 'craft': 2942, 'closet': 2354, 'niggling': 8944, 'communing': 2516, 'virtual': 14400, 'affecting': 250, 'accounted': 93, 'trauma': 13681, 'wound': 14896, 'negative': 8849, 'influencing': 6717, 'complicated': 2565, 'convince': 2811, 'relish': 10925, 'squelching': 12537, 'gathered': 5453, 'trick': 13726, 'advantage': 223, 'incase': 6611, 'bell': 1208, 'yay': 14975, 'loathing': 7791, 'sinking': 12014, 'unwarranted': 14152, 'unnecessary': 14084, 'depression': 3436, 'supremely': 12972, 'acting': 136, 'darker': 3193, 'worth': 14886, 'duty': 4059, 'kiss': 7361, 'disregard': 3751, 'societal': 12267, 'pertain': 9760, 'preference': 10183, 'challenged': 2075, 'unleashed': 14066, 'fromthe': 5331, 'virgin': 14398, 'sell': 11680, 'pet': 9776, 'exercising': 4627, 'strength': 12741, 'throng': 13424, 'fervor': 4915, 'green': 5743, 'wallet': 14498, 'encouraged': 4335, 'angle': 516, 'batting': 1112, 'approaching': 655, 'forgot': 5216, 'core': 2849, 'silly': 11975, 'brilliant': 1652, 'comic': 2488, 'actor': 144, 'hearted': 6058, 'marathon': 8094, 'strangely': 12725, 'impostor': 6569, 'reinforcement': 10879, 'cognitive': 2408, 'reframing': 10832, 'diminishing': 3615, 'dissolving': 3773, 'deferring': 3333, 'reality': 10706, 'rapture': 10649, 'saddened': 11405, 'horsey': 6312, 'rare': 10650, 'brag': 1586, 'fattie': 4841, 'pre': 10153, 'teen': 13228, 'active': 139, 'homeschooling': 6253, 'dubai': 4011, 'kicked': 7328, 'appreciative': 649, 'partly': 9576, 'annie': 537, 'churn': 2243, 'esp': 4482, 'double': 3895, 'brown': 1686, 'struff': 12782, 'filled': 4967, 'fedtastic': 4875, 'tennis': 13270, 'emm': 4282, 'hoped': 6287, 'attempt': 855, 'ambleside': 446, 'curtain': 3112, 'firmly': 5013, 'closed': 2350, 'warmest': 14533, 'sunniest': 12927, 'remorse': 10962, 'corinthian': 2851, 'progressing': 10336, 'fearless': 4857, 'incrementally': 6652, 'seemingly': 11656, 'rigid': 11208, 'boundary': 1559, 'paranoia': 9542, 'belonging': 1217, 'insignificant': 6793, 'slipping': 12121, 'gap': 5429, 'tad': 13106, 'browser': 1690, 'booth': 1523, 'focused': 5149, 'purchase': 10483, 'develop': 3526, 'unknown': 14065, 'settling': 11761, 'vineman': 14386, 'racin': 10580, 'spot': 12493, 'mentally': 8296, 'ller': 7782, 'expensive': 4671, 'assistant': 797, 'unsatisfied': 14116, 'led': 7583, 'search': 11621, 'phrase': 9817, 'awfully': 945, 'engine': 4370, 'netflix': 8889, 'army': 703, 'misinformed': 8443, 'denounced': 3406, 'unafraid': 13903, 'glimpse': 5593, 'vibrant': 14349, 'gain': 5408, 'virtuous': 14402, 'spin': 12450, 'driving': 3984, 'blackburn': 1354, 'manual': 8086, 'unsupervised': 14137, 'sucessfully': 12876, 'handbrake': 5903, 'fulsome': 5371, 'scale': 11512, 'evolution': 4572, 'education': 4159, 'system': 13091, 'vast': 14284, 'lil': 7706, 'ac': 57, 'difference': 3593, 'shafted': 11788, 'reaching': 10680, 'final': 4978, 'randomly': 10629, 'ultimate': 13890, 'restore': 11097, 'kneel': 7382, 'worship': 14883, 'attain': 852, 'hapiness': 5925, 'desp': 3475, 'gatsby': 5456, 'evident': 4566, 'met': 8325, 'lock': 7800, 'vault': 14288, 'profession': 10319, 'poetry': 9992, 'poor': 10044, 'tragedy': 13632, 'trusted': 13772, 'incapable': 6609, 'concert': 2604, 'achieving': 114, 'baseball': 1081, 'bat': 1098, 'apt': 668, 'description': 3455, 'overwhelmingly': 9438, 'television': 13243, 'drama': 3937, 'tipping': 13496, 'backwards': 989, 'ambitious': 445, 'spinning': 12454, 'info': 6720, 'vent': 14314, 'vicious': 14357, 'nasty': 8800, 'contracted': 2780, 'sti': 12651, 'defination': 3339, 'romance': 11285, 'regained': 10845, 'crucified': 3043, 'forsaken': 5229, 'disabled': 3647, 'dignity': 3605, 'shunned': 11930, 'foolish': 5179, 'born': 1531, 'opening': 9257, 'reduce': 10800, 'jealousy': 7085, 'command': 2490, 'jew': 7118, 'religious': 10924, 'obey': 9115, 'prohibition': 10341, 'flustered': 5137, 'english': 4374, 'foundry': 5245, 'shield': 11847, 'bay': 1117, 'conceal': 2590, 'lending': 7615, 'appearance': 630, 'wherewithal': 14676, 'uggs': 13875, 'ballet': 1023, 'pump': 10465, 'bandwagon': 1038, 'driver': 3982, 'adolescence': 200, 'revert': 11154, 'power': 10126, 'belmont': 1214, 'library': 7663, 'electric': 4216, 'orchestra': 9286, 'bless': 1390, 'appreciate': 645, 'wiped': 14790, 'oxygen': 9453, 'alcest': 352, 'album': 350, 'roommate': 11296, 'goodnight': 5649, 'mike': 8375, 'lighter': 7686, 'dunham': 4043, 'portrayed': 10073, 'hannahs': 5923, 'happening': 5929, 'minimise': 8413, 'distress': 3790, 'contort': 2778, 'stumbling': 12808, 'quote': 10571, 'urging': 14202, 'meant': 8226, 'dedicate': 3300, 'prayed': 10150, 'barely': 1061, 'pit': 9893, 'sexy': 11781, 'pose': 10077, 'voicing': 14432, 'upper': 14182, 'weak': 14577, 'wan': 14507, 'accomplished': 86, 'ritz': 11239, 'cracker': 2940, 'desk': 3471, 'tenure': 13275, 'protects': 10390, 'hateful': 5987, 'harmful': 5960, 'taught': 13183, 'wrongly': 14929, 'undo': 13980, 'bigotry': 1301, 'bind': 1310, 'sloth': 12129, 'geared': 5467, 'higher': 6165, 'altitude': 425, 'watcher': 14562, 'program': 10331, 'count': 2897, 'fought': 5240, 'confidence': 2638, 'essence': 4490, 'soul': 12366, 'hopefully': 6290, 'escape': 4476, 'stuck': 12792, 'cliquey': 2341, 'roll': 11278, 'suffocated': 12896, 'pause': 9627, 'logic': 7812, 'thanksgiving': 13333, 'jimmy': 7129, 'coped': 2836, 'wrung': 14931, 'uploaded': 14178, 'upload': 14177, 'hyperemesis': 6427, 'copying': 2844, 'handsome': 5915, 'hanging': 5920, 'underage': 13946, 'angel': 510, 'intermarrying': 6869, 'tour': 13596, 'lane': 7481, 'soley': 12294, 'doomed': 3876, 'gladiator': 5574, 'stadium': 12557, 'constructed': 2723, 'cardboard': 1912, 'copy': 2842, 'romeo': 11290, 'juliet': 7218, 'outsider': 9366, 'screaming': 11591, 'rolled': 11279, 'wayne': 14574, 'nikki': 8955, 'minaj': 8397, 'drake': 3936, 'dope': 3882, 'glancing': 5582, 'rucksack': 11341, 'cosmically': 2873, 'deed': 3305, 'contraction': 2781, 'caused': 2001, 'flung': 5131, 'suitcase': 12908, 'crossing': 3031, 'explode': 4687, 'pressurized': 10230, 'cabin': 1811, 'listen': 7749, 'seeking': 11651, 'acceptance': 67, 'provide': 10403, 'teammate': 13205, 'scum': 11610, 'lisa': 7745, 'charge': 2102, 'nurturing': 9087, 'headphone': 6031, 'address': 170, 'congratulation': 2664, 'slugging': 12142, 'massive': 8159, 'takeaway': 13117, 'choccy': 2202, 'binge': 1312, 'instantly': 6812, 'hearing': 6047, 'believer': 1204, 'ending': 4344, 'assertive': 787, 'aggressive': 286, 'chasing': 2116, 'swim': 13051, 'perceive': 9699, 'dint': 3628, 'condemning': 2616, 'amounting': 469, 'preacher': 10155, 'podium': 9988, 'counselor': 2896, 'motivational': 8619, 'speaker': 12406, 'chose': 2216, 'talked': 13131, 'treated': 13703, 'violence': 14392, 'impractical': 6573, 'vellas': 14304, 'speak': 12405, 'conclusion': 2610, 'entail': 4405, 'civilly': 2266, 'del': 3360, 'jade': 7040, 'prone': 10360, 'spencer': 12434, 'derfwadmanor': 3446, 'achieved': 112, 'yarn': 14970, 'allows': 397, 'aunt': 885, 'reliving': 10928, 'enthralled': 4415, 'independent': 6657, 'la': 7433, 'destiny': 3490, 'gracias': 5687, 'por': 10055, 'todo': 13521, 'introduction': 6911, 'bos': 1535, 'fooled': 5178, 'lied': 7671, 'sensing': 11707, 'shock': 11873, 'idealistic': 6457, 'proported': 10371, 'gun': 5835, 'rescue': 11035, 'morose': 8593, 'distract': 3785, 'intensely': 6845, 'nowadays': 9057, 'sock': 12269, 'useless': 14216, 'film': 4969, 'nicos': 8936, 'ear': 4082, 'showed': 11917, 'contributed': 2789, 'intelligence': 6840, 'sensible': 11705, 'visual': 14414, 'clicking': 2324, 'option': 9283, 'vomity': 14446, 'responded': 11081, 'listed': 7748, 'slalom': 12078, 'hating': 5991, 'haze': 6011, 'balk': 1021, 'soup': 12376, 'smoke': 12179, 'portion': 10067, 'vunerable': 14462, 'eighteen': 4199, 'ups': 14185, 'down': 3909, 'invite': 6939, 'send': 11691, 'detailing': 3501, 'unedited': 13991, 'sticking': 12656, 'bench': 1226, 'favs': 4850, 'tackling': 13102, 'hedge': 6080, 'trudging': 13763, 'initially': 6751, 'revovles': 11166, 'toy': 13613, 'ansi': 559, 'exhausting': 4634, 'lb': 7548, 'average': 915, 'butterfly': 1793, 'government': 5673, 'gulped': 5832, 'lipstick': 7740, 'rouge': 11312, 'intense': 6844, 'region': 10857, 'visibly': 14406, 'outer': 9347, 'carniola': 1939, 'somewhat': 12324, 'evidence': 4564, 'suburban': 12865, 'palm': 9508, 'blowing': 1439, 'universe': 14059, 'advice': 236, 'court': 2915, 'devil': 3533, 'suited': 12909, 'playboy': 9933, 'forum': 5236, 'previously': 10252, 'ebay': 4119, 'catch': 1984, 'fish': 5019, 'dejected': 3358, 'congress': 2667, 'approach': 653, 'kairi': 7252, 'lab': 7434, 'rat': 10653, 'cease': 2020, 'enjoyed': 4383, 'gown': 5676, 'plastic': 9925, 'slipper': 12119, 'dopey': 3883, 'holier': 6228, 'thou': 13399, 'constructive': 2725, 'fashioned': 4827, 'graphic': 5715, 'illustration': 6508, 'fucking': 5354, 'hug': 6357, 'hoard': 6208, 'anybody': 588, 'mcas': 8206, 'task': 13169, 'idealized': 6458, 'respond': 11080, 'forgive': 5212, 'demotivated': 3395, 'curriculum': 3108, 'possession': 10090, 'disillusioned': 3719, 'startled': 12596, 'comparison': 2530, 'immediately': 6530, 'remembered': 10949, 'jack': 7031, 'blink': 1400, 'threw': 13411, 'cajoled': 1825, 'bullied': 1733, 'slowly': 12137, 'janelle': 7062, 'mon': 8537, 'elle': 4239, 'canada': 1866, 'february': 4869, 'plea': 9945, 'insincere': 6794, 'nosy': 9029, 'jump': 7222, 'museum': 8718, 'unprepared': 14095, 'liking': 7705, 'triggered': 13732, 'virus': 14403, 'flu': 5123, 'envelope': 4433, 'literally': 7760, 'hundred': 6397, 'mass': 8156, 'eucharist': 4517, 'include': 6625, 'professor': 10323, 'banker': 1046, 'liberal': 7657, 'arrogant': 722, 'pinched': 9864, 'crust': 3062, 'struggled': 12784, 'fighting': 4955, 'awhile': 946, 'teeth': 13236, 'earn': 4089, 'regulated': 10870, 'sustained': 13014, 'timing': 13482, 'brings': 1656, 'conor': 2676, 'flow': 5117, 'drafting': 3928, 'dieting': 3591, 'secret': 11635, 'annoy': 544, 'migraine': 8371, 'excellent': 4596, 'service': 11749, 'educate': 4156, 'bashful': 1086, 'note': 9032, 'dislike': 3723, 'harvest': 5974, 'attempting': 857, 'ruined': 11355, 'damp': 3167, 'motorway': 8625, 'telephone': 13239, 'lived': 7770, 'properly': 10367, 'plenty': 9959, 'repeat': 10987, 'grin': 5761, 'role': 11275, 'grandmother': 5705, 'grandma': 5704, 'defective': 3324, 'piss': 9887, 'failing': 4769, 'perform': 9712, 'worrying': 14880, 'typed': 13862, 'idiot': 6468, 'sighed': 11958, 'quietly': 10552, 'anguished': 522, 'remarkable': 10943, 'unavoidably': 13910, 'shortcoming': 11892, 'beneficial': 1233, 'employee': 4304, 'specially': 12413, 'rapidly': 10644, 'ramadan': 10619, 'verge': 14328, 'tenderly': 13266, 'cheek': 2136, 'cheering': 2142, 'nd': 8821, 'vlog': 14422, 'cloudy': 2362, 'easter': 4109, 'retarted': 11118, 'hesitation': 6146, 'engaged': 4367, 'rhythmic': 11181, 'hop': 6285, 'technically': 13219, 'ten': 13261, 'basis': 1090, 'immedietly': 6531, 'wal': 14486, 'mart': 8132, 'andover': 501, 'definition': 3347, 'trouble': 13756, 'engaging': 4369, 'aim': 314, 'who': 14708, 'autumn': 909, 'early': 4088, 'andthenwear': 506, 'sent': 11712, 'shiny': 11860, 'linda': 7720, 'spiritually': 12460, 'tempered': 13250, 'ring': 11217, 'incapacitated': 6610, 'flaring': 5048, 'fifteen': 4949, 'wave': 14567, 'crashing': 2959, 'covering': 2923, 'downright': 3912, 'amusing': 480, 'slugged': 12141, 'daughter': 3213, 'strutting': 12787, 'creepy': 2996, 'macabre': 7970, 'fountain': 5246, 'abit': 24, 'darn': 3198, 'itttt': 7020, 'tension': 13273, 'friendship': 5317, 'recommend': 10769, 'serve': 11746, 'consuming': 2739, 'hovel': 6338, 'grandfather': 5702, 'demand': 3381, 'creativecommons': 2981, 'tat': 13177, 'errrr': 4473, 'dun': 4041, 'noe': 8980, 'depth': 3441, 'underrated': 13959, 'nonetheless': 8998, 'humbled': 6373, 'hardship': 5954, 'sum': 12913, 'associate': 799, 'interrupted': 6886, 'aid': 310, 'benadryl': 1225, 'naturally': 8810, 'renewed': 10976, 'endurance': 4350, 'herzog': 6142, 'relates': 10896, 'soak': 12246, 'warmth': 14537, 'judgment': 7205, 'ridiculously': 11198, 'zayne': 15047, 'available': 910, 'churchoffuck': 2241, 'renovation': 10977, 'mammoth': 8046, 'harsh': 5970, 'nvm': 9096, 'deliberation': 3366, 'firm': 5011, 'salon': 11432, 'predatory': 10167, 'deform': 3350, 'asylum': 814, 'seeker': 11650, 'intermittent': 6872, 'lacklustre': 7449, 'pen': 9680, 'diego': 3589, 'vaguely': 14248, 'spacy': 12386, 'effective': 4170, 'married': 8127, 'club': 2366, 'intimated': 6895, 'nauseous': 8816, 'laundry': 7523, 'hamper': 5895, 'weakness': 14580, 'ordinance': 9294, 'implies': 6559, 'orderly': 9293, 'procession': 10303, 'remove': 10968, 'proclaim': 10304, 'alot': 410, 'white': 14702, 'considerable': 2696, 'fractured': 5254, 'wrist': 14916, 'excessive': 4603, 'continues': 2773, 'correction': 2865, 'powerless': 10128, 'suffered': 12889, 'resentment': 11046, 'blow': 1438, 'tuesday': 13800, 'hilmari': 6182, 'independence': 6656, 'contribution': 2792, 'unsophisticated': 14127, 'immune': 6540, 'alteration': 418, 'whining': 14689, 'ungrateful': 14026, 'fascinated': 4821, 'katja': 7284, 'disallusioned': 3652, 'beholder': 1192, 'compliment': 2568, 'statement': 12607, 'everyones': 4556, 'harm': 5958, 'uninteresting': 14048, 'anansi': 492, 'tiger': 13461, 'nathans': 8803, 'spurt': 12521, 'sideline': 11948, 'wet': 14653, 'capable': 1888, 'ipod': 6952, 'suit': 12906, 'reved': 11142, 'pulp': 10460, 'conference': 2632, 'continuing': 2774, 'cash': 1964, 'gas': 5443, 'save': 11496, 'jewellery': 7119, 'passing': 9590, 'pregnancy': 10189, 'assumption': 806, 'snippet': 12222, 'petrified': 9782, 'duke': 4026, 'quick': 10546, 'nephew': 8874, 'cheered': 2138, 'sally': 11431, 'mop': 8572, 'atop': 842, 'hormone': 6300, 'chased': 2115, 'clutched': 2377, 'bore': 1526, 'testimony': 13300, 'follow': 5164, 'impression': 6577, 'distant': 3776, 'sequel': 11728, 'overrated': 9417, 'deem': 3307, 'instance': 6810, 'guessing': 5812, 'entirety': 4422, 'consumption': 2740, 'un': 13899, 'collective': 2442, 'increasingly': 6647, 'unsettled': 14122, 'disconnected': 3681, 'remotely': 10965, 'related': 10895, 'homosexuality': 6263, 'occured': 9157, 'profile': 10325, 'cuz': 3128, 'shamed': 11800, 'dr': 3924, 'bundle': 1745, 'sight': 11960, 'improved': 6584, 'untrieds': 14146, 'generator': 5490, 'john': 7146, 'boehner': 1480, 'copious': 2839, 'blurring': 1455, 'spray': 12502, 'tanned': 13153, 'nicotine': 8937, 'stained': 12563, 'cantor': 1884, 'speakership': 12407, 'resonance': 11068, 'classic': 2287, 'symptom': 13082, 'windy': 14773, 'thoroughly': 13398, 'vowed': 14454, 'climb': 2329, 'scafell': 11511, 'dependence': 3420, 'surrounded': 12992, 'numerous': 9078, 'broken': 1672, 'mixer': 8478, 'extension': 4716, 'courage': 2911, 'idreamculture': 6475, 'emergency': 4275, 'enormously': 4393, 'included': 6626, 'unmotivated': 14080, 'cup': 3092, 'bursting': 1778, 'seam': 11618, 'coloring': 2456, 'later': 7505, 'saturday': 11489, 'battered': 1109, 'app': 622, 'maker': 8024, 'leech': 7586, 'reagan': 10697, 'slimmed': 12115, 'visible': 14405, 'stack': 12556, 'illness': 6503, 'veterinary': 14344, 'surgeon': 12981, 'dying': 4070, 'roster': 11306, 'housekeep': 6333, 'albeit': 348, 'ebayed': 4120, 'toon': 13555, 'guild': 5820, 'maid': 8003, 'frown': 5336, 'upside': 14188, 'hastings': 5981, 'cop': 2833, 'disorder': 3732, 'insisted': 6797, 'beside': 1255, 'hat': 5982, 'harrass': 5967, 'oppressed': 9276, 'selective': 11673, 'relate': 10894, 'crushing': 3060, 'lulled': 7933, 'fantasy': 4810, 'remote': 10964, 'location': 7799, 'sunset': 12930, 'cliched': 2321, 'pumped': 10466, 'rage': 10601, 'yoga': 15008, 'crossfit': 3029, 'coach': 2384, 'plank': 9916, 'closest': 2353, 'stammer': 12572, 'bone': 1505, 'anguish': 521, 'grappled': 5716, 'relative': 10900, 'communicate': 2511, 'burlesque': 1766, 'update': 14167, 'unique': 14050, 'communication': 2514, 'replaced': 10998, 'mouth': 8638, 'bf': 1277, 'speaks': 12409, 'silence': 11970, 'unconscious': 13937, 'racism': 10582, 'overt': 9427, 'grown': 5791, 'bleed': 1383, 'luck': 7922, 'hahaha': 5868, 'nikos': 8958, 'fate': 4834, 'niko': 8956, 'speechless': 12427, 'cramping': 2950, 'dorky': 3887, 'hipster': 6192, 'bastard': 1097, 'intellect': 6837, 'encountered': 4333, 'sharp': 11817, 'object': 9117, 'inevitably': 6694, 'sipping': 12017, 'coke': 2420, 'swimming': 13052, 'aggravated': 283, 'mousekins': 8636, 'listener': 7751, 'compensate': 2538, 'sunshine': 12931, 'buffy': 1722, 'multiple': 8689, 'flight': 5081, 'pan': 9512, 'accomplishing': 87, 'si': 11937, 'botany': 1541, 'lec': 7581, 'nursery': 9083, 'helped': 6109, 'enjoyable': 4382, 'interesting': 6865, 'pupil': 10480, 'douevenlift': 3904, 'incredible': 6648, 'despair': 3476, 'module': 8507, 'interacted': 6856, 'definite': 3344, 'development': 3530, 'settle': 11758, 'arrived': 718, 'blame': 1365, 'consequence': 2690, 'framework': 5264, 'branch': 1595, 'chickie': 2171, 'scene': 11534, 'cooking': 2821, 'mystique': 8752, 'acheivment': 110, 'surrounding': 12993, 'unexpected': 14000, 'insane': 6775, 'housewife': 6335, 'sue': 12886, 'bloater': 1410, 'laughing': 7518, 'chosen': 2217, 'uber': 13870, 'ignore': 6490, 'pretend': 10236, 'reiterate': 10881, 'despondent': 3484, 'incident': 6621, 'mermaidhaire': 8314, 'intuition': 6919, 'julie': 7216, 'bailey': 1011, 'treatment': 13705, 'stood': 12695, 'nh': 8921, 'hardly': 5952, 'compete': 2541, 'justify': 7239, 'improvement': 6585, 'breakdown': 1613, 'hr': 6344, 'quilt': 10553, 'archeological': 677, 'dine': 3618, 'guinea': 5825, 'pig': 9847, 'flat': 5055, 'wholly': 14715, 'technique': 13220, 'proven': 10402, 'slide': 12109, 'regret': 10863, 'baltimore': 1030, 'introduce': 6908, 'heaven': 6070, 'jesus': 7116, 'sparrow': 12398, 'dilute': 3611, 'creating': 2978, 'grow': 5788, 'powerful': 10127, 'concerned': 2602, 'upbeat': 14164, 'mournful': 8633, 'bulletin': 1732, 'myspace': 8747, 'embrace': 4269, 'careess': 1921, 'curled': 3102, 'hu': 6349, 'jia': 7123, 'dread': 3949, 'thank': 13325, 'certified': 2057, 'ace': 107, 'burned': 1769, 'ridiculous': 11197, 'execute': 4618, 'dishwasher': 3718, 'lower': 7907, 'idol': 6473, 'grab': 5679, 'discarding': 3669, 'neck': 8835, 'kg': 7320, 'approx': 660, 'screwed': 11599, 'brow': 1685, 'pondered': 10037, 'teasing': 13214, 'scrutiny': 11608, 'compelled': 2536, 'meek': 8254, 'asian': 764, 'vividly': 14418, 'belt': 1221, 'instructor': 6822, 'dojo': 3846, 'richard': 11187, 'obedience': 9110, 'piano': 9827, 'newer': 8909, 'cheaper': 2125, 'offend': 9175, 'foreign': 5201, 'tourist': 13601, 'begging': 1179, 'ur': 14193, 'beat': 1141, 'replace': 10997, 'conversing': 2805, 'sheer': 11833, 'familiarity': 4795, 'protectiveness': 10389, 'slight': 12111, 'franz': 5271, 'liebkind': 7669, 'producer': 10312, 'fuhrer': 5359, 'dancer': 3174, 'weepy': 14616, 'haha': 5866, 'stepped': 12640, 'candyland': 1876, 'haggard': 5863, 'radiant': 10591, 'goddamn': 5629, 'aconfident': 125, 'overcomet': 9387, 'caffeined': 1820, 'ad': 152, 'vista': 14412, 'pro': 10291, 'incorporate': 6641, 'recovery': 10784, 'mental': 8294, 'breed': 1627, 'economy': 4137, 'recession': 10748, 'stressful': 12747, 'unemployment': 13995, 'divorce': 3816, 'britain': 1659, 'louis': 7886, 'xvi': 14958, 'marie': 8107, 'antoinette': 581, 'russia': 11378, 'comparatively': 2526, 'lemon': 7609, 'bar': 1051, 'crocs': 3022, 'fashionable': 4826, 'icon': 6450, 'eyeglass': 4738, 'authoritative': 898, 'stasia': 12603, 'foundation': 5243, 'ya': 14962, 'allah': 380, 'puff': 10455, 'mastered': 8163, 'smiling': 12174, 'spa': 12382, 'intervene': 6889, 'scribble': 11600, 'notebook': 9033, 'ghd': 5537, 'straightener': 12716, 'unlikeable': 14069, 'fluffy': 5128, 'yunhos': 15034, 'rap': 10638, 'wtf': 14934, 'range': 10632, 'russell': 11377, 'crowe': 3038, 'robin': 11257, 'hood': 6278, 'merida': 8312, 'phoenix': 9803, 'illustrator': 6509, 'trapping': 13679, 'crosshatching': 3030, 'lensflares': 7622, 'artistry': 739, 'darren': 3200, 'none': 8997, 'ti': 13442, 'dozen': 3920, 'assignment': 793, 'unfortunately': 14019, 'whinging': 14688, 'temperature': 13249, 'undutiful': 13986, 'church': 2239, 'oomph': 9249, 'emanating': 4252, 'naked': 8772, 'longingly': 7839, 'probing': 10293, 'hardness': 5953, 'foist': 5156, 'scabbed': 11508, 'surface': 12977, 'raw': 10667, 'unhealed': 14029, 'underneath': 13956, 'tween': 13835, 'babysit': 970, 'whirlwind': 14695, 'distinct': 3779, 'ultimately': 13891, 'turnout': 13823, 'retirement': 11120, 'struggle': 12783, 'overwhelms': 9439, 'apparently': 625, 'offends': 9179, 'overworked': 9441, 'exclusively': 4614, 'boisterous': 1486, 'magical': 7992, 'frombut': 5330, 'moody': 8565, 'subscriber': 12851, 'informed': 6726, 'marketing': 8119, 'bank': 1045, 'chunky': 2238, 'commission': 2498, 'factory': 4762, 'butchery': 1789, 'affected': 249, 'tornado': 13566, 'hav': 6000, 'babychaser': 967, 'childish': 2177, 'headmaster': 6030, 'served': 11747, 'diversity': 3809, 'ratbagx': 10654, 'vomit': 14443, 'hang': 5918, 'volunteer': 14439, 'introduced': 6909, 'organization': 9304, 'pack': 9465, 'ration': 10659, 'influential': 6718, 'nicer': 8927, 'conventional': 2801, 'ceiling': 2022, 'imdoing': 6523, 'balance': 1017, 'skinny': 12062, 'fiber': 4933, 'catholic': 1995, 'vortex': 14448, 'entertaining': 4412, 'provided': 10404, 'alcohol': 353, 'crash': 2957, 'apartment': 605, 'signed': 11964, 'petition': 9781, 'switch': 13062, 'sufficient': 12893, 'rampant': 10622, 'lawrencewashington': 7536, 'coat': 2388, 'rock': 11260, 'swag': 13019, 'fade': 4765, 'disturb': 3797, 'lover': 7898, 'lip': 7737, 'professional': 10320, 'unpressed': 14096, 'outlet': 9354, 'walked': 14493, 'experiment': 4676, 'equation': 4458, 'describe': 3451, 'deadline': 3242, 'quitting': 10563, 'rugby': 11352, 'mothering': 8610, 'boob': 1512, 'spread': 12503, 'pronounced': 10361, 'accordance': 90, 'faithfulness': 4779, 'julia': 7213, 'witty': 14822, 'published': 10450, 'anyones': 593, 'exception': 4598, 'complaint': 2551, 'forced': 5188, 'creme': 2997, 'counter': 2899, 'redhead': 10797, 'sumthg': 12921, 'thk': 13392, 'irc': 6957, 'mi': 8345, 'enthusiasm': 4416, 'bb': 1119, 'denying': 3413, 'possibility': 10092, 'realised': 10702, 'leather': 7578, 'sandal': 11450, 'hopelessly': 6292, 'tasty': 13176, 'goodness': 5648, 'abound': 33, 'santa': 11463, 'cruz': 3064, 'unseen': 14121, 'ambient': 443, 'swear': 13028, 'laid': 7462, 'university': 14060, 'renowned': 10978, 'sport': 12490, 'unhealthy': 14030, 'anatomy': 493, 'ty': 13856, 'loathe': 7789, 'gamer': 5422, 'molyneux': 8527, 'regarded': 10848, 'highest': 6166, 'urgency': 14198, 'uploading': 14179, 'lem': 7608, 'arena': 683, 'representing': 11012, 'client': 2325, 'cagey': 1823, 'leaving': 7580, 'setting': 11757, 'eyebrow': 4736, 'waxed': 14571, 'behaved': 1186, 'chipping': 2196, 'allergy': 385, 'cycling': 3136, 'quaker': 10523, 'announced': 541, 'excitedly': 4608, 'fortnight': 5232, 'duck': 4017, 'aged': 277, 'understood': 13966, 'contained': 2746, 'similar': 11977, 'contrast': 2787, 'differ': 3592, 'disgust': 3709, 'quantum': 10530, 'leap': 7569, 'struck': 12778, 'named': 8777, 'kleinkinders': 7378, 'medication': 8244, 'pile': 9850, 'bedroom': 1162, 'perpetually': 9734, 'breaking': 1615, 'gawd': 5461, 'footballer': 5182, 'admired': 189, 'extrememly': 4730, 'overly': 9412, 'potentially': 10109, 'impulsive': 6590, 'indulge': 6681, 'emerges': 4276, 'coordinate': 2832, 'cave': 2009, 'tibris': 13445, 'discus': 3697, 'daydreamed': 3226, 'standard': 12577, 'dreamworld': 3958, 'caffeine': 1819, 'withdrawal': 14809, 'fab': 4746, 'direct': 3635, 'instruction': 6821, 'lee': 7585, 'yo': 15007, 'handheld': 5907, 'cam': 1852, 'sickened': 11941, 'lance': 7472, 'laying': 7543, 'disappeared': 3655, 'adjective': 179, 'wierd': 14736, 'collar': 2436, 'bounce': 1553, 'electricity': 4218, 'paw': 9632, 'wasted': 14556, 'sniffle': 12219, 'itchy': 7012, 'sooner': 12338, 'greg': 5748, 'native': 8808, 'abandoned': 10, 'volume': 14437, 'expansion': 4659, 'apologise': 615, 'relieving': 10922, 'asset': 791, 'musicianship': 8726, 'resurrect': 11111, 'lengthy': 7619, 'history': 6198, 'celebrity': 2029, 'graduation': 5695, 'yk': 15005, 'identify': 6462, 'destructive': 3496, 'bathing': 1103, 'october': 9164, 'disease': 3703, 'rachel': 10578, 'leisurely': 7606, 'split': 12470, 'weirdly': 14631, 'angsty': 520, 'headspace': 6032, 'jensen': 7101, 'bon': 1499, 'jovi': 7185, 'prove': 10400, 'refusing': 10843, 'fiance': 4932, 'zone': 15070, 'pushover': 10503, 'willing': 14756, 'deliver': 3374, 'attribute': 871, 'score': 11571, 'pole': 10011, 'stats': 12613, 'review': 11155, 'grand': 5699, 'baking': 1015, 'pouting': 10122, 'pained': 9487, 'annoyance': 545, 'wouldve': 14895, 'separation': 11725, 'explained': 4682, 'described': 3452, 'chat': 2120, 'rustie': 11379, 'dean': 3250, 'hometown': 6256, 'moose': 8570, 'jaw': 7076, 'pregant': 10188, 'pub': 10443, 'stayed': 12618, 'played': 9935, 'stunningly': 12811, 'darling': 3197, 'samuel': 11445, 'tinge': 13486, 'nutrition': 9090, 'track': 13617, 'extremley': 4731, 'eventually': 4543, 'lens': 7621, 'likeaudrey': 7699, 'hepburn': 6124, 'tiffany': 13460, 'flounder': 5112, 'luckily': 7923, 'complain': 2549, 'facebook': 4751, 'offline': 9191, 'thanked': 13326, 'amos': 467, 'retrofitting': 11126, 'cohens': 2412, 'basic': 1088, 'merely': 8309, 'homage': 6240, 'restart': 11088, 'flirtiing': 5089, 'argument': 690, 'ice': 6446, 'perfection': 9710, 'alise': 377, 'jeremy': 7105, 'overtake': 9428, 'financial': 4985, 'induced': 6678, 'nightlife': 8949, 'speed': 12428, 'clock': 2343, 'daylight': 3228, 'provides': 10407, 'stash': 12602, 'snapped': 12200, 'lecture': 7582, 'cancelled': 1871, 'spitting': 12466, 'disrespect': 3754, 'percieve': 9705, 'drank': 3941, 'crunk': 3057, 'injustice': 6758, 'rise': 11229, 'mg': 8344, 'seroquel': 11744, 'syndrome': 13085, 'expression': 4709, 'blogpost': 1423, 'lipbalms': 7738, 'subje': 12835, 'reminder': 10956, 'wrestling': 14912, 'outrageous': 9359, 'inch': 6618, 'separating': 11724, 'vocal': 14425, 'discussed': 3698, 'blending': 1389, 'plodded': 9961, 'recording': 10778, 'programme': 10332, 'placce': 9904, 'outright': 9362, 'colleague': 2437, 'jubilation': 7197, 'twitchy': 13849, 'organisation': 9300, 'demostrators': 3393, 'shapeshifter': 11809, 'activism': 141, 'construes': 2728, 'hubby': 6352, 'us': 14207, 'talent': 13124, 'glory': 5607, 'damaging': 3161, 'indeed': 6654, 'adjust': 181, 'center': 2043, 'bask': 1091, 'ahaha': 304, 'retarded': 11117, 'calmed': 1844, 'determination': 3509, 'acctually': 95, 'wonderfull': 14844, 'israel': 7003, 'casserole': 1970, 'relating': 10897, 'local': 7795, 'hall': 5885, 'pitch': 9894, 'in': 6591, 'picnic': 9835, 'luncheon': 7942, 'wishful': 14801, 'planning': 9919, 'commitment': 2500, 'recognised': 10762, 'confusion': 2659, 'shifty': 11853, 'overshadowed': 9422, 'subconsciously': 12831, 'wired': 14792, 'cleaning': 2301, 'nursing': 9084, 'announce': 540, 'aoa': 599, 'feature': 4863, 'mat': 8167, 'anyhow': 589, 'circuit': 2257, 'spine': 12452, 'serious': 11740, 'healthcare': 6040, 'trample': 13646, 'anothers': 558, 'encapsulate': 4323, 'energised': 4359, 'socialise': 12260, 'smiley': 12173, 'bah': 1007, 'rejecting': 10885, 'firefly': 5007, 'serenity': 11733, 'mixed': 8477, 'upcoming': 14166, 'chinese': 2190, 'china': 2188, 'fester': 4916, 'despised': 3482, 'texture': 13312, 'mystery': 8749, 'overall': 9382, 'check': 2131, 'detached': 3497, 'squeeze': 12534, 'riled': 11214, 'offensive': 9181, 'unsheathe': 14124, 'sword': 13067, 'defense': 3329, 'athletic': 827, 'definetly': 3342, 'yuuki': 15037, 'titanium': 13504, 'hedgehog': 6081, 'detested': 3513, 'trepidatious': 13718, 'idiocy': 6466, 'fastforwarding': 4830, 'column': 2463, 'logging': 7811, 'empowering': 4309, 'weaning': 14583, 'ia': 6440, 'owe': 9443, 'sooooo': 12341, 'columbia': 2461, 'nail': 8766, 'concoction': 2611, 'soaked': 12247, 'bod': 1472, 'browne': 1687, 'tremor': 13712, 'resent': 11042, 'shaming': 11804, 'alternative': 423, 'cashier': 1965, 'deaf': 3245, 'antsy': 584, 'quicker': 10548, 'deeper': 3313, 'necklace': 8836, 'combing': 2471, 'bourbon': 1562, 'weaker': 14578, 'digging': 3602, 'postponing': 10102, 'labor': 7440, 'maury': 8192, 'logan': 7808, 'evaporate': 4536, 'cyberspace': 3132, 'wisdom': 14795, 'ahahahaha': 305, 'morbidly': 8580, 'stpm': 12712, 'sigh': 11957, 'blossom': 1435, 'vine': 14383, 'murakami': 8705, 'nostalgia': 9026, 'canaglia': 1868, 'personalized': 9751, 'lick': 7666, 'lollypop': 7825, 'hausa': 5999, 'motorcyclist': 8624, 'resemblance': 11040, 'north': 9021, 'tendency': 13264, 'laziness': 7546, 'narcissism': 8791, 'justifying': 7240, 'disclosure': 3675, 'collaboration': 2431, 'stole': 12687, 'represents': 11013, 'warner': 14540, 'edit': 4148, 'arriving': 720, 'format': 5222, 'blu': 1443, 'ray': 10670, 'website': 14603, 'frequented': 5301, 'silently': 11972, 'scream': 11589, 'urbanite': 14195, 'myriad': 8743, 'disaster': 3662, 'york': 15014, 'optimist': 9281, 'lap': 7485, 'political': 10020, 'unravels': 14100, 'inevitable': 6693, 'personnel': 9754, 'buzzy': 1803, 'mildly': 8378, 'panicky': 9520, 'unprotected': 14099, 'mil': 8376, 'mouthed': 8639, 'rattled': 10661, 'confirmed': 2646, 'gripped': 5766, 'lung': 7945, 'exhaling': 4632, 'vapor': 14273, 'bridge': 1642, 'continuity': 2775, 'lacy': 7451, 'string': 12761, 'returned': 11130, 'cooky': 2822, 'youthful': 15026, 'employment': 4306, 'lush': 7956, 'unfulfilled': 14022, 'paint': 9492, 'progressive': 10338, 'babysitter': 971, 'cross': 3027, 'eyed': 4737, 'reevaluating': 10810, 'moved': 8643, 'czech': 3142, 'republic': 11022, 'package': 9466, 'underground': 13953, 'toby': 13514, 'tunji': 13811, 'bonding': 1503, 'wardrode': 14525, 'relived': 10927, 'truely': 13765, 'excercising': 4601, 'cafe': 1816, 'chaotic': 2093, 'besides': 1256, 'british': 1660, 'timid': 13481, 'marvelous': 8141, 'irresistible': 6974, 'frock': 5328, 'endure': 4351, 'discomfort': 3678, 'transferred': 13657, 'operating': 9261, 'shallow': 11797, 'bunk': 1749, 'affend': 254, 'nonsense': 9001, 'gladly': 5575, 'miyavi': 8481, 'fair': 4773, 'xia': 14952, 'eagerly': 4079, 'andri': 505, 'abroad': 35, 'leaned': 7565, 'horizon': 6297, 'pilfered': 9853, 'corporate': 2860, 'vote': 14449, 'treating': 13704, 'league': 7561, 'proper': 10366, 'skater': 12041, 'attitude': 865, 'trivial': 13748, 'snacking': 12194, 'stickiness': 12655, 'lingering': 7725, 'blurry': 1456, 'dave': 3216, 'atell': 819, 'solemn': 12293, 'render': 10974, 'thearchitecturality': 13341, 'utopian': 14231, 'garage': 5433, 'strive': 12766, 'soooo': 12340, 'income': 6632, 'hobby': 6214, 'busting': 1786, 'scoffing': 11565, 'kim': 7346, 'kardashion': 7268, 'tutorial': 13828, 'justice': 7236, 'west': 14648, 'adorable': 206, 'garment': 5439, 'survival': 12996, 'onwards': 9247, 'tranny': 13647, 'blake': 1364, 'trepidation': 13717, 'statistic': 12612, 'information': 6724, 'departure': 3418, 'woop': 14860, 'surroundings': 12994, 'bunch': 1744, 'safety': 11418, 'wading': 14469, 'dialog': 3565, 'individual': 6673, 'deflated': 3349, 'fran': 5265, 'dublin': 4014, 'whim': 14680, 'holyhead': 6239, 'pesky': 9769, 'bunny': 1751, 'raiding': 10606, 'nagging': 8763, 'motivating': 8617, 'except': 4597, 'floating': 5096, 'sidewalk': 11949, 'pothole': 10110, 'unearthly': 13987, 'puzzle': 10512, 'manipulkated': 8076, 'charlie': 2107, 'liz': 7778, 'earle': 4084, 'coolum': 2827, 'whilst': 14679, 'calling': 1840, 'outgoing': 9350, 'smooch': 12183, 'candle': 1874, 'drawn': 3948, 'grayish': 5731, 'cd': 2017, 'listened': 7750, 'relation': 10898, 'thereof': 13363, 'ward': 14523, 'investigator': 6932, 'ponder': 10036, 'reflect': 10822, 'police': 10013, 'sheriff': 11841, 'larry': 7496, 'ppl': 10131, 'dragged': 3930, 'rte': 11332, 'emoticon': 4287, 'embaressed': 4256, 'believing': 1205, 'polling': 10026, 'yall': 14964, 'consequently': 2691, 'obligated': 9120, 'deserves': 3462, 'inner': 6765, 'flew': 5072, 'hotel': 6323, 'naught': 8812, 'disco': 3676, 'increase': 6644, 'someday': 12312, 'eternal': 4505, 'repetition': 10995, 'futile': 5396, 'plane': 9914, 'skipped': 12065, 'uruk': 14206, 'hai': 5870, 'tolerated': 13532, 'maine': 8010, 'darned': 3199, 'partying': 9580, 'wasting': 14557, 'unloving': 14076, 'evaluate': 4531, 'solution': 12305, 'drastic': 3943, 'proposal': 10372, 'banana': 1034, 'roast': 11249, 'tea': 13197, 'likewise': 7704, 'attracted': 868, 'tangible': 13145, 'philip': 9796, 'reaura': 10728, 'firming': 5012, 'smoothing': 12187, 'clique': 2340, 'twice': 13842, 'chooses': 2210, 'triple': 13742, 'pompous': 10034, 'notoriety': 9049, 'ism': 6992, 'espouse': 4485, 'relaxation': 10903, 'discovered': 3692, 'borrowed': 1534, 'bumper': 1742, 'destroyed': 3492, 'cheap': 2124, 'asserting': 785, 'bid': 1293, 'neighbour': 8860, 'muze': 8739, 'mujhe': 8679, 'kay': 7291, 'zay': 15046, 'ladybits': 7457, 'frozen': 5339, 'thaw': 13339, 'ensue': 4401, 'instigated': 6814, 'unfolding': 14014, 'aussie': 887, 'followed': 5165, 'dumpling': 4040, 'chinatown': 2189, 'lemonade': 7610, 'leafy': 7560, 'beer': 1168, 'labour': 7441, 'brunswick': 1698, 'attending': 860, 'backyard': 990, 'barbecue': 1052, 'edinburgh': 4147, 'hockey': 6217, 'parmesan': 9561, 'truffle': 13766, 'wing': 14778, 'prawn': 10148, 'lollipop': 7823, 'worldly': 14875, 'mentioned': 8299, 'retail': 11112, 'kingdom': 7358, 'enviously': 4437, 'luka': 7930, 'innovation': 6767, 'adjustment': 183, 'economic': 4135, 'structure': 12780, 'productivity': 10317, 'chakotay': 2070, 'approached': 654, 'rush': 11373, 'ebb': 4121, 'fashion': 4825, 'pretentious': 10239, 'chewing': 2163, 'swallowing': 13022, 'grieve': 5754, 'essential': 4491, 'component': 2571, 'sox': 12381, 'tampa': 13139, 'skilled': 12053, 'presentational': 10217, 'wilder': 14747, 'load': 7785, 'downer': 3910, 'mess': 8319, 'carry': 1950, 'photography': 9813, 'persuade': 9757, 'retired': 11119, 'photographer': 9809, 'winston': 14783, 'churchill': 2240, 'merge': 8310, 'international': 6877, 'youngster': 15022, 'fad': 4764, 'foul': 5241, 'pedestrian': 9662, 'impolite': 6561, 'passenger': 9585, 'formed': 5224, 'theme': 13346, 'wrapped': 14904, 'kissed': 7362, 'expecting': 4666, 'emotionless': 4292, 'target': 13160, 'annoying': 547, 'analogy': 485, 'anxiously': 587, 'bearing': 1139, 'ww': 14940, 'waited': 14480, 'delayed': 3362, 'occurring': 9160, 'psychological': 10429, 'noah': 8973, 'alliance': 388, 'constructively': 2726, 'rant': 10636, 'organising': 9303, 'partially': 9567, 'resist': 11059, 'snicker': 12215, 'reminded': 10955, 'everywhere': 4560, 'nurse': 9081, 'commit': 2499, 'engagement': 4368, 'newbie': 8906, 'scripture': 11602, 'abandonment': 12, 'subside': 12854, 'pinpoint': 9878, 'ass': 776, 'carbohydrate': 1906, 'expand': 4656, 'waistline': 14478, 'heck': 6077, 'targeted': 13161, 'hi': 6152, 'tech': 13216, 'splendor': 12469, 'hansen': 5924, 'cha': 2061, 'ching': 2192, 'silver': 11976, 'glitter': 5598, 'forth': 5230, 'violently': 14394, 'musically': 8724, 'lessen': 7631, 'mooching': 8563, 'attachment': 848, 'maintain': 8013, 'xanax': 14944, 'mixing': 8479, 'teddy': 13225, 'dreaming': 3956, 'caption': 1895, 'blocked': 1413, 'mulling': 8685, 'tossing': 13577, 'nudge': 9067, 'vibrate': 14350, 'morph': 8594, 'solid': 12297, 'turbillion': 13813, 'hong': 6271, 'kong': 7408, 'oft': 9194, 'planting': 9924, 'weeding': 14609, 'harvesting': 5975, 'occupied': 9153, 'marlin': 8122, 'equal': 4455, 'production': 10315, 'wimbledon': 14763, 'blanket': 1371, 'protective': 10388, 'worshiping': 14884, 'realising': 10703, 'defeating': 3322, 'readership': 10690, 'perception': 9703, 'misscariage': 8454, 'conscience': 2681, 'suspense': 13007, 'springer': 12507, 'reference': 10815, 'programming': 10334, 'letdown': 7637, 'seeped': 11659, 'legend': 7597, 'inquire': 6771, 'incheswhyinches': 6619, 'relocating': 10929, 'metal': 8327, 'wherever': 14675, 'exboyfriend': 4590, 'shout': 11908, 'midnight': 8360, 'loop': 7850, 'knight': 7386, 'texted': 13309, 'nervousness': 8881, 'feeble': 4877, 'sickly': 11943, 'coconut': 2397, 'tropical': 13754, 'finishing': 4997, 'knitting': 7389, 'temporary': 13256, 'outing': 9352, 'gut': 5844, 'rewarded': 11170, 'embarrased': 4259, 'wimpy': 14765, 'credit': 2989, 'capital': 1891, 'intensive': 6848, 'zackmdavis': 15040, 'pulse': 10463, 'chase': 2114, 'dragon': 3932, 'translate': 13667, 'sorrow': 12357, 'mercy': 8306, 'unfold': 14013, 'standby': 12578, 'comprehend': 2577, 'lestat': 7635, 'senior': 11696, 'trace': 13615, 'disgrace': 3706, 'embracing': 4271, 'snack': 12193, 'wearily': 14588, 'unusual': 14149, 'derp': 3448, 'lrt': 7916, 'packed': 9469, 'rode': 11272, 'misfortune': 8438, 'befall': 1170, 'warns': 14542, 'tribulation': 13724, 'linked': 7731, 'happywarmworld': 5939, 'heartsick': 6063, 'studio': 12798, 'bizarre': 1349, 'magazine': 7988, 'presenting': 10219, 'practical': 10134, 'adverse': 228, 'nicely': 8926, 'pursuit': 10499, 'bagel': 1004, 'jalapeno': 7050, 'internally': 6876, 'shortness': 11899, 'cherished': 2156, 'burnt': 1773, 'giver': 5571, 'reluctantly': 10933, 'epidural': 4449, 'predicted': 10175, 'gallows': 5417, 'crisis': 3011, 'sing': 12004, 'pirate': 9886, 'landlubber': 7477, 'zipline': 15064, 'grove': 5787, 'clearer': 2308, 'integrity': 6836, 'intact': 6831, 'popped': 10050, 'shoelace': 11878, 'rot': 11307, 'opposed': 9273, 'xd': 14947, 'commodore': 2506, 'officer': 9187, 'nicholsons': 8930, 'psychologist': 10431, 'poo': 10039, 'doubting': 3901, 'km': 7380, 'deteriorated': 3508, 'sabrina': 11396, 'notting': 9050, 'vile': 14378, 'digesting': 3600, 'ish': 6987, 'unnaturally': 14083, 'tightly': 13467, 'brutality': 1700, 'awareness': 935, 'readjust': 10693, 'centre': 2046, 'shaking': 11794, 'cyst': 3141, 'connect': 2669, 'holding': 6225, 'carl': 1936, 'clarke': 2283, 'potato': 10105, 'handed': 5904, 'reacted': 10682, 'supporter': 12959, 'betraying': 1266, 'contagious': 2744, 'entertain': 4409, 'mulatto': 8681, 'albino': 349, 'mosquito': 8604, 'libido': 7662, 'hello': 6105, 'packing': 9471, 'bye': 1804, 'displacement': 3742, 'flirtiness': 5090, 'peeta': 9673, 'heroine': 6138, 'katnisss': 7286, 'centered': 2044, 'embarrassment': 4263, 'shame': 11799, 'hasnt': 5979, 'mite': 8475, 'primary': 10266, 'drecky': 3961, 'vj': 14421, 'banter': 1048, 'seth': 11756, 'apologizes': 617, 'provocative': 10412, 'east': 4108, 'dig': 3599, 'subdued': 12834, 'tone': 13544, 'bond': 1501, 'heinously': 6097, 'psychotic': 10435, 'crazily': 2969, 'religion': 10923, 'reilly': 10876, 'crawl': 2964, 'suitably': 12907, 'panel': 9515, 'deemed': 3308, 'notify': 9046, 'infidelity': 6708, 'sweety': 13046, 'savingyourmarriagebeforeitstarts': 11499, 'plagued': 9910, 'uncanny': 13918, 'delight': 3370, 'yell': 14988, 'staff': 12558, 'laetshi': 7458, 'appreciates': 647, 'prevalent': 10247, 'unreality': 14105, 'repair': 10981, 'fifty': 4951, 'unbearable': 13912, 'tgt': 13315, 'context': 2766, 'unimaginable': 14036, 'saba': 11393, 'waleeds': 14490, 'appointment': 644, 'bummed': 1739, 'vbac': 14289, 'snatched': 12208, 'birth': 1327, 'temptation': 13257, 'multiplayer': 8688, 'flash': 5049, 'agenda': 280, 'desirable': 3467, 'pace': 9459, 'officially': 9189, 'caresse': 1928, 'elitist': 4237, 'deepika': 3315, 'silhouette': 11973, 'friggin': 5319, 'dissipate': 3770, 'resolution': 11064, 'following': 5167, 'drug': 3996, 'separate': 11721, 'cede': 2021, 'prevent': 10248, 'doomnation': 3877, 'damnation': 3164, 'changing': 2087, 'sew': 11770, 'competing': 2543, 'fedex': 4873, 'affect': 248, 'flaw': 5062, 'empowerment': 4310, 'justification': 7237, 'leading': 7557, 'brainless': 1591, 'dorm': 3888, 'liberty': 7661, 'adopt': 202, 'mythical': 8754, 'representative': 11010, 'ie': 6477, 'waning': 14515, 'portrayal': 10072, 'unconformable': 13936, 'unliked': 14070, 'ab': 8, 'wiser': 14798, 'response': 11084, 'grasp': 5718, 'rustle': 11380, 'intent': 6849, 'leo': 7625, 'clara': 2278, 'krupke': 7420, 'insist': 6796, 'charity': 2106, 'donated': 3861, 'easel': 4103, 'hmmmmm': 6206, 'dazzling': 3235, 'cert': 2051, 'toronto': 13568, 'outdoor': 9345, 'exhibition': 4637, 'intellectually': 6839, 'recognition': 10764, 'persona': 9748, 'whod': 14709, 'insecured': 6784, 'malaysia': 8033, 'menswear': 8293, 'medical': 8241, 'entry': 4431, 'david': 3218, 'shortlisted': 11897, 'dingler': 3622, 'heading': 6026, 'abyss': 56, 'refer': 10812, 'joining': 7153, 'fortunate': 5233, 'examine': 4586, 'exempted': 4624, 'wally': 14502, 'lamb': 7468, 'chick': 2169, 'synthetic': 13088, 'pearl': 9656, 'jewelry': 7120, 'trinket': 13740, 'heartache': 6051, 'boo': 1511, 'friggety': 5318, 'hoo': 6277, 'moisturiser': 8515, 'lasting': 7501, 'cleansing': 2304, 'moisturising': 8516, 'discovery': 3694, 'dork': 3886, 'censorship': 2041, 'doom': 3875, 'nodded': 8979, 'procure': 10309, 'provoking': 10414, 'registration': 10861, 'uneventful': 13999, 'adherence': 178, 'appear': 628, 'accomplishment': 88, 'august': 884, 'medal': 8238, 'despairing': 3477, 'tie': 13457, 'unfit': 14011, 'rotund': 11311, 'buffed': 1721, 'fierce': 4944, 'bloke': 1426, 'bullying': 1736, 'defensive': 3331, 'defending': 3328, 'quaking': 10524, 'shore': 11889, 'pia': 9826, 'limb': 7709, 'facing': 4758, 'lying': 7962, 'sexaholic': 11774, 'offering': 9184, 'discount': 3686, 'tote': 13583, 'wondered': 14842, 'contrary': 2786, 'ludicrous': 7926, 'concerning': 2603, 'dining': 3623, 'population': 10054, 'hitting': 6201, 'fuel': 5357, 'yoshidas': 15016, 'grows': 5792, 'mishandled': 8440, 'alongside': 408, 'initial': 6750, 'avoiding': 923, 'insight': 6791, 'pun': 10469, 'varvel': 14282, 'inspires': 6805, 'imagined': 6518, 'attraction': 869, 'camp': 1859, 'accommodation': 81, 'entertainment': 4413, 'hypersexual': 6428, 'tartlet': 13165, 'rihanna': 11211, 'admiration': 187, 'saudi': 11491, 'perfume': 9717, 'scented': 11537, 'terminal': 13280, 'dulles': 4028, 'confrontation': 2653, 'july': 7219, 'crushed': 3059, 'rolex': 11276, 'publish': 10449, 'draft': 3925, 'giant': 5543, 'vigilant': 14375, 'whoosh': 14722, 'dipshit': 3632, 'laptop': 7490, 'nacho': 8757, 'hostel': 6319, 'revealed': 11139, 'benefited': 1235, 'shiver': 11869, 'tummy': 13807, 'em': 4250, 'ubuntu': 13871, 'user': 14217, 'linux': 7735, 'platform': 9929, 'execution': 4621, 'fathom': 4837, 'craving': 2963, 'ewan': 4576, 'medicine': 8245, 'desiring': 3470, 'bravely': 1605, 'barry': 1078, 'almond': 402, 'redcoat': 10792, 'camera': 1856, 'decent': 3272, 'youngest': 15021, 'visable': 14404, 'spotlighted': 12497, 'unfashionable': 14007, 'calgary': 1833, 'pb': 9642, 'simplest': 11983, 'lj': 7781, 'suspicion': 13009, 'germ': 5518, 'conditioned': 2621, 'calming': 1846, 'dunno': 4045, 'overtly': 9432, 'disagreement': 3651, 'rightly': 11206, 'flee': 5066, 'baltic': 1029, 'universality': 14056, 'unconditional': 13934, 'voluntary': 14438, 'mankind': 8079, 'host': 6316, 'plight': 9960, 'turkish': 13817, 'vet': 14343, 'cadore': 1814, 'impact': 6541, 'bloodshed': 1430, 'clarity': 2282, 'reign': 10875, 'nyquil': 9102, 'consolidate': 2711, 'vicarious': 14354, 'sarcasm': 11467, 'desperately': 3479, 'vendor': 14308, 'distribution': 3792, 'offered': 9183, 'overweight': 9435, 'gfathers': 5534, 'ute': 14225, 'prefer': 10181, 'manure': 8089, 'compost': 2574, 'simultaneously': 11992, 'inferior': 6704, 'elated': 4209, 'chatting': 2123, 'addition': 166, 'hihi': 6170, 'undesired': 13977, 'typically': 13865, 'persist': 9743, 'wintry': 14787, 'dignified': 3604, 'tasteful': 13173, 'inaction': 6594, 'default': 3319, 'reconcile': 10773, 'unease': 13988, 'martin': 8135, 'wwii': 14941, 'france': 5266, 'bleeding': 1384, 'dang': 3177, 'motherhood': 8609, 'blush': 1459, 'resting': 11092, 'kai': 7250, 'passport': 9595, 'washroom': 14553, 'fps': 5251, 'cough': 2883, 'combat': 2467, 'trainer': 13639, 'ba': 960, 'backpacking': 985, 'raised': 10616, 'rebekah': 10730, 'satisfactory': 11484, 'klaus': 7376, 'stefan': 12630, 'damon': 3166, 'regardless': 10850, 'horrid': 6306, 'rough': 11313, 'ample': 474, 'confess': 2633, 'dentist': 3411, 'status': 12615, 'arch': 674, 'footbed': 5183, 'goliath': 5640, 'undone': 13981, 'humblest': 6374, 'stealing': 12624, 'collected': 2439, 'tribute': 13725, 'generosity': 5492, 'scabi': 11509, 'verona': 14332, 'cope': 2835, 'capacity': 1889, 'resistant': 11061, 'stretching': 12752, 'mirror': 8432, 'untrustworthy': 14147, 'disagreeable': 3650, 'islam': 6990, 'alternating': 422, 'felling': 4895, 'opened': 9255, 'stronger': 12773, 'tougher': 13592, 'emphasize': 4301, 'ethical': 4510, 'pillow': 9858, 'subtly': 12863, 'indication': 6663, 'breakthrough': 1616, 'imminent': 6538, 'hed': 6079, 'knuckle': 7402, 'spreading': 12504, 'uneven': 13998, 'oscillating': 9328, 'screenwriter': 11597, 'roberto': 11256, 'orcis': 9288, 'adoration': 207, 'dubya': 4016, 'pampered': 9511, 'bush': 1782, 'carried': 1946, 'orci': 9287, 'criticism': 3016, 'stink': 12673, 'yoked': 15011, 'stupidly': 12817, 'eagle': 4080, 'dangerously': 3180, 'internship': 6881, 'moe': 8508, 'being': 1196, 'jane': 7061, 'eyre': 4744, 'bigged': 1297, 'hollow': 6233, 'smith': 12177, 'abou': 32, 'grabbed': 5680, 'disability': 3646, 'unsettling': 14123, 'explored': 4695, 'remained': 10938, 'pretended': 10237, 'treassured': 13698, 'psyche': 10424, 'neither': 8863, 'dickish': 3582, 'enacting': 4321, 'succumb': 12874, 'doc': 3828, 'arrogance': 721, 'clarify': 2280, 'feelbut': 4885, 'hardest': 5951, 'mindful': 8401, 'minister': 8418, 'beforehand': 1173, 'bladder': 1359, 'threatening': 13409, 'overdoing': 9393, 'hmmm': 6205, 'fri': 5310, 'shannon': 11807, 'trainable': 13637, 'cumberland': 3088, 'pap': 9525, 'smear': 12165, 'hacking': 5858, 'coughing': 2884, 'spluttering': 12472, 'mircowaved': 8429, 'cage': 1821, 'testing': 13301, 'colorful': 2455, 'rated': 10656, 'constitution': 2719, 'adopting': 204, 'moffat': 8509, 'obvious': 9143, 'foreshadowing': 5205, 'narrative': 8793, 'casting': 1975, 'reread': 11033, 'documented': 3835, 'empathy': 4298, 'mm': 8485, 'composition': 2573, 'grinned': 5764, 'dharma': 3551, 'hears': 6049, 'endless': 4345, 'bouncing': 1556, 'backpacker': 984, 'overland': 9409, 'admitting': 198, 'gloating': 5600, 'fairy': 4776, 'delivered': 3375, 'admires': 190, 'gifted': 5547, 'escorting': 4480, 'ranbir': 10625, 'ayan': 956, 'mukerji': 8680, 'filmfare': 4971, 'interpretation': 6883, 'misunderstood': 8472, 'impatience': 6544, 'reexplain': 10811, 'birthmoms': 1330, 'implement': 6556, 'exploration': 4693, 'wild': 14746, 'refined': 10821, 'acuity': 149, 'feasted': 4860, 'knee': 7381, 'memorized': 8281, 'rocking': 11267, 'grader': 5690, 'wreck': 14907, 'recollection': 10768, 'choke': 2207, 'ordinary': 9295, 'gate': 5450, 'suppressed': 12969, 'exhilarated': 4639, 'base': 1080, 'wander': 14509, 'afield': 264, 'btw': 1705, 'playlist': 9941, 'happenstance': 5931, 'lambrusco': 7469, 'bubbly': 1709, 'zumba': 15079, 'understands': 13965, 'bearable': 1137, 'preface': 10180, 'disclaimer': 3674, 'peta': 9777, 'hyper': 6425, 'cousin': 2919, 'commercialism': 2496, 'exposure': 4705, 'decidedly': 3278, 'humbug': 6377, 'holistic': 6229, 'enthusiastic': 4418, 'brush': 1699, 'returning': 11131, 'spain': 12388, 'sob': 12251, 'expert': 4679, 'liquid': 7742, 'sephora': 11726, 'mineral': 8405, 'powder': 10124, 'magnitude': 7999, 'liebster': 7670, 'equivalent': 4461, 'crack': 2938, 'cushion': 3114, 'derek': 3445, 'singapore': 12005, 'sara': 11464, 'div': 3803, 'clearboth': 2306, 'padding': 9474, 'restaurant': 11089, 'mandarin': 8057, 'grill': 5757, 'stellar': 12633, 'reputation': 11027, 'extended': 4714, 'edible': 4145, 'decorative': 3296, 'garnish': 5441, 'samphire': 11442, 'perplexed': 9737, 'liam': 7654, 'johnny': 7147, 'everybody': 4551, 'stoned': 12692, 'veil': 14301, 'lifted': 7679, 'scrapbook': 11583, 'holly': 6235, 'ingrained': 6737, 'enables': 4318, 'crumbling': 3052, 'motivate': 8615, 'likeguy': 7701, 'aint': 319, 'sink': 12013, 'sin': 11993, 'channel': 2088, 'genealogical': 5478, 'strain': 12719, 'rupee': 11370, 'resort': 11072, 'europe': 4525, 'england': 4373, 'noticing': 9045, 'incoming': 6633, 'stoop': 12696, 'refresh': 10834, 'huhuhu': 6363, 'battling': 1115, 'whizz': 14707, 'adoring': 211, 'assumed': 804, 'legacy': 7592, 'overeating': 9399, 'fullness': 5369, 'hangover': 5921, 'sugary': 12898, 'finality': 4981, 'repercussion': 10992, 'orleans': 9321, 'massively': 8160, 'consumes': 2738, 'processing': 10302, 'pc': 9644, 'gt': 5802, 'realistic': 10705, 'whiney': 14686, 'strand': 12722, 'tickle': 13450, 'irregardless': 6969, 'remix': 10960, 'padlock': 9475, 'empowered': 4308, 'suicide': 12905, 'severe': 11767, 'disregarded': 3752, 'absolutly': 41, 'flourishing': 5116, 'admits': 194, 'century': 2047, 'hone': 6265, 'wielded': 14735, 'razor': 10674, 'hindsight': 6187, 'withstand': 14815, 'neutral': 8898, 'choir': 2206, 'bogged': 1482, 'burner': 1770, 'ethnicity': 4513, 'racist': 10583, 'smoking': 12182, 'haul': 5994, 'lava': 7529, 'planet': 9915, 'export': 4701, 'port': 10063, 'moxie': 8649, 'cath': 1990, 'script': 11601, 'relief': 10919, 'melting': 8273, 'applebees': 639, 'ceo': 2048, 'behaves': 1187, 'chain': 2065, 'starved': 12600, 'consumer': 2736, 'cleaned': 2299, 'blender': 1388, 'uninspiring': 14041, 'sodden': 12273, 'shattered': 11823, 'sardonic': 11471, 'squat': 12529, 'muscle': 8715, 'locked': 7801, 'ivy': 7027, 'zimmerman': 15062, 'prick': 10257, 'paused': 9628, 'dramatically': 3939, 'alton': 427, 'tower': 13610, 'beak': 1132, 'nearest': 8826, 'floor': 5103, 'secondary': 11633, 'rooster': 11297, 'underwhelmed': 13973, 'swelling': 13048, 'playful': 9937, 'ritalin': 11236, 'flias': 5076, 'exposed': 4703, 'recover': 10781, 'amvassago': 481, 'beefy': 1167, 'amkris': 460, 'toshibalol': 13574, 'amits': 459, 'epic': 4448, 'beef': 1166, 'cake': 1826, 'nooo': 9008, 'doubly': 3897, 'momma': 8533, 'novice': 9056, 'warehouse': 14526, 'distributor': 3793, 'floral': 5106, 'stationary': 12611, 'accessory': 75, 'billy': 1308, 'waxing': 14572, 'ambulatory': 448, 'marginalized': 8103, 'wacky': 14467, 'percentage': 9702, 'anne': 536, 'coulter': 2888, 'ed': 4141, 'schultz': 11555, 'viewer': 14372, 'outrage': 9357, 'tirade': 13497, 'tryed': 13780, 'longed': 7834, 'pcm': 9645, 'whipped': 14692, 'station': 12610, 'fled': 5065, 'underbelly': 13948, 'central': 2045, 'subway': 12866, 'map': 8092, 'frazzle': 5278, 'meltdown': 8272, 'thrown': 13428, 'euro': 4523, 'hooker': 6282, 'concise': 2607, 'guitar': 5827, 'accurately': 100, 'singular': 12011, 'starring': 12591, 'nesty': 8887, 'teeny': 13233, 'weeny': 14614, 'clothing': 2360, 'volunteered': 14440, 'downtempo': 3915, 'melancholic': 8261, 'dm': 3825, 'jeff': 7092, 'hurtful': 6411, 'realization': 10707, 'coherent': 2413, 'granted': 5711, 'cornbread': 2853, 'honey': 6270, 'dripping': 3978, 'innate': 6764, 'lavender': 7531, 'orange': 9285, 'substitute': 12861, 'moaning': 8488, 'cluttered': 2379, 'strasbourg': 12731, 'wore': 14863, 'sketch': 12048, 'seat': 11626, 'suppress': 12968, 'tiring': 13501, 'spark': 12393, 'curiosity': 3098, 'prestige': 10231, 'atm': 837, 'viewed': 14371, 'deciding': 3280, 'cream': 2972, 'yearn': 14982, 'deceased': 3267, 'ridding': 11192, 'rekindle': 10891, 'phase': 9790, 'circumstance': 2258, 'ticket': 13448, 'marten': 8133, 'sol': 12285, 'barbies': 1055, 'arugh': 742, 'adomen': 201, 'rice': 11185, 'anticipated': 570, 'spontaneously': 12483, 'erratic': 4471, 'swoon': 13066, 'obese': 9113, 'contest': 2764, 'sustainability': 13012, 'ini': 6748, 'smacked': 12155, 'bodega': 1473, 'oddly': 9166, 'coin': 2417, 'changer': 2086, 'hatred': 5992, 'juice': 7211, 'veggie': 14297, 'cozy': 2934, 'cocoa': 2396, 'flannel': 5045, 'nightie': 8948, 'evidenced': 4565, 'muse': 8716, 'quoted': 10572, 'protest': 10392, 'protesting': 10393, 'direspected': 3642, 'alittle': 378, 'originally': 9316, 'united': 14053, 'counted': 2898, 'quo': 10568, 'traumatised': 13683, 'stranded': 12723, 'fraser': 5274, 'submerged': 12843, 'wd': 14576, 'hire': 6193, 'vehicle': 14300, 'iolani': 6948, 'leveled': 7646, 'accumulation': 98, 'elusive': 4247, 'newest': 8910, 'sponsor': 12480, 'rippling': 11228, 'floated': 5095, 'bonus': 1510, 'australia': 893, 'aloft': 404, 'reflection': 10825, 'sunny': 12928, 'climate': 2327, 'mate': 8171, 'bonded': 1502, 'touchy': 13589, 'feely': 4891, 'regarding': 10849, 'mormon': 8589, 'depressant': 3432, 'startling': 12597, 'onscreen': 9243, 'boxing': 1574, 'jt': 7194, 'developing': 3529, 'fever': 4923, 'roy': 11326, 'philosophy': 9800, 'salutary': 11436, 'ged': 5468, 'infuriated': 6731, 'adequately': 175, 'kassim': 7276, 'selamat': 11668, 'swallow': 13020, 'uniform': 14034, 'glove': 5611, 'atleast': 834, 'clover': 2363, 'clay': 2297, 'mastery': 8165, 'freezing': 5294, 'stream': 12739, 'enjoying': 4384, 'uncommon': 13931, 'sharknado': 11816, 'trade': 13623, 'joking': 7158, 'westerner': 14651, 'ached': 109, 'liver': 7773, 'promised': 10353, 'cupcake': 3093, 'bt': 1704, 'thn': 13393, 'apply': 642, 'discussing': 3699, 'inform': 6721, 'glamour': 5578, 'danced': 3172, 'cx': 3129, 'adam': 153, 'assistance': 796, 'cook': 2819, 'thorough': 13397, 'preschool': 10211, 'spotless': 12494, 'viewing': 14373, 'aesthetic': 242, 'bull': 1730, 'skinnyg': 12063, 'provider': 10406, 'sacred': 11401, 'venerate': 14310, 'bride': 1639, 'reeeeeeeeally': 10805, 'yelling': 14990, 'marry': 8128, 'clog': 2347, 'pore': 10059, 'prompted': 10358, 'validity': 14259, 'nation': 8804, 'someway': 12323, 'manila': 8073, 'nearing': 8827, 'priority': 10279, 'gold': 5636, 'nest': 8884, 'grass': 5720, 'divided': 3811, 'commercial': 2495, 'housing': 6336, 'rejection': 10886, 'nonchalant': 8994, 'easi': 4104, 'diabetic': 3555, 'fortune': 5235, 'mince': 8398, 'wheat': 14666, 'pasta': 9597, 'spelt': 12433, 'fruit': 5341, 'sorbet': 12355, 'scary': 11529, 'uttering': 14234, 'relevant': 10916, 'gross': 5776, 'wind': 14769, 'scattered': 11530, 'strawberry': 12734, 'agiatated': 287, 'amy': 482, 'balanced': 1018, 'significantly': 11966, 'dollar': 3848, 'picking': 9831, 'mane': 8059, 'lp': 7915, 'diary': 3574, 'trap': 13677, 'dezinesamaze': 3548, 'cavalier': 2007, 'trimmed': 13737, 'spoil': 12474, 'unfairness': 14005, 'dear': 3251, 'ambulance': 447, 'hospital': 6313, 'halfway': 5884, 'dam': 3158, 'stance': 12575, 'chiharu': 2173, 'blind': 1396, 'istanbul': 7008, 'homesickish': 6255, 'burger': 1762, 'king': 7357, 'snowpea': 12239, 'nissan': 8969, 'stanza': 12583, 'rt': 11331, 'extreme': 4728, 'disrupt': 3757, 'downvoted': 3918, 'pagetitle': 9480, 'rugmi': 11353, 'overcome': 9385, 'claustrophobic': 2295, 'readmit': 10694, 'collin': 2447, 'finnerty': 5001, 'jan': 7060, 'refreshed': 10835, 'golden': 5637, 'adoption': 205, 'creativity': 2984, 'buuuuuut': 1797, 'rach': 10577, 'subcontinent': 12832, 'lightening': 7685, 'umbrella': 13896, 'christine': 2224, 'peruse': 9763, 'skull': 12070, 'kicking': 7329, 'dreaded': 3950, 'panicked': 9519, 'rinsing': 11222, 'putrid': 10509, 'flavor': 5060, 'lend': 7613, 'promotion': 10355, 'weismans': 14633, 'disney': 3731, 'wallowing': 14500, 'arrive': 717, 'bruise': 1693, 'participant': 9568, 'speech': 12426, 'competition': 2544, 'pinnacle': 9874, 'materialistic': 8175, 'distracting': 3787, 'thoughtless': 13403, 'assuming': 805, 'earned': 4090, 'effectively': 4171, 'killing': 7342, 'starve': 12599, 'careeeeee': 1918, 'savage': 11495, 'thoughtful': 13402, 'sec': 11631, 'arrival': 716, 'silky': 11974, 'elaborate': 4205, 'nitche': 8971, 'sweating': 13032, 'nut': 9088, 'bolt': 1490, 'tangled': 13148, 'highschool': 6169, 'stable': 12554, 'couldve': 2887, 'muaz': 8665, 'abruptly': 36, 'softball': 12278, 'noticed': 9043, 'pelvic': 9678, 'chatter': 2122, 'lighten': 7683, 'compere': 2540, 'rolling': 11283, 'thwarted': 13439, 'immobile': 6539, 'fuss': 5395, 'bestfriend': 1258, 'bff': 1279, 'coeur': 2403, 'alene': 357, 'restricted': 11103, 'therapeutic': 13355, 'spoiler': 12476, 'badass': 994, 'considerate': 2698, 'welcoming': 14636, 'compress': 2579, 'neatly': 8831, 'stuffed': 12802, 'animal': 524, 'extraordinarily': 4725, 'lured': 7949, 'champagne': 2078, 'bestselling': 1260, 'kathy': 7282, 'lette': 7640, 'phobia': 9802, 'empathtic': 4297, 'mexican': 8342, 'cray': 2967, 'prequel': 10209, 'jedi': 7089, 'queen': 10534, 'tbh': 13191, 'bobo': 1471, 'echo': 4128, 'slacked': 12075, 'sympathize': 13079, 'length': 7618, 'january': 7066, 'wicked': 14727, 'acknowledge': 120, 'pushing': 10502, 'pulling': 10459, 'drum': 3999, 'smash': 12163, 'deployment': 3428, 'addicted': 160, 'concentrate': 2594, 'dry': 4003, 'homis': 6259, 'kite': 7367, 'shelter': 11837, 'jon': 7163, 'jacque': 7038, 'forgiven': 5213, 'meath': 8233, 'pinging': 9870, 'rudolph': 11347, 'valentino': 14254, 'performing': 9716, 'unspeakable': 14128, 'engineering': 4372, 'missile': 8457, 'dropping': 3988, 'spy': 12522, 'chromosome': 2228, 'conquerer': 2678, 'yearned': 14983, 'homey': 6258, 'river': 11242, 'toughest': 13593, 'wipe': 14789, 'engineer': 4371, 'dsp': 4007, 'crunching': 3055, 'software': 12282, 'pushed': 10501, 'apple': 638, 'ou': 9334, 'strongest': 12774, 'squad': 12524, 'costly': 2878, 'tidbit': 13453, 'cynicism': 3138, 'clubbed': 2367, 'immediate': 6529, 'earning': 4093, 'irrational': 6967, 'creep': 2992, 'overreacting': 9419, 'amplified': 475, 'merry': 8315, 'falter': 4789, 'criminal': 3008, 'abusive': 55, 'criticized': 3017, 'unza': 14163, 'sarah': 11465, 'excitment': 4611, 'xdd': 14948, 'hohoho': 6221, 'foward': 5250, 'tmr': 13511, 'cya': 3130, 'bsc': 1703, 'ally': 401, 'marvellous': 8140, 'prank': 10147, 'skillzz': 12055, 'hiccup': 6155, 'onset': 9244, 'panic': 9518, 'heathen': 6068, 'arousing': 709, 'drastically': 3944, 'swirling': 13060, 'paralysed': 9538, 'shuts': 11933, 'snoring': 12232, 'dreamland': 3957, 'misery': 8437, 'demanding': 3382, 'tossed': 13576, 'rag': 10600, 'handbag': 5901, 'sachaying': 11397, 'pickle': 9832, 'fridge': 5313, 'passage': 9583, 'strike': 12759, 'fetched': 4921, 'kenny': 7305, 'rely': 10934, 'giggly': 5553, 'sombre': 12310, 'stevens': 12647, 'dump': 4036, 'melt': 8271, 'charitable': 2105, 'donation': 3862, 'sodding': 12274, 'nuclear': 9065, 'canteen': 1882, 'undercurrent': 13949, 'subtle': 12862, 'inviting': 6941, 'involving': 6946, 'ministry': 8419, 'individuality': 6674, 'sold': 12289, 'transgender': 13663, 'brainwashing': 1593, 'deceive': 3268, 'physician': 9823, 'germany': 5520, 'intersex': 6887, 'maggie': 7989, 'titled': 13507, 'vol': 14435, 'humungous': 6394, 'federer': 4872, 'awesomness': 943, 'doused': 3906, 'freind': 5295, 'asasoulawakens': 750, 'feeli': 4886, 'ne': 8822, 'designing': 3466, 'famous': 4798, 'cathartic': 1991, 'mychem': 8741, 'cred': 2987, 'apology': 619, 'backdrop': 977, 'phenomenon': 9792, 'untouched': 14145, 'checklist': 2134, 'thailand': 13320, 'catalyst': 1982, 'doucher': 3903, 'ptsd': 10442, 'showing': 11920, 'musical': 8723, 'burmeister': 1767, 'flirty': 5091, 'coloured': 2458, 'bold': 1487, 'lurking': 7954, 'ivory': 7025, 'themed': 13347, 'furniture': 5392, 'spacious': 12385, 'consultant': 2730, 'awaiting': 929, 'reception': 10746, 'suppous': 12966, 'hobble': 6212, 'rack': 10584, 'barefoot': 1060, 'seed': 11646, 'soil': 12283, 'posse': 10087, 'delusion': 3378, 'denial': 3398, 'counsellor': 2895, 'chained': 2066, 'serf': 11734, 'continually': 2769, 'plummeting': 9971, 'tot': 13578, 'improving': 6586, 'paratrooper': 9546, 'conduct': 2627, 'mission': 8459, 'addiction': 161, 'specialness': 12414, 'suggest': 12899, 'occassionally': 9149, 'earring': 4096, 'plug': 9965, 'morbid': 8579, 'mu': 8662, 'tou': 13585, 'begged': 1178, 'suppport': 12967, 'travelled': 13688, 'usa': 14208, 'diane': 3569, 'von': 14447, 'furstenberg': 5393, 'rodarte': 11271, 'jason': 7073, 'wu': 14936, 'unlike': 14068, 'sophomore': 12352, 'whack': 14657, 'messed': 8322, 'psychologically': 10430, 'plunging': 9973, 'insensitive': 6786, 'latter': 7513, 'drainage': 3934, 'intolerably': 6901, 'polar': 10010, 'sour': 12377, 'indigo': 6669, 'narrator': 8794, 'drawing': 3947, 'attacked': 850, 'dispersed': 3739, 'fragmented': 5257, 'eternity': 4507, 'rediculous': 10798, 'justified': 7238, 'idk': 6470, 'negatively': 8850, 'crake': 2947, 'woodland': 14853, 'farm': 4817, 'presentation': 10216, 'endeavor': 4340, 'occasional': 9146, 'musing': 8728, 'monroe': 8555, 'launch': 7521, 'incorporated': 6642, 'remodeled': 10961, 'amenity': 451, 'lookout': 7846, 'pr': 10132, 'doer': 3841, 'toll': 13534, 'supply': 12956, 'producing': 10313, 'leopard': 7627, 'hallucinate': 5888, 'needlessly': 8844, 'select': 11670, 'variant': 14275, 'supposedly': 12965, 'supplement': 12951, 'liteheaded': 7759, 'illicits': 6501, 'laser': 7497, 'perserverence': 9740, 'fishing': 5020, 'squirt': 12542, 'resulting': 11108, 'bloat': 1408, 'rundown': 11363, 'duno': 4046, 'sloppy': 12127, 'wondrous': 14848, 'creator': 2985, 'spill': 12447, 'maschke': 8148, 'unsavory': 14118, 'cruel': 3046, 'dire': 3634, 'triggering': 13733, 'barrier': 1077, 'vomiting': 14445, 'pragmatic': 10141, 'bump': 1741, 'generated': 5487, 'usmleasy': 14220, 'pavilion': 9630, 'immigration': 6537, 'province': 10409, 'national': 8805, 'prudent': 10418, 'interrupt': 6885, 'reared': 10717, 'evangelical': 4534, 'isolation': 7000, 'absorbed': 42, 'quest': 10540, 'revelation': 11144, 'lined': 7723, 'ancient': 496, 'tome': 13537, 'strewn': 12753, 'bake': 1012, 'noodle': 9004, 'overcoming': 9388, 'shackle': 11785, 'norm': 9013, 'pearly': 9657, 'snap': 12197, 'comfy': 2487, 'justanswer': 7235, 'viewpoint': 14374, 'goddess': 5631, 'rising': 11231, 'investing': 6933, 'minimum': 8415, 'courtesy': 2916, 'lean': 7564, 'chaos': 2092, 'qualified': 10525, 'venue': 14321, 'observation': 9130, 'turd': 13815, 'bliss': 1403, 'warn': 14538, 'toast': 13513, 'stylesheet': 12822, 'cs': 3068, 'jdelivery': 7083, 'chief': 2172, 'ccw': 2016, 'yanked': 14967, 'mommy': 8534, 'grew': 5750, 'stroke': 12768, 'baptized': 1050, 'whingeing': 14687, 'occur': 9156, 'luggage': 7928, 'exceptional': 4599, 'assessment': 789, 'applied': 641, 'impressing': 6576, 'parcel': 9547, 'timer': 13478, 'shown': 11921, 'evolve': 4573, 'belittle': 1206, 'diabetes': 3554, 'shockingly': 11876, 'elsewhere': 4245, 'ibleeditout': 6443, 'kodi': 7404, 'brat': 1602, 'jakun': 7049, 'glam': 5576, 'nuptials': 9080, 'dragging': 3931, 'combo': 2472, 'schizofrenic': 11549, 'removing': 10970, 'selling': 11682, 'maryland': 8144, 'shifting': 11851, 'forefront': 5198, 'transport': 13674, 'invaded': 6923, 'kinship': 7360, 'mounting': 8631, 'nausea': 8814, 'binding': 1311, 'football': 5181, 'woken': 14836, 'customary': 3119, 'siesta': 11953, 'tbr': 13192, 'consistent': 2704, 'workload': 14869, 'gabapentin': 5402, 'zonisamide': 15072, 'explorer': 4696, 'enuff': 4432, 'baffroom': 1001, 'divulge': 3818, 'stylings': 12823, 'crunched': 3054, 'awaken': 932, 'musician': 8725, 'uplifting': 14176, 'prop': 10364, 'graduating': 5694, 'glued': 5615, 'freshman': 5307, 'technology': 13222, 'embarrassing': 4262, 'immerse': 6534, 'bfd': 1278, 'strictly': 12756, 'jo': 7134, 'bucket': 1711, 'anaesthetic': 483, 'youth': 15025, 'spook': 12484, 'spiral': 12455, 'sympathise': 13078, 'bernard': 1249, 'invitation': 6938, 'code': 2398, 'fanatic': 4800, 'yard': 14968, 'ativan': 831, 'answering': 562, 'dumpee': 4038, 'slighted': 12112, 'replacement': 10999, 'unbearably': 13913, 'crushingly': 3061, 'creativeliar': 2982, 'decently': 3273, 'subconscious': 12830, 'wherein': 14674, 'drain': 3933, 'exist': 4645, 'lunge': 7946, 'crumble': 3050, 'nonexistence': 8999, 'sneakily': 12211, 'ma': 7967, 'prance': 10145, 'eartha': 4099, 'kitt': 7370, 'blare': 1372, 'fervent': 4914, 'bruce': 1692, 'yiling': 15001, 'salvation': 11440, 'merciless': 8304, 'miracle': 8426, 'alert': 358, 'guard': 5805, 'unreliable': 14109, 'biblical': 1289, 'pressed': 10224, 'meditated': 8248, 'altogether': 426, 'msm': 8659, 'spontaneous': 12482, 'urgh': 14201, 'campaign': 1860, 'senator': 11690, 'jackson': 7035, 'cnn': 2382, 'flag': 5036, 'tub': 13792, 'divorcee': 3817, 'brd': 1609, 'armor': 701, 'brds': 1610, 'san': 11446, 'antonio': 582, 'spur': 12517, 'nl': 8972, 'cog': 2406, 'championship': 2080, 'precisely': 10163, 'bowled': 1569, 'welling': 14640, 'procrastinator': 10308, 'unresolved': 14110, 'built': 1727, 'reel': 10806, 'journalism': 7182, 'sibling': 11938, 'bro': 1665, 'passionately': 9593, 'hyperventilating': 6430, 'september': 11727, 'foodie': 5176, 'occasion': 9145, 'threaten': 13407, 'conducting': 2629, 'aircleaner': 323, 'michael': 8350, 'epiphany': 4451, 'toned': 13545, 'validation': 14258, 'handing': 5908, 'protection': 10387, 'sublime': 12840, 'theyll': 13368, 'wispy': 14804, 'vibe': 14348, 'scheme': 11547, 'organizational': 9305, 'masochist': 8154, 'flipped': 5086, 'accumulated': 97, 'leaked': 7563, 'paid': 9483, 'stagnate': 12562, 'fullest': 5368, 'addressing': 172, 'sheri': 11840, 'lottery': 7878, 'itd': 7013, 'misbehavior': 8433, 'unavoidable': 13909, 'argue': 687, 'vampire': 14264, 'acknowledgment': 123, 'origin': 9313, 'mayhem': 8200, 'vale': 14251, 'bum': 1737, 'transient': 13664, 'jacket': 7033, 'mesh': 8317, 'fare': 4813, 'disregarding': 3753, 'gandhigiri': 5427, 'euphoria': 4520, 'source': 12378, 'munnabhai': 8703, 'inescapable': 6692, 'hindu': 6188, 'printing': 10276, 'quiltcon': 10554, 'lizzy': 7780, 'pinterest': 9879, 'canning': 1877, 'tomato': 13536, 'obsession': 9136, 'uplifted': 14174, 'martinez': 8137, 'occupy': 9154, 'prompting': 10359, 'sage': 11420, 'headachie': 6021, 'blah': 1361, 'taboo': 13100, 'oversized': 9424, 'tee': 13227, 'baggy': 1006, 'pant': 9522, 'sweat': 13030, 'streaked': 12737, 'smallest': 12158, 'hehe': 6088, 'aiiiiighhhht': 312, 'monogamous': 8552, 'recommendation': 10770, 'web': 14599, 'searched': 11622, 'advertising': 234, 'withdraw': 14808, 'greatest': 5737, 'poll': 10023, 'contradictory': 2784, 'vow': 14453, 'gasp': 5445, 'marybeth': 8143, 'isabella': 6986, 'groundless': 5784, 'dlk': 3823, 'butttt': 1796, 'semuanya': 11689, 'sudah': 12883, 'terlambat': 13278, 'dan': 3170, 'ignorant': 6488, 'african': 270, 'healer': 6036, 'appeared': 631, 'xbla': 14946, 'sony': 12335, 'elder': 4212, 'pelvis': 9679, 'complainy': 2552, 'soap': 12249, 'politics': 10022, 'menu': 8302, 'repetetive': 10994, 'accepting': 69, 'testicle': 13299, 'decrease': 3297, 'urinate': 14203, 'semen': 11684, 'suicidal': 12903, 'comfortably': 2484, 'maintaining': 8015, 'norah': 9011, 'jones': 7167, 'multitude': 8693, 'omega': 9225, 'revers': 11152, 'weightlessly': 14625, 'restores': 11099, 'flowing': 5121, 'raphael': 10642, 'laiya': 7464, 'jennifer': 7098, 'scampering': 11513, 'unintentionally': 14046, 'alfred': 365, 'molina': 8524, 'dimensional': 3613, 'caricature': 1933, 'exhaustion': 4635, 'elation': 4210, 'exposing': 4704, 'intervention': 6890, 'behalf': 1184, 'int': 6830, 'citizen': 2261, 'bash': 1084, 'knowlege': 7400, 'reinforce': 10878, 'investment': 6934, 'wanderlust': 14512, 'loquacious': 7859, 'hunter': 6403, 'dung': 4042, 'comforting': 2486, 'taller': 13134, 'bombing': 1496, 'coca': 2391, 'cola': 2421, 'warhound': 14529, 'model': 8497, 'fieldi': 4941, 'scroll': 11603, 'admiring': 191, 'envying': 4445, 'twentysomething': 13841, 'stinky': 12676, 'ravenous': 10665, 'manuscript': 8090, 'reporting': 11008, 'fellowship': 4897, 'requirement': 11031, 'tighter': 13466, 'grief': 5752, 'jesse': 7112, 'tought': 13594, 'banking': 1047, 'fold': 5157, 'demotivate': 3394, 'diwali': 3819, 'spurned': 12519, 'tended': 13263, 'nursed': 9082, 'sitter': 12030, 'presented': 10218, 'italy': 7010, 'wheel': 14668, 'rested': 11090, 'dreamy': 3959, 'cyber': 3131, 'slut': 12149, 'craves': 2962, 'gathering': 5454, 'craziness': 2970, 'throne': 13423, 'despise': 3481, 'shade': 11786, 'claimed': 2268, 'sabotaging': 11395, 'bedriacum': 1161, 'henrietta': 6122, 'ariel': 693, 'chelmsford': 2148, 'unreal': 14102, 'stepping': 12641, 'noticeable': 9041, 'homely': 6245, 'ingrain': 6736, 'sprint': 12512, 'register': 10859, 'undoubtedly': 13982, 'pundit': 10475, 'vinegary': 14385, 'callus': 1842, 'submarine': 12842, 'cartwheel': 1960, 'ankle': 532, 'board': 1461, 'pointless': 9999, 'uneffected': 13992, 'clubbing': 2368, 'destashing': 3487, 'visited': 14409, 'sai': 11421, 'implementing': 6557, 'booked': 1514, 'procedure': 10297, 'sympathizing': 13080, 'demon': 3389, 'cinderalla': 2249, 'prizecompetition': 10290, 'scoop': 11569, 'republican': 11023, 'overload': 9411, 'spinach': 12451, 'feta': 4919, 'cranberry': 2952, 'salad': 11429, 'balsamic': 1028, 'viniagrette': 14387, 'unemotional': 13993, 'marriage': 8126, 'figuring': 4962, 'perfumed': 9718, 'salt': 11434, 'figuratively': 4959, 'preservation': 10220, 'heartburn': 6056, 'tilt': 13472, 'coercive': 2402, 'pushy': 10504, 'packet': 9470, 'individually': 6675, 'heals': 6038, 'helpful': 6110, 'report': 11005, 'korean': 7411, 'italian': 7009, 'whitley': 14703, 'sleek': 12095, 'smoother': 12185, 'revenge': 11147, 'handling': 5911, 'blaster': 1375, 'relieve': 10920, 'caregiver': 1925, 'belittled': 1207, 'keyed': 7317, 'trigger': 13731, 'laughable': 7516, 'flattened': 5057, 'knowledgeable': 7399, 'sluggish': 12143, 'tychelle': 13857, 'nonexistent': 9000, 'thepage': 13352, 'evil': 4567, 'hunting': 6404, 'entertainer': 4411, 'williams': 14755, 'natasha': 8801, 'gan': 5425, 'suede': 12887, 'chadstone': 2063, 'tonite': 13551, 'obedient': 9111, 'commandment': 2491, 'strengthened': 12743, 'starving': 12601, 'ethiopia': 4511, 'metier': 8338, 'arise': 694, 'quirky': 10559, 'doodly': 3874, 'puzzled': 10513, 'trendy': 13716, 'pious': 9881, 'uppity': 14183, 'montagues': 8557, 'tale': 13123, 'rmb': 11244, 'maternal': 8176, 'disgruntled': 3707, 'dick': 3578, 'hobbs': 6213, 'rebecca': 10729, 'mcpherson': 8212, 'bgr': 1282, 'dumped': 4037, 'steady': 12621, 'dylan': 4073, 'tends': 13268, 'bet': 1261, 'parody': 9562, 'dorama': 3885, 'aaaaand': 2, 'treadmill': 13697, 'appreciation': 648, 'whined': 14685, 'posed': 10078, 'cutesy': 3124, 'pg': 9787, 'roundly': 11319, 'ravaged': 10663, 'painless': 9490, 'expense': 4670, 'elliptical': 4241, 'theyve': 13370, 'ambition': 444, 'unhappiness': 14027, 'abc': 16, 'stature': 12614, 'lauren': 7527, 'clocking': 2344, 'superman': 12941, 'blocking': 1414, 'knitter': 7388, 'apathy': 607, 'teetering': 13235, 'hoarding': 6210, 'insanity': 6777, 'apothecary': 621, 'shortlist': 11896, 'congratulate': 2663, 'nominee': 8990, 'scotland': 11576, 'intro': 6907, 'fff': 4928, 'trebuchet': 13707, 'helvetica': 6116, 'bitstream': 1340, 'vera': 14323, 'sans': 11462, 'typical': 13864, 'sucker': 12879, 'apparent': 624, 'discernment': 3670, 'sack': 11399, 'woody': 14857, 'allen': 382, 'jim': 7128, 'brook': 1678, 'earl': 4083, 'mundane': 8702, 'paperwork': 9531, 'bureaucrat': 1760, 'revel': 11143, 'clung': 2374, 'colourful': 2459, 'heaving': 6075, 'unrest': 14112, 'warp': 14543, 'dallas': 3156, 'operation': 9262, 'californian': 1835, 'stumped': 12809, 'legitemately': 7600, 'saint': 11427, 'reluctance': 10931, 'federal': 4871, 'authority': 899, 'employ': 4302, 'dust': 4055, 'cluster': 2375, 'profoundly': 10328, 'joint': 7154, 'backache': 976, 'majorly': 8020, 'ol': 9207, 'feefyefo': 4883, 'blabber': 1351, 'transparent': 13672, 'defended': 3327, 'sanctity': 11447, 'span': 12390, 'webkit': 14600, 'auto': 903, 'inline': 6760, 'swept': 13049, 'mistreated': 8467, 'flipping': 5087, 'phoned': 9805, 'kook': 7409, 'contains': 2749, 'lloyd': 7784, 'grossman': 5779, 'ditched': 3800, 'showered': 11919, 'vuitton': 14457, 'lv': 7960, 'grandparent': 5707, 'impressionable': 6578, 'confessed': 2634, 'sonipro': 12332, 'geekparty': 5471, 'linkedin': 7732, 'tumblr': 13806, 'nofollow': 8981, 'feeding': 4881, 'psyched': 10425, 'penn': 9689, 'sifted': 11954, 'mound': 8628, 'atari': 816, 'taker': 13121, 'cdn': 2019, 'entrusted': 4430, 'gush': 5841, 'janis': 7064, 'sander': 11452, 'abusing': 54, 'gander': 5426, 'donut': 3871, 'mac': 7969, 'originality': 9315, 'conformity': 2651, 'prius': 10282, 'al': 339, 'gore': 5660, 'patagonia': 9601, 'alaska': 346, 'insidious': 6790, 'route': 11321, 'warrick': 14544, 'naivety': 8770, 'stupidity': 12816, 'artwork': 740, 'efficient': 4178, 'joan': 7135, 'demonstration': 3391, 'specimen': 12420, 'glistening': 5596, 'accentuating': 64, 'evaluating': 4532, 'sterile': 12644, 'smelling': 12167, 'brimming': 1653, 'device': 3532, 'can': 1865, 'yeast': 14987, 'infection': 6703, 'vagina': 14245, 'sheltered': 11838, 'gal': 5411, 'swung': 13069, 'regain': 10844, 'alarmed': 344, 'flattered': 5058, 'spring': 12506, 'enriching': 4399, 'tradition': 13626, 'earthquake': 4101, 'christchurch': 2221, 'zealand': 15048, 'depart': 3416, 'northwestern': 9023, 'superstorm': 12946, 'sandy': 11455, 'november': 9055, 'eagleandhammer': 4081, 'reserved': 11047, 'lighting': 7689, 'toss': 13575, 'bam': 1031, 'shimmy': 11855, 'ing': 6733, 'whitney': 14705, 'absence': 37, 'tempura': 13260, 'sundae': 12923, 'pining': 9871, 'unlock': 14072, 'reflected': 10823, 'estrangement': 4500, 'batman': 1105, 'informing': 6727, 'shatter': 11822, 'crystal': 3067, 'imagination': 6516, 'radiator': 10594, 'admittedly': 197, 'effecting': 4169, 'dearly': 3253, 'remedy': 10947, 'skinned': 12060, 'highlight': 6167, 'carrot': 1948, 'mush': 8719, 'sounded': 12372, 'clip': 2339, 'gere': 5515, 'robert': 11255, 'boutique': 1564, 'condescending': 2618, 'lea': 7552, 'pleasent': 9953, 'smooth': 12184, 'monetarily': 8543, 'sickening': 11942, 'kakashi': 7253, 'antisocial': 578, 'creature': 2986, 'cooperation': 2830, 'rapist': 10646, 'rigorously': 11210, 'hanged': 5919, 'manifesting': 8072, 'significant': 11965, 'toddlerhood': 13520, 'popping': 10051, 'primetime': 10269, 'murderer': 8708, 'predict': 10172, 'freaked': 5281, 'scheduling': 11546, 'notch': 9030, 'etsy': 4515, 'xmas': 14955, 'goodie': 5647, 'eschew': 4479, 'foraging': 5185, 'palate': 9502, 'messianic': 8323, 'biceps': 1291, 'shaping': 11810, 'introducing': 6910, 'sprinkling': 12511, 'historian': 6196, 'strapping': 12729, 'sturdy': 12819, 'patrick': 9615, 'avery': 918, 'nightly': 8950, 'clueless': 2370, 'wandering': 14511, 'meaningful': 8223, 'square': 12526, 'caf': 1815, 'lupron': 7948, 'budget': 1717, 'spreadsheet': 12505, 'someplace': 12317, 'whir': 14694, 'stir': 12678, 'likeable': 7698, 'amish': 456, 'commented': 2494, 'mda': 8216, 'telethon': 13242, 'spiraling': 12456, 'agonised': 294, 'solo': 12301, 'bookstore': 1517, 'shelf': 11835, 'continental': 2768, 'purely': 10488, 'asbestos': 751, 'iframe': 6478, 'allowfullscreen': 395, 'frameborder': 5262, 'gm': 5620, 'insatiably': 6779, 'digital': 3603, 'rabbit': 10574, 'alphabet': 412, 'rose': 11302, 'jsk': 7193, 'lolita': 7822, 'austen': 889, 'hydration': 6419, 'everythings': 4558, 'psychically': 10427, 'galvanised': 5418, 'wrestle': 14910, 'pinning': 9876, 'nanashi': 8782, 'bill': 1305, 'pyongyang': 10516, 'preceptor': 10159, 'gleefully': 5591, 'roasting': 11251, 'marshmallow': 8131, 'luh': 7929, 'overseas': 9421, 'exhilarating': 4640, 'scenery': 11535, 'mudder': 8671, 'closure': 2356, 'occurs': 9161, 'luminary': 7936, 'swinelord': 13055, 'deluxe': 3379, 'colored': 2454, 'insomnia': 6798, 'ji': 7122, 'kin': 7347, 'spore': 12488, 'mailorder': 8008, 'kome': 7406, 'til': 13470, 'asks': 769, 'deffinately': 3334, 'berate': 1246, 'reproduce': 11019, 'analysis': 488, 'mariah': 8106, 'carey': 1931, 'splash': 12467, 'threat': 13406, 'subdue': 12833, 'rewriting': 11174, 'woeful': 14833, 'teeter': 13234, 'totering': 13584, 'rd': 10676, 'dd': 3237, 'angst': 519, 'yelping': 14993, 'wantd': 14517, 'uw': 14238, 'fulfil': 5361, 'uwilnevrknow': 14239, 'describes': 3453, 'reset': 11048, 'mount': 8629, 'adapted': 155, 'milonga': 8392, 'depleted': 3426, 'acclimated': 78, 'observer': 9133, 'snapping': 12201, 'traffic': 13629, 'match': 8168, 'starred': 12590, 'susan': 13002, 'gaping': 5431, 'cum': 3087, 'hardening': 5949, 'smoothie': 12186, 'vegan': 14294, 'perpetuate': 9735, 'dynamic': 4074, 'educator': 4162, 'legitimize': 7603, 'guilted': 5822, 'bio': 1314, 'flailing': 5038, 'gaia': 5406, 'potter': 10113, 'bridget': 1643, 'bunnysuit': 1752, 'entrance': 4425, 'admittance': 195, 'chaste': 2118, 'persom': 9746, 'wickdly': 14726, 'deodorant': 3415, 'snob': 12224, 'stumbleupon': 12807, 'ssba': 12548, 'alt': 417, 'marrying': 8129, 'mr': 8654, 'elementary': 4224, 'coerce': 2400, 'lunchroom': 7943, 'likelihood': 7702, 'processed': 10301, 'wobbly': 14830, 'projector': 10346, 'displeasing': 3745, 'musty': 8735, 'grimaced': 5759, 'yknow': 15006, 'vegitarianism': 14298, 'district': 3794, 'explaining': 4683, 'joyous': 7189, 'vomited': 14444, 'katniss': 7285, 'depresses': 3434, 'happiuness': 5936, 'absurdity': 48, 'chalk': 2072, 'pigeon': 9848, 'uninhabited': 14039, 'spouting': 12501, 'muck': 8667, 'gallivanting': 5415, 'escaped': 4477, 'interminable': 6871, 'bout': 1563, 'dressing': 3965, 'lapel': 7486, 'spectacle': 12421, 'steroid': 12645, 'beacuse': 1129, 'scratcheverything': 11587, 'discomforting': 3679, 'interpreted': 6884, 'blackpool': 1357, 'holloway': 6234, 'seafood': 11615, 'paella': 9476, 'sangria': 11458, 'recreational': 10786, 'unwillingly': 14157, 'willingly': 14757, 'succeeded': 12869, 'unpaid': 14087, 'rushing': 11375, 'gambia': 5419, 'supping': 12950, 'ideal': 6456, 'therapist': 13357, 'presumably': 10233, 'necessity': 8834, 'uniqueness': 14051, 'wholeness': 14713, 'presupposition': 10234, 'clown': 2364, 'fling': 5084, 'unfurling': 14023, 'junior': 7231, 'refused': 10842, 'ta': 13094, 'jz': 7246, 'unattractive': 13908, 'anonymous': 555, 'submitted': 12848, 'apathetic': 606, 'zack': 15039, 'lola': 7821, 'demographic': 3388, 'responding': 11082, 'dt': 4008, 'cc': 2015, 'wit': 14806, 'handedly': 5905, 'lawn': 7535, 'racing': 10581, 'relentlessly': 10914, 'upsetting': 14187, 'paige': 9484, 'deke': 3359, 'gel': 5473, 'residue': 11055, 'brownish': 1688, 'tint': 13492, 'bodyguard': 1476, 'refreshing': 10836, 'sting': 12670, 'cologne': 2448, 'energizing': 4361, 'johann': 7145, 'accompany': 84, 'khartoum': 7322, 'descara': 3449, 'thebalm': 13344, 'nude': 9066, 'tude': 13799, 'palette': 9506, 'broomfield': 1681, 'grim': 5758, 'lifting': 7680, 'laughter': 7519, 'weighed': 14619, 'heavier': 6072, 'booking': 1515, 'pe': 9646, 'janine': 7063, 'inflicted': 6714, 'optimism': 9280, 'refusal': 10840, 'jun': 7227, 'crone': 3025, 'remembering': 10951, 'nao': 8786, 'sir': 12018, 'mba': 8204, 'fleeting': 5069, 'triumph': 13746, 'bitterness': 1346, 'eloquent': 4243, 'charm': 2109, 'array': 714, 'legard': 7596, 'penny': 9690, 'soapbox': 12250, 'accepts': 70, 'disrespected': 3755, 'whiff': 14678, 'unnoticeable': 14085, 'burrowed': 1775, 'absolute': 39, 'ny': 9098, 'sweater': 13031, 'lowest': 7909, 'hotshot': 6326, 'dashed': 3204, 'lunajubilee': 7938, 'mcdonalds': 8209, 'pete': 9779, 'edochie': 4155, 'responds': 11083, 'olajideolafunmbi': 9208, 'fiddly': 4938, 'purposely': 10493, 'immensely': 6533, 'dropped': 3987, 'totaled': 13580, 'entering': 4408, 'egalitarian': 4186, 'jonalyn': 7165, 'finchers': 4987, 'soulation': 12367, 'shouldve': 11907, 'compartmentalised': 2531, 'flicking': 5079, 'dial': 3563, 'twd': 13833, 'dual': 4009, 'excellence': 4595, 'tedious': 13226, 'superhero': 12939, 'nellie': 8864, 'leslie': 7629, 'detailed': 3500, 'involves': 6945, 'whimsical': 14682, 'photoshoots': 9816, 'decoration': 3295, 'flutter': 5138, 'hairstyle': 5878, 'droop': 3985, 'frizz': 5326, 'straightforward': 12717, 'appeal': 626, 'envous': 4443, 'tomfoolery': 13538, 'shenanigan': 11839, 'sobbed': 12252, 'crisp': 3012, 'rollered': 11282, 'twin': 13844, 'pee': 9666, 'tied': 13458, 'diaper': 3571, 'blade': 1360, 'thinner': 13385, 'sensational': 11700, 'ash': 755, 'stench': 12636, 'greasy': 5733, 'mode': 8496, 'caress': 1927, 'tail': 13112, 'cesspool': 2058, 'metaphorically': 8331, 'michigan': 8352, 'governor': 5674, 'prostitute': 10382, 'simplify': 11986, 'soaking': 12248, 'castanets': 1972, 'raposa': 10647, 'crested': 2999, 'washed': 14550, 'dirt': 3643, 'idling': 6472, 'jacked': 7032, 'snooze': 12229, 'tenge': 13269, 'considers': 2702, 'weapon': 14584, 'riot': 11223, 'calorie': 1849, 'intake': 6832, 'eternally': 4506, 'continuous': 2776, 'fiddle': 4937, 'liveagainsttheflow': 7769, 'genius': 5498, 'cruising': 3049, 'duluth': 4030, 'tasting': 13175, 'raped': 10641, 'systematically': 13092, 'assassinated': 777, 'callous': 1841, 'unfaithful': 14006, 'estimate': 4499, 'nepali': 8873, 'german': 5519, 'tith': 13505, 'ath': 821, 'afp': 266, 'forehead': 5200, 'scrunching': 11607, 'wrinkle': 14915, 'robot': 11258, 'scanned': 11517, 'seized': 11664, 'dishonoring': 3717, 'eerily': 4165, 'parallel': 9537, 'unnatural': 14082, 'uncaring': 13920, 'flexy': 5075, 'minor': 8420, 'dew': 3545, 'south': 12379, 'encourage': 4334, 'advancement': 222, 'cassandra': 1968, 'locking': 7803, 'attic': 862, 'barn': 1069, 'warmed': 14531, 'ginger': 5561, 'abelard': 20, 'instagram': 6808, 'unused': 14148, 'pgce': 9788, 'existing': 4650, 'symbol': 13075, 'disgusting': 3711, 'eater': 4115, 'gina': 5560, 'misgiving': 8439, 'bandaid': 1036, 'cap': 1886, 'developed': 3527, 'critically': 3015, 'flawed': 5063, 'ryodan': 11391, 'lingers': 7726, 'alight': 373, 'bellman': 1211, 'glance': 5580, 'adress': 214, 'undeservedly': 13974, 'harmed': 5959, 'acknowledgement': 122, 'eddie': 4142, 'eg': 4185, 'rapport': 10648, 'sacrificed': 11403, 'net': 8888, 'rape': 10640, 'whistle': 14701, 'grossly': 5778, 'campus': 1863, 'runny': 11368, 'nose': 9024, 'ebooks': 4125, 'mighty': 8370, 'roar': 11248, 'forego': 5199, 'futon': 5398, 'paparazzo': 9528, 'zq': 15076, 'jcho': 7082, 'cpine': 2935, 'ailment': 313, 'remaining': 10939, 'prelim': 10194, 'math': 8177, 'limbo': 7711, 'poggy': 9993, 'cambodia': 1853, 'lax': 7538, 'bi': 1284, 'irresistable': 6973, 'expload': 4686, 'unmentioned': 14078, 'unity': 14054, 'rehearsal': 10873, 'greet': 5745, 'per': 9698, 'obsessively': 9138, 'varnish': 14280, 'brazilian': 1608, 'numbness': 9077, 'calmer': 1845, 'aftermath': 272, 'laura': 7525, 'gilbert': 5555, 'theybf': 13366, 'whore': 14723, 'sniiiiifff': 12220, 'freely': 5291, 'telstra': 13246, 'pessimistic': 9771, 'carson': 1954, 'sooo': 12339, 'happily': 5934, 'bobbing': 1469, 'exploring': 4697, 'abstract': 46, 'glanced': 5581, 'strolling': 12771, 'transformed': 13660, 'anesthetized': 508, 'bunion': 1748, 'baba': 962, 'emote': 4286, 'madre': 7983, 'possessive': 10091, 'harry': 5969, 'sinus': 12015, 'bailed': 1010, 'stereotype': 12642, 'incorrect': 6643, 'complex': 2562, 'cooper': 2829, 'nerve': 8877, 'ted': 13224, 'simplicity': 11985, 'sneeze': 12213, 'proving': 10410, 'dependent': 3422, 'shaving': 11826, 'precision': 10164, 'decaf': 3265, 'parting': 9574, 'drugged': 3997, 'delightful': 3372, 'opinionated': 9265, 'whoop': 14719, 'holler': 6231, 'constipated': 2717, 'yhhhay': 14999, 'femme': 4905, 'fatale': 4832, 'britneys': 1662, 'corey': 2850, 'whispered': 14699, 'generation': 5488, 'learns': 7574, 'ashame': 756, 'fourth': 5249, 'bottle': 1546, 'reckless': 10755, 'deceived': 3269, 'shrugged': 11926, 'educational': 4160, 'territory': 13291, 'constitutional': 2720, 'bureaucracy': 1759, 'bully': 1735, 'regimented': 10856, 'deedee': 3306, 'spell': 12430, 'curiously': 3100, 'sophist': 12351, 'physic': 9819, 'midterm': 8363, 'oblige': 9123, 'homeschool': 6251, 'scolding': 11567, 'sobriety': 12256, 'committed': 2501, 'eatery': 4116, 'intentional': 6851, 'monster': 8556, 'ecstasy': 4138, 'nightmarish': 8952, 'prospect': 10379, 'permeates': 9730, 'dismisses': 3729, 'blindly': 1399, 'disinterested': 3721, 'estate': 4495, 'proceed': 10298, 'accustomed': 106, 'dominican': 3857, 'guessed': 5811, 'brooklyn': 1679, 'latch': 7502, 'skipping': 12066, 'purchased': 10484, 'riva': 11240, 'harvey': 5976, 'weinstein': 14628, 'patronize': 9620, 'seeming': 11655, 'accord': 89, 'patriotism': 9618, 'cautiously': 2006, 'md': 8215, 'guidance': 5815, 'weave': 14595, 'prowl': 10416, 'jungle': 7230, 'deserted': 3459, 'steam': 12625, 'hummpffff': 6385, 'winterpaysforsummer': 14785, 'dedicated': 3301, 'eurovision': 4527, 'sh': 11783, 'versus': 14337, 'harmonious': 5963, 'veering': 14291, 'tatsuma': 13179, 'aoi': 600, 'ron': 11292, 'confuse': 2656, 'rite': 11237, 'flashback': 5050, 'department': 3417, 'referred': 10816, 'hypocrite': 6434, 'palin': 9507, 'matty': 8188, 'unexplained': 14002, 'canon': 1879, 'iii': 6495, 'mummy': 8698, 'toilet': 13528, 'clinique': 2337, 'ffs': 4929, 'ashlotte': 760, 'talim': 13128, 'costume': 2879, 'gucci': 5807, 'jeered': 7091, 'resorted': 11073, 'peak': 9653, 'housebound': 6331, 'peckish': 9659, 'mica': 8348, 'gratefulness': 5723, 'slash': 12085, 'kuwait': 7429, 'asserted': 784, 'reject': 10882, 'listens': 7753, 'translated': 13668, 'approval': 658, 'coward': 2927, 'grandchild': 5700, 'revolve': 11164, 'ew': 4575, 'maze': 8203, 'attended': 859, 'preclude': 10165, 'serving': 11750, 'derby': 3443, 'ting': 13485, 'raining': 10613, 'detoxified': 3516, 'iw': 7028, 'thankfully': 13328, 'suggested': 12900, 'outlandish': 9353, 'unresponsive': 14111, 'driftingthroughlife': 3971, 'moulding': 8627, 'gloominess': 5605, 'ffviii': 4930, 'liquor': 7743, 'compagnon': 2522, 'ripped': 11227, 'advanced': 221, 'coupled': 2909, 'appropriately': 657, 'persevere': 9741, 'reacting': 10683, 'burying': 1780, 'crotch': 3034, 'faced': 4752, 'emerging': 4277, 'copper': 2840, 'remarkably': 10944, 'snowboarding': 12236, 'betty': 1268, 'jolt': 7161, 'dh': 3549, 'diagnosis': 3559, 'generalised': 5482, 'compound': 2575, 'joie': 7150, 'de': 3238, 'vivre': 14420, 'jumbleupon': 7221, 'disciple': 3672, 'regurgitate': 10872, 'eva': 4530, 'wow': 14900, 'frenh': 5297, 'tutor': 13827, 'dontt': 3870, 'coldness': 2425, 'vulnerability': 14459, 'manipulated': 8075, 'beijing': 1194, 'horror': 6310, 'plural': 9974, 'snarky': 12205, 'disinfected': 3720, 'commuter': 2520, 'reliable': 10917, 'caffeinated': 1818, 'sauna': 11492, 'goldilocks': 5638, 'gameplay': 5421, 'disdain': 3701, 'acted': 135, 'busier': 1783, 'melody': 8269, 'asd': 754, 'motivator': 8620, 'scheduler': 11545, 'repairman': 10984, 'wimp': 14764, 'conducted': 2628, 'survey': 12995, 'onel': 9235, 'eminent': 4281, 'patriotic': 9617, 'mushroom': 8720, 'pizza': 9903, 'pitcher': 9895, 'rhetoric': 11177, 'conscientious': 2682, 'organic': 9299, 'lunchtime': 7944, 'dao': 3188, 'buried': 1764, 'ethan': 4508, 'teased': 13213, 'fancied': 4801, 'mary': 8142, 'harmony': 5965, 'alabama': 341, 'emptied': 4311, 'controlled': 2794, 'displaced': 3741, 'todd': 13518, 'caleb': 1829, 'veer': 14290, 'disorientated': 3734, 'queasy': 10533, 'frumpy': 5342, 'forgave': 5208, 'established': 4494, 'resisting': 11063, 'peregrinos': 9708, 'decorate': 3292, 'slacking': 12077, 'rating': 10658, 'iris': 6960, 'arc': 672, 'gwen': 5848, 'stacey': 12555, 'ruin': 11354, 'freakin': 5282, 'heap': 6044, 'orthodox': 9324, 'duplex': 4050, 'dsl': 4006, 'wireless': 14793, 'blair': 1363, 'admin': 184, 'landing': 7475, 'homepage': 6250, 'depend': 3419, 'keywords': 7319, 'cru': 3041, 'careful': 1923, 'decline': 3286, 'realness': 10714, 'waving': 14569, 'election': 4215, 'liverpool': 7774, 'taunted': 13185, 'frailty': 5260, 'exterior': 4719, 'existance': 4646, 'masculinity': 8150, 'upstream': 14190, 'strip': 12762, 'ole': 9213, 'fathomed': 4838, 'alec': 356, 'liar': 7655, 'stab': 12552, 'unattainable': 13907, 'discontented': 3684, 'flighty': 5082, 'ignites': 6485, 'knowingly': 7397, 'wistful': 14805, 'alexis': 363, 'ego': 4190, 'lone': 7828, 'wah': 14474, 'nationalism': 8806, 'aryan': 745, 'pent': 9693, 'worthlessness': 14888, 'condemned': 2615, 'numbing': 9075, 'pleasure': 9956, 'foment': 5169, 'saddle': 11408, 'slapping': 12084, 'boil': 1484, 'limply': 7718, 'focusing': 5150, 'aspieness': 774, 'iq': 6953, 'seven': 11763, 'earliest': 4087, 'dawn': 3221, 'tbt': 13193, 'strait': 12721, 'atmosphere': 838, 'fertile': 4912, 'stubbornly': 12791, 'roundabout': 11316, 'annoyingly': 548, 'murmur': 8710, 'skinner': 12061, 'seduce': 11644, 'conned': 2674, 'connived': 2675, 'fired': 5005, 'sensory': 11710, 'stoic': 12686, 'icky': 6449, 'cited': 2260, 'scarce': 11521, 'legality': 7594, 'tatter': 13180, 'messaging': 8321, 'slap': 12082, 'boredom': 1528, 'briton': 1663, 'monogrammed': 8553, 'thicker': 13374, 'mascara': 8147, 'dubbed': 4012, 'somethings': 12320, 'apendages': 611, 'organ': 9298, 'temper': 13248, 'tantrum': 13156, 'hobnob': 6216, 'douche': 3902, 'canoe': 1878, 'acne': 124, 'karen': 7270, 'branding': 1597, 'actuality': 147, 'bohemian': 1483, 'beachy': 1128, 'haiku': 5871, 'devin': 3534, 'clutter': 2378, 'inherently': 6743, 'gender': 5476, 'rekindled': 10892, 'lease': 7576, 'superficial': 12937, 'moderately': 8499, 'twat': 13832, 'collaborative': 2432, 'conducive': 2626, 'comeback': 2474, 'willy': 14761, 'nilly': 8959, 'uhuru': 13883, 'persecuted': 9739, 'martha': 8134, 'karua': 7275, 'carrying': 1951, 'essay': 4489, 'differs': 3596, 'victorious': 14362, 'cautious': 2005, 'ryan': 11386, 'spat': 12401, 'anchorage': 495, 'stroll': 12769, 'imagebox': 6513, 'hurtled': 6413, 'pine': 9866, 'jersey': 7110, 'consumed': 2735, 'drowning': 3993, 'swamp': 13023, 'unfeeling': 14009, 'humanbeings': 6368, 'pollution': 10027, 'luxurious': 7958, 'deer': 3317, 'mouse': 8635, 'parade': 9534, 'permalink': 9724, 'thomas': 13395, 'spasm': 12400, 'diarrhea': 3572, 'mouthful': 8641, 'defriended': 3352, 'fee': 4876, 'frank': 5267, 'workshop': 14873, 'pleasing': 9955, 'werner': 14646, 'convey': 2808, 'khi': 7325, 'au': 873, 'ng': 8920, 'rephrase': 10996, 'heidi': 6090, 'unspoilt': 14130, 'ladder': 7453, 'documentary': 3834, 'void': 14433, 'usarious': 14211, 'stuffing': 12803, 'parlor': 9560, 'hamburger': 5892, 'steak': 12622, 'oooh': 9250, 'achy': 116, 'blahness': 1362, 'identity': 6464, 'mia': 8346, 'restful': 11091, 'fared': 4814, 'fob': 5146, 'telegram': 13238, 'anniversary': 538, 'guardian': 5806, 'indiscriminately': 6671, 'appearing': 632, 'jaeryong': 7043, 'jungeuns': 7229, 'barbeque': 1053, 'sensationalist': 11701, 'connecticut': 2671, 'polyvore': 10031, 'advent': 224, 'muslim': 8729, 'universally': 14058, 'bent': 1243, 'thaliad': 13322, 'environmentally': 4440, 'lex': 7649, 'misty': 8470, 'bombardment': 1493, 'notcied': 9031, 'wildly': 14749, 'backward': 988, 'copycat': 2843, 'sifting': 11955, 'unappreciated': 13905, 'earplug': 4094, 'frustrating': 5346, 'okc': 9206, 'eharmony': 4194, 'meaningless': 8224, 'rrreeaallyy': 11330, 'tracifishbowl': 13616, 'ian': 6442, 'sensibly': 11706, 'flame': 5043, 'prepping': 10207, 'supervisor': 12949, 'nailed': 8768, 'politely': 10019, 'shook': 11881, 'expansive': 4660, 'transfer': 13656, 'dismissing': 3730, 'disconnect': 3680, 'pioneer': 9880, 'eve': 4538, 'roomates': 11295, 'shermin': 11842, 'joey': 7139, 'surmise': 12983, 'sitcom': 12025, 'rightful': 11204, 'predecessor': 10169, 'emptiness': 4312, 'baggage': 1005, 'renaissance': 10972, 'baroque': 1074, 'jamie': 7057, 'inanimate': 6600, 'purged': 10489, 'tremendously': 13711, 'dunstable': 4047, 'preposterous': 10206, 'slope': 12126, 'trialling': 13720, 'entitiled': 4423, 'unwisely': 14159, 'spooky': 12485, 'matin': 8180, 'screening': 11594, 'stewart': 12649, 'legion': 7598, 'referring': 10817, 'dpns': 3922, 'sleepy': 12101, 'witnessing': 14820, 'offender': 9177, 'surfacing': 12978, 'diamond': 3567, 'richie': 11188, 'mix': 8476, 'taylor': 13189, 'swift': 13050, 'represent': 11009, 'mingle': 8407, 'stupor': 12818, 'wildstar': 14750, 'interacting': 6857, 'empathize': 4295, 'yummy': 15032, 'leftover': 7589, 'tonguey': 13548, 'pulsed': 10464, 'bud': 1713, 'clit': 2342, 'aa': 0, 'shona': 11880, 'athe': 822, 'clinical': 2336, 'abstinence': 45, 'specialist': 12411, 'indulging': 6685, 'sloshy': 12128, 'deepening': 3311, 'murt': 8712, 'clarinet': 2281, 'stropped': 12777, 'instill': 6815, 'quivering': 10565, 'shivering': 11870, 'growth': 5793, 'accelerated': 62, 'flickering': 5078, 'heralding': 6126, 'expose': 4702, 'gluten': 5617, 'mediocre': 8246, 'saddled': 11409, 'pissing': 9889, 'nestled': 8886, 'extends': 4715, 'segment': 11661, 'sundry': 12925, 'recreate': 10785, 'fog': 5152, 'awaits': 930, 'blogstalkers': 1425, 'nearness': 8829, 'datey': 3211, 'commonplace': 2508, 'revis': 11158, 'reporter': 11007, 'jet': 7117, 'locker': 7802, 'dom': 3850, 'rip': 11225, 'tide': 13454, 'logged': 7810, 'calvaryccv': 1850, 'preparation': 10201, 'captivity': 1897, 'formulate': 5228, 'reflects': 10827, 'fraction': 5253, 'nakahara': 8771, 'mai': 8002, 'mightily': 8369, 'crashed': 2958, 'hiring': 6194, 'scandalized': 11515, 'nfl': 8919, 'fingernail': 4993, 'scheduled': 11544, 'envy': 4444, 'fro': 5327, 'playoff': 9942, 'ruslan': 11376, 'fedotenko': 4874, 'concentrated': 2595, 'aroma': 704, 'bhubaneswar': 1283, 'orissa': 9319, 'evans': 4535, 'captain': 1894, 'donor': 3867, 'shocking': 11875, 'cdm': 2018, 'flac': 5034, 'custodes': 3117, 'alibi': 370, 'download': 3911, 'resume': 11109, 'premium': 10197, 'philippine': 9797, 'prime': 10267, 'variety': 14278, 'gosh': 5664, 'dwelling': 4065, 'managing': 8054, 'pat': 9600, 'bertram': 1253, 'ptbertram': 10437, 'pawn': 9634, 'impress': 6574, 'countless': 2904, 'hospitalized': 6315, 'pervert': 9767, 'abnormally': 28, 'staked': 12566, 'feeder': 4880, 'endzone': 4353, 'itsy': 7019, 'bitsy': 1341, 'vogue': 14429, 'summary': 12916, 'uganda': 13873, 'crafting': 2944, 'sheepish': 11832, 'workmate': 14870, 'transcribe': 13655, 'accused': 102, 'tak': 13115, 'bare': 1059, 'dryer': 4004, 'counting': 2903, 'backfire': 979, 'solondz': 12303, 'gimmick': 5559, 'hackle': 5859, 'tia': 13443, 'marketer': 8118, 'gaga': 5405, 'transforms': 13662, 'seventy': 11764, 'twosongs': 13852, 'aiming': 316, 'drip': 3977, 'challenging': 2076, 'cent': 2042, 'manipulate': 8074, 'positioned': 10083, 'prupose': 10419, 'dink': 3624, 'prettymuch': 10243, 'acronym': 131, 'venting': 14316, 'choosing': 2211, 'plate': 9927, 'werent': 14645, 'antipasti': 575, 'mozzarella': 8651, 'proscuito': 10374, 'excel': 4593, 'luxury': 7959, 'scolded': 11566, 'cottage': 2880, 'rustling': 11381, 'blogspot': 1424, 'twitch': 13848, 'fb': 4851, 'siren': 12019, 'echoing': 4130, 'pakistan': 9499, 'explodes': 4689, 'debris': 3261, 'compiled': 2547, 'rooted': 11299, 'sucking': 12881, 'carcenogenic': 1910, 'pleasantness': 9950, 'illusion': 6505, 'declare': 3284, 'songy': 12330, 'camilla': 1857, 'vein': 14302, 'empathizing': 4296, 'passengered': 9586, 'cab': 1807, 'cutie': 3125, 'spoon': 12486, 'mathematical': 8178, 'exhilirated': 4642, 'tpt': 13614, 'aversary': 916, 'gunk': 5836, 'treader': 13695, 'hardcover': 5947, 'internal': 6873, 'dissolve': 3772, 'projecting': 10344, 'suspected': 13006, 'weightloss': 14626, 'chef': 2147, 'academy': 60, 'spying': 12523, 'devour': 3542, 'assist': 795, 'profound': 10327, 'psychology': 10432, 'yuck': 15031, 'adequate': 174, 'entrenched': 4427, 'gerrymandered': 5522, 'reelected': 10807, 'gabriella': 5403, 'embark': 4257, 'biscuit': 1331, 'sonam': 12328, 'genelia': 5479, 'tubelight': 13794, 'reflecting': 10824, 'glossy': 5610, 'bra': 1580, 'ediths': 4149, 'meanness': 8225, 'stoner': 12693, 'meing': 8260, 'emotionaly': 4291, 'bareminerals': 1062, 'filmed': 4970, 'inhaler': 6741, 'muay': 8664, 'thai': 13319, 'blinked': 1401, 'mall': 8038, 'weirdo': 14632, 'peep': 9671, 'kangna': 7260, 'ranaut': 10624, 'invisible': 6937, 'chunk': 2237, 'hum': 6366, 'dubstep': 4015, 'subjected': 12837, 'thunder': 13434, 'encouraging': 4338, 'kindergartener': 7353, 'vm': 14423, 'superduperreally': 12936, 'blurt': 1457, 'obstacle': 9140, 'leaden': 7554, 'placed': 9906, 'coldsores': 2427, 'rank': 10634, 'antic': 569, 'improv': 6582, 'carolina': 1943, 'vastly': 14286, 'intimacy': 6893, 'lifetime': 7677, 'rut': 11382, 'enabled': 4317, 'abstain': 44, 'withdrawing': 14810, 'ashley': 759, 'rommel': 11291, 'flashing': 5052, 'climbing': 2331, 'horizontal': 6298, 'cramped': 2949, 'shamefully': 11802, 'guru': 5840, 'persuasively': 9759, 'axel': 954, 'pooped': 10042, 'comp': 2521, 'bug': 1723, 'buzzing': 1802, 'shortage': 11891, 'compromise': 2581, 'portable': 10064, 'compatible': 2535, 'cohesive': 2414, 'arist': 695, 'lucas': 7921, 'uplift': 14173, 'aaron': 7, 'dorothy': 3890, 'kelsey': 7302, 'machinery': 7975, 'socializing': 12265, 'rememberiing': 10950, 'marillac': 8110, 'residential': 11052, 'freezer': 5293, 'nostril': 9028, 'sole': 12291, 'historical': 6197, 'imply': 6560, 'method': 8335, 'gig': 5549, 'march': 8097, 'biopsy': 1321, 'cynical': 3137, 'measuring': 8230, 'tracking': 13619, 'unfocused': 14012, 'swaddled': 13018, 'wrapping': 14905, 'woefully': 14834, 'illogically': 6504, 'mysalvagedtreasures': 8744, 'hunger': 6399, 'homelessness': 6244, 'whereby': 14672, 'detatched': 3502, 'grandson': 5708, 'jolted': 7162, 'thawing': 13340, 'sledding': 12094, 'refrain': 10831, 'acquaintance': 127, 'mentioning': 8300, 'makin': 8027, 'cineplex': 2253, 'destroying': 3494, 'photographically': 9811, 'passersby': 9589, 'surf': 12976, 'broom': 1680, 'scrubbing': 11605, 'vinegar': 14384, 'newspaper': 8914, 'cooler': 2825, 'holden': 6223, 'caulfield': 1999, 'ordeal': 9289, 'rent': 10979, 'enamoured': 4322, 'porcelain': 10056, 'tap': 13157, 'richness': 11189, 'cgi': 2060, 'starter': 12594, 'refrigerator': 10837, 'bonka': 1508, 'neva': 8899, 'fa': 4745, 'illinois': 6502, 'horrendously': 6303, 'pristine': 10281, 'affords': 262, 'mortuary': 8602, 'compasionate': 2532, 'greiving': 5749, 'slung': 12147, 'embalming': 4253, 'rightness': 11207, 'dreadful': 3951, 'mbourgon': 8205, 'educated': 4157, 'susceptible': 13004, 'deserved': 3461, 'electing': 4214, 'traded': 13624, 'management': 8051, 'rotation': 11309, 'caretaker': 1930, 'celebratory': 2028, 'gona': 5642, 'decribe': 3299, 'recovered': 10782, 'congestion': 2662, 'enchanting': 4326, 'evar': 4537, 'bc': 1124, 'heartbeat': 6052, 'consultation': 2731, 'efficiently': 4179, 'classwork': 2291, 'dittmar': 3802, 'chendol': 2154, 'kacang': 7248, 'tensed': 13272, 'facility': 4757, 'ivspirit': 7026, 'translatethis': 13669, 'intercessor': 6861, 'da': 3143, 'bul': 1728, 'taewuhbeoryeo': 13107, 'niga': 8940, 'ulbujitneun': 13886, 'nal': 8774, 'ah': 303, 'neoneun': 8870, 'wiheomhae': 14742, 'ttaekkaji': 13788, 'gatsseo': 5457, 'woooo': 14859, 'becuz': 1159, 'denim': 3400, 'debated': 3258, 'shandur': 11806, 'polo': 10028, 'located': 7798, 'western': 14650, 'tweet': 13836, 'bubble': 1707, 'dudley': 4022, 'dursley': 4053, 'cornelius': 2854, 'fudge': 5355, 'minerva': 8406, 'mcgonnagall': 8211, 'neville': 8904, 'longbottom': 7833, 'pettigrew': 9784, 'oliver': 9214, 'frequency': 5299, 'neuroticworkaholic': 8897, 'twas': 13831, 'bedside': 1163, 'bowl': 1568, 'magi': 7990, 'herod': 6136, 'exaggerated': 4581, 'indulgence': 6683, 'audacity': 876, 'fifth': 4950, 'yearbook': 14980, 'commemorate': 2492, 'rudy': 11348, 'graduated': 5693, 'automation': 907, 'memset': 8284, 'pocket': 9985, 'tab': 13095, 'trafford': 13631, 'stamford': 12571, 'socialize': 12264, 'grudgingly': 5795, 'uncharacteristically': 13923, 'enlivened': 4389, 'rockabilly': 11261, 'moisture': 8514, 'juicy': 7212, 'unreasonable': 14106, 'lent': 7623, 'scissors': 11564, 'seated': 11627, 'insufficiency': 6824, 'inherent': 6742, 'additional': 167, 'snuck': 12241, 'snooping': 12227, 'indigestion': 6668, 'guitarist': 5828, 'prideful': 10262, 'loopy': 7851, 'exaggerating': 4582, 'angie': 515, 'unmitigated': 14079, 'carol': 1941, 'atletico': 836, 'stored': 12702, 'clasheen': 2285, 'nicola': 8934, 'keepmeinstitchez': 7298, 'mature': 8189, 'nervouse': 8879, 'usain': 14210, 'intruder': 6915, 'griff': 5756, 'retreat': 11123, 'whine': 14684, 'touching': 13588, 'sentiment': 11714, 'schindlers': 11548, 'chamber': 2077, 'ghost': 5540, 'trained': 13638, 'trav': 13684, 'homosexual': 6262, 'moping': 8574, 'onion': 9239, 'slows': 12138, 'compounded': 2576, 'acknowledged': 121, 'nod': 8978, 'soothing': 12349, 'cosmetic': 2872, 'sasuke': 11477, 'fatally': 4833, 'moriartys': 8586, 'horrified': 6308, 'evilness': 4568, 'bridal': 1638, 'racked': 10585, 'ugliness': 13879, 'steinbeck': 12631, 'enriched': 4398, 'validate': 14257, 'broadcasting': 1667, 'protocol': 10395, 'consults': 2733, 'handsomefamily': 5916, 'snidey': 12216, 'soooooooooooo': 12344, 'embraced': 4270, 'bibliography': 1290, 'bachelorette': 974, 'shifted': 11850, 'engrains': 4376, 'prejudiced': 10193, 'hannah': 5922, 'montana': 8558, 'nick': 8931, 'colbert': 2422, 'owen': 9444, 'morgan': 8584, 'undertaking': 13968, 'disorients': 3737, 'experimenting': 4678, 'lemony': 7611, 'vanilla': 14267, 'buttermilk': 1794, 'inducing': 6680, 'deprecation': 3431, 'multitasking': 8692, 'ragged': 10602, 'destination': 3488, 'feverish': 4924, 'premature': 10195, 'graying': 5730, 'demise': 3384, 'caged': 1822, 'womb': 14840, 'owned': 9446, 'pinky': 9873, 'dysphoria': 4075, 'fend': 4907, 'giveaway': 5569, 'revisiting': 11163, 'ome': 9224, 'blubbering': 1444, 'chanel': 2082, 'fist': 5021, 'infantry': 6701, 'motorbike': 8622, 'zhu': 15056, 'snapbacks': 12199, 'lotus': 7879, 'wholesale': 14714, 'snapback': 12198, 'prosecution': 10377, 'mongering': 8545, 'elashis': 4207, 'noor': 9009, 'courthouse': 2917, 'suppliments': 12955, 'abandoning': 11, 'affirm': 256, 'disastrous': 3664, 'unemployed': 13994, 'aku': 337, 'merasa': 8303, 'luar': 7920, 'biasa': 1287, 'karena': 7271, 'kulihat': 7424, 'sendi': 11692, 'simplethoughtsonthings': 11984, 'maeve': 7986, 'promotional': 10356, 'advertisement': 232, 'dialogue': 3566, 'nevertheless': 8903, 'superstition': 12945, 'caution': 2004, 'determine': 3510, 'consciousness': 2685, 'competent': 2542, 'consideration': 2699, 'perspiring': 9756, 'muddy': 8673, 'worsen': 14882, 'voter': 14451, 'hip': 6191, 'elbow': 4211, 'banged': 1040, 'celebrating': 2026, 'grandiosely': 5703, 'collapse': 2434, 'shortsighted': 11900, 'oakland': 9105, 'database': 3208, 'donate': 3860, 'proceeds': 10299, 'totality': 13581, 'indicated': 6662, 'blowout': 1442, 'privilege': 10287, 'extend': 4713, 'raid': 10604, 'luftwaffe': 7927, 'kerouac': 7311, 'marble': 8095, 'maelstrom': 7985, 'sur': 12973, 'abundantly': 51, 'addict': 159, 'frazzled': 5279, 'railway': 10607, 'grimacing': 5760, 'flip': 5085, 'knife': 7385, 'pistol': 9892, 'mombasa': 8529, 'stirring': 12680, 'duckie': 4018, 'commie': 2497, 'daring': 3191, 'corset': 2870, 'postgraduate': 10099, 'hijacked': 6173, 'wiggle': 14740, 'fudgy': 5356, 'doodle': 3872, 'sassy': 11476, 'taryn': 13167, 'jumping': 7225, 'whooped': 14720, 'unsteady': 14133, 'duration': 4051, 'hurry': 6409, 'resonate': 11069, 'simon': 11980, 'teenage': 13229, 'jag': 7044, 'jointly': 7155, 'brendon': 1631, 'replacing': 11000, 'interpersonal': 6882, 'restored': 11098, 'crossroad': 3032, 'thrift': 13412, 'roughly': 11314, 'wishing': 14802, 'bargain': 1064, 'segregate': 11662, 'intimidation': 6900, 'mira': 8425, 'castle': 1976, 'safely': 11416, 'referee': 10814, 'partial': 9566, 'stirred': 12679, 'conveniently': 2799, 'unwind': 14158, 'breather': 1624, 'pussy': 10505, 'swimsuit': 13053, 'ushering': 14218, 'traumatic': 13682, 'tracy': 13621, 'intrigued': 6906, 'chugged': 2235, 'addressed': 171, 'worm': 14876, 'tethered': 13304, 'cashmere': 1966, 'rainboots': 10609, 'everybodys': 4552, 'andy': 507, 'chemical': 2149, 'classy': 2292, 'goth': 5669, 'punk': 10479, 'getyourprettyon': 5533, 'lends': 7616, 'projected': 10343, 'guiding': 5819, 'principle': 10273, 'recount': 10779, 'obama': 9108, 'thatll': 13336, 'bang': 1039, 'wuss': 14938, 'hyena': 6420, 'heated': 6066, 'contemplation': 2756, 'consolidation': 2712, 'elf': 4230, 'flaky': 5042, 'streaky': 12738, 'sacrifice': 11402, 'swath': 13027, 'gook': 5654, 'relishing': 10926, 'mathematics': 8179, 'fourteen': 5248, 'altered': 419, 'solve': 12306, 'global': 5601, 'practiced': 10137, 'correctness': 2867, 'incompetent': 6634, 'trouser': 13758, 'looser': 7855, 'truthfully': 13778, 'bitten': 1343, 'irrationally': 6968, 'benny': 1241, 'dumbfounded': 4034, 'kidding': 7332, 'iya': 7029, 'painted': 9493, 'uncomfterble': 13929, 'pacing': 9464, 'distanced': 3775, 'shh': 11844, 'patio': 9614, 'storming': 12705, 'flush': 5133, 'foster': 5239, 'accommodate': 80, 'mediterranean': 8252, 'sucked': 12878, 'charade': 2101, 'hobica': 6215, 'frosting': 5334, 'shortening': 11894, 'trans': 13650, 'uglier': 13877, 'deformed': 3351, 'enought': 4395, 'yorkshire': 15015, 'ha': 5852, 'twisted': 13847, 'sinister': 12012, 'inaccurate': 6593, 'compulsion': 2584, 'bludgeon': 1445, 'onlooker': 9241, 'label': 7435, 'acquire': 129, 'ho': 6207, 'weighins': 14621, 'aout': 603, 'signifies': 11967, 'undue': 13984, 'justin': 7241, 'aryiku': 746, 'aimless': 317, 'sor': 12354, 'doubling': 3896, 'accurate': 99, 'payoff': 9639, 'grabby': 5682, 'shinae': 11856, 'mentality': 8295, 'cinema': 2251, 'redden': 10793, 'manhood': 8066, 'laundering': 7522, 'stumbled': 12806, 'infrastructure': 6729, 'inequality': 6691, 'creatively': 2983, 'surely': 12975, 'pursuing': 10498, 'fancy': 4802, 'evey': 4561, 'french': 5296, 'directing': 3637, 'mercilessly': 8305, 'abominable': 30, 'declaring': 3285, 'hump': 6392, 'newsprint': 8915, 'chicago': 2168, 'jordan': 7174, 'belongs': 1219, 'celtic': 2037, 'permanence': 9725, 'fingertip': 4994, 'oak': 9104, 'recycled': 10789, 'coworkers': 2931, 'happend': 5927, 'tallinn': 13136, 'pimp': 9860, 'raini': 10612, 'rocky': 11269, 'suppressing': 12970, 'adversely': 229, 'publicity': 10447, 'hearnsays': 6048, 'overpowers': 9416, 'baht': 1008, 'usd': 14212, 'alway': 431, 'elusively': 4248, 'misrepresent': 8451, 'occurred': 9159, 'increased': 6645, 'dosage': 3891, 'supplemental': 12952, 'estrogen': 4501, 'succumbed': 12875, 'ingrate': 6738, 'momentarily': 8531, 'empathetic': 4293, 'sweeney': 13038, 'facial': 4754, 'modifying': 8506, 'biannual': 1285, 'mammogram': 8045, 'unusually': 14150, 'bla': 1350, 'invade': 6922, 'shutting': 11934, 'woodstock': 14855, 'lightning': 7693, 'defiant': 3336, 'thrilling': 13418, 'theatre': 13343, 'bashing': 1087, 'gw': 5847, 'karma': 7273, 'contentment': 2763, 'knelt': 7383, 'mutual': 8738, 'communicated': 2512, 'pure': 10486, 'sober': 12254, 'behave': 1185, 'outcast': 9341, 'trendier': 13715, 'unfriendly': 14021, 'menopause': 8289, 'flood': 5100, 'baring': 1065, 'staggering': 12561, 'upstairs': 14189, 'allocated': 390, 'irresponsible': 6976, 'auster': 890, 'pounding': 10119, 'fatigue': 4839, 'bleak': 1382, 'noconscience': 8977, 'prevail': 10245, 'sucky': 12882, 'counterproductive': 2901, 'nic': 8924, 'missy': 8463, 'abandon': 9, 'pokemon': 10008, 'boldly': 1488, 'warned': 14539, 'opener': 9256, 'thug': 13430, 'confrontational': 2654, 'thrive': 13419, 'executive': 4622, 'permeate': 9729, 'photograph': 9807, 'regent': 10852, 'planted': 9922, 'lightness': 7692, 'torned': 13567, 'nathan': 8802, 'haley': 5882, 'noisy': 8985, 'animesh': 529, 'whip': 14691, 'cloth': 2358, 'napkin': 8789, 'reusable': 11133, 'grit': 5769, 'shoulding': 11905, 'prisoner': 10280, 'guideline': 5818, 'lds': 7550, 'moreso': 8583, 'chiangmai': 2166, 'crowded': 3037, 'restrain': 11100, 'su': 12826, 'wen': 14641, 'repay': 10986, 'oakwood': 9106, 'metabolism': 8326, 'hyperthyroidism': 6429, 'firstly': 5017, 'madness': 7982, 'secondly': 11634, 'scariest': 11526, 'hooked': 6281, 'kitwe': 7372, 'amma': 461, 'atlanta': 832, 'noon': 9006, 'poignant': 9995, 'piercing': 9846, 'penetrating': 9686, 'figment': 4957, 'suspiciously': 13011, 'amorphous': 466, 'ryder': 11387, 'baffled': 1000, 'luke': 7931, 'spitball': 12463, 'luring': 7951, 'lair': 7463, 'chewie': 2162, 'gunong': 5838, 'ledang': 7584, 'puteri': 10507, 'evoking': 4571, 'nicole': 8935, 'grandeur': 5701, 'legitimately': 7602, 'await': 927, 'andrew': 504, 'cycled': 3134, 'sulfate': 12911, 'reputable': 11026, 'geocentric': 5508, 'towel': 13609, 'hsps': 6347, 'hsp': 6346, 'cheaply': 2126, 'locate': 7797, 'margaret': 8099, 'superpower': 12943, 'il': 6496, 'rosa': 11300, 'chasm': 2117, 'comforted': 2485, 'oncologist': 9232, 'universal': 14055, 'metaphor': 8329, 'etries': 4514, 'upheaval': 14171, 'gatorade': 5455, 'uncontrollably': 13941, 'satan': 11479, 'hyde': 6418, 'kat': 7278, 'denningss': 3404, 'deadpan': 3244, 'delivery': 3377, 'crab': 2937, 'aol': 601, 'verizon': 14330, 'repeatedly': 10989, 'ari': 691, 'ben': 1224, 'menashe': 8286, 'mousavi': 8634, 'manuchehr': 8087, 'ghorbani': 5539, 'cia': 2244, 'oxford': 9451, 'skype': 12072, 'hurricane': 6407, 'correspond': 2868, 'catsa': 1997, 'afrad': 267, 'flab': 5033, 'migrate': 8372, 'snake': 12196, 'teary': 13211, 'stimulating': 12668, 'chuffed': 2234, 'spirituality': 12459, 'partnership': 9578, 'nipping': 8967, 'custom': 3118, 'orthotics': 9325, 'fic': 4934, 'writting': 14925, 'writters': 14924, 'heartdesire': 6057, 'mentel': 8297, 'whatsoever': 14665, 'disjointed': 3722, 'surprising': 12987, 'decluttering': 3288, 'safer': 11417, 'peeing': 9667, 'irritability': 6978, 'sniffer': 12218, 'gag': 5404, 'reflex': 10828, 'euphermal': 4519, 'soporific': 12353, 'luscious': 7955, 'hazy': 6013, 'dee': 3304, 'triangle': 13721, 'kara': 7263, 'ounce': 9337, 'treacherous': 13693, 'ecker': 4131, 'festival': 4917, 'belonged': 1216, 'classmate': 2289, 'tuned': 13810, 'bullshit': 1734, 'beware': 1271, 'kitty': 7371, 'racial': 10579, 'slur': 12148, 'aimed': 315, 'inverted': 6928, 'suspension': 13008, 'healthier': 6041, 'stripped': 12764, 'pinch': 9863, 'awesomeness': 942, 'togehter': 13526, 'addison': 164, 'reed': 10804, 'collector': 2443, 'coldstone': 2428, 'waaaaayyyy': 14464, 'delicous': 3369, 'creaminess': 2973, 'peacefulness': 9650, 'reactive': 10685, 'frantically': 5270, 'apron': 667, 'lounge': 7887, 'swap': 13025, 'gorge': 5661, 'disgustingly': 3712, 'undergo': 13951, 'rep': 10980, 'reciting': 10754, 'spiel': 12445, 'scarlet': 11527, 'maladaptive': 8032, 'architecturally': 680, 'americana': 454, 'benjamin': 1239, 'forest': 5206, 'gump': 5834, 'stayviolation': 12620, 'pistil': 9891, 'manliness': 8080, 'wig': 14739, 'inspection': 6801, 'tidying': 13456, 'daytime': 3229, 'arlovski': 696, 'ufc': 13872, 'robbed': 11253, 'dismantle': 3725, 'beet': 1169, 'rabiola': 10575, 'fresca': 5303, 'ravioli': 10666, 'encompass': 4330, 'yin': 15002, 'yang': 14965, 'savory': 11502, 'prosperity': 10380, 'slice': 12105, 'seattle': 11628, 'showcase': 11915, 'concidence': 2605, 'uneasiness': 13989, 'velvet': 14306, 'wallpaper': 14501, 'mobile': 8491, 'ploy': 9964, 'ashraf': 761, 'pakistani': 9500, 'overboard': 9384, 'nigga': 8942, 'unpopular': 14093, 'ominous': 9228, 'radiation': 10593, 'initally': 6749, 'internist': 6880, 'sarcoma': 11470, 'aimlessly': 318, 'narrow': 8795, 'jeannie': 7088, 'grip': 5765, 'keith': 7301, 'detoured': 3514, 'xela': 14949, 'resented': 11043, 'unspecified': 14129, 'equipment': 4460, 'friendfeed': 5315, 'dearwendy': 3254, 'entrenchedly': 4428, 'pureland': 10487, 'buddhism': 1714, 'whereas': 14671, 'negativity': 8851, 'leadership': 7556, 'avoided': 922, 'chabad': 2062, 'sukkah': 12910, 'sunlight': 12926, 'filter': 4974, 'woven': 14899, 'schach': 11539, 'lattice': 7514, 'verbalize': 14325, 'imagi': 6514, 'toenail': 13524, 'risked': 11233, 'nigeria': 8941, 'olden': 9210, 'sarawak': 11466, 'jugra': 7210, 'chronicle': 2230, 'pointlessness': 10001, 'cu': 3069, 'beg': 1176, 'administration': 185, 'stamped': 12574, 'medically': 8242, 'chaperone': 2095, 'unlikely': 14071, 'punctual': 10473, 'distraction': 3788, 'vexed': 14345, 'mohammed': 8511, 'hussein': 6415, 'xango': 14945, 'yahoo': 14963, 'verrrrrrrryyyy': 14333, 'ntoward': 9063, 'dissect': 3766, 'knock': 7390, 'backlog': 982, 'lindo': 7721, 'arose': 705, 'jumble': 7220, 'culprit': 3082, 'wounded': 14897, 'tiggers': 13463, 'sip': 12016, 'compliant': 2564, 'voip': 14434, 'institution': 6819, 'telephony': 13240, 'desktop': 3472, 'quieter': 10551, 'shushing': 11931, 'insert': 6787, 'arun': 743, 'harmless': 5962, 'insect': 6782, 'overpowered': 9415, 'bothering': 1544, 'yash': 14971, 'fateh': 4835, 'intrusion': 6916, 'vengeance': 14311, 'granny': 5709, 'panty': 9524, 'quilted': 10555, 'psycho': 10428, 'cuddling': 3075, 'thriller': 13417, 'prevails': 10246, 'betrayal': 1264, 'pluto': 9978, 'input': 6770, 'pacesetter': 9461, 'invincible': 6936, 'hp': 6343, 'plugged': 9966, 'charging': 2104, 'supervising': 12947, 'dealer': 3247, 'philter': 9801, 'paaker': 9457, 'certifiably': 2055, 'cunt': 3091, 'scarred': 11528, 'mso': 8660, 'bidi': 1294, 'concurrently': 2613, 'trajectory': 13644, 'fil': 4963, 'evoke': 4569, 'julian': 7214, 'spazzing': 12403, 'thingy': 13380, 'gikwang': 5554, 'cardio': 1914, 'emilyhursh': 4280, 'requires': 11032, 'childlike': 2179, 'ply': 9979, 'tweedy': 13834, 'rowan': 11324, 'shawl': 11827, 'mishap': 8442, 'toddler': 13519, 'discouraging': 3690, 'mereka': 8308, 'penyeri': 9694, 'sheet': 11834, 'dreamed': 3954, 'turkey': 13816, 'tofurkey': 13525, 'transparence': 13671, 'cliff': 2326, 'contentedly': 2761, 'canal': 1869, 'dictated': 3583, 'shaun': 11824, 'inclination': 6623, 'jamies': 7058, 'nerdy': 8876, 'daydreaming': 3227, 'shove': 11911, 'assuage': 802, 'yelp': 14992, 'realism': 10704, 'mumbai': 8695, 'slum': 12144, 'drafted': 3927, 'suckered': 12880, 'siri': 12020, 'honduras': 6264, 'equilibrium': 4459, 'sims': 11989, 'reduced': 10801, 'bernie': 1251, 'guaranteed': 5804, 'whipping': 14693, 'reground': 10866, 'nutrient': 9089, 'dense': 3407, 'spaghetti': 12387, 'meatball': 8232, 'workaholic': 14865, 'mating': 8181, 'assessed': 788, 'calculated': 1828, 'revealthestaryoutrulyare': 11141, 'corrupting': 2869, 'lull': 7932, 'foreigner': 5202, 'zombie': 15069, 'thunk': 13436, 'charged': 2103, 'kala': 7254, 'fangirls': 4806, 'transformation': 13659, 'exited': 4653, 'trimester': 13736, 'emerged': 4273, 'realizing': 10711, 'quell': 10537, 'dodd': 3837, 'deceives': 3270, 'analyzed': 490, 'overanalyzed': 9383, 'aversion': 917, 'license': 7665, 'hibernating': 6154, 'compunction': 2586, 'brink': 1657, 'adf': 176, 'consecrated': 2687, 'satiated': 11480, 'affordable': 261, 'pompoms': 10033, 'multi': 8686, 'braided': 1589, 'flap': 5046, 'lyman': 7963, 'malignant': 8035, 'melonoma': 8270, 'revisit': 11162, 'shoplifting': 11886, 'gummy': 5833, 'architectural': 679, 'wowed': 14901, 'respecting': 11078, 'io': 6947, 'galaxy': 5412, 'sii': 11969, 'lumia': 7935, 'specie': 12416, 'rave': 10664, 'photographed': 9808, 'bald': 1020, 'blonde': 1428, 'grandpa': 5706, 'bishop': 1333, 'stave': 12616, 'request': 11028, 'remainder': 10937, 'mock': 8494, 'promising': 10354, 'emphasise': 4300, 'speculation': 12425, 'ugh': 13876, 'naight': 8765, 'spurging': 12518, 'humid': 6379, 'advocacy': 239, 'grain': 5697, 'hudson': 6356, 'authentic': 895, 'ebony': 4123, 'labeled': 7436, 'accuser': 103, 'mashmellows': 8152, 'agonized': 296, 'treble': 13706, 'handbook': 5902, 'discharged': 3671, 'doctorate': 3832, 'tyler': 13860, 'durden': 4052, 'unpleasantly': 14091, 'noticer': 9044, 'phil': 9794, 'racking': 10587, 'organised': 9302, 'jess': 7111, 'omg': 9227, 'ka': 7247, 'daunting': 3215, 'romanticising': 11288, 'pairing': 9497, 'castiel': 1974, 'corn': 2852, 'earreading': 4095, 'audiobooks': 880, 'sweetness': 13045, 'recess': 10747, 'digress': 3606, 'zimbabwe': 15060, 'zimbabwean': 15061, 'bruised': 1694, 'harshness': 5972, 'wearied': 14587, 'relentlessness': 10915, 'fabolous': 4747, 'awaited': 928, 'losos': 7870, 'graham': 5696, 'rylin': 11390, 'carrry': 1949, 'jahmene': 7045, 'contacted': 2742, 'congregation': 2666, 'fundraiser': 5384, 'calle': 1837, 'blister': 1407, 'flop': 5105, 'unheard': 14031, 'possessing': 10089, 'fleece': 5067, 'prejudice': 10192, 'ened': 4354, 'farewell': 4815, 'longest': 7836, 'confession': 2636, 'airplane': 325, 'announcement': 542, 'platitude': 9930, 'cuff': 3078, 'anklet': 533, 'survives': 12999, 'cooperative': 2831, 'slam': 12079, 'boss': 1538, 'harass': 5942, 'drowsy': 3994, 'exspress': 4712, 'appriciation': 651, 'deteriorate': 3507, 'taryns': 13168, 'ringing': 11218, 'tax': 13187, 'imposed': 6567, 'confessing': 2635, 'jin': 7130, 'hee': 6082, 'lotte': 7877, 'lunapads': 7939, 'wap': 14521, 'folder': 5159, 'query': 10539, 'dashboard': 3203, 'containing': 2748, 'nickname': 8933, 'thesis': 13364, 'moanday': 8487, 'murdering': 8709, 'maximise': 8195, 'effed': 4174, 'detrimental': 3520, 'finke': 4998, 'begleiter': 1182, 'randythomas': 10630, 'irwins': 6984, 'mattered': 8185, 'norma': 9014, 'stalled': 12569, 'pesticide': 9774, 'contaminated': 2751, 'adrift': 216, 'underwater': 13970, 'lenten': 7624, 'transitory': 13666, 'align': 374, 'gusto': 5843, 'smothered': 12190, 'clearing': 2309, 'cobweb': 2390, 'psychopathology': 10434, 'adjusting': 182, 'terrain': 13284, 'tackle': 13101, 'follows': 5168, 'mojo': 8520, 'rawly': 10668, 'decorated': 3293, 'loft': 7806, 'claret': 2279, 'jug': 7208, 'rod': 11270, 'ditlevsen': 3801, 'queer': 10535, 'lovebox': 7892, 'division': 3815, 'comedian': 2475, 'defence': 3325, 'mechanism': 8236, 'katrinas': 7288, 'sniping': 12221, 'cleared': 2307, 'insdie': 6781, 'curry': 3109, 'immersed': 6535, 'dialed': 3564, 'recluse': 10760, 'swan': 13024, 'appetite': 636, 'potatoe': 10106, 'miso': 8448, 'dusted': 4057, 'insanely': 6776, 'philadelphia': 9795, 'pa': 9456, 'cascade': 1962, 'sexualy': 11780, 'napping': 8790, 'wealthy': 14582, 'resenting': 11045, 'tuition': 13803, 'concentrating': 2596, 'jongwoon': 7170, 'tease': 13212, 'ryeowook': 11389, 'ghosting': 5541, 'mph': 8653, 'funky': 5388, 'retorted': 11122, 'sensed': 11703, 'reestablish': 10809, 'qualify': 10526, 'offence': 9174, 'delhi': 3364, 'sang': 11457, 'zen': 15050, 'possesive': 10088, 'hallmark': 5886, 'seriousness': 11742, 'oven': 9379, 'greatbritain': 5735, 'daisy': 3151, 'hatch': 5983, 'holland': 6230, 'msg': 8658, 'blur': 1453, 'bikini': 1304, 'completing': 2558, 'loudly': 7884, 'basks': 1094, 'writes': 14920, 'utmost': 14229, 'froze': 5338, 'odds': 9167, 'replica': 11002, 'spock': 12473, 'reciprocate': 10751, 'intimidate': 6897, 'cheerfully': 2141, 'ritual': 11238, 'sweden': 13036, 'parable': 9533, 'publicly': 10448, 'laminate': 7471, 'executing': 4620, 'transportation': 13675, 'truley': 13767, 'resupplied': 11110, 'pipsqueak': 9885, 'outstanding': 9371, 'bragging': 1587, 'algebra': 366, 'stephanie': 12639, 'setback': 11755, 'diy': 3820, 'bernd': 1250, 'sportsbook': 12491, 'khatsii': 7323, 'capturing': 1900, 'mug': 8677, 'polite': 10018, 'longevity': 7837, 'bowler': 1570, 'frickin': 5311, 'employer': 4305, 'turmoil': 13818, 'ordering': 9292, 'kisser': 7363, 'nijifagilie': 8953, 'wip': 14788, 'cheating': 2129, 'awkwardness': 949, 'biological': 1318, 'selection': 11672, 'grace': 5683, 'haircut': 5874, 'methodically': 8336, 'antidote': 574, 'unlucky': 14077, 'genetics': 5496, 'orthodontist': 9323, 'pediatric': 9663, 'glimpsed': 5594, 'aftereffect': 271, 'coupon': 2910, 'naive': 8769, 'boardwalk': 1463, 'sunrise': 12929, 'immigrant': 6536, 'refugee': 10839, 'israelite': 7005, 'donning': 3866, 'vip': 14396, 'sticker': 12654, 'perpetrator': 9733, 'crim': 3006, 'hefty': 6086, 'weighting': 14623, 'quarrel': 10531, 'embarrass': 4260, 'burgos': 1763, 'rash': 10652, 'ep': 4446, 'auggie': 883, 'refered': 10813, 'outta': 9373, 'pip': 9882, 'disruptive': 3760, 'electrified': 4219, 'unworthiness': 14161, 'penance': 9681, 'crunch': 3053, 'lurgy': 7950, 'bellingham': 1210, 'copping': 2841, 'preparing': 10205, 'behaviour': 1190, 'apc': 610, 'practise': 10140, 'suffocate': 12895, 'avoidable': 920, 'forgets': 5210, 'mango': 8064, 'walmart': 14503, 'maceys': 7972, 'midst': 8362, 'allergen': 383, 'restriction': 11104, 'loner': 7831, 'appearanc': 629, 'ewhich': 4577, 'movign': 8647, 'romantically': 11287, 'tidy': 13455, 'uv': 14237, 'tyrant': 13867, 'dedicates': 3302, 'uh': 13881, 'pander': 9513, 'misinterpreted': 8444, 'deceptively': 3275, 'curb': 3095, 'sophat': 12350, 'kandal': 7259, 'colorado': 2453, 'progression': 10337, 'pneumonia': 9981, 'pony': 10038, 'uncoiling': 13927, 'chesley': 2159, 'invited': 6940, 'fierceness': 4946, 'proclaiming': 10305, 'specialty': 12415, 'mechanical': 8235, 'utilize': 14228, 'oldest': 9212, 'klysta': 7379, 'andrea': 502, 'data': 3207, 'et': 4502, 'cetera': 2059, 'drinkin': 3974, 'whiskey': 14697, 'strop': 12776, 'ruffling': 11350, 'inflating': 6713, 'gradually': 5691, 'morphed': 8595, 'zucchini': 15077, 'tart': 13163, 'cereal': 2050, 'pagetype': 9481, 'mimedoger': 8393, 'measurement': 8229, 'upfront': 14169, 'perpetuating': 9736, 'me': 8217, 'sod': 12271, 'aubrey': 874, 'baptism': 1049, 'depressive': 3437, 'jumpy': 7226, 'seoul': 11718, 'nothingness': 9037, 'repulsion': 11025, 'awoke': 950, 'transpired': 13673, 'roethisberger': 11273, 'stating': 12609, 'steelers': 12627, 'offense': 9180, 'household': 6332, 'avon': 924, 'criticizing': 3018, 'praising': 10143, 'heartrending': 6062, 'oprah': 9278, 'dealt': 3249, 'xx': 14960, 'xelliealicex': 14950, 'affair': 246, 'wod': 14831, 'twinge': 13845, 'aaaaaaand': 1, 'argued': 688, 'verdict': 14327, 'baton': 1106, 'ganging': 5428, 'subsided': 12855, 'shakiness': 11793, 'exiting': 4654, 'freakishly': 5284, 'wyatt': 14943, 'bowie': 1567, 'iman': 6520, 'limbed': 7710, 'striding': 12758, 'lounging': 7888, 'hardworking': 5955, 'memorizing': 8282, 'anythings': 595, 'consulted': 2732, 'counsel': 2892, 'copay': 2834, 'trophy': 13753, 'planner': 9918, 'bridezillas': 1641, 'groom': 5775, 'uninformed': 14038, 'rubber': 11336, 'dong': 3864, 'tna': 13512, 'crimson': 3009, 'sweetener': 13041, 'untidiness': 14144, 'hoarder': 6209, 'subaru': 12828, 'maximize': 8196, 'trustworthy': 13774, 'upgrade': 14170, 'flashy': 5054, 'explosion': 4698, 'desperation': 3480, 'adversary': 227, 'geez': 5472, 'cara': 1902, 'mord': 8581, 'sith': 12027, 'chilling': 2185, 'hendricks': 6121, 'heaviness': 6074, 'dreading': 3952, 'enmayi': 4390, 'granting': 5712, 'discipline': 3673, 'infertility': 6707, 'counseling': 2893, 'menses': 8291, 'conversion': 2806, 'rounder': 11318, 'prompt': 10357, 'convicted': 2810, 'getty': 5532, 'photographic': 9810, 'stray': 12735, 'predictably': 10174, 'ima': 6511, 'redundant': 10803, 'credential': 2988, 'presidency': 10221, 'synod': 13086, 'irreplaceable': 6972, 'idrc': 6474, 'violated': 14390, 'fron': 5332, 'trader': 13625, 'wonderland': 14847, 'battalion': 1107, 'dehydrated': 3355, 'girlie': 5566, 'caribbean': 1932, 'diving': 3813, 'dive': 3805, 'carole': 1942, 'karaoke': 7264, 'bewertung': 1272, 'ifyouwanttoknow': 6479, 'smitten': 12178, 'eyelash': 4739, 'tapped': 13159, 'snowglobe': 12237, 'mustered': 8734, 'christmassy': 2226, 'bloody': 1431, 'incessant': 6614, 'bitching': 1337, 'rammstein': 10620, 'soda': 12272, 'turbulently': 13814, 'container': 2747, 'exchanging': 4606, 'thirteen': 13388, 'shishido': 11866, 'senpai': 11697, 'gently': 5503, 'magnificent': 7997, 'clam': 2271, 'shark': 11815, 'fin': 4977, 'lethal': 7638, 'overdose': 9395, 'supreme': 12971, 'ect': 4140, 'mollusk': 8525, 'stabbed': 12553, 'solopgangfor': 12304, 'barnog': 1072, 'unconsciously': 13938, 'recite': 10753, 'shiftless': 11852, 'browse': 1689, 'dart': 3201, 'exhibit': 4636, 'joked': 7157, 'undressing': 13983, 'inspite': 6807, 'yogurt': 15010, 'trudger': 13762, 'ig': 6480, 'lore': 7862, 'cartoonish': 1959, 'vocalize': 14427, 'alignment': 376, 'snooped': 12226, 'strengthen': 12742, 'diva': 3804, 'wrestler': 14911, 'accrue': 94, 'barista': 1066, 'psychopath': 10433, 'forcing': 5191, 'carbs': 1907, 'addictive': 162, 'laurie': 7528, 'artefact': 727, 'locomotive': 7804, 'atrocious': 844, 'babe': 964, 'peach': 9651, 'marilyn': 8111, 'fame': 4792, 'directionless': 3639, 'adulthood': 219, 'artificially': 735, 'def': 3318, 'cure': 3096, 'ripe': 11226, 'multiband': 8687, 'effectual': 4173, 'asami': 749, 'muttered': 8736, 'violin': 14395, 'plunge': 9972, 'icy': 6451, 'vocab': 14424, 'poetic': 9991, 'springpad': 12509, 'abdominal': 18, 'convoluted': 2815, 'tom': 13535, 'duality': 4010, 'upright': 14184, 'manifestation': 8071, 'fulfillment': 5365, 'protagonist': 10383, 'curveballs': 3113, 'tattoo': 13182, 'peggy': 9675, 'mara': 8093, 'disdainful': 3702, 'babysat': 969, 'blinded': 1397, 'examining': 4588, 'dimple': 3616, 'sag': 11419, 'serendipity': 11731, 'collide': 2445, 'slacker': 12076, 'mcslackerson': 8214, 'endorphin': 4347, 'seizing': 11665, 'trillion': 13735, 'premonition': 10198, 'dewi': 3546, 'lestari': 7634, 'patent': 9604, 'metallic': 8328, 'clutch': 2376, 'ugliest': 13878, 'dayummm': 3230, 'inspire': 6803, 'synthwave': 13089, 'neds': 8837, 'atomic': 841, 'dustbin': 4056, 'candy': 1875, 'posy': 10103, 'pixy': 9902, 'james': 7055, 'springhouse': 12508, 'morrissey': 8597, 'incision': 6622, 'neuropathy': 8894, 'residual': 11054, 'unproductive': 14097, 'crudely': 3045, 'zooming': 15075, 'trinity': 13739, 'tuxedo': 13829, 'cufflink': 3079, 'drowned': 3992, 'aspire': 775, 'somethign': 12318, 'ayumi': 957, 'edits': 4152, 'stroller': 12770, 'aging': 289, 'constrained': 2721, 'extrovert': 4733, 'digg': 3601, 'sooooooooooo': 12343, 'aligncenter': 375, 'wp': 14902, 'mrdanbaird': 8655, 'tumor': 13808, 'amiss': 458, 'jareths': 7071, 'labyrinth': 7442, 'righteous': 11202, 'consoled': 2710, 'digust': 3607, 'permission': 9731, 'bun': 1743, 'reveling': 11145, 'nuh': 9072, 'ballroom': 1026, 'va': 14240, 'prandi': 10146, 'npr': 9061, 'motherland': 8611, 'bittersweet': 1347, 'tape': 13158, 'masterpiece': 8164, 'giardina': 5544, 'sandblog': 11451, 'craftisan': 2945, 'muffled': 8675, 'hideakis': 6159, 'forcefully': 5189, 'daiki': 3149, 'amusement': 479, 'olympian': 9219, 'hugh': 6362, 'aka': 333, 'sarcoidosis': 11469, 'gyp': 5851, 'iced': 6447, 'capp': 1893, 'hyphen': 6431, 'courtney': 2918, 'hows': 6342, 'affirmation': 257, 'slug': 12140, 'vented': 14315, 'unstable': 14132, 'pastor': 9599, 'glaring': 5585, 'inexperience': 6696, 'spitak': 12462, 'shouting': 11910, 'lotta': 7876, 'heinous': 6096, 'insular': 6825, 'minuscule': 8423, 'xviith': 14959, 'strick': 12754, 'van': 14265, 'den': 3396, 'velde': 14303, 'wince': 14767, 'tightness': 13468, 'opted': 9279, 'hiit': 6171, 'interval': 6888, 'sm': 12152, 'believ': 1201, 'unexpectedly': 14001, 'aiw': 329, 'alice': 371, 'haunt': 5997, 'phantomwise': 9789, 'apologetic': 614, 'drivel': 3980, 'advertises': 233, 'stupendous': 12814, 'incredulity': 6650, 'harshly': 5971, 'debacle': 3256, 'josh': 7176, 'shubhi': 11927, 'feb': 4868, 'juliannas': 7215, 'resonates': 11070, 'exists': 4651, 'snooty': 12228, 'gauche': 5458, 'cruise': 3048, 'expressway': 4711, 'munch': 8700, 'knotted': 7393, 'platonic': 9931, 'zoned': 15071, 'dated': 3210, 'synchronicity': 13084, 'lite': 7758, 'reali': 10699, 'afrade': 268, 'swarming': 13026, 'rejuvenate': 10889, 'therell': 13362, 'wallow': 14499, 'blaming': 1367, 'punishing': 10477, 'moonlighting': 8569, 'drill': 3972, 'unencumberedness': 13996, 'exhilaration': 4641, 'opis': 9267, 'sashy': 11473, 'purple': 10490, 'lavander': 7530, 'mesmerism': 8318, 'zest': 15055, 'bipolar': 1324, 'casablanca': 1961, 'vinnie': 14388, 'kompany': 7407, 'joleon': 7159, 'kolo': 7405, 'toure': 13597, 'innovative': 6768, 'overpower': 9414, 'shrouded': 11925, 'flaccid': 5035, 'penis': 9687, 'colic': 2429, 'imma': 6527, 'exclaim': 4612, 'positivity': 10086, 'personifying': 9753, 'progeny': 10329, 'genuflecting': 5505, 'unjust': 14061, 'snippy': 12223, 'momentum': 8532, 'isolating': 6999, 'titanic': 13503, 'pinned': 9875, 'inferiority': 6705, 'pumpin': 10467, 'undeserving': 13975, 'variation': 14276, 'wage': 14472, 'inept': 6690, 'payer': 9637, 'bungling': 1747, 'erm': 4468, 'naega': 8759, 'deo': 3414, 'apaya': 609, 'hae': 5861, 'dasi': 3205, 'neol': 8868, 'chajeul': 2069, 'itge': 7017, 'sigani': 11956, 'heureulsurok': 6148, 'gaseumi': 5444, 'apawa': 608, 'hanbeon': 5899, 'manirado': 8077, 'wo': 14828, 'doedollil': 3840, 'suman': 12914, 'itdamyeon': 7014, 'gotong': 5670, 'ttawin': 13789, 'naegen': 8760, 'fightstar': 4956, 'catchy': 1986, 'preformed': 10187, 'fantastically': 4809, 'ceramic': 2049, 'repairment': 10985, 'atelier': 818, 'artisan': 736, 'patrimony': 9616, 'specialized': 12412, 'primitive': 10270, 'antiquity': 577, 'ashtray': 763, 'divert': 3810, 'monthe': 8561, 'flirt': 5088, 'identifying': 6463, 'striking': 12760, 'biking': 1303, 'tulip': 13804, 'sadhana': 11410, 'hyped': 6424, 'diner': 3619, 'hype': 6423, 'oppies': 9269, 'ethic': 4509, 'desolation': 3474, 'consolation': 2708, 'sasha': 11472, 'beyonc': 1274, 'seal': 11617, 'akin': 334, 'hitler': 6200, 'lawless': 7534, 'innuendo': 6769, 'picky': 9834, 'favorable': 4846, 'bishan': 1332, 'fetch': 4920, 'filmic': 4972, 'orgy': 9311, 'depravity': 3430, 'blissfully': 1406, 'unaware': 13911, 'subsidization': 12857, 'loos': 7852, 'chip': 2194, 'heather': 6069, 'settlement': 11760, 'separately': 11723, 'riding': 11199, 'recurring': 10788, 'inexcusable': 6695, 'bestial': 1259, 'macho': 7976, 'lagging': 7460, 'repeated': 10988, 'pin': 9862, 'gaze': 5463, 'wandered': 14510, 'botanical': 1540, 'tor': 13562, 'craved': 2961, 'footing': 5184, 'poseur': 10080, 'keiko': 7299, 'zoll': 15068, 'blissed': 1404, 'spotlight': 12496, 'craziest': 2968, 'weirdest': 14630, 'karin': 7272, 'conspiring': 2714, 'distortion': 3784, 'existent': 4649, 'sloughed': 12132, 'kathumped': 7281, 'enthusiast': 4417, 'therapi': 13356, 'skincare': 12058, 'packaging': 9468, 'luxe': 7957, 'retains': 11115, 'papermakeupstamps': 9530, 'overdo': 9392, 'welfare': 14637, 'nyc': 9099, 'alarm': 343, 'bass': 1095, 'shahzad': 11789, 'ismaily': 6993, 'prevention': 10249, 'vegetable': 14295, 'glycerin': 5619, 'learing': 7570, 'diktats': 3608, 'indonesia': 6676, 'gary': 5442, 'jeoffrey': 7102, 'eyo': 4743, 'dy': 4067, 'looming': 7847, 'horned': 6301, 'owl': 9445, 'introverted': 6914, 'cathy': 1996, 'wanders': 14513, 'techno': 13221, 'slander': 12080, 'snail': 12195, 'mucus': 8668, 'nokia': 8986, 'gp': 5678, 'suggesting': 12901, 'articulated': 731, 'katanya': 7279, 'ulysses': 13894, 'parted': 9565, 'speedy': 12429, 'filmmaker': 4973, 'conceiving': 2593, 'peasy': 9658, 'anipike': 531, 'fanfictions': 4805, 'belle': 1209, 'sebastian': 11630, 'idle': 6471, 'snowy': 12240, 'destined': 3489, 'southern': 12380, 'unfolds': 14015, 'venturing': 14320, 'discriminated': 3696, 'nugget': 9071, 'serina': 11737, 'cleaner': 2300, 'tch': 13194, 'accessary': 72, 'coaxed': 2389, 'reminding': 10957, 'gratuitously': 5726, 'nastily': 8799, 'homophobic': 6261, 'kinison': 7359, 'ax': 953, 'forked': 5219, 'tounges': 13595, 'indide': 6664, 'bereft': 1247, 'persistent': 9745, 'nothnig': 9038, 'someoen': 12315, 'lauging': 7520, 'kiddos': 7333, 'daniel': 3183, 'sweetheart': 13042, 'biggie': 1300, 'kevin': 7313, 'hart': 5973, 'wiz': 14823, 'khalifa': 7321, 'bu': 1706, 'thaim': 13321, 'jay': 7077, 'outweighs': 9376, 'lurker': 7953, 'demo': 3385, 'communal': 2509, 'trusty': 13775, 'memorable': 8279, 'squint': 12538, 'magnifying': 7998, 'dictionary': 3584, 'wrecking': 14908, 'eyesight': 4742, 'quixote': 10566, 'blinding': 1398, 'windmill': 14771, 'eventual': 4542, 'resident': 11051, 'lin': 7719, 'chubby': 2232, 'diminish': 3614, 'ocd': 9162, 'insulting': 6828, 'informal': 6722, 'collecting': 2440, 'strict': 12755, 'torment': 13564, 'korea': 7410, 'kj': 7375, 'middot': 8358, 'vanquished': 14270, 'mooshilu': 8571, 'nylon': 9100, 'weeded': 14608, 'victoria': 14360, 'ruby': 11340, 'professionalism': 10321, 'boiling': 1485, 'imperturbable': 6552, 'cataclysmic': 1980, 'manufacturing': 8088, 'ollie': 9217, 'indy': 6687, 'founder': 5244, 'poverty': 10123, 'clot': 2357, 'clint': 2338, 'fetish': 4922, 'projection': 10345, 'repression': 11016, 'wising': 14803, 'befc': 1171, 'giraffe': 5563, 'majestic': 8017, 'appealing': 627, 'creates': 2977, 'descriptive': 3456, 'stillness': 12665, 'shyness': 11936, 'aloof': 409, 'analyzing': 491, 'smirking': 12176, 'wherefore': 14673, 'ableness': 26, 'indulgent': 6684, 'gmc': 5621, 'denali': 3397, 'conquering': 2679, 'explorable': 4692, 'ungodly': 14024, 'approve': 659, 'disapprove': 3660, 'yesubais': 14997, 'professionally': 10322, 'smother': 12189, 'misrepresented': 8452, 'acco': 79, 'nahariya': 8764, 'hogmanay': 6220, 'capability': 1887, 'stride': 12757, 'nonstop': 9002, 'maintained': 8014, 'outset': 9364, 'mccanns': 8207, 'disappearance': 3654, 'sci': 11556, 'stuffy': 12804, 'congested': 2661, 'thrill': 13415, 'velocity': 14305, 'picoult': 9836, 'sporkgasm': 12489, 'backstage': 987, 'phenomenal': 9791, 'travesty': 13691, 'bobby': 1470, 'melodramatically': 8268, 'taco': 13104, 'ade': 173, 'dakota': 3152, 'hiatus': 6153, 'reaffirmed': 10696, 'inclusive': 6630, 'chemotherapy': 2153, 'pinching': 9865, 'niggles': 8943, 'poaching': 9983, 'agtalk': 302, 'krem': 7415, 'ye': 14976, 'tget': 13313, 'continent': 2767, 'rightfully': 11205, 'imbicilic': 6522, 'smartest': 12161, 'elizabeth': 4238, 'unbelievable': 13914, 'shouted': 11909, 'undeveloped': 13978, 'extensive': 4717, 'ping': 9869, 'devote': 3537, 'atrophy': 845, 'muas': 8663, 'declined': 3287, 'rlsh': 11243, 'lacked': 7447, 'eco': 4133, 'chart': 2113, 'drew': 3966, 'focalors': 5147, 'sigil': 11961, 'opium': 9268, 'incense': 6612, 'wooden': 14852, 'smack': 12153, 'divinity': 3814, 'sizzler': 12039, 'rv': 11385, 'dinette': 3621, 'driveway': 3983, 'trembly': 13709, 'expanding': 4657, 'heavily': 6073, 'johnson': 7149, 'pi': 9825, 'ata': 815, 'spewing': 12441, 'kristie': 7419, 'colby': 2423, 'reshaped': 11049, 'pressuring': 10229, 'jhbdjhdfbjdfhbfd': 7121, 'upbringing': 14165, 'contradicts': 2785, 'cocky': 2395, 'alhamdulillah': 368, 'breastfeeding': 1620, 'hoop': 6284, 'enable': 4316, 'befuddled': 1175, 'bengal': 1237, 'degrassi': 3353, 'weep': 14615, 'oftentimes': 9196, 'coasted': 2386, 'tangle': 13147, 'stewing': 12650, 'urgent': 14199, 'stalker': 12568, 'receiver': 10742, 'steamy': 12626, 'strangling': 12727, 'banging': 1041, 'syaing': 13071, 'wisely': 14797, 'milly': 8391, 'concieve': 2606, 'sexuality': 11778, 'logo': 7816, 'inadvertently': 6599, 'smidgen': 12170, 'negligible': 8856, 'blip': 1402, 'benched': 1227, 'injuring': 6756, 'melty': 8274, 'energetically': 4357, 'spoke': 12477, 'atlephobia': 835, 'mail': 8004, 'discontinued': 3685, 'integral': 6833, 'theif': 13345, 'pipe': 9883, 'contemplated': 2754, 'flowed': 5118, 'outward': 9374, 'instinctively': 6818, 'passer': 9587, 'sausage': 11494, 'nw': 9097, 'cumbersome': 3089, 'additionally': 168, 'clumsiness': 2372, 'mus': 8714, 'knocking': 7391, 'victorian': 14361, 'niece': 8939, 'woah': 14829, 'phyica': 9818, 'jigsaw': 7125, 'clich': 2319, 'smirk': 12175, 'outlook': 9355, 'adores': 210, 'derbyshire': 3444, 'county': 2907, 'suburb': 12864, 'midwest': 8364, 'heimbuch': 6094, 'midwestern': 8365, 'manly': 8081, 'pointing': 9998, 'gaming': 5424, 'actauly': 134, 'storage': 12700, 'saved': 11497, 'willis': 14759, 'flick': 5077, 'monkey': 8551, 'shack': 11784, 'follicle': 5163, 'beluga': 1222, 'embarassing': 4255, 'seeps': 11660, 'formation': 5223, 'tec': 13215, 'parish': 9553, 'percieves': 9706, 'albuquerque': 351, 'preferred': 10184, 'earthly': 4100, 'sufficiently': 12894, 'haircute': 5875, 'athlete': 826, 'jonti': 7172, 'valorized': 14260, 'developer': 3528, 'cig': 2246, 'colomn': 2450, 'conservatish': 2692, 'tha': 13317, 'bfs': 1280, 'unwell': 14155, 'reuse': 11134, 'scrap': 11582, 'ashton': 762, 'isaac': 6985, 'irritation': 6983, 'organized': 9306, 'indulged': 6682, 'lovin': 7901, 'cafeteria': 1817, 'pocketbook': 9986, 'antm': 580, 'beam': 1133, 'metre': 8339, 'materialise': 8173, 'sector': 11640, 'oversharing': 9423, 'zach': 15038, 'orgasmic': 9310, 'envelops': 4435, 'brokeup': 1673, 'schoolgirl': 11553, 'utopia': 14230, 'spoonful': 12487, 'innanimate': 6763, 'carpet': 1944, 'zenden': 15051, 'boston': 1539, 'reuters': 11135, 'dutch': 4058, 'kidnapper': 7337, 'magnate': 7995, 'freddy': 5286, 'heineken': 6095, 'injured': 6755, 'assault': 778, 'devoting': 3540, 'retribution': 11124, 'incentive': 6613, 'cheese': 2144, 'cindy': 2250, 'atticus': 863, 'ttc': 13790, 'programmed': 10333, 'koyama': 7413, 'jene': 7096, 'braved': 1604, 'poorly': 10045, 'crochet': 3020, 'gland': 5583, 'swollen': 13065, 'cm': 2380, 'thickness': 13375, 'slat': 12086, 'mattress': 8187, 'unsurprisingly': 14141, 'bob': 1467, 'relented': 10912, 'corrected': 2864, 'angled': 517, 'sweep': 13039, 'chin': 2187, 'solitary': 12299, 'krista': 7417, 'putter': 10510, 'kubrick': 7421, 'ediebloom': 4146, 'ibs': 6444, 'bowel': 1566, 'unreasonably': 14107, 'idiosyncrasy': 6467, 'diversified': 3807, 'enchanted': 4325, 'shire': 11863, 'reunited': 11132, 'placement': 9907, 'misjudged': 8445, 'unsuspecting': 14142, 'oneself': 9236, 'bowling': 1571, 'texting': 13311, 'facilitating': 4756, 'blogoversary': 1422, 'lightheaded': 7687, 'clump': 2371, 'homeschooled': 6252, 'freelance': 5290, 'deity': 3357, 'intrusive': 6917, 'offset': 9192, 'foray': 5186, 'unacceptable': 13901, 'cursing': 3111, 'omitted': 9231, 'questionable': 10542, 'nyps': 9101, 'webpage': 14602, 'crutch': 3063, 'marlon': 8123, 'brando': 1599, 'ferocious': 4910, 'bradbury': 1584, 'ipad': 6950, 'ugg': 13874, 'lightweight': 7695, 'payday': 9636, 'loan': 7788, 'monthly': 8562, 'narrowed': 8796, 'logically': 7814, 'spectator': 12423, 'functioning': 5377, 'midori': 8361, 'getaway': 5528, 'doorway': 3881, 'cruelty': 3047, 'azul': 959, 'pac': 9458, 'peril': 9720, 'deranged': 3442, 'villian': 14381, 'schalm': 11541, 'radical': 10595, 'embarked': 4258, 'mislead': 8446, 'woe': 14832, 'meditative': 8251, 'pam': 9510, 'grotesque': 5780, 'unrealistic': 14103, 'cal': 1827, 'pear': 9655, 'blueberry': 1447, 'harrassment': 5968, 'implication': 6558, 'microsoft': 8354, 'glitch': 5597, 'panorma': 9521, 'superbike': 12934, 'cbs': 2014, 'sportsline': 12492, 'irl': 6962, 'expands': 4658, 'kiddy': 7334, 'communicator': 2515, 'quitter': 10562, 'morrow': 8598, 'runnin': 11366, 'bein': 1195, 'confined': 2641, 'stic': 12652, 'dangle': 3181, 'tgirl': 13314, 'whoever': 14710, 'ignorantly': 6489, 'convenient': 2798, 'paralysis': 9539, 'barking': 1068, 'squirrel': 12541, 'owning': 9449, 'singed': 12006, 'frail': 5259, 'patch': 9602, 'birthed': 1329, 'catapulted': 1983, 'filtered': 4975, 'workplace': 14872, 'kuya': 7430, 'buddy': 1716, 'angee': 509, 'homemade': 6246, 'tugging': 13802, 'fluffed': 5126, 'ruining': 11356, 'cbc': 2013, 'jazzyboy': 7081, 'fucker': 5352, 'lowests': 7910, 'zap': 15043, 'standouts': 12581, 'feist': 4892, 'performer': 9715, 'lawyer': 7537, 'tested': 13298, 'effectiveness': 4172, 'snare': 12203, 'sd': 11612, 'joyfully': 7188, 'illegitimate': 6499, 'bouncier': 1555, 'midcentury': 8356, 'paired': 9496, 'dresser': 3964, 'battled': 1114, 'whelming': 14669, 'tightened': 13465, 'eradication': 4464, 'envision': 4441, 'nearby': 8825, 'commodity': 2505, 'frosty': 5335, 'cube': 3070, 'bloated': 1409, 'fraud': 5275, 'abducted': 19, 'hinterland': 6190, 'gaige': 5407, 'scraped': 11584, 'nook': 9005, 'cranny': 2954, 'morsel': 8599, 'coping': 2838, 'vacancy': 14241, 'sciatica': 11557, 'swinging': 13057, 'brake': 1594, 'pedal': 9661, 'heir': 6098, 'will': 14751, 'normative': 9020, 'blogosphere': 1421, 'realizes': 10710, 'crol': 3024, 'tl': 13509, 'skews': 12049, 'encourages': 4337, 'polenta': 10012, 'convos': 2816, 'updating': 14168, 'broad': 1666, 'categorie': 1987, 'theater': 13342, 'imping': 6554, 'hook': 6279, 'unsurprising': 14140, 'activist': 142, 'abide': 22, 'rewarding': 11171, 'exuberance': 4734, 'latex': 7508, 'hungover': 6400, 'marketplace': 8120, 'sycf': 13072, 'minority': 8421, 'indie': 6665, 'sorted': 12362, 'edmontonians': 4154, 'scandalous': 11516, 'swimwear': 13054, 'jazz': 7079, 'crowed': 3039, 'appease': 634, 'audie': 877, 'mona': 8538, 'multiplied': 8691, 'abated': 13, 'vegetarian': 14296, 'coworker': 2930, 'andintrupte': 500, 'trad': 13622, 'slave': 12091, 'bagan': 1003, 'nakedness': 8773, 'recovering': 10783, 'umlungu': 13897, 'hahahahahha': 5869, 'screenshots': 11596, 'carefully': 1924, 'accessibility': 73, 'warfighter': 14528, 'marveling': 8139, 'waterside': 14566, 'ranging': 10633, 'brooding': 1677, 'gnawing': 5623, 'forefoot': 5197, 'lateral': 7506, 'repaired': 10982, 'chalking': 2073, 'academia': 58, 'controlling': 2795, 'wary': 14548, 'risen': 11230, 'desolate': 3473, 'soundscapes': 12374, 'detoxing': 3517, 'scarecrow': 11523, 'wizard': 14824, 'oz': 9455, 'drown': 3991, 'batter': 1108, 'lard': 7491, 'throe': 13422, 'ownership': 9448, 'culturally': 3085, 'pegged': 9674, 'savouring': 11504, 'unbound': 13916, 'embossed': 4268, 'feather': 4862, 'orihime': 9318, 'imaginary': 6515, 'blunt': 1452, 'dir': 3633, 'henypire': 6123, 'brassed': 1601, 'contention': 2762, 'header': 6025, 'blowjob': 1440, 'igniting': 6486, 'senegal': 11695, 'farafina': 4812, 'cassava': 1969, 'burdening': 1758, 'raise': 10615, 'weekly': 14613, 'pleading': 9947, 'nurtured': 9086, 'committing': 2503, 'transported': 13676, 'loreal': 7863, 'adn': 199, 'someobdy': 12314, 'transcends': 13654, 'cinematic': 2252, 'awoken': 951, 'kindly': 7355, 'loki': 7818, 'survivor': 13001, 'florence': 5108, 'obeys': 9116, 'lunar': 7940, 'papamoka': 9527, 'fahad': 4766, 'leaning': 7567, 'skeleton': 12045, 'everchanging': 4547, 'sailormoon': 11426, 'gateway': 5451, 'unsupported': 14138, 'avril': 925, 'lavigne': 7532, 'happiest': 5933, 'psych': 10423, 'defined': 3341, 'jayson': 7078, 'clicked': 2323, 'ken': 7303, 'arrives': 719, 'mensa': 8290, 'sharia': 11813, 'european': 4526, 'policy': 10015, 'glc': 5589, 'maddening': 7980, 'splurge': 12471, 'hurling': 6406, 'epithet': 4453, 'soooooooo': 12342, 'suffers': 12892, 'arrange': 710, 'rearrange': 10718, 'assemble': 781, 'interlochen': 6868, 'jonathan': 7166, 'incessantly': 6615, 'livevideo': 7775, 'ptk': 10439, 'convention': 2800, 'vey': 14346, 'oncology': 9233, 'dpt': 3923, 'paranoiud': 9544, 'nicest': 8928, 'kindest': 7354, 'katy': 7289, 'perry': 9738, 'comfident': 2480, 'cheerfull': 2140, 'loosing': 7856, 'tigger': 13462, 'wendy': 14642, 'alexa': 361, 'glare': 5584, 'directed': 3636, 'exchanged': 4605, 'fearing': 4856, 'iv': 7023, 'tripped': 13743, 'vigorously': 14377, 'signing': 11968, 'oriented': 9312, 'hyundai': 6438, 'tucson': 13798, 'savor': 11501, 'mistreatment': 8468, 'lurk': 7952, 'theo': 13348, 'eli': 4231, 'skillz': 12054, 'rebuilding': 10736, 'rudley': 11346, 'distinction': 3780, 'blurred': 1454, 'bumbed': 1738, 'strained': 12720, 'sculpt': 11609, 'brewing': 1634, 'mystical': 8750, 'culmination': 3081, 'dancefloor': 3173, 'tempo': 13254, 'humming': 6384, 'targeting': 13162, 'ecology': 4134, 'joe': 7137, 'prosperous': 10381, 'photographing': 9812, 'radiates': 10592, 'inlove': 6761, 'sean': 11620, 'faris': 4816, 'sleepover': 12100, 'scavenger': 11532, 'subsiding': 12856, 'grazed': 5732, 'imporant': 6562, 'vermont': 14331, 'farther': 4819, 'tabloid': 13099, 'comedic': 2476, 'alva': 430, 'suuuper': 13015, 'stinging': 12671, 'nipple': 8968, 'slew': 12104, 'agreeing': 300, 'fitch': 5023, 'mihm': 8373, 'kyuhyun': 7432, 'apgujeong': 612, 'hyunjin': 6439, 'breathed': 1623, 'sceptical': 11538, 'mopping': 8575, 'boast': 1464, 'india': 6659, 'gracefully': 5686, 'humbly': 6376, 'rubble': 11339, 'deborah': 3259, 'lippmann': 7739, 'staining': 12564, 'exceedingly': 4592, 'modified': 8504, 'peachy': 9652, 'jelly': 7094, 'sation': 11481, 'byte': 1806, 'dotting': 3894, 'pursued': 10497, 'submit': 12846, 'crop': 3026, 'biofuels': 1317, 'fossil': 5238, 'unwashed': 14153, 'drier': 3969, 'addisons': 165, 'revision': 11161, 'ampatuan': 472, 'odor': 9171, 'glowy': 5614, 'afaerytaleinmakebelieve': 244, 'marvel': 8138, 'salvaging': 11439, 'bbq': 1122, 'gutted': 5845, 'residence': 11050, 'powell': 10125, 'clan': 2276, 'colombian': 2449, 'gringa': 5763, 'amparo': 471, 'reckoned': 10758, 'inquired': 6772, 'creeped': 2993, 'softer': 12280, 'eurodancemix': 4524, 'fortitude': 5231, 'omegle': 9226, 'balloon': 1025, 'kiyoshi': 7374, 'impromptu': 6581, 'tampon': 13141, 'fir': 5002, 'ii': 6494, 'installment': 6809, 'globe': 5602, 'hairstye': 5877, 'disengaged': 3704, 'embedding': 4265, 'tsunami': 13786, 'prenatal': 10199, 'legtimately': 7605, 'hammered': 5894, 'pilate': 9849, 'katie': 7283, 'munching': 8701, 'craisins': 2946, 'thinker': 13382, 'jerald': 7104, 'rue': 11349, 'dianne': 3570, 'realisation': 10700, 'berk': 1248, 'stitch': 12681, 'repeating': 10990, 'lisas': 7746, 'shred': 11922, 'lt': 7918, 'folkeskole': 5161, 'lowdown': 7905, 'countering': 2900, 'provoke': 10413, 'ink': 6759, 'spilling': 12449, 'scim': 11562, 'sep': 11719, 'moribund': 8587, 'mingled': 8408, 'certainty': 2054, 'valid': 14256, 'subjective': 12838, 'mri': 8656, 'semipro': 11688, 'embarassed': 4254, 'sharply': 11821, 'fume': 5373, 'progressively': 10339, 'wire': 14791, 'princess': 10272, 'sauntered': 11493, 'flickr': 5080, 'hatchet': 5984, 'apologizing': 618, 'skdd': 12042, 'regional': 10858, 'astonishment': 812, 'inauguration': 6605, 'maturestudenthanginginthere': 8190, 'miniscule': 8416, 'thumbnail': 13432, 'changeling': 2085, 'easygoing': 4112, 'cutting': 3127, 'cabbage': 1808, 'venison': 14312, 'stew': 12648, 'pomegranate': 10032, 'oiliness': 9201, 'kali': 7255, 'ni': 8922, 'dah': 3148, 'bertukar': 1254, 'jadi': 7042, 'benci': 1228, 'bothersome': 1545, 'kenya': 7307, 'shiraishi': 11862, 'reflective': 10826, 'puncture': 10474, 'tyre': 13868, 'mediate': 8239, 'condone': 2624, 'revalidation': 11136, 'portfolio': 10065, 'jerry': 7109, 'hun': 6395, 'cello': 2033, 'hath': 5990, 'constructivism': 2727, 'solomon': 12302, 'affiliate': 255, 'humble': 6372, 'neil': 8862, 'odonnell': 9170, 'interception': 6860, 'pittsburgh': 9899, 'chivalry': 2199, 'magnanimity': 7994, 'pesach': 9768, 'ethnic': 4512, 'flowy': 5122, 'jingly': 7131, 'royal': 11327, 'ar': 669, 'croatian': 3019, 'moist': 8513, 'ahhh': 308, 'shopper': 11887, 'potted': 10112, 'fuchsia': 5349, 'unfairly': 14004, 'supervision': 12948, 'heroic': 6137, 'humiliating': 6381, 'guffaw': 5814, 'flooding': 5102, 'unconcern': 13933, 'automatically': 906, 'trope': 13752, 'minimize': 8414, 'pricked': 10258, 'complication': 2567, 'bound': 1558, 'flogger': 5099, 'fearlessness': 4858, 'tribal': 13722, 'wisconsin': 14794, 'bugging': 1724, 'insyallah': 6829, 'sublimed': 12841, 'deprive': 3439, 'cracking': 2941, 'fullbright': 5367, 'rereading': 11034, 'portraying': 10074, 'pacified': 9463, 'selfless': 11679, 'gospel': 5666, 'northern': 9022, 'saskatchewan': 11474, 'truck': 13761, 'buffalo': 1720, 'widow': 14732, 'poked': 10007, 'ridgerunner': 11195, 'solberg': 12287, 'lightsync': 7694, 'mistress': 8469, 'blouse': 1437, 'jumper': 7224, 'spiked': 12446, 'warsaw': 14546, 'nutshell': 9094, 'emillionstars': 4278, 'soothes': 12348, 'sadistic': 11411, 'opinons': 9266, 'restlessness': 11095, 'listing': 7755, 'videotape': 14366, 'naman': 8775, 'recommending': 10772, 'marshal': 8130, 'glenn': 5592, 'unwilling': 14156, 'shameful': 11801, 'allegation': 381, 'untalented': 14143, 'scored': 11572, 'handrail': 5913, 'basement': 1083, 'grumbling': 5799, 'organise': 9301, 'gauge': 5459, 'flogged': 5098, 'pierced': 9845, 'folded': 5158, 'dip': 3629, 'defiled': 3337, 'ski': 12050, 'mulligan': 8684, 'traction': 13620, 'denise': 3402, 'annual': 549, 'outbreak': 9339, 'ptpt': 10441, 'te': 13196, 'pouhere': 10116, 'mistaken': 8465, 'normalcy': 9016, 'wearer': 14586, 'flexible': 5074, 'prestigious': 10232, 'unclear': 13926, 'joel': 7138, 'scrubbed': 11604, 'huddled': 6355, 'congregated': 2665, 'rhinebeck': 11178, 'percolated': 9707, 'synonym': 13087, 'homemaker': 6247, 'edmonton': 4153, 'dodging': 3838, 'seedy': 11647, 'duct': 4020, 'deepest': 3314, 'permanenter': 9727, 'zum': 15078, 'eintrag': 4202, 'mediation': 8240, 'funk': 5387, 'prematurely': 10196, 'manifest': 8070, 'tactic': 13105, 'multiplication': 8690, 'tremus': 13713, 'solves': 12309, 'surmountable': 12984, 'brittneys': 1664, 'amped': 473, 'peppermint': 9697, 'patty': 9623, 'breakup': 1617, 'runneth': 11365, 'improvising': 6587, 'omangy': 9222, 'heung': 6147, 'fuzzy': 5401, 'clash': 2284, 'laconic': 7450, 'polished': 10017, 'hogging': 6219, 'deliberate': 3365, 'hercules': 6129, 'voicesfromkrypton': 14431, 'paulie': 9625, 'correctly': 2866, 'bezos': 1276, 'grant': 5710, 'chorus': 2215, 'outro': 9363, 'aforementioned': 265, 'schmidt': 11550, 'esily': 4481, 'airritated': 327, 'converse': 2804, 'dnt': 3826, 'yu': 15030, 'fr': 5252, 'knwing': 7403, 'nthing': 9062, 'plastikan': 9926, 'makeover': 8023, 'roslin': 11305, 'acause': 61, 'lightmeter': 7691, 'existence': 4648, 'godly': 5632, 'jamba': 7054, 'frappucino': 5273, 'reckon': 10757, 'downtime': 3916, 'teresa': 13277, 'bottling': 1547, 'unforgettable': 14017, 'expansiveperspective': 4661, 'walter': 14506, 'eastern': 4110, 'devastation': 3525, 'danny': 3187, 'stalk': 12567, 'erica': 4466, 'willed': 14752, 'tx': 13854, 'sassiness': 11475, 'javascript': 7075, 'membres': 8276, 'recless': 10759, 'mamma': 8043, 'headlock': 6029, 'whooooos': 14718, 'whooooooooos': 14717, 'whooooo': 14716, 'craaaaaaack': 2936, 'ensign': 4400, 'camper': 1861, 'stinking': 12675, 'noisiest': 8984, 'atoshealthcare': 843, 'represented': 11011, 'paraphrase': 9545, 'ranted': 10637, 'revulsion': 11167, 'elicits': 4233, 'fascination': 4823, 'eats': 4118, 'trite': 13745, 'flourish': 5115, 'bartender': 1079, 'kx': 7431, 'fork': 5218, 'disc': 3668, 'lowering': 7908, 'paypal': 9640, 'copyright': 2845, 'violation': 14391, 'machiavellian': 7973, 'announcing': 543, 'witted': 14821, 'alley': 386, 'gentrified': 5504, 'ghetto': 5538, 'muffin': 8674, 'nerd': 8875, 'chukey': 2236, 'inapporpriate': 6601, 'fergie': 4909, 'coffin': 2405, 'downwards': 3919, 'rider': 11194, 'scientific': 11559, 'playhousecomm': 9939, 'executed': 4619, 'topping': 13561, 'olivia': 9215, 'adhere': 177, 'unintelligent': 14043, 'memoir': 8278, 'surviving': 13000, 'holli': 6232, 'reese': 10808, 'witnesed': 14817, 'coiled': 2416, 'conforming': 2650, 'rocker': 11263, 'buff': 1719, 'agency': 279, 'demoralized': 3392, 'beirut': 1197, 'distaste': 3777, 'godaddy': 5628, 'privellege': 10286, 'domain': 3851, 'vehemently': 14299, 'oppose': 9272, 'shoved': 11912, 'elvive': 4249, 'strayed': 12736, 'sl': 12073, 'dim': 3612, 'sinai': 11994, 'sheep': 11831, 'bewildered': 1273, 'amd': 450, 'undiscovered': 13979, 'mega': 8257, 'clingy': 2334, 'todayyy': 13517, 'habitual': 5856, 'wh': 14656, 'initiation': 6752, 'inconsequential': 6636, 'illicit': 6500, 'ungraciously': 14025, 'bomber': 1495, 'convoy': 2817, 'hauler': 5996, 'zine': 15063, 'sience': 11952, 'feminism': 4903, 'bauer': 1116, 'proclaims': 10306, 'unconvinced': 13942, 'venus': 14322, 'swell': 13047, 'quiver': 10564, 'smugly': 12192, 'textile': 13310, 'appts': 664, 'confirming': 2647, 'acker': 119, 'recognise': 10761, 'drunken': 4001, 'agility': 288, 'pester': 9772, 'srcurl': 12545, 'draftbloger': 3926, 'lsd': 7917, 'chemist': 2150, 'shroomery': 11924, 'smarty': 12162, 'template': 13252, 'cherry': 2158, 'placing': 9908, 'dubied': 4013, 'dampening': 3168, 'sentinel': 11716, 'hanford': 5917, 'councilman': 2891, 'proposed': 10373, 'committee': 2502, 'summed': 12917, 'justly': 7242, 'wristwatch': 14917, 'judgement': 7202, 'homophobia': 6260, 'mend': 8287, 'burgeoning': 1761, 'indian': 6660, 'cricket': 3003, 'sri': 12546, 'lankas': 7484, 'flatmate': 5056, 'imprinted': 6580, 'vibrates': 14351, 'shoudlnt': 11903, 'jacksonville': 7036, 'seminar': 11687, 'inadequacy': 6597, 'linklater': 7733, 'confidential': 2640, 'intermediary': 6870, 'pollicino': 10025, 'mourn': 8632, 'overeat': 9398, 'piddi': 9840, 'float': 5094, 'eurgh': 4522, 'scout': 11580, 'pinewood': 9868, 'cleat': 2312, 'smoked': 12180, 'flooring': 5104, 'cox': 2932, 'liv': 7767, 'pail': 9485, 'tommy': 13540, 'flashlight': 5053, 'ashers': 758, 'distill': 3778, 'mull': 8682, 'complexity': 2563, 'objective': 9118, 'tantric': 13155, 'pry': 10420, 'reconciled': 10774, 'partaking': 9564, 'feast': 4859, 'litte': 7764, 'carping': 1945, 'extremly': 4732, 'spends': 12437, 'setup': 11762, 'ffxi': 4931, 'duh': 4025, 'flusher': 5135, 'preaching': 10156, 'trumpeter': 13770, 'gazing': 5464, 'eqafe': 4454, 'monopoly': 8554, 'cocktail': 2394, 'adrenaline': 213, 'inquisitive': 6774, 'barcial': 1056, 'allowance': 393, 'conditioning': 2623, 'segregated': 11663, 'reducing': 10802, 'surreal': 12989, 'etape': 4503, 'caledonia': 1830, 'gervase': 5524, 'piped': 9884, 'unfollows': 14016, 'stocking': 12685, 'crown': 3040, 'decite': 3282, 'avalanche': 911, 'wesleyan': 14647, 'kitoben': 7369, 'playground': 9938, 'condemn': 2614, 'linger': 7724, 'queezy': 10536, 'carcass': 1909, 'nordstroms': 9012, 'contacting': 2743, 'hatter': 5993, 'subpar': 12850, 'alternated': 421, 'reproductive': 11020, 'everybitterthingissweet': 4550, 'jonesing': 7168, 'ineffective': 6688, 'similarity': 11978, 'chiuv': 2197, 'kaddish': 7249, 'daven': 3217, 'amud': 477, 'straightforwardness': 12718, 'cantina': 1883, 'marginalised': 8102, 'deployed': 3427, 'council': 2889, 'becasue': 1151, 'assert': 783, 'drift': 3970, 'decompress': 3290, 'freeer': 5289, 'eyeliner': 4741, 'curler': 3103, 'acquainted': 128, 'ensure': 4403, 'atention': 820, 'misstreated': 8462, 'affeccion': 247, 'charlies': 2108, 'zoo': 15073, 'mag': 7987, 'cordial': 2848, 'selected': 11671, 'exemplified': 4623, 'rocked': 11262, 'apprised': 652, 'approximately': 662, 'disrupted': 3758, 'savior': 11500, 'disgestive': 3705, 'verbally': 14326, 'eighth': 4200, 'suzanne': 13017, 'vega': 14293, 'formal': 5221, 'evaluation': 4533, 'inconsiderate': 6637, 'sissy': 12021, 'bubbling': 1708, 'missionary': 8460, 'submitting': 12849, 'palcebowhores': 9503, 'paternal': 9605, 'procrastinating': 10307, 'rational': 10660, 'enquiry': 4396, 'notifying': 9047, 'solidarity': 12298, 'iraq': 6954, 'stripping': 12765, 'ptl': 10440, 'dabble': 3144, 'pubicly': 10444, 'caste': 1973, 'creed': 2990, 'elite': 4236, 'mogul': 8510, 'comatose': 2466, 'timely': 13477, 'fragile': 5255, 'kremlin': 7416, 'chechen': 2130, 'afghan': 263, 'mujahedin': 8678, 'siting': 12028, 'flakiness': 5040, 'materialist': 8174, 'newton': 8916, 'panther': 9523, 'dkang': 3822, 'acumen': 150, 'ensues': 4402, 'gifting': 5548, 'subscription': 12852, 'andreas': 503, 'annotation': 539, 'thequeenbuzz': 13353, 'mun': 8699, 'thump': 13433, 'nutritional': 9091, 'demonstrate': 3390, 'shedding': 11830, 'stumble': 12805, 'humping': 6393, 'injected': 6753, 'venom': 14313, 'outrageously': 9360, 'tourette': 13598, 'unpredictability': 14094, 'carnage': 1938, 'skudrive': 12069, 'becsuse': 1157, 'physicality': 9821, 'bacuse': 992, 'generate': 5486, 'passerby': 9588, 'sulk': 12912, 'sensibility': 11704, 'revolves': 11165, 'yank': 14966, 'kiat': 7326, 'obsessive': 9137, 'anal': 484, 'reddit': 10794, 'dispairing': 3738, 'poser': 10079, 'libertine': 7660, 'jail': 7046, 'inhuman': 6746, 'netherlands': 8890, 'macendarfer': 7971, 'justquiltn': 7243, 'unfinished': 14010, 'thrifty': 13414, 'tdy': 13195, 'converting': 2807, 'currency': 3105, 'reviewing': 11157, 'radar': 10589, 'unnoticed': 14086, 'slink': 12116, 'invariably': 6924, 'indirectly': 6670, 'manhandled': 8065, 'hertha': 6141, 'rejoice': 10887, 'err': 4469, 'jury': 7234, 'reincarnation': 10877, 'arabia': 671, 'indigenous': 6667, 'meditate': 8247, 'heater': 6067, 'muddling': 8672, 'wot': 14891, 'acquaint': 126, 'sailing': 11425, 'marching': 8098, 'saluting': 11438, 'temp': 13247, 'rudderless': 11342, 'murua': 8713, 'wakeup': 14484, 'simpler': 11982, 'nourished': 9051, 'lajoie': 7465, 'famers': 4793, 'dwell': 4063, 'lowly': 7912, 'khezef': 7324, 'effeminacy': 4175, 'gettin': 5530, 'scad': 11510, 'nailart': 8767, 'headlamp': 6027, 'tent': 13274, 'dharavi': 3550, 'turnover': 13824, 'stitching': 12683, 'feelingless': 4889, 'nighters': 8946, 'poison': 10003, 'hierarchy': 6163, 'shampoo': 11805, 'lather': 7509, 'selectively': 11674, 'chink': 2193, 'hindered': 6184, 'genentech': 5480, 'takeover': 13120, 'hernia': 6134, 'pageviews': 9482, 'reaaallyyyy': 10677, 'jens': 7100, 'mobility': 8493, 'occupational': 9152, 'rego': 10862, 'instant': 6811, 'refocus': 10830, 'epileptic': 4450, 'melee': 8264, 'dp': 3921, 'exertion': 4629, 'prof': 10318, 'pendant': 9683, 'mousse': 8637, 'swedish': 13037, 'turnip': 13822, 'involve': 6943, 'metropolitan': 8340, 'mushy': 8721, 'feverishly': 4925, 'ship': 11861, 'sailed': 11424, 'bleeds': 1385, 'warms': 14536, 'inter': 6854, 'generational': 5489, 'feat': 4861, 'bridgewater': 1644, 'contemplate': 2753, 'reactor': 10686, 'rebel': 10731, 'funding': 5383, 'alien': 372, 'wt': 14933, 'txl': 13855, 'esteemed': 4498, 'ultralight': 13892, 'newcomer': 8908, 'collapsing': 2435, 'tangent': 13144, 'jerked': 7107, 'emma': 4283, 'hypnosis': 6432, 'porcupine': 10058, 'landscape': 7479, 'inexplicably': 6697, 'unfounded': 14020, 'slump': 12146, 'wrongfully': 14928, 'astray': 813, 'sonia': 12331, 'yixuan': 15004, 'atiqah': 830, 'shortly': 11898, 'react': 10681, 'circus': 2259, 'pitied': 9896, 'chilled': 2183, 'ambience': 442, 'cantankerous': 1881, 'marijuana': 8108, 'jilted': 7127, 'screenshot': 11595, 'environmental': 4439, 'architect': 678, 'whatevers': 14662, 'bee': 1164, 'swore': 13068, 'swallowed': 13021, 'effing': 4181, 'kristi': 7418, 'gastric': 5447, 'iteration': 7016, 'fiercely': 4945, 'superdrug': 12935, 'slogging': 12125, 'substantially': 12860, 'slowed': 12134, 'ml': 8484, 'waft': 14471, 'charred': 2112, 'humility': 6383, 'hypocritical': 6435, 'bard': 1058, 'hillary': 6179, 'eluded': 4246, 'colin': 2430, 'entirelly': 4420, 'undertaken': 13967, 'dawning': 3222, 'marlowe': 8124, 'humanity': 6369, 'ruthless': 11384, 'rapacity': 10639, 'susanna': 13003, 'visting': 14413, 'devestated': 3531, 'grave': 5727, 'andangry': 497, 'glint': 5595, 'pathological': 9609, 'autistics': 902, 'overslept': 9425, 'drape': 3942, 'conection': 2631, 'customized': 3121, 'winey': 14777, 'scummy': 11611, 'killer': 7341, 'accompanied': 82, 'autism': 900, 'witless': 14816, 'bontoc': 1509, 'ribbon': 11183, 'daydream': 3225, 'flossing': 5111, 'sabbatical': 11394, 'embedded': 4264, 'oxbow': 9450, 'kentucky': 7306, 'preakness': 10157, 'sloan': 12123, 'utah': 14224, 'wept': 14644, 'replied': 11003, 'logistics': 7815, 'prediction': 10177, 'fixing': 5031, 'cathing': 1994, 'pierce': 9844, 'thatrupert': 13337, 'intend': 6842, 'jam': 7052, 'jazzed': 7080, 'biz': 1348, 'confirm': 2644, 'kierkegaard': 7338, 'philosopher': 9798, 'facilitate': 4755, 'interference': 6867, 'stunted': 12813, 'instilled': 6816, 'headcold': 6023, 'assure': 808, 'perusal': 9762, 'intensifying': 6846, 'recruiter': 10787, 'opiate': 9263, 'infant': 6700, 'clairee': 2270, 'undecorating': 13943, 'cornish': 2856, 'cornwall': 2857, 'katrina': 7287, 'imbibed': 6521, 'incalculable': 6608, 'mischief': 8434, 'lovedi': 7895, 'slicing': 12107, 'creamy': 2974, 'cheesecake': 2145, 'seemad': 11653, 'nadia': 8758, 'neal': 8823, 'frappe': 5272, 'cliche': 2320, 'overtook': 9434, 'parked': 9556, 'soulbitesblog': 12368, 'louder': 7883, 'raider': 10605, 'methinks': 8334, 'hurl': 6405, 'egypt': 4191, 'goddamned': 5630, 'stereotypical': 12643, 'confront': 2652, 'openness': 9259, 'disorganised': 3733, 'logical': 7813, 'uuuugh': 14236, 'recourse': 10780, 'cabeal': 1809, 'viral': 14397, 'hotline': 6325, 'revving': 11168, 'reliant': 10918, 'soulmate': 12370, 'foible': 5154, 'entertains': 4414, 'storytelling': 12709, 'scattering': 11531, 'pew': 9786, 'inundated': 6921, 'dominate': 3855, 'dissappear': 3762, 'qq': 10521, 'impoverished': 6572, 'traveler': 13686, 'freestone': 5292, 'irritant': 6980, 'fundamentally': 5381, 'democratic': 3387, 'burning': 1771, 'alexander': 362, 'hectic': 6078, 'canadian': 1867, 'publication': 10446, 'espa': 4483, 'hd': 6016, 'surge': 12979, 'marbled': 8096, 'murrelets': 8711, 'conductor': 2630, 'oiut': 9203, 'minibus': 8411, 'saddest': 11407, 'restrained': 11101, 'impotent': 6571, 'artificial': 734, 'crawled': 2965, 'externally': 4721, 'faithsedge': 4780, 'archdiocese': 675, 'restoration': 11096, 'cathedral': 1992, 'strategic': 12732, 'esque': 4488, 'iam': 6441, 'bondmusings': 1504, 'hickory': 6156, 'lenoir': 7620, 'morganton': 8585, 'lathi': 7510, 'yea': 14977, 'foreboding': 5194, 'fragment': 5256, 'pillar': 9856, 'vietnam': 14368, 'tazi': 13190, 'strives': 12767, 'compromising': 2583, 'devised': 3535, 'bias': 1286, 'anthology': 566, 'drs': 3995, 'lh': 7651, 'herd': 6130, 'mindless': 8402, 'cohort': 2415, 'inadaquate': 6596, 'tether': 13303, 'vocalist': 14426, 'femininely': 4902, 'leaner': 7566, 'overrrrrrrrrrrr': 9420, 'lapped': 7487, 'sachet': 11398, 'brandish': 1598, 'abortion': 31, 'overdone': 9394, 'exotic': 4655, 'matte': 8183, 'laden': 7455, 'roasted': 11250, 'understandable': 13962, 'bioware': 1323, 'invested': 6930, 'proximity': 10417, 'playroom': 9943, 'bombsite': 1497, 'conservatory': 2694, 'escaping': 4478, 'coolness': 2826, 'timeline': 13476, 'carseat': 1953, 'energetics': 4358, 'cinnamon': 2255, 'egan': 4187, 'kurt': 7428, 'dissipated': 3771, 'intentionality': 6852, 'interactive': 6859, 'travelogue': 13690, 'june': 7228, 'peeking': 9669, 'bough': 1550, 'cardiff': 1913, 'pervasive': 9764, 'wagon': 14473, 'par': 9532, 'faculty': 4763, 'crossword': 3033, 'milkshake': 8384, 'tooth': 13556, 'habanero': 5854, 'rad': 10588, 'poking': 10009, 'stimulation': 12669, 'shirley': 11864, 'maclaine': 7978, 'sub': 12827, 'abundance': 50, 'extraordinary': 4726, 'obesity': 9114, 'invented': 6926, 'hail': 5872, 'ember': 4266, 'flake': 5039, 'whalentee': 14659, 'benson': 1242, 'monica': 8547, 'relegated': 10911, 'wanatribe': 14508, 'tranquility': 13649, 'spotlessly': 12495, 'tattered': 13181, 'gust': 5842, 'plein': 9958, 'dlpt': 3824, 'stressor': 12749, 'consignment': 2703, 'goodwill': 5650, 'scarf': 11525, 'flux': 5140, 'biochemistry': 1316, 'zambia': 15041, 'ransom': 10635, 'nancy': 8783, 'alotta': 411, 'mumbling': 8697, 'sonogram': 12334, 'coldplays': 2426, 'manicure': 8069, 'overtone': 9433, 'jonny': 7171, 'offing': 9190, 'cardiovascular': 1915, 'absurd': 47, 'emoexaderistic': 4285, 'sorta': 12361, 'providence': 10405, 'protecting': 10386, 'evgeni': 4562, 'malkin': 8037, 'timmy': 13483, 'ytear': 15029, 'justwhen': 7244, 'futrue': 5399, 'timesa': 13479, 'efeeling': 4166, 'slitting': 12122, 'tartandheathered': 13164, 'inspected': 6800, 'louche': 7881, 'stud': 12794, 'attach': 846, 'revenue': 11148, 'disbelief': 3666, 'fixture': 5032, 'jajaja': 7047, 'overtaken': 9429, 'florals': 5107, 'greenery': 5744, 'harmfully': 5961, 'jogless': 7144, 'stripe': 12763, 'oogle': 9248, 'actress': 145, 'vague': 14247, 'contradicting': 2783, 'sexier': 11775, 'forefinger': 5196, 'thumb': 13431, 'persevered': 9742, 'idaho': 6453, 'kudos': 7422, 'organizer': 9307, 'summit': 12920, 'carlas': 1937, 'detest': 3512, 'reacts': 10687, 'burkie': 1765, 'banishes': 1043, 'exhibitionism': 4638, 'newrhinegargoyle': 8912, 'adrasteius': 212, 'eulalias': 4518, 'tho': 13394, 'incest': 6616, 'marred': 8125, 'prose': 10375, 'particulary': 9573, 'folksy': 5162, 'intercourse': 6862, 'rawr': 10669, 'fictional': 4936, 'jillian': 7126, 'crumbles': 3051, 'pineapple': 9867, 'grape': 5713, 'watermelon': 14565, 'berry': 1252, 'chopped': 2213, 'mint': 8422, 'liqueur': 7741, 'rum': 11359, 'drambuie': 3940, 'documenti': 3836, 'ffayths': 4927, 'armpit': 702, 'fleet': 5068, 'hopper': 6296, 'widely': 14730, 'prided': 10261, 'dianam': 3568, 'cricnepal': 3004, 'faint': 4772, 'lll': 7783, 'filed': 4965, 'karmardav': 7274, 'unappreciative': 13906, 'peeling': 9670, 'allergic': 384, 'distrustful': 3796, 'touted': 13604, 'cognize': 2409, 'cosmos': 2875, 'years': 14986, 'hamster': 5897, 'sylvanian': 13074, 'flocked': 5097, 'fur': 5390, 'zeno': 15053, 'bust': 1785, 'generalization': 5483, 'solver': 12308, 'sermon': 11743, 'practicing': 10139, 'scotty': 11578, 'priced': 10255, 'snug': 12243, 'mural': 8706, 'painstakingly': 9491, 'rigorous': 11209, 'ingenious': 6734, 'dummy': 4035, 'pariah': 9551, 'lve': 7961, 'homeland': 6242, 'mansion': 8083, 'preached': 10154, 'plantar': 9921, 'fascitis': 4824, 'reported': 11006, 'dissassociated': 3763, 'grudge': 5794, 'glowing': 5613, 'expressive': 4710, 'jasmine': 7072, 'teapot': 13206, 'pretzel': 10244, 'downstairs': 3913, 'athf': 825, 'minded': 8400, 'sweatpants': 13033, 'commuted': 2519, 'ferry': 4911, 'armani': 698, 'blazer': 1379, 'overthink': 9430, 'disbanding': 3665, 'server': 11748, 'lad': 7452, 'herbal': 6128, 'autonomy': 908, 'perceptive': 9704, 'disposable': 3746, 'ukrainian': 13885, 'pani': 9517, 'discourages': 3689, 'nonbipartisan': 8993, 'aluminum': 428, 'conversational': 2803, 'deader': 3241, 'predawn': 10168, 'scape': 11519, 'goat': 5626, 'ehh': 4196, 'govern': 5672, 'lungfuls': 7947, 'hideously': 6161, 'guily': 5824, 'befoe': 1172, 'tod': 13515, 'keeper': 7296, 'journaling': 7181, 'suzanna': 13016, 'idyllic': 6476, 'vacationer': 14243, 'breezing': 1630, 'batchmates': 1100, 'aggression': 285, 'aretha': 685, 'jamaica': 7053, 'thundershower': 13435, 'ginormous': 5562, 'earley': 4085, 'alan': 342, 'unloveable': 14074, 'exfoliate': 4631, 'mimic': 8394, 'longlasting': 7840, 'winehouse': 14775, 'ford': 5192, 'mysterious': 8748, 'intimately': 6896, 'buoyed': 1754, 'surrender': 12990, 'transcendent': 13653, 'unsatisfying': 14117, 'internetsphere': 6879, 'sojourn': 12284, 'judy': 7207, 'glasberg': 5586, 'unduly': 13985, 'battery': 1111, 'detector': 3504, 'flaking': 5041, 'anthem': 565, 'practicies': 10138, 'cult': 3083, 'falun': 4790, 'gong': 5644, 'bemused': 1223, 'childrens': 2180, 'hurried': 6408, 'frayed': 5277, 'slip': 12117, 'spinner': 12453, 'detachedly': 3498, 'jammed': 7059, 'noseband': 9025, 'infusion': 6732, 'sponsored': 12481, 'unkindness': 14064, 'selfishness': 11678, 'distorted': 3783, 'liek': 7672, 'grasping': 5719, 'eloquence': 4242, 'vienna': 14367, 'endorsed': 4349, 'littered': 7765, 'uttered': 14233, 'swingsets': 13058, 'tiniest': 13490, 'curfew': 3097, 'hb': 6015, 'nemesis': 8865, 'tow': 13605, 'pickup': 9833, 'britney': 1661, 'los': 7865, 'angeles': 511, 'orlando': 9320, 'hirsi': 6195, 'ingrid': 6740, 'caressed': 1929, 'affectionately': 253, 'sparsh': 12399, 'honed': 6266, 'peek': 9668, 'climaxed': 2328, 'quenched': 10538, 'extinguished': 4722, 'cracked': 2939, 'mold': 8521, 'rivalry': 11241, 'riley': 11215, 'unseat': 14120, 'democrat': 3386, 'insatiable': 6778, 'frilly': 5324, 'bloomer': 1433, 'babydoll': 968, 'hehehehehe': 6089, 'dissatisfaction': 3764, 'misused': 8473, 'apostrophe': 620, 'bbc': 1120, 'spelling': 12432, 'itv': 7022, 'jittery': 7132, 'meh': 8258, 'looooong': 7849, 'melodious': 8267, 'benno': 1240, 'motorcycle': 8623, 'teamed': 13204, 'slouchy': 12130, 'studded': 12795, 'resilience': 11058, 'royally': 11328, 'var': 14274, 'bogart': 1481, 'arvo': 744, 'joeys': 7140, 'benedictine': 1231, 'monastery': 8540, 'monastic': 8541, 'statesman': 12608, 'mobbed': 8490, 'lynched': 7965, 'mob': 8489, 'contend': 2758, 'morality': 8577, 'pediatrician': 9664, 'aaaand': 4, 'rinse': 11221, 'detergent': 3506, 'satisfying': 11487, 'newly': 8911, 'addled': 169, 'emtyness': 4314, 'weary': 14591, 'smelt': 12169, 'taint': 13113, 'unbelievably': 13915, 'jot': 7178, 'pestilence': 9775, 'starvation': 12598, 'pepper': 9696, 'zico': 15059, 'elevation': 4227, 'leer': 7587, 'firsthand': 5016, 'outstretched': 9372, 'purposeless': 10492, 'hermione': 6133, 'crampy': 2951, 'di': 3553, 'spazzola': 12404, 'prima': 10265, 'andare': 498, 'dormire': 3889, 'weakest': 14579, 'compensated': 2539, 'flushing': 5136, 'diligently': 3610, 'underlined': 13954, 'manageable': 8049, 'oxtail': 9452, 'tomoe': 13541, 'theofilou': 13349, 'kastrioti': 7277, 'impenetrable': 6547, 'crescent': 2998, 'havet': 6003, 'gloss': 5608, 'heed': 6083, 'obsessing': 9135, 'hilariously': 6177, 'lodged': 7805, 'oesophagus': 9172, 'insipid': 6795, 'featured': 4864, 'illustrated': 6506, 'boomer': 1519, 'oregon': 9296, 'unamerican': 13904, 'detention': 3505, 'blurting': 1458, 'figt': 4958, 'withdrawn': 14811, 'emergence': 4274, 'badman': 997, 'cammie': 1858, 'sobbing': 12253, 'combine': 2469, 'headless': 6028, 'contested': 2765, 'competitive': 2545, 'shrinking': 11923, 'risky': 11234, 'varies': 14277, 'destroyer': 3493, 'imitates': 6526, 'reminisced': 10959, 'millennium': 8386, 'brainstorming': 1592, 'vice': 14355, 'sanitiation': 11459, 'snoozel': 12230, 'winced': 14768, 'pesters': 9773, 'contractual': 2782, 'vietnamese': 14369, 'unbreakable': 13917, 'writin': 14921, 'aided': 311, 'cheat': 2127, 'dwindle': 4066, 'arsenal': 725, 'mack': 7977, 'revamped': 11137, 'impulse': 6589, 'resonating': 11071, 'nik': 8954, 'pertaining': 9761, 'dinn': 3625, 'retain': 11113, 'roam': 11247, 'tickled': 13451, 'tunnel': 13812, 'opponent': 9270, 'disqualification': 3749, 'hawaiian': 6006, 'prettiest': 10241, 'starbucks': 12585, 'slower': 12135, 'serioulsy': 11738, 'jreyez': 7190, 'jenny': 7099, 'persuasion': 9758, 'alll': 389, 'veryy': 14339, 'crunchy': 3056, 'packaged': 9467, 'waitrose': 14482, 'parking': 9558, 'encompassing': 4331, 'snuggled': 12245, 'endured': 4352, 'shimmer': 11854, 'yearly': 14981, 'hollyoaks': 6236, 'liriano': 7744, 'ardmore': 681, 'kaikohe': 7251, 'pilot': 9859, 'licence': 7664, 'problematic': 10295, 'heightened': 6093, 'endlessly': 4346, 'riku': 11213, 'rub': 11334, 'extract': 4724, 'overreacted': 9418, 'bunking': 1750, 'kindaish': 7351, 'patted': 9621, 'sighhh': 11959, 'irritate': 6981, 'playwright': 9944, 'reid': 10874, 'posto': 10101, 'portugu': 10076, 'boredwithquinn': 1529, 'popeye': 10049, 'cartoon': 1958, 'nano': 8785, 'levi': 7647, 'treading': 13696, 'osteopath': 9330, 'boulder': 1552, 'articulating': 732, 'snappy': 12202, 'bayou': 1118, 'cypress': 3139, 'wildlife': 14748, 'lest': 7633, 'unpaved': 14088, 'undergraduate': 13952, 'humanly': 6371, 'stub': 12789, 'shailene': 11790, 'spew': 12440, 'annulment': 551, 'intuitive': 6920, 'sectret': 11641, 'egf': 4188, 'repairing': 10983, 'jar': 7069, 'sparkleapple': 12395, 'akward': 338, 'surged': 12980, 'powerlessness': 10129, 'sends': 11694, 'tizzy': 13508, 'haagen': 5853, 'dazs': 3232, 'indisputably': 6672, 'slapped': 12083, 'doorknob': 3879, 'cloest': 2346, 'privately': 10285, 'growled': 5790, 'nevercontrary': 8901, 'jake': 7048, 'mongoose': 8546, 'tai': 13110, 'chi': 2165, 'hasan': 5977, 'retiring': 11121, 'modest': 8502, 'schadenfreude': 11540, 'voyeur': 14455, 'neurosurgeon': 8895, 'ick': 6448, 'rubbed': 11335, 'feauture': 4866, 'feautures': 4867, 'selena': 11675, 'rupture': 11371, 'minimal': 8412, 'skid': 12051, 'churchy': 2242, 'cheesy': 2146, 'hourglass': 6329, 'rfttttttttttsjiowefmklldkavsvdsbtwrsbdvfocxfibjxrklrgrmvaeridubneosdvfrwfd': 11176, 'gen': 5475, 'xers': 14951, 'heeled': 6085, 'finalist': 4980, 'expend': 4669, 'boasting': 1465, 'tasked': 13170, 'miscreant': 8435, 'diagnostician': 3560, 'lauper': 7524, 'sadlovequotesforhim': 11412, 'travis': 13692, 'heighten': 6092, 'crucial': 3042, 'expatriate': 4662, 'budgetary': 1718, 'fascinating': 4822, 'ant': 563, 'cudnt': 3076, 'frens': 5298, 'dat': 3206, 'rapid': 10643, 'br': 1579, 'roman': 11284, 'freaky': 5285, 'monarch': 8539, 'geographically': 5509, 'removed': 10969, 'australian': 894, 'overemotional': 9401, 'donna': 3865, 'jtwoo': 7195, 'fixable': 5029, 'cuss': 3116, 'horrifying': 6309, 'tenderness': 13267, 'overconfident': 9391, 'mohdashif': 8512, 'underappreciated': 13947, 'mcraven': 8213, 'ut': 14223, 'plusone': 9977, 'wilcfry': 14745, 'freud': 5309, 'irma': 6963, 'injection': 6754, 'completion': 2559, 'treasure': 13699, 'lifespan': 7675, 'mumbled': 8696, 'alli': 387, 'twiggy': 13843, 'holder': 6224, 'neon': 8869, 'shizz': 11871, 'vancouver': 14266, 'oppressive': 9277, 'swirl': 13059, 'sniff': 12217, 'rockette': 11266, 'expects': 4667, 'releasing': 10910, 'feminine': 4901, 'masculine': 8149, 'stipulation': 12677, 'skeered': 12043, 'console': 2709, 'allusion': 400, 'massou': 8161, 'puters': 10508, 'invasion': 6925, 'lik': 7696, 'debra': 3260, 'woodston': 14856, 'kansa': 7261, 'assembly': 782, 'fiesty': 4948, 'haggle': 5864, 'willfully': 14753, 'nickey': 8932, 'out': 9338, 'popcorn': 10047, 'pinot': 9877, 'gris': 5768, 'obbie': 9109, 'issued': 7007, 'supplied': 12954, 'consulate': 2729, 'shinobi': 11859, 'infp': 6728, 'hassle': 5980, 'curly': 3104, 'straighten': 12715, 'tabby': 13096, 'creek': 2991, 'meadow': 8218, 'fighter': 4954, 'binging': 1313, 'upholstered': 14172, 'timeless': 13475, 'savour': 11503, 'gertrude': 5523, 'stuckin': 12793, 'knotting': 7394, 'discombobulated': 3677, 'frequent': 5300, 'poster': 10098, 'bryangregorylewis': 1702, 'blogland': 1420, 'dunnno': 4044, 'stretched': 12751, 'miniature': 8410, 'alcoholic': 354, 'dribbling': 3967, 'dispute': 3748, 'universalized': 14057, 'desired': 3469, 'imperfection': 6549, 'coerced': 2401, 'mocked': 8495, 'produced': 10311, 'sexist': 11776, 'whispering': 14700, 'fug': 5358, 'keynote': 7318, 'hypocrisy': 6433, 'wantig': 14519, 'yawning': 14973, 'thankk': 13331, 'manged': 8063, 'retaining': 11114, 'rpgs': 11329, 'jrpgs': 7192, 'gamers': 5423, 'pouring': 10121, 'righteousness': 11203, 'yomis': 15012, 'unprofessional': 14098, 'boosted': 1521, 'detroit': 3521, 'imperfect': 6548, 'oiler': 9200, 'pt': 10436, 'gloom': 5603, 'overheated': 9407, 'finest': 4991, 'ren': 10971, 'stimpy': 12666, 'gemini': 5474, 'scorpio': 11574, 'gardening': 5438, 'slr': 12139, 'registered': 10860, 'goer': 5633, 'zz': 15080, 'keychain': 7316, 'tltg': 13510, 'delve': 3380, 'weaved': 14596, 'mystified': 8751, 'karate': 7266, 'diagonal': 3561, 'kendo': 7304, 'frog': 5329, 'downstream': 3914, 'motel': 8607, 'char': 2097, 'cleary': 2311, 'flashed': 5051, 'assurance': 807, 'merson': 8316, 'borrow': 1533, 'badger': 995, 'arse': 724, 'blend': 1387, 'wolfiewolfgang': 14837, 'numbingly': 9076, 'nuance': 9064, 'nudist': 9069, 'repress': 11014, 'snorkeling': 12233, 'overcomes': 9386, 'activation': 138, 'eclipse': 4132, 'examined': 4587, 'pond': 10035, 'stamp': 12573, 'scramble': 11581, 'meticulously': 8337, 'frightening': 5321, 'frightful': 5322, 'chop': 2212, 'winetasting': 14776, 'purchasing': 10485, 'genetic': 5494, 'neferet': 8846, 'kuribayashi': 7427, 'psssh': 10422, 'rear': 10716, 'hesei': 6143, 'kamen': 7257, 'descend': 3450, 'sooooooooper': 12345, 'photoshoot': 9815, 'conclude': 2608, 'backpack': 983, 'advertised': 231, 'rocketed': 11265, 'satire': 11482, 'springy': 12510, 'camwhore': 1864, 'pudding': 10454, 'anotehr': 556, 'apps': 663, 'ftw': 5348, 'paramilitary': 9541, 'intimidating': 6899, 'provocation': 10411, 'nagged': 8762, 'tody': 13522, 'decal': 3266, 'derided': 3447, 'swearing': 13029, 'apocalypse': 613, 'attacking': 851, 'ica': 6445, 'loosen': 7854, 'infatuation': 6702, 'civilization': 2265, 'vase': 14283, 'questionnaire': 10545, 'budding': 1715, 'buoied': 1753, 'tryin': 13781, 'gud': 5809, 'pal': 9501, 'understad': 13960, 'abt': 49, 'problemn': 10296, 'carin': 1934, 'cape': 1890, 'akron': 335, 'odkh': 9169, 'kilter': 7345, 'shameless': 11803, 'blond': 1427, 'hottest': 6327, 'gunna': 5837, 'venerable': 14309, 'calmly': 1847, 'hymn': 6422, 'proffer': 10324, 'modeling': 8498, 'duet': 4024, 'tallest': 13135, 'oops': 9251, 'conqueror': 2680, 'wretch': 14913, 'pissy': 9890, 'preform': 10186, 'awed': 940, 'dumbass': 4032, 'rukia': 11357, 'wiki': 14744, 'accusing': 105, 'rudely': 11344, 'flooded': 5101, 'influx': 6719, 'alsways': 416, 'matching': 8170, 'monitor': 8548, 'intubate': 6918, 'iming': 6525, 'hunch': 6396, 'disruption': 3759, 'salute': 11437, 'strapped': 12728, 'beholding': 1193, 'gop': 5659, 'drinky': 3976, 'lemur': 7612, 'animated': 526, 'slobby': 12124, 'incestuous': 6617, 'twoyear': 13853, 'abhorrent': 21, 'clodia': 2345, 'everitt': 4548, 'kina': 7348, 'darkest': 3194, 'peice': 9676, 'bicycle': 1292, 'obrian': 9128, 'characterisation': 2099, 'wettest': 14654, 'rec': 10737, 'thompson': 13396, 'fluff': 5125, 'entranced': 4426, 'eepctqlhiafjwnrrmas': 4164, 'permitting': 9732, 'flour': 5114, 'tricky': 13729, 'stitched': 12682, 'complement': 2553, 'chic': 2167, 'structured': 12781, 'wizarding': 14825, 'mudbloods': 8670, 'whatnot': 14663, 'hockney': 6218, 'saloon': 11433, 'undertone': 13969, 'convo': 2814, 'teared': 13208, 'aj': 330, 'frowned': 5337, 'burnout': 1772, 'helena': 6101, 'bonham': 1506, 'carter': 1957, 'johnnykaje': 7148, 'scotched': 11575, 'expedition': 4668, 'amazingness': 438, 'noticeably': 9042, 'ideally': 6459, 'acim': 118, 'integrated': 6835, 'abraham': 34, 'tolerating': 13533, 'caramel': 1903, 'syrup': 13090, 'shhh': 11845, 'laddie': 7454, 'marking': 8121, 'crib': 3002, 'vantage': 14271, 'cleanse': 2302, 'flagellating': 5037, 'priest': 10263, 'hmm': 6204, 'rhyme': 11179, 'potion': 10111, 'dessen': 3485, 'generalizing': 5484, 'retaliation': 11116, 'opera': 9260, 'shhhhhhh': 11846, 'hella': 6103, 'outweigh': 9375, 'juggling': 7209, 'navigate': 8817, 'amazement': 435, 'overhearing': 9406, 'trigonometry': 13734, 'tutee': 13826, 'shuffle': 11929, 'liable': 7653, 'aussy': 888, 'paulo': 9626, 'coelho': 2399, 'pending': 9684, 'preschooler': 10212, 'miller': 8387, 'trickery': 13727, 'dullness': 4029, 'evoked': 4570, 'fraudulent': 5276, 'yearns': 14985, 'labelled': 7438, 'geography': 5510, 'rosary': 11301, 'treachery': 13694, 'xl': 14954, 'gim': 5558, 'effin': 4180, 'spout': 12500, 'lulu': 7934, 'mover': 8645, 'ann': 534, 'blew': 1395, 'supplicate': 12953, 'celexa': 2031, 'se': 11613, 'organizing': 9308, 'spectrum': 12424, 'gfb': 5535, 'finale': 4979, 'bookworm': 1518, 'choc': 2201, 'bloc': 1411, 'yawwwn': 14974, 'freshly': 5306, 'doodlesandscrapsofme': 3873, 'bal': 1016, 'thackerey': 13318, 'buzz': 1801, 'palpably': 9509, 'diazepam': 3576, 'takeing': 13118, 'clozapine': 2365, 'thatd': 13335, 'sepang': 11720, 'axilla': 955, 'morla': 8588, 'transformer': 13661, 'fluidly': 5130, 'jude': 7198, 'asciatic': 753, 'nikolas': 8957, 'torward': 13573, 'moisturized': 8517, 'tryst': 13783, 'jurer': 7233, 'construction': 2724, 'pulpit': 10461, 'efficacy': 4176, 'varsity': 14281, 'fortunately': 5234, 'weaving': 14598, 'muster': 8733, 'tim': 13473, 'plead': 9946, 'empathise': 4294, 'trailer': 13635, 'taxation': 13188, 'mayor': 8202, 'byron': 1805, 'sized': 12038, 'haka': 5879, 'pointy': 10002, 'floss': 5110, 'medicated': 8243, 'jog': 7141, 'overnight': 9413, 'ahem': 307, 'arty': 741, 'ahkman': 309, 'maniacal': 8067, 'aboard': 29, 'socialising': 12262, 'attributed': 872, 'regaining': 10846, 'gillard': 5557, 'undefinable': 13944, 'bleh': 1386, 'irreparably': 6971, 'noleans': 8987, 'wihtout': 14743, 'needin': 8840, 'beth': 1262, 'kindda': 7352, 'researching': 11039, 'punched': 10471, 'brunch': 1696, 'waldo': 14488, 'flinched': 5083, 'seasonal': 11625, 'airtime': 328, 'unrealistically': 14104, 'hubbie': 6351, 'tin': 13484, 'chanting': 2091, 'reverberate': 11149, 'remotional': 10966, 'clammy': 2272, 'flaunt': 5059, 'tripping': 13744, 'cotton': 2881, 'barker': 1067, 'proudly': 10399, 'pottering': 10114, 'mimm': 8395, 'thislifeissparkling': 13391, 'tinsel': 13491, 'headband': 6022, 'brooch': 1675, 'nashville': 8798, 'shaved': 11825, 'refrence': 10833, 'mallrat': 8039, 'torch': 13563, 'communicates': 2513, 'burrowing': 1776, 'tickling': 13452, 'posh': 10081, 'cushy': 3115, 'clamouring': 2275, 'exicting': 4643, 'nannying': 8784, 'snark': 12204, 'greeting': 5747, 'avenue': 914, 'goin': 5634, 'moshav': 8603, 'dancin': 3175, 'beatles': 1144, 'prosecutor': 10378, 'dc': 3236, 'legal': 7593, 'blundering': 1451, 'downtown': 3917, 'terrribly': 13295, 'livejournals': 7771, 'enabling': 4319, 'deleted': 3363, 'ryota': 11392, 'keita': 7300, 'kota': 7412, 'undeniably': 13945, 'iggy': 6481, 'azealea': 958, 'louboutins': 7880, 'rita': 11235, 'os': 9326, 'vivienne': 14419, 'westwood': 14652, 'channeled': 2089, 'managment': 8055, 'rural': 11372, 'vocref': 14428, 'ontology': 9246, 'caterpillar': 1989, 'crawling': 2966, 'showcasing': 11916, 'affirmative': 258, 'reasoning': 10723, 'erupted': 4475, 'exploded': 4688, 'disastered': 3663, 'stylish': 12824, 'auction': 875, 'daley': 3155, 'bronze': 1674, 'wi': 14725, 'carnivore': 1940, 'councillor': 2890, 'audre': 881, 'lorde': 7861, 'antidepressant': 573, 'miraculously': 8428, 'conquer': 2677, 'brach': 1582, 'chipmunk': 2195, 'elegance': 4221, 'succeeding': 12870, 'jonah': 7164, 'vulturous': 14461, 'sic': 11939, 'poisonous': 10005, 'psychiatry': 10426, 'grumbled': 5798, 'gfs': 5536, 'vivek': 14417, 'oberoi': 9112, 'towed': 13608, 'analysing': 487, 'herb': 6127, 'arrow': 723, 'jerome': 7108, 'supersensitive': 12944, 'contamination': 2752, 'abbigail': 15, 'apraxia': 665, 'completeness': 2557, 'sobered': 12255, 'everyfuckingthing': 4554, 'passive': 9594, 'lovecraft': 7893, 'sparkly': 12396, 'evolving': 4574, 'policeman': 10014, 'exercised': 4626, 'mammal': 8044, 'accompaniment': 83, 'overlapping': 9410, 'squeek': 12533, 'grossed': 5777, 'underlying': 13955, 'hachi': 5857, 'nobu': 8976, 'nana': 8781, 'riotousrambling': 11224, 'odeon': 9168, 'portugal': 10075, 'philosophical': 9799, 'lev': 7644, 'rubbing': 11337, 'eachother': 4077, 'killjoy': 7343, 'terrorised': 13293, 'isobelmeg': 6996, 'squirmed': 12540, 'ribcage': 11184, 'japan': 7067, 'manchester': 8056, 'aunty': 886, 'disconsolate': 3682, 'bungalow': 1746, 'inspect': 6799, 'paste': 9598, 'pandora': 9514, 'cosmopolitian': 2874, 'monkees': 8550, 'tearing': 13210, 'irrelevant': 6970, 'braeden': 1585, 'calvin': 1851, 'beanbag': 1135, 'subbing': 12829, 'servant': 11745, 'pukey': 10456, 'slaughter': 12089, 'squeezed': 12535, 'sponge': 12479, 'sequence': 11729, 'squire': 12539, 'continuer': 2772, 'picturesque': 9839, 'skinless': 12059, 'crock': 3021, 'mmf': 8486, 'starlight': 12589, 'remembers': 10952, 'chlorine': 2200, 'portly': 10069, 'mustached': 8731, 'prepubescent': 10208, 'firefighter': 5006, 'woodman': 14854, 'cowardly': 2928, 'stony': 12694, 'sever': 11765, 'whooping': 14721, 'photojournalistically': 9814, 'decode': 3289, 'cuddled': 3074, 'pleaser': 9954, 'yikes': 15000, 'meningioma': 8288, 'colouring': 2460, 'biff': 1295, 'ignited': 6484, 'amid': 455, 'robotic': 11259, 'corys': 2871, 'foamy': 5145, 'barrel': 1076, 'seb': 11629, 'wrenching': 14909, 'scan': 11514, 'avast': 913, 'antivirus': 579, 'trackchanges': 13618, 'adopted': 203, 'juvenile': 7245, 'sneer': 12212, 'heaney': 6043, 'hormonal': 6299, 'uncontrollable': 13940, 'graph': 5714, 'dye': 4069, 'metastasis': 8332, 'groban': 5772, 'sincerely': 11998, 'taiko': 13111, 'outcasted': 9342, 'heritage': 6132, 'verging': 14329, 'menstrual': 8292, 'nope': 9010, 'clevered': 2317, 'chainring': 2067, 'slaughtered': 12090, 'bacon': 991, 'fanfiction': 4804, 'villain': 14380, 'druian': 3998, 'burp': 1774, 'huhwe': 6364, 'neun': 8893, 'gatda': 5449, 'beoryeo': 1245, 'priceless': 10256, 'sesang': 11752, 'namja': 8780, 'neottaemune': 8872, 'ulji': 13888, 'anha': 523, 'gucha': 5808, 'hage': 5862, 'neoreul': 8871, 'jabgeo': 7030, 'mae': 7984, 'dallil': 3157, 'ireun': 6958, 'jeoldae': 7103, 'lid': 7667, 'makeshift': 8025, 'graveyard': 5728, 'impotence': 6570, 'tanjore': 13150, 'thanjavur': 13324, 'mysore': 8746, 'mysuru': 8753, 'childbirth': 2175, 'beaming': 1134, 'thankyouu': 13334, 'repressive': 11017, 'revelry': 11146, 'gossip': 5667, 'mortgage': 8601, 'epers': 4447, 'cogently': 2407, 'misogynist': 8449, 'skirtsports': 12068, 'seizure': 11666, 'goof': 5651, 'graced': 5684, 'wart': 14547, 'diagnose': 3557, 'disposition': 3747, 'maneuverable': 8060, 'confines': 2643, 'mired': 8431, 'unsavoury': 14119, 'squalor': 12525, 'sweetie': 13043, 'nun': 9079, 'hairdryer': 5876, 'shotgun': 11902, 'lovesongs': 7899, 'audio': 879, 'nondescript': 8996, 'bleurgh': 1394, 'gar': 5432, 'inflammatory': 6711, 'observe': 9131, 'clinging': 2333, 'valbuena': 14250, 'diaby': 3556, 'overhaul': 9403, 'rained': 10611, 'domestic': 3852, 'rosemary': 11304, 'clapping': 2277, 'teacup': 13202, 'regretting': 10865, 'wc': 14575, 'deadly': 3243, 'laxman': 7539, 'dinesh': 3620, 'fielding': 4942, 'cavity': 2011, 'dental': 3410, 'diagram': 3562, 'treasury': 13701, 'squeeee': 12532, 'ev': 4529, 'trickle': 13728, 'spamming': 12389, 'penitential': 9688, 'kao': 7262, 'wein': 14627, 'subkect': 12839, 'sensitivity': 11709, 'spit': 12461, 'lah': 7461, 'legislator': 7599, 'qaeda': 10519, 'iraqi': 6955, 'parliamentary': 9559, 'sustainable': 13013, 'certificate': 2056, 'cart': 1955, 'accuses': 104, 'sydney': 13073, 'herald': 6125, 'brisbanehub': 1658, 'gripping': 5767, 'disguise': 3708, 'conceived': 2592, 'tate': 13178, 'dissecting': 3768, 'blatantly': 1377, 'foil': 5155, 'bobbin': 1468, 'dolphin': 3849, 'cincinnati': 2248, 'overtime': 9431, 'pager': 9479, 'oyyy': 9454, 'noh': 8982, 'defining': 3343, 'greek': 5742, 'soothed': 12347, 'stimulated': 12667, 'qualm': 10528, 'enlightening': 4387, 'grating': 5724, 'recede': 10739, 'lender': 7614, 'remarry': 10945, 'explosive': 4699, 'acid': 117, 'reflux': 10829, 'tylenol': 13859, 'enclosed': 4328, 'pope': 10048, 'resign': 11056, 'austin': 892, 'cleverly': 2318, 'humorously': 6390, 'consume': 2734, 'grinch': 5762, 'skellington': 12046, 'obligatory': 9122, 'entrust': 4429, 'basket': 1092, 'drying': 4005, 'repertoire': 10993, 'oral': 9284, 'marjane': 8114, 'squeezing': 12536, 'mrt': 8657, 'ageing': 278, 'fondness': 5173, 'leak': 7562, 'torturing': 13572, 'tame': 13138, 'earnest': 4091, 'enforcement': 4365, 'mp': 8652, 'talentless': 13126, 'hummus': 6386, 'ranch': 10626, 'concluded': 2609, 'plummet': 9970, 'rebuild': 10735, 'perk': 9723, 'unlovable': 14073, 'omission': 9230, 'avoidance': 921, 'gulity': 5830, 'hideous': 6160, 'benefice': 1232, 'overdramatic': 9396, 'gastro': 5448, 'hearth': 6060, 'houston': 6337, 'recycling': 10790, 'recklessly': 10756, 'alfie': 364, 'wale': 14489, 'establish': 4493, 'reasonable': 10721, 'predicated': 10171, 'veery': 14292, 'calendar': 1831, 'quota': 10570, 'eviction': 4563, 'overdue': 9397, 'qa': 10518, 'sesame': 11751, 'rejoyced': 10888, 'urgently': 14200, 'bleached': 1380, 'blogged': 1416, 'mexigoth': 8343, 'tweety': 13838, 'humiliation': 6382, 'genetices': 5495, 'limelight': 7713, 'arialblue': 692, 'filthy': 4976, 'beckon': 1152, 'yourweightlossmethods': 15024, 'devalued': 3522, 'adored': 209, 'homeowner': 6249, 'catalog': 1981, 'confusing': 2658, 'flub': 5124, 'namely': 8779, 'sinclair': 12000, 'convincing': 2813, 'alls': 398, 'omd': 9223, 'sneaker': 12210, 'remanded': 10941, 'frustrates': 5345, 'unacceptably': 13902, 'protruding': 10396, 'bluestarlight': 1448, 'aspi': 773, 'anonymity': 554, 'unmoved': 14081, 'sho': 11872, 'nuff': 9070, 'walkman': 14496, 'howling': 6341, 'comet': 2479, 'mettaful': 8341, 'barney': 1071, 'soliciting': 12296, 'exploiting': 4691, 'cavatina': 2008, 'slack': 12074, 'broadening': 1669, 'contaminate': 2750, 'gozelemes': 5677, 'patronising': 9619, 'claire': 2269, 'alertness': 359, 'doubted': 3899, 'cholesterol': 2208, 'instrumental': 6823, 'ala': 340, 'hizaki': 6203, 'frivolous': 5325, 'euphoric': 4521, 'barfed': 1063, 'winked': 14780, 'adrian': 215, 'futility': 5397, 'angelic': 512, 'ruth': 11383, 'harassment': 5943, 'waffle': 14470, 'heaaa': 6018, 'comprimised': 2580, 'algorithmic': 367, 'efficiency': 4177, 'vaginal': 14246, 'courageous': 2912, 'nytimes': 9103, 'publishes': 10452, 'feisty': 4893, 'funes': 5386, 'integrate': 6834, 'urban': 14194, 'kava': 7290, 'vanuatu': 14272, 'fukumura': 5360, 'mizuki': 8482, 'cordelia': 2847, 'trait': 13642, 'unenthusiastic': 13997, 'groupie': 5786, 'concentration': 2597, 'dazzled': 3234, 'radiance': 10590, 'comradeship': 2588, 'exile': 4644, 'inhospitable': 6745, 'roused': 11320, 'echoed': 4129, 'taunt': 13184, 'mellon': 8265, 'collie': 2446, 'reneging': 10975, 'columbus': 2462, 'ohio': 9198, 'butchering': 1788, 'wordless': 14862, 'sinc': 11995, 'catheter': 1993, 'endgame': 4343, 'becuase': 1158, 'allowable': 392, 'hooking': 6283, 'nutritious': 9093, 'diversionary': 3808, 'otherworldliness': 9333, 'translucent': 13670, 'mason': 8155, 'maltese': 8041, 'ebloggy': 4122, 'sewage': 11771, 'clogged': 2348, 'diarrhoea': 3573, 'anymmore': 590, 'chapbooks': 2094, 'aggrandisement': 282, 'helmet': 6107, 'manages': 8053, 'rudimentary': 11345, 'reward': 11169, 'ip': 6949, 'schs': 11554, 'reggie': 10854, 'terrorist': 13294, 'manic': 8068, 'matthew': 8186, 'guion': 5826, 'roger': 11274, 'lightened': 7684, 'discreetly': 3695, 'anthony': 567, 'weewee': 14617, 'bombarded': 1492, 'dya': 4068, 'lotion': 7875, 'wonka': 14849, 'faceplate': 4753, 'redesign': 10796, 'lovey': 7900, 'dovey': 3908, 'willpower': 14760, 'pendleton': 9685, 'waaay': 14466, 'childishly': 2178, 'puppet': 10481, 'malacca': 8031, 'snarl': 12206, 'umpteenth': 13898, 'onguard': 9238, 'regime': 10855, 'nip': 8964, 'restraint': 11102, 'helplessly': 6113, 'cache': 1813, 'ec': 4126, 'glossed': 5609, 'resisted': 11062, 'dispirited': 3740, 'browsing': 1691, 'tingling': 13488, 'cleanser': 2303, 'tangibly': 13146, 'quad': 10522, 'aggravating': 284, 'corp': 2859, 'bbm': 1121, 'winded': 14770, 'pawdicur': 9633, 'outraging': 9361, 'huda': 6354, 'mailing': 8006, 'chant': 2090, 'israeli': 7004, 'arguably': 686, 'constitute': 2718, 'palestinian': 9505, 'expertise': 4680, 'corporation': 2861, 'pointlessly': 10000, 'advertorial': 235, 'networking': 8892, 'advert': 230, 'pogues': 9994, 'reggae': 10853, 'gloomed': 5604, 'tygerman': 13858, 'stanley': 12582, 'stepchild': 12638, 'featuring': 4865, 'prominently': 10351, 'valente': 14252, 'paving': 9631, 'prabhupada': 10133, 'indicate': 6661, 'blas': 1373, 'inconvenienced': 6640, 'diatribe': 3575, 'specification': 12419, 'maintenance': 8016, 'defect': 3323, 'scoundrel': 11579, 'impose': 6566, 'boundless': 1560, 'quicken': 10547, 'lizard': 7779, 'gill': 5556, 'restroom': 11105, 'aways': 938, 'yori': 15013, 'aoshi': 602, 'snowman': 12238, 'isolate': 6997, 'duvet': 4060, 'correct': 2863, 'motherlover': 8612, 'meaty': 8234, 'dalai': 3153, 'lama': 7467, 'deferential': 3332, 'truc': 13760, 'upswing': 14191, 'composed': 2572, 'ignre': 6493, 'socialised': 12261, 'tubing': 13795, 'nipigon': 8965, 'reverence': 11151, 'inquisition': 6773, 'subspace': 12858, 'devout': 3544, 'nazi': 8820, 'ideology': 6465, 'forcibly': 5190, 'conscripted': 2686, 'gunther': 5839, 'planter': 9923, 'blooming': 1434, 'fence': 4906, 'unspokenwords': 14131, 'keptinside': 7309, 'poignantly': 9996, 'hemmed': 6117, 'hawed': 6007, 'metaphoric': 8330, 'consisting': 2706, 'lewis': 7648, 'carroll': 1947, 'ajmed': 332, 'jeep': 7090, 'dusk': 4054, 'kickoff': 7330, 'englishman': 4375, 'mormonism': 8590, 'krakauer': 7414, 'hammer': 5893, 'do': 3827, 'hauntings': 5998, 'whimsy': 14683, 'badplaydate': 999, 'chivalrously': 2198, 'shuddered': 11928, 'recorded': 10777, 'hay': 6010, 'swishing': 13061, 'typhoon': 13863, 'solbi': 12288, 'captivated': 1896, 'dodgy': 3839, 'geremiafamily': 5516, 'afar': 245, 'nipped': 8966, 'preemie': 10179, 'nicu': 8938, 'grue': 5796, 'anon': 553, 'domestically': 3853, 'destroy': 3491, 'sank': 11461, 'sprog': 12515, 'winning': 14782, 'rowing': 11325, 'karapiro': 7265, 'regatta': 10851, 'candidate': 1873, 'adsense': 217, 'plum': 9968, 'muttering': 8737, 'retro': 11125, 'flowered': 5120, 'broodiness': 1676, 'aww': 952, 'squared': 12527, 'mikala': 8374, 'neo': 8867, 'terminology': 13282, 'modification': 8503, 'bona': 1500, 'fide': 4939, 'championed': 2079, 'conditioner': 2622, 'peculiar': 9660, 'impetuous': 6553, 'loon': 7848, 'maneuvered': 8061, 'itch': 7011, 'inappropriate': 6602, 'videogames': 14365, 'stormy': 12706, 'mayo': 8201, 'infamous': 6699, 'bonk': 1507, 'perversion': 9766, 'ajahn': 331, 'brahmavamso': 1588, 'undeservingly': 13976, 'brightens': 1649, 'glow': 5612, 'tribe': 13723, 'hal': 5881, 'sinestro': 12001, 'william': 14754, 'stove': 12711, 'shorter': 11895, 'ouch': 9335, 'vanishes': 14268, 'independently': 6658, 'funded': 5382, 'regulation': 10871, 'babble': 963, 'jong': 7169, 'rinoa': 11220, 'hopefull': 6289, 'dissected': 3767, 'biomedical': 1320, 'marilla': 8109, 'diploma': 3630, 'antonios': 583, 'adjoining': 180, 'outsize': 9367, 'sou': 12364, 'wester': 14649, 'dangled': 3182, 'wellies': 14639, 'observed': 9132, 'amber': 441, 'claus': 2294, 'loot': 7857, 'skimmable': 12056, 'finalized': 4982, 'sodium': 12275, 'wuthering': 14939, 'absorption': 43, 'overactive': 9381, 'rin': 11216, 'isi': 6988, 'enna': 4391, 'razo': 10673, 'fluffing': 5127, 'negated': 8848, 'elicit': 4232, 'severed': 11768, 'summarily': 12915, 'freshness': 5308, 'jogger': 7142, 'outsprinted': 9370, 'igle': 6483, 'capitol': 1892, 'watchable': 14560, 'confide': 2637, 'considerably': 2697, 'celeen': 2030, 'humbugish': 6378, 'racket': 10586, 'decorating': 3294, 'debut': 3263, 'burbank': 1755, 'shayla': 11828, 'nutty': 9095, 'enact': 4320, 'coma': 2465, 'han': 5898, 'inbox': 6607, 'framed': 5263, 'deception': 3274, 'taut': 13186, 'chew': 2161, 'tights': 13469, 'don': 3858, 'bettys': 1269, 'acquired': 130, 'pochayiv': 9984, 'glittery': 5599, 'spacey': 12384, 'dank': 3185, 'slippery': 12120, 'retry': 11128, 'jive': 7133, 'induces': 6679, 'whammo': 14660, 'firth': 5018, 'myslef': 8745, 'jackie': 7034, 'countertop': 2902, 'arguing': 689, 'empower': 4307, 'eccentricity': 4127, 'pret': 10235, 'vibrator': 14353, 'dildo': 3609, 'refill': 10819, 'advocating': 241, 'controversy': 2796, 'espressed': 4486, 'tweeting': 13837, 'bollywood': 1489, 'desendants': 3457, 'laurel': 7526, 'bg': 1281, 'rocket': 11264, 'whiz': 14706, 'rumble': 11360, 'hijack': 6172, 'kidnap': 7335, 'warfare': 14527, 'seller': 11681, 'hui': 6365, 'socialist': 12263, 'zem': 15049, 'ciaran': 2245, 'oozing': 9252, 'impudent': 6588, 'relaying': 10907, 'overwhleming': 9440, 'completley': 2560, 'radiologist': 10597, 'flare': 5047, 'mal': 8030, 'zicam': 15058, 'gassed': 5446, 'stamen': 12570, 'lcd': 7549, 'bluetooth': 1449, 'isight': 6989, 'casing': 1967, 'heh': 6087, 'disgustingness': 3713, 'geneva': 5497, 'trout': 13759, 'weasel': 14592, 'floundering': 5113, 'discounting': 3687, 'stunt': 12812, 'chilli': 2184, 'spicy': 12443, 'spendy': 12438, 'modify': 8505, 'geology': 5511, 'defenseman': 3330, 'plugin': 9967, 'breeder': 1628, 'inthewarmholdofyourlovingmind': 6892, 'googler': 5653, 'predicting': 10176, 'oeuvre': 9173, 'dewitt': 3547, 'reapply': 10715, 'jessica': 7113, 'parker': 9557, 'mulled': 8683, 'serence': 11730, 'beeeeeeeeeeeing': 1165, 'paradise': 9535, 'waldmans': 14487, 'micah': 8349, 'af': 243, 'waaaant': 14465, 'eaaaat': 4076, 'noteworthy': 9035, 'critic': 3013, 'tempestuous': 13251, 'quorum': 10569, 'furthermore': 5394, 'cn': 2381, 'remedial': 10946, 'sparring': 12397, 'spectacular': 12422, 'somthing': 12326, 'texan': 13305, 'tourism': 13600, 'hospitality': 6314, 'trump': 13769, 'gullible': 5831, 'animate': 525, 'jig': 7124, 'vanity': 14269, 'meme': 8277, 'autocorrect': 905, 'steely': 12628, 'rejecte': 10883, 'zapper': 15044, 'boyfirend': 1576, 'unread': 14101, 'cyprus': 3140, 'electrical': 4217, 'tampering': 13140, 'applainces': 637, 'dyke': 4071, 'mentor': 8301, 'frightfully': 5323, 'harper': 5966, 'testosterone': 13302, 'unruly': 14114, 'confirmation': 2645, 'sek': 11667, 'forming': 5226, 'banished': 1042, 'technorati': 13223, 'companionship': 2524, 'voldemort': 14436, 'farthest': 4820, 'lous': 7889, 'compile': 2546, 'payperpost': 9641, 'staffed': 12559, 'intoxication': 6903, 'bosom': 1537, 'weaver': 14597, 'cocaine': 2392, 'exceeded': 4591, 'stomache': 12690, 'ulcer': 13887, 'tally': 13137, 'wll': 14826, 'hotest': 6324, 'excotick': 4615, 'beaty': 1145, 'yummyy': 15033, 'deisire': 3356, 'enjoin': 4379, 'functional': 5376, 'java': 7074, 'python': 10517, 'haskell': 5978, 'magically': 7993, 'underpants': 13958, 'synced': 13083, 'itunes': 7021, 'accessible': 74, 'beachbody': 1127, 'wangxuehai': 14514, 'chime': 2186, 'pooper': 10043, 'basher': 1085, 'denis': 3401, 'contributes': 2790, 'helen': 6100, 'familiarly': 4796, 'regroup': 10867, 'lolll': 7824, 'blissful': 1405, 'dinosaur': 3627, 'bellmont': 1212, 'cabinet': 1812, 'parisian': 9554, 'voted': 14450, 'moreover': 8582, 'mandated': 8058, 'vaccine': 14244, 'consent': 2689, 'texas': 13306, 'mashed': 8151, 'jrock': 7191, 'tommorrow': 13539, 'internalize': 6874, 'objectively': 9119, 'textbook': 13308, 'rye': 11388, 'inclusion': 6629, 'ssa': 12547, 'bouquet': 1561, 'uncommitted': 13930, 'breathless': 1626, 'jest': 7115, 'walrus': 14504, 'deepens': 3312, 'sail': 11423, 'pessimism': 9770, 'bcoz': 1125, 'stigmatized': 12661, 'stigma': 12660, 'farmer': 4818, 'irish': 6961, 'dipped': 3631, 'magzine': 8001, 'prioritises': 10278, 'claudia': 2293, 'barcomb': 1057, 'boe': 1479, 'schaub': 11542, 'bleacherreport': 1381, 'carte': 1956, 'blanche': 1368, 'sistahs': 12022, 'pbs': 9643, 'proponent': 10370, 'billiards': 1306, 'transcendant': 13652, 'pollen': 10024, 'barometric': 1073, 'approximate': 661, 'earnestness': 4092, 'metformin': 8333, 'soften': 12279, 'strung': 12786, 'journaled': 7180, 'overcommit': 9389, 'foresee': 5204, 'mabel': 7968, 'hazel': 6012, 'valerie': 14255, 'potent': 10107, 'irfan': 6959, 'pathan': 9607, 'touring': 13599, 'webmates': 14601, 'sf': 11782, 'redshank': 10799, 'sandpiper': 11453, 'ticking': 13449, 'chuckle': 2233, 'kith': 7368, 'offhand': 9185, 'piddled': 9841, 'magnet': 7996, 'boarded': 1462, 'airbus': 322, 'honolulu': 6273, 'uhm': 13882, 'rib': 11182, 'elastic': 4208, 'jared': 7070, 'pitocin': 9898, 'identical': 6460, 'mustard': 8732, 'enfold': 4363, 'arrises': 715, 'nutritionally': 9092, 'pti': 10438, 'jamiat': 7056, 'raymond': 10672, 'davis': 3220, 'amman': 462, 'jessicadickinsongoodman': 7114, 'interestingly': 6866, 'memorial': 8280, 'landlord': 7476, 'ellie': 4240, 'lothaire': 7874, 'confinement': 2642, 'quinn': 10558, 'storyline': 12708, 'informality': 6723, 'wth': 14935, 'unfathomably': 14008, 'airline': 324, 'brazen': 1606, 'demeanor': 3383, 'kilometre': 7344, 'dichotomy': 3577, 'garmin': 5440, 'manga': 8062, 'ambushed': 449, 'scanning': 11518, 'thi': 13371, 'rebellion': 10732, 'occult': 9150, 'fumble': 5372, 'purse': 10495, 'conceptualized': 2599, 'emphasis': 4299, 'stella': 12632, 'outsourcing': 9369, 'outsource': 9368, 'eleven': 4229, 'porch': 10057, 'bathed': 1102, 'cooled': 2824, 'dhawan': 3552, 'wreaking': 14906, 'havoc': 6004, 'copied': 2837, 'midwife': 8366, 'prepares': 10204, 'calmness': 1848, 'distinguished': 3782, 'effortless': 4183, 'asa': 748, 'este': 4496, 'endorse': 4348, 'aaaah': 3, 'nolonger': 8988, 'loada': 7786, 'maybee': 8199, 'bitt': 1342, 'troop': 13751, 'rewind': 11172, 'dvred': 4062, 'preview': 10250, 'attaining': 854, 'outfitter': 9349, 'briar': 1636, 'beagle': 1131, 'souless': 12369, 'wilt': 14762, 'vessel': 14341, 'unconditionally': 13935, 'judgemental': 7203, 'stander': 12579, 'solicit': 12295, 'teh': 13237, 'ventrured': 14317, 'mic': 8347, 'atmospheric': 839, 'fondling': 5171, 'boxer': 1573, 'arched': 676, 'disharmony': 3715, 'sinfully': 12003, 'nudging': 9068, 'nighthawk': 8947, 'edward': 4163, 'molesting': 8523, 'grassroots': 5721, 'yurusei': 15036, 'yatsura': 14972, 'coheed': 2410, 'cambria': 1854, 'duckling': 4019, 'elevator': 4228, 'refuge': 10838, 'sacrament': 11400, 'agn': 291, 'electrocuted': 4220, 'diagnosed': 3558, 'momo': 8536, 'heyy': 6150, 'turtle': 13825, 'sneaked': 12209, 'zhuo': 15057, 'feng': 4908, 'xiao': 14953, 'obssessed': 9139, 'petal': 9778, 'complimentary': 2569, 'alonger': 407, 'replenish': 11001, 'revising': 11160, 'prohibited': 10340, 'partition': 9575, 'carb': 1905, 'spotted': 12498, 'thinly': 13384, 'sliced': 12106, 'lime': 7712, 'humored': 6388, 'reprogramming': 11021, 'overstepping': 9426, 'getin': 5529, 'enforce': 4364, 'playdate': 9934, 'terrifyingly': 13290, 'hinderance': 6183, 'tasted': 13172, 'hari': 5956, 'raya': 10671, 'prebook': 10158, 'kueh': 7423, 'makmur': 8029, 'hygiene': 6421, 'paralyzed': 9540, 'strappy': 12730, 'ninewest': 8962, 'tagged': 13109, 'roling': 11277, 'cyclinders': 3135, 'carryout': 1952, 'idc': 6454, 'vesa': 14340, 'kivinen': 7373, 'ambassador': 440, 'recognises': 10763, 'volunteering': 14441, 'lefty': 7590, 'propaganda': 10365, 'ventured': 14319, 'comfor': 2481, 'teleporter': 13241, 'hostage': 6317, 'negotiator': 8857, 'sanctum': 11448, 'lining': 7729, 'goose': 5657, 'rearranged': 10719, 'rendall': 10973, 'munroe': 8704, 'underestimated': 13950, 'walker': 14494, 'assaulting': 780, 'jen': 7095, 'mitchell': 8474, 'superfluous': 12938, 'jenn': 7097, 'elaine': 4206, 'enjorlas': 4380, 'marius': 8113, 'sided': 11947, 'schoolboy': 11552, 'concequences': 2600, 'osp': 9329, 'rand': 10627, 'assessor': 790, 'helm': 6106, 'sorting': 12363, 'dumber': 4033, 'bucking': 1712, 'landmass': 7478, 'residing': 11053, 'alcoholism': 355, 'nini': 8963, 'snuffling': 12242, 'phew': 9793, 'plainly': 9912, 'goosey': 5658, 'tan': 13142, 'inhumanity': 6747, 'bridesmaid': 1640, 'sinful': 12002, 'hugged': 6360, 'fiercly': 4947, 'completly': 2561, 'lagged': 7459, 'tucked': 13797, 'snoozing': 12231, 'transform': 13658, 'maxim': 8194, 'dissapeared': 3761, 'miraculous': 8427, 'unpleasantness': 14092, 'zofran': 15067, 'patiently': 9613, 'versa': 14334, 'gb': 5465, 'buyer': 1799, 'predicament': 10170, 'bel': 1198, 'helterskelter': 6115, 'dude': 4021, 'firework': 5009, 'rebooted': 10734, 'guidebook': 5817, 'martina': 8136, 'hubbard': 6350, 'fodder': 5151, 'hiked': 6175, 'hillside': 6180, 'waved': 14568, 'arouse': 707, 'over': 9380, 'lace': 7443, 'hosting': 6321, 'pacific': 9462, 'avant': 912, 'garde': 5435, 'uninstalling': 14042, 'deactivateing': 3239, 'hatena': 5988, 'cairn': 1824, 'deprivation': 3438, 'fondly': 5172, 'eventuallythe': 4544, 'lovein': 7896, 'condescend': 2617, 'gent': 5500, 'damper': 3169, 'wotcs': 14892, 'definiteness': 3346, 'cutter': 3126, 'disrespectful': 3756, 'hilly': 6181, 'cempaka': 2038, 'shorted': 11893, 'chinesepod': 2191, 'podcast': 9987, 'dovetail': 3907, 'pedicure': 9665, 'massaging': 8158, 'tootsies': 13557, 'kermit': 7310, 'donald': 3859, 'densely': 3408, 'meanderings': 8221, 'malm': 8040, 'voting': 14452, 'doraemon': 3884, 'switzerland': 13064, 'largest': 7495, 'reinforces': 10880, 'compellingly': 2537, 'predator': 10166, 'elevate': 4225, 'mire': 8430, 'expereince': 4672, 'countryside': 2906, 'postcard': 10096, 'softness': 12281, 'noob': 9003, 'cosplay': 2876, 'goon': 5655, 'laceys': 7445, 'disapprovements': 3661, 'rikkis': 11212, 'impersonal': 6551, 'abba': 14, 'amalgamation': 433, 'appeased': 635, 'beverage': 1270, 'bulk': 1729, 'techfeel': 13217, 'uploads': 14180, 'hindi': 6185, 'org': 9297, 'scientology': 11561, 'devoured': 3543, 'wa': 14463, 'sleazy': 12093, 'imperialism': 6550, 'lesbian': 7628, 'restive': 11093, 'occupation': 9151, 'theu': 13365, 'prickly': 10259, 'whisker': 14696, 'repulsed': 11024, 'thang': 13323, 'eighty': 4201, 'blackened': 1355, 'wnat': 14827, 'tram': 13645, 'utility': 14227, 'unintelligible': 14044, 'blabbering': 1352, 'researched': 11038, 'tianjin': 13444, 'giggling': 5552, 'widget': 14731, 'squash': 12528, 'deduce': 3303, 'negate': 8847, 'uninterested': 14047, 'disappointing': 3658, 'careened': 1919, 'incidence': 6620, 'occuring': 9158, 'kareena': 7269, 'akshay': 336, 'kumar': 7425, 'minissha': 8417, 'amisha': 457, 'patel': 9603, 'avtaar': 926, 'succeded': 12867, 'dammit': 3162, 'illegal': 6498, 'prosecute': 10376, 'firearm': 5004, 'sidebar': 11946, 'creepily': 2994, 'hallway': 5890, 'millionth': 8390, 'healed': 6035, 'closely': 2351, 'priestess': 10264, 'ven': 14307, 'talia': 13127, 'loses': 7868, 'devotion': 3541, 'exploited': 4690, 'bruno': 1697, 'marzzz': 8145, 'kardashians': 7267, 'roseanne': 11303, 'inscrie': 6780, 'intr': 6904, 'rafinament': 10599, 'lejer': 7607, 'extrem': 4727, 'feminin': 4900, 'collect': 2438, 'headway': 6033, 'pronto': 10362, 'ascension': 752, 'dagger': 3147, 'camping': 1862, 'piled': 9851, 'prejudging': 10191, 'tt': 13787, 'stutter': 12820, 'dearest': 3252, 'coincidence': 2418, 'cabernet': 1810, 'congenial': 2660, 'bruising': 1695, 'blast': 1374, 'humbling': 6375, 'internalized': 6875, 'spruce': 12516, 'doorstep': 3880, 'airbrushing': 321, 'quilty': 10557, 'humour': 6391, 'neat': 8830, 'remourseful': 10967, 'sids': 11950, 'invocation': 6942, 'atlantic': 833, 'olu': 9218, 'jacob': 7037, 'livid': 7776, 'conveyed': 2809, 'vest': 14342, 'cellulite': 2036, 'detectin': 3503, 'fieldtrip': 4943, 'blaze': 1378, 'marker': 8116, 'ablo': 27, 'hahah': 5867, 'gape': 5430, 'landscaping': 7480, 'rig': 11200, 'errand': 4470, 'cora': 2846, 'sleeper': 12097, 'museli': 8717, 'yoghurt': 15009, 'flex': 5073, 'cowboy': 2929, 'plush': 9976, 'relaxes': 10905, 'satisfy': 11486, 'battering': 1110, 'stingy': 12672, 'traipse': 13641, 'tromping': 13750, 'stiletto': 12662, 'unjustified': 14062, 'scraper': 11585, 'screeching': 11592, 'halt': 5891, 'contempt': 2757, 'ure': 14196, 'communicat': 2510, 'prescence': 10210, 'pulsar': 10462, 'reassurance': 10724, 'harley': 5957, 'davidsons': 3219, 'earshot': 4097, 'kame': 7256, 'audrey': 882, 'badminton': 998, 'sensuous': 11711, 'cellphone': 2034, 'incredulous': 6651, 'alumninium': 429, 'govrenment': 5675, 'pension': 9691, 'lilongwe': 7707, 'assistat': 798, 'cretin': 3000, 'ultrasound': 13893, 'chex': 2164, 'tacky': 13103, 'drunkenly': 4002, 'waist': 14477, 'goldschlager': 5639, 'intoxicating': 6902, 'rockstar': 11268, 'razzle': 10675, 'dazzle': 3233, 'straddling': 12713, 'articulacy': 729, 'incoherence': 6631, 'pathologically': 9610, 'neighbourhood': 8861, 'quixotic': 10567, 'disorientating': 3735, 'moonbeam': 8567, 'dreamily': 3955, 'ulta': 13889, 'babsbrisbane': 965, 'brewer': 1633, 'hawkshead': 6009, 'annulled': 550, 'tankouban': 13152, 'smackdown': 12154, 'reversed': 11153, 'simultaneous': 11991, 'condiment': 2619, 'pressies': 10225, 'backstabber': 986, 'accusation': 101, 'plowing': 9963, 'juliemadblogger': 7217, 'crow': 3035, 'chub': 2231, 'ineffectual': 6689, 'liberation': 7659, 'faiting': 4781, 'daunted': 3214, 'feelingof': 4890, 'resistance': 11060, 'lister': 7754, 'complicating': 2566, 'polytechnic': 10030, 'occassional': 9148, 'grumpily': 5800, 'condoning': 2625, 'recharged': 10749, 'gestating': 5525, 'amazon': 439, 'barnes': 1070, 'noble': 8974, 'ebook': 4124, 'austere': 891, 'introspective': 6912, 'euskc': 4528, 'gna': 5622, 'zjs': 15066, 'bai': 1009, 'tu': 13791, 'tang': 13143, 'slytherin': 12151, 'tonks': 13552, 'chriss': 2219, 'baked': 1013, 'bbw': 1123, 'briefly': 1646, 'lololol': 7826, 'jogging': 7143, 'smashed': 12164, 'slid': 12108, 'hazzard': 6014, 'uncharted': 13924, 'maturity': 8191, 'midlife': 8359, 'anderson': 499, 'employed': 4303, 'ominously': 9229, 'lovingly': 7903, 'fe': 4852, 'ingorant': 6735, 'eliminated': 4235, 'lingo': 7727, 'overjoyed': 9408, 'flunked': 5132, 'yers': 14994, 'duo': 4048, 'portraiture': 10070, 'participating': 9570, 'grittily': 5770, 'moonlight': 8568, 'scorn': 11573, 'overflow': 9402, 'stsm': 12788, 'cherishing': 2157, 'mansoor': 8084, 'structural': 12779, 'linguistics': 7728, 'deconstructionist': 3291, 'clamour': 2274, 'normalized': 9018, 'oblivion': 9124, 'revealing': 11140, 'plumb': 9969, 'inactivity': 6595, 'skate': 12040, 'mortality': 8600, 'progesterone': 10330, 'distrust': 3795, 'biostatistics': 1322, 'physiology': 9824, 'systemic': 13093, 'mishandling': 8441, 'understandably': 13963, 'egyptian': 4192, 'identified': 6461, 'labeling': 7437, 'assimilated': 794, 'stoup': 12710, 'insightful': 6792, 'brian': 1635, 'assertion': 786, 'molested': 8522, 'thisisntcuteanymore': 13390, 'outpouring': 9356, 'induce': 6677, 'delivering': 3376, 'respirometry': 11079, 'topper': 13560, 'tumbling': 13805, 'vulgar': 14458, 'gee': 5469, 'harmonizes': 5964, 'mopey': 8573, 'decreasing': 3298, 'logarythmic': 7809, 'fundamental': 5379, 'wiggy': 14741, 'lib': 7656, 'georgie': 5514, 'porgie': 10060, 'concrete': 2612, 'culinary': 3080, 'cineworld': 2254, 'vicente': 14356, 'mt': 8661, 'slatebook': 12088, 'litsen': 7763, 'prolific': 10347, 'dickens': 3579, 'betray': 1263, 'few': 4926, 'resemble': 11041, 'doingaone': 3845, 'detracted': 3518, 'mouthfeel': 8640, 'snatch': 12207, 'submits': 12847, 'poacher': 9982, 'pelt': 9677, 'exexbf': 4630, 'caustic': 2003, 'flists': 5092, 'lokpal': 7819, 'basketball': 1093, 'miler': 8380, 'tier': 13459, 'facsimilogos': 4759, 'inaugural': 6604, 'didint': 3585, 'dismay': 3726, 'leslielandberg': 7630, 'potty': 10115, 'agonising': 295, 'misled': 8447, 'asthma': 811, 'collapesing': 2433, 'reseach': 11036, 'becoz': 1156, 'banjo': 1044, 'molly': 8526, 'prefers': 10185, 'purrrr': 10494, 'urine': 14204, 'absoloutely': 38, 'stiffen': 12659, 'gardener': 5437, 'vaster': 14285, 'bachelor': 973, 'brilliance': 1651, 'spayed': 12402, 'belated': 1199, 'pleeeeeease': 9957, 'parenthood': 9549, 'wicking': 14728, 'terbutaline': 13276, 'volvo': 14442, 'unsimilar': 14125, 'waddle': 14468, 'pork': 10061, 'loin': 7817, 'gallon': 5416, 'ziplocks': 15065, 'marinade': 8112, 'piller': 9857, 'cling': 2332, 'flo': 5093, 'lobelia': 7793, 'overhead': 9404, 'obtaining': 9142, 'housemate': 6334, 'gerry': 5521, 'secretive': 11637, 'hyun': 6437, 'joongs': 7173, 'exponentially': 4700, 'hearty': 6064, 'labium': 7439, 'nibbling': 8923, 'weekday': 14611, 'pacman': 9472, 'pacquiao': 9473, 'chillax': 2182, 'tshirt': 13785, 'teensiest': 13232, 'analyse': 486, 'musicjuzz': 8727, 'simulation': 11990, 'midwifery': 8367, 'nitch': 8970, 'vt': 14456, 'mk': 8483, 'everblight': 4546, 'jehovah': 7093, 'sssas': 12550, 'intricate': 6905, 'serene': 11732, 'dominating': 3856, 'gi': 5542, 'comus': 2589, 'inn': 6762, 'niche': 8929, 'disquiet': 3750, 'modernization': 8501, 'detraction': 3519, 'billion': 1307, 'effacing': 4167, 'flushed': 5134, 'comer': 2478, 'latley': 7511, 'polyamorous': 10029, 'legally': 7595, 'lonley': 7841, 'bommie': 1498, 'dara': 3189, 'clamoring': 2273, 'bassanio': 1096, 'wooing': 14858, 'portia': 10066, 'zane': 15042, 'lowe': 7906, 'matched': 8169, 'hawaii': 6005, 'slanted': 12081, 'hovering': 6339, 'animator': 527, 'pixar': 9901, 'outdid': 9344, 'lighthearted': 7688, 'unwittingly': 14160, 'informational': 6725, 'thy': 13440, 'hypothermia': 6436, 'balmy': 1027, 'judgmental': 7206, 'trafficking': 13630, 'slavery': 12092, 'embittered': 4267, 'blunder': 1450, 'refine': 10820, 'sadder': 11406, 'advil': 237, 'inflammation': 6710, 'infact': 6698, 'delilahlwl': 3373, 'raping': 10645}\n"
     ]
    }
   ],
   "source": [
    "cv = CountVectorizer()\n",
    "corpus = vector\n",
    "Xcv = cv.fit(corpus)\n",
    "print(Xcv.vocabulary_)"
   ]
  },
  {
   "cell_type": "code",
   "execution_count": 20,
   "id": "a485e9e3",
   "metadata": {},
   "outputs": [
    {
     "name": "stdout",
     "output_type": "stream",
     "text": [
      "['aa' 'aaaaaaand' 'aaaaand' ... 'zum' 'zumba' 'zz']\n"
     ]
    }
   ],
   "source": [
    "print(Xcv.get_feature_names_out())"
   ]
  },
  {
   "cell_type": "code",
   "execution_count": 21,
   "id": "db06cbb0",
   "metadata": {},
   "outputs": [
    {
     "data": {
      "text/html": [
       "<div>\n",
       "<style scoped>\n",
       "    .dataframe tbody tr th:only-of-type {\n",
       "        vertical-align: middle;\n",
       "    }\n",
       "\n",
       "    .dataframe tbody tr th {\n",
       "        vertical-align: top;\n",
       "    }\n",
       "\n",
       "    .dataframe thead th {\n",
       "        text-align: right;\n",
       "    }\n",
       "</style>\n",
       "<table border=\"1\" class=\"dataframe\">\n",
       "  <thead>\n",
       "    <tr style=\"text-align: right;\">\n",
       "      <th></th>\n",
       "      <th>aa</th>\n",
       "      <th>aaaaaaand</th>\n",
       "      <th>aaaaand</th>\n",
       "      <th>aaaah</th>\n",
       "      <th>aaaand</th>\n",
       "      <th>aac</th>\n",
       "      <th>aahhh</th>\n",
       "      <th>aaron</th>\n",
       "      <th>ab</th>\n",
       "      <th>abandon</th>\n",
       "      <th>...</th>\n",
       "      <th>zoned</th>\n",
       "      <th>zonisamide</th>\n",
       "      <th>zoo</th>\n",
       "      <th>zoom</th>\n",
       "      <th>zooming</th>\n",
       "      <th>zq</th>\n",
       "      <th>zucchini</th>\n",
       "      <th>zum</th>\n",
       "      <th>zumba</th>\n",
       "      <th>zz</th>\n",
       "    </tr>\n",
       "  </thead>\n",
       "  <tbody>\n",
       "    <tr>\n",
       "      <th>0</th>\n",
       "      <td>0</td>\n",
       "      <td>0</td>\n",
       "      <td>0</td>\n",
       "      <td>0</td>\n",
       "      <td>0</td>\n",
       "      <td>0</td>\n",
       "      <td>0</td>\n",
       "      <td>0</td>\n",
       "      <td>0</td>\n",
       "      <td>0</td>\n",
       "      <td>...</td>\n",
       "      <td>0</td>\n",
       "      <td>0</td>\n",
       "      <td>0</td>\n",
       "      <td>0</td>\n",
       "      <td>0</td>\n",
       "      <td>0</td>\n",
       "      <td>0</td>\n",
       "      <td>0</td>\n",
       "      <td>0</td>\n",
       "      <td>0</td>\n",
       "    </tr>\n",
       "    <tr>\n",
       "      <th>1</th>\n",
       "      <td>0</td>\n",
       "      <td>0</td>\n",
       "      <td>0</td>\n",
       "      <td>0</td>\n",
       "      <td>0</td>\n",
       "      <td>0</td>\n",
       "      <td>0</td>\n",
       "      <td>0</td>\n",
       "      <td>0</td>\n",
       "      <td>0</td>\n",
       "      <td>...</td>\n",
       "      <td>0</td>\n",
       "      <td>0</td>\n",
       "      <td>0</td>\n",
       "      <td>0</td>\n",
       "      <td>0</td>\n",
       "      <td>0</td>\n",
       "      <td>0</td>\n",
       "      <td>0</td>\n",
       "      <td>0</td>\n",
       "      <td>0</td>\n",
       "    </tr>\n",
       "    <tr>\n",
       "      <th>2</th>\n",
       "      <td>0</td>\n",
       "      <td>0</td>\n",
       "      <td>0</td>\n",
       "      <td>0</td>\n",
       "      <td>0</td>\n",
       "      <td>0</td>\n",
       "      <td>0</td>\n",
       "      <td>0</td>\n",
       "      <td>0</td>\n",
       "      <td>0</td>\n",
       "      <td>...</td>\n",
       "      <td>0</td>\n",
       "      <td>0</td>\n",
       "      <td>0</td>\n",
       "      <td>0</td>\n",
       "      <td>0</td>\n",
       "      <td>0</td>\n",
       "      <td>0</td>\n",
       "      <td>0</td>\n",
       "      <td>0</td>\n",
       "      <td>0</td>\n",
       "    </tr>\n",
       "    <tr>\n",
       "      <th>3</th>\n",
       "      <td>0</td>\n",
       "      <td>0</td>\n",
       "      <td>0</td>\n",
       "      <td>0</td>\n",
       "      <td>0</td>\n",
       "      <td>0</td>\n",
       "      <td>0</td>\n",
       "      <td>0</td>\n",
       "      <td>0</td>\n",
       "      <td>0</td>\n",
       "      <td>...</td>\n",
       "      <td>0</td>\n",
       "      <td>0</td>\n",
       "      <td>0</td>\n",
       "      <td>0</td>\n",
       "      <td>0</td>\n",
       "      <td>0</td>\n",
       "      <td>0</td>\n",
       "      <td>0</td>\n",
       "      <td>0</td>\n",
       "      <td>0</td>\n",
       "    </tr>\n",
       "    <tr>\n",
       "      <th>4</th>\n",
       "      <td>0</td>\n",
       "      <td>0</td>\n",
       "      <td>0</td>\n",
       "      <td>0</td>\n",
       "      <td>0</td>\n",
       "      <td>0</td>\n",
       "      <td>0</td>\n",
       "      <td>0</td>\n",
       "      <td>0</td>\n",
       "      <td>0</td>\n",
       "      <td>...</td>\n",
       "      <td>0</td>\n",
       "      <td>0</td>\n",
       "      <td>0</td>\n",
       "      <td>0</td>\n",
       "      <td>0</td>\n",
       "      <td>0</td>\n",
       "      <td>0</td>\n",
       "      <td>0</td>\n",
       "      <td>0</td>\n",
       "      <td>0</td>\n",
       "    </tr>\n",
       "  </tbody>\n",
       "</table>\n",
       "<p>5 rows × 15081 columns</p>\n",
       "</div>"
      ],
      "text/plain": [
       "   aa  aaaaaaand  aaaaand  aaaah  aaaand  aac  aahhh  aaron  ab  abandon  ...  \\\n",
       "0   0          0        0      0       0    0      0      0   0        0  ...   \n",
       "1   0          0        0      0       0    0      0      0   0        0  ...   \n",
       "2   0          0        0      0       0    0      0      0   0        0  ...   \n",
       "3   0          0        0      0       0    0      0      0   0        0  ...   \n",
       "4   0          0        0      0       0    0      0      0   0        0  ...   \n",
       "\n",
       "   zoned  zonisamide  zoo  zoom  zooming  zq  zucchini  zum  zumba  zz  \n",
       "0      0           0    0     0        0   0         0    0      0   0  \n",
       "1      0           0    0     0        0   0         0    0      0   0  \n",
       "2      0           0    0     0        0   0         0    0      0   0  \n",
       "3      0           0    0     0        0   0         0    0      0   0  \n",
       "4      0           0    0     0        0   0         0    0      0   0  \n",
       "\n",
       "[5 rows x 15081 columns]"
      ]
     },
     "execution_count": 21,
     "metadata": {},
     "output_type": "execute_result"
    }
   ],
   "source": [
    "# create a document term matrix\n",
    "Xcv = cv.transform(corpus)\n",
    "df2 = pd.DataFrame(Xcv.toarray(),columns=cv.get_feature_names_out())\n",
    "df2.head()"
   ]
  },
  {
   "cell_type": "markdown",
   "id": "9d4524dd",
   "metadata": {},
   "source": [
    "##  <font color='#008080'>5.4 N-Gram Vectorization</font>  "
   ]
  },
  {
   "cell_type": "code",
   "execution_count": 45,
   "id": "fc0cf7a3",
   "metadata": {},
   "outputs": [
    {
     "name": "stdout",
     "output_type": "stream",
     "text": [
      "(40566, 10000)\n",
      "[[0 0 0 ... 0 0 0]\n",
      " [0 0 0 ... 0 0 0]\n",
      " [0 0 0 ... 0 0 0]\n",
      " ...\n",
      " [0 0 0 ... 0 0 0]\n",
      " [0 0 0 ... 0 0 0]\n",
      " [0 0 0 ... 0 0 0]]\n"
     ]
    },
    {
     "data": {
      "text/html": [
       "<div>\n",
       "<style scoped>\n",
       "    .dataframe tbody tr th:only-of-type {\n",
       "        vertical-align: middle;\n",
       "    }\n",
       "\n",
       "    .dataframe tbody tr th {\n",
       "        vertical-align: top;\n",
       "    }\n",
       "\n",
       "    .dataframe thead th {\n",
       "        text-align: right;\n",
       "    }\n",
       "</style>\n",
       "<table border=\"1\" class=\"dataframe\">\n",
       "  <thead>\n",
       "    <tr style=\"text-align: right;\">\n",
       "      <th></th>\n",
       "      <th>ability empathize</th>\n",
       "      <th>ability quickly</th>\n",
       "      <th>ability thing</th>\n",
       "      <th>ability understand</th>\n",
       "      <th>able actually</th>\n",
       "      <th>able feel</th>\n",
       "      <th>able find</th>\n",
       "      <th>able get</th>\n",
       "      <th>able help</th>\n",
       "      <th>able let</th>\n",
       "      <th>...</th>\n",
       "      <th>youre going</th>\n",
       "      <th>youre naomi</th>\n",
       "      <th>youre shocked</th>\n",
       "      <th>youtube id</th>\n",
       "      <th>youtube next</th>\n",
       "      <th>youve made</th>\n",
       "      <th>yuuki doesnt</th>\n",
       "      <th>zach way</th>\n",
       "      <th>zealand yesterday</th>\n",
       "      <th>zhuo feng</th>\n",
       "    </tr>\n",
       "  </thead>\n",
       "  <tbody>\n",
       "    <tr>\n",
       "      <th>0</th>\n",
       "      <td>0</td>\n",
       "      <td>0</td>\n",
       "      <td>0</td>\n",
       "      <td>0</td>\n",
       "      <td>0</td>\n",
       "      <td>0</td>\n",
       "      <td>0</td>\n",
       "      <td>0</td>\n",
       "      <td>0</td>\n",
       "      <td>0</td>\n",
       "      <td>...</td>\n",
       "      <td>0</td>\n",
       "      <td>0</td>\n",
       "      <td>0</td>\n",
       "      <td>0</td>\n",
       "      <td>0</td>\n",
       "      <td>0</td>\n",
       "      <td>0</td>\n",
       "      <td>0</td>\n",
       "      <td>0</td>\n",
       "      <td>0</td>\n",
       "    </tr>\n",
       "    <tr>\n",
       "      <th>1</th>\n",
       "      <td>0</td>\n",
       "      <td>0</td>\n",
       "      <td>0</td>\n",
       "      <td>0</td>\n",
       "      <td>0</td>\n",
       "      <td>0</td>\n",
       "      <td>0</td>\n",
       "      <td>0</td>\n",
       "      <td>0</td>\n",
       "      <td>0</td>\n",
       "      <td>...</td>\n",
       "      <td>0</td>\n",
       "      <td>0</td>\n",
       "      <td>0</td>\n",
       "      <td>0</td>\n",
       "      <td>0</td>\n",
       "      <td>0</td>\n",
       "      <td>0</td>\n",
       "      <td>0</td>\n",
       "      <td>0</td>\n",
       "      <td>0</td>\n",
       "    </tr>\n",
       "    <tr>\n",
       "      <th>2</th>\n",
       "      <td>0</td>\n",
       "      <td>0</td>\n",
       "      <td>0</td>\n",
       "      <td>0</td>\n",
       "      <td>0</td>\n",
       "      <td>0</td>\n",
       "      <td>0</td>\n",
       "      <td>0</td>\n",
       "      <td>0</td>\n",
       "      <td>0</td>\n",
       "      <td>...</td>\n",
       "      <td>0</td>\n",
       "      <td>0</td>\n",
       "      <td>0</td>\n",
       "      <td>0</td>\n",
       "      <td>0</td>\n",
       "      <td>0</td>\n",
       "      <td>0</td>\n",
       "      <td>0</td>\n",
       "      <td>0</td>\n",
       "      <td>0</td>\n",
       "    </tr>\n",
       "    <tr>\n",
       "      <th>3</th>\n",
       "      <td>0</td>\n",
       "      <td>0</td>\n",
       "      <td>0</td>\n",
       "      <td>0</td>\n",
       "      <td>0</td>\n",
       "      <td>0</td>\n",
       "      <td>0</td>\n",
       "      <td>0</td>\n",
       "      <td>0</td>\n",
       "      <td>0</td>\n",
       "      <td>...</td>\n",
       "      <td>0</td>\n",
       "      <td>0</td>\n",
       "      <td>0</td>\n",
       "      <td>0</td>\n",
       "      <td>0</td>\n",
       "      <td>0</td>\n",
       "      <td>0</td>\n",
       "      <td>0</td>\n",
       "      <td>0</td>\n",
       "      <td>0</td>\n",
       "    </tr>\n",
       "    <tr>\n",
       "      <th>4</th>\n",
       "      <td>0</td>\n",
       "      <td>0</td>\n",
       "      <td>0</td>\n",
       "      <td>0</td>\n",
       "      <td>0</td>\n",
       "      <td>0</td>\n",
       "      <td>0</td>\n",
       "      <td>0</td>\n",
       "      <td>0</td>\n",
       "      <td>0</td>\n",
       "      <td>...</td>\n",
       "      <td>0</td>\n",
       "      <td>0</td>\n",
       "      <td>0</td>\n",
       "      <td>0</td>\n",
       "      <td>0</td>\n",
       "      <td>0</td>\n",
       "      <td>0</td>\n",
       "      <td>0</td>\n",
       "      <td>0</td>\n",
       "      <td>0</td>\n",
       "    </tr>\n",
       "    <tr>\n",
       "      <th>...</th>\n",
       "      <td>...</td>\n",
       "      <td>...</td>\n",
       "      <td>...</td>\n",
       "      <td>...</td>\n",
       "      <td>...</td>\n",
       "      <td>...</td>\n",
       "      <td>...</td>\n",
       "      <td>...</td>\n",
       "      <td>...</td>\n",
       "      <td>...</td>\n",
       "      <td>...</td>\n",
       "      <td>...</td>\n",
       "      <td>...</td>\n",
       "      <td>...</td>\n",
       "      <td>...</td>\n",
       "      <td>...</td>\n",
       "      <td>...</td>\n",
       "      <td>...</td>\n",
       "      <td>...</td>\n",
       "      <td>...</td>\n",
       "      <td>...</td>\n",
       "    </tr>\n",
       "    <tr>\n",
       "      <th>40561</th>\n",
       "      <td>0</td>\n",
       "      <td>0</td>\n",
       "      <td>0</td>\n",
       "      <td>0</td>\n",
       "      <td>0</td>\n",
       "      <td>0</td>\n",
       "      <td>0</td>\n",
       "      <td>0</td>\n",
       "      <td>0</td>\n",
       "      <td>0</td>\n",
       "      <td>...</td>\n",
       "      <td>0</td>\n",
       "      <td>0</td>\n",
       "      <td>0</td>\n",
       "      <td>0</td>\n",
       "      <td>0</td>\n",
       "      <td>0</td>\n",
       "      <td>0</td>\n",
       "      <td>0</td>\n",
       "      <td>0</td>\n",
       "      <td>0</td>\n",
       "    </tr>\n",
       "    <tr>\n",
       "      <th>40562</th>\n",
       "      <td>0</td>\n",
       "      <td>0</td>\n",
       "      <td>0</td>\n",
       "      <td>0</td>\n",
       "      <td>0</td>\n",
       "      <td>0</td>\n",
       "      <td>0</td>\n",
       "      <td>0</td>\n",
       "      <td>0</td>\n",
       "      <td>0</td>\n",
       "      <td>...</td>\n",
       "      <td>0</td>\n",
       "      <td>0</td>\n",
       "      <td>0</td>\n",
       "      <td>0</td>\n",
       "      <td>0</td>\n",
       "      <td>0</td>\n",
       "      <td>0</td>\n",
       "      <td>0</td>\n",
       "      <td>0</td>\n",
       "      <td>0</td>\n",
       "    </tr>\n",
       "    <tr>\n",
       "      <th>40563</th>\n",
       "      <td>0</td>\n",
       "      <td>0</td>\n",
       "      <td>0</td>\n",
       "      <td>0</td>\n",
       "      <td>0</td>\n",
       "      <td>0</td>\n",
       "      <td>0</td>\n",
       "      <td>0</td>\n",
       "      <td>0</td>\n",
       "      <td>0</td>\n",
       "      <td>...</td>\n",
       "      <td>0</td>\n",
       "      <td>0</td>\n",
       "      <td>0</td>\n",
       "      <td>0</td>\n",
       "      <td>0</td>\n",
       "      <td>0</td>\n",
       "      <td>0</td>\n",
       "      <td>0</td>\n",
       "      <td>0</td>\n",
       "      <td>0</td>\n",
       "    </tr>\n",
       "    <tr>\n",
       "      <th>40564</th>\n",
       "      <td>0</td>\n",
       "      <td>0</td>\n",
       "      <td>0</td>\n",
       "      <td>0</td>\n",
       "      <td>0</td>\n",
       "      <td>0</td>\n",
       "      <td>0</td>\n",
       "      <td>0</td>\n",
       "      <td>0</td>\n",
       "      <td>0</td>\n",
       "      <td>...</td>\n",
       "      <td>0</td>\n",
       "      <td>0</td>\n",
       "      <td>0</td>\n",
       "      <td>0</td>\n",
       "      <td>0</td>\n",
       "      <td>0</td>\n",
       "      <td>0</td>\n",
       "      <td>0</td>\n",
       "      <td>0</td>\n",
       "      <td>0</td>\n",
       "    </tr>\n",
       "    <tr>\n",
       "      <th>40565</th>\n",
       "      <td>0</td>\n",
       "      <td>0</td>\n",
       "      <td>0</td>\n",
       "      <td>0</td>\n",
       "      <td>0</td>\n",
       "      <td>0</td>\n",
       "      <td>0</td>\n",
       "      <td>0</td>\n",
       "      <td>0</td>\n",
       "      <td>0</td>\n",
       "      <td>...</td>\n",
       "      <td>0</td>\n",
       "      <td>0</td>\n",
       "      <td>0</td>\n",
       "      <td>0</td>\n",
       "      <td>0</td>\n",
       "      <td>0</td>\n",
       "      <td>0</td>\n",
       "      <td>0</td>\n",
       "      <td>0</td>\n",
       "      <td>0</td>\n",
       "    </tr>\n",
       "  </tbody>\n",
       "</table>\n",
       "<p>40566 rows × 10000 columns</p>\n",
       "</div>"
      ],
      "text/plain": [
       "       ability empathize  ability quickly  ability thing  ability understand  \\\n",
       "0                      0                0              0                   0   \n",
       "1                      0                0              0                   0   \n",
       "2                      0                0              0                   0   \n",
       "3                      0                0              0                   0   \n",
       "4                      0                0              0                   0   \n",
       "...                  ...              ...            ...                 ...   \n",
       "40561                  0                0              0                   0   \n",
       "40562                  0                0              0                   0   \n",
       "40563                  0                0              0                   0   \n",
       "40564                  0                0              0                   0   \n",
       "40565                  0                0              0                   0   \n",
       "\n",
       "       able actually  able feel  able find  able get  able help  able let  \\\n",
       "0                  0          0          0         0          0         0   \n",
       "1                  0          0          0         0          0         0   \n",
       "2                  0          0          0         0          0         0   \n",
       "3                  0          0          0         0          0         0   \n",
       "4                  0          0          0         0          0         0   \n",
       "...              ...        ...        ...       ...        ...       ...   \n",
       "40561              0          0          0         0          0         0   \n",
       "40562              0          0          0         0          0         0   \n",
       "40563              0          0          0         0          0         0   \n",
       "40564              0          0          0         0          0         0   \n",
       "40565              0          0          0         0          0         0   \n",
       "\n",
       "       ...  youre going  youre naomi  youre shocked  youtube id  youtube next  \\\n",
       "0      ...            0            0              0           0             0   \n",
       "1      ...            0            0              0           0             0   \n",
       "2      ...            0            0              0           0             0   \n",
       "3      ...            0            0              0           0             0   \n",
       "4      ...            0            0              0           0             0   \n",
       "...    ...          ...          ...            ...         ...           ...   \n",
       "40561  ...            0            0              0           0             0   \n",
       "40562  ...            0            0              0           0             0   \n",
       "40563  ...            0            0              0           0             0   \n",
       "40564  ...            0            0              0           0             0   \n",
       "40565  ...            0            0              0           0             0   \n",
       "\n",
       "       youve made  yuuki doesnt  zach way  zealand yesterday  zhuo feng  \n",
       "0               0             0         0                  0          0  \n",
       "1               0             0         0                  0          0  \n",
       "2               0             0         0                  0          0  \n",
       "3               0             0         0                  0          0  \n",
       "4               0             0         0                  0          0  \n",
       "...           ...           ...       ...                ...        ...  \n",
       "40561           0             0         0                  0          0  \n",
       "40562           0             0         0                  0          0  \n",
       "40563           0             0         0                  0          0  \n",
       "40564           0             0         0                  0          0  \n",
       "40565           0             0         0                  0          0  \n",
       "\n",
       "[40566 rows x 10000 columns]"
      ]
     },
     "execution_count": 45,
     "metadata": {},
     "output_type": "execute_result"
    }
   ],
   "source": [
    "##bigram \n",
    "cv = CountVectorizer(ngram_range=(2, 2), max_features=10000)\n",
    "corpus2 = vector\n",
    "X = cv.fit_transform(corpus2)\n",
    "print(X.shape)\n",
    "print(X.toarray())\n",
    "df3 = pd.DataFrame(X.toarray(),columns=cv.get_feature_names_out())\n",
    "df3"
   ]
  },
  {
   "cell_type": "code",
   "execution_count": 22,
   "id": "6b25702d",
   "metadata": {},
   "outputs": [
    {
     "name": "stdout",
     "output_type": "stream",
     "text": [
      "[0.8074754972502243, 0.5685851606857835, 0.15714399889408687, 0.0, 0.0, 0.0, 0.0, 0.0, 0.0, 0.0, 0.0, 0.0, 0.0, 0.0, 0.0, 0.0, 0.0, 0.0, 0.0, 0.0]\n",
      "--------------------------------------------------\n",
      "[0.4873321074958138, 0.4280969158054225, 0.37978730809564487, 0.3642245379770015, 0.31213002817197594, 0.26460143475614856, 0.25473461088611116, 0.24157005971657303, 0.10797057344507892, 0.0, 0.0, 0.0, 0.0, 0.0, 0.0, 0.0, 0.0, 0.0, 0.0, 0.0]\n",
      "--------------------------------------------------\n",
      "[0.5682469391990586, 0.41095064317020397, 0.40824416923635193, 0.4024636209314783, 0.369211275940883, 0.18827628964050389, 0.08837301373978092, 0.0, 0.0, 0.0, 0.0, 0.0, 0.0, 0.0, 0.0, 0.0, 0.0, 0.0, 0.0, 0.0]\n",
      "--------------------------------------------------\n",
      "[0.5620394136273237, 0.5443216683027975, 0.3700567471399171, 0.3312360724126764, 0.2574012721137588, 0.24244444171616036, 0.12701009790374562, 0.0, 0.0, 0.0, 0.0, 0.0, 0.0, 0.0, 0.0, 0.0, 0.0, 0.0, 0.0, 0.0]\n",
      "--------------------------------------------------\n",
      "[0.9608979083213317, 0.2769028887239883, 0.0, 0.0, 0.0, 0.0, 0.0, 0.0, 0.0, 0.0, 0.0, 0.0, 0.0, 0.0, 0.0, 0.0, 0.0, 0.0, 0.0, 0.0]\n",
      "--------------------------------------------------\n"
     ]
    }
   ],
   "source": [
    "for i in range(5) : \n",
    "    print(sorted(list(df.iloc[i,:]),reverse=True)[:20])\n",
    "    print('--------------------------------------------------')"
   ]
  },
  {
   "cell_type": "markdown",
   "id": "3d9a465c",
   "metadata": {},
   "source": [
    "## <font color='#3f51b5'>Encoding </font> "
   ]
  },
  {
   "cell_type": "code",
   "execution_count": 23,
   "id": "e3e55e4e",
   "metadata": {},
   "outputs": [],
   "source": [
    "encoding={'anger':0,'sadness':1,'fear':2,'joy':3,'surprise':4,'love':5}\n",
    "y_data=[encoding[x] for x in y_data]"
   ]
  },
  {
   "cell_type": "code",
   "execution_count": 24,
   "id": "865d47a9",
   "metadata": {},
   "outputs": [
    {
     "name": "stdout",
     "output_type": "stream",
     "text": [
      "[1, 1, 0, 5, 0, 1, 4, 2, 3, 5]\n"
     ]
    }
   ],
   "source": [
    "print(y_data[:10])"
   ]
  },
  {
   "cell_type": "markdown",
   "id": "42026d6b",
   "metadata": {},
   "source": [
    "## <font color='#3f51b5'>Split Data => x_train , x_test </font> "
   ]
  },
  {
   "cell_type": "code",
   "execution_count": 25,
   "id": "365e2c39",
   "metadata": {},
   "outputs": [
    {
     "data": {
      "text/plain": [
       "(32452, 15081)"
      ]
     },
     "execution_count": 25,
     "metadata": {},
     "output_type": "execute_result"
    }
   ],
   "source": [
    "from sklearn.model_selection import train_test_split\n",
    "\n",
    "data_tfidf_train, data_tfidf_test, label_train, label_test = train_test_split(x_data, y_data, test_size=0.2, random_state=42)\n",
    "data_tfidf_train.shape\n",
    "#data_tfidf_test.shape"
   ]
  },
  {
   "cell_type": "markdown",
   "id": "9d9fda63",
   "metadata": {},
   "source": [
    "## <font color='#3f51b5'>MultinomialNB </font> "
   ]
  },
  {
   "cell_type": "code",
   "execution_count": 38,
   "id": "35805230",
   "metadata": {},
   "outputs": [
    {
     "name": "stdout",
     "output_type": "stream",
     "text": [
      "Precision: 0.92 / Recall: 0.919 / Accuracy: 0.919\n",
      "[[1296   28   35   13   15   11]\n",
      " [  42 1202   41   19   27   19]\n",
      " [  19   19 1199    9   57    7]\n",
      " [  22   32   27 1101   47  109]\n",
      " [   0    2   12    5 1346    0]\n",
      " [   2    8    3   24    2 1314]]\n",
      "              precision    recall  f1-score   support\n",
      "\n",
      "           0       0.94      0.93      0.93      1398\n",
      "           1       0.93      0.89      0.91      1350\n",
      "           2       0.91      0.92      0.91      1310\n",
      "           3       0.94      0.82      0.88      1338\n",
      "           4       0.90      0.99      0.94      1365\n",
      "           5       0.90      0.97      0.93      1353\n",
      "\n",
      "    accuracy                           0.92      8114\n",
      "   macro avg       0.92      0.92      0.92      8114\n",
      "weighted avg       0.92      0.92      0.92      8114\n",
      "\n"
     ]
    }
   ],
   "source": [
    "spam_detect_model1 = MultinomialNB().fit(data_tfidf_train, label_train)\n",
    "pred_test_MNB = spam_detect_model1.predict(data_tfidf_test)\n",
    "precision = precision_score(label_test, pred_test_MNB, average='weighted')\n",
    "recall = recall_score(label_test, pred_test_MNB, average='weighted')\n",
    "accuracy = accuracy_score(label_test, pred_test_MNB)\n",
    "print('Precision: {} / Recall: {} / Accuracy: {}'.format(round(precision, 3), round(recall, 3), round(accuracy, 3)))\n",
    "print(confusion_matrix(label_test,pred_test_MNB))\n",
    "print (classification_report(label_test, pred_test_MNB))"
   ]
  },
  {
   "cell_type": "markdown",
   "id": "9b00b97c",
   "metadata": {},
   "source": [
    "## <font color='#3f51b5'>Decision_Tree_Classifier </font> "
   ]
  },
  {
   "cell_type": "code",
   "execution_count": 39,
   "id": "2cb709a8",
   "metadata": {},
   "outputs": [
    {
     "name": "stdout",
     "output_type": "stream",
     "text": [
      "Precision: 0.956 / Recall: 0.955 / Accuracy: 0.955\n",
      "[[1367    5   13    9    1    3]\n",
      " [  37 1237   31   28    5   12]\n",
      " [   8    3 1280    1   16    2]\n",
      " [  13   46   16 1154   25   84]\n",
      " [   0    0    0    0 1365    0]\n",
      " [   0    0    0    4    2 1347]]\n",
      "              precision    recall  f1-score   support\n",
      "\n",
      "           0       0.96      0.98      0.97      1398\n",
      "           1       0.96      0.92      0.94      1350\n",
      "           2       0.96      0.98      0.97      1310\n",
      "           3       0.96      0.86      0.91      1338\n",
      "           4       0.97      1.00      0.98      1365\n",
      "           5       0.93      1.00      0.96      1353\n",
      "\n",
      "    accuracy                           0.96      8114\n",
      "   macro avg       0.96      0.95      0.95      8114\n",
      "weighted avg       0.96      0.96      0.95      8114\n",
      "\n"
     ]
    }
   ],
   "source": [
    "spam_detect_model2 = tree.DecisionTreeClassifier().fit(data_tfidf_train, label_train)\n",
    "pred_test_MNB = spam_detect_model2.predict(data_tfidf_test)\n",
    "precision = precision_score(label_test, pred_test_MNB,average='weighted')\n",
    "recall = recall_score(label_test, pred_test_MNB,average='weighted')\n",
    "accuracy = accuracy_score(label_test, pred_test_MNB)\n",
    "print('Precision: {} / Recall: {} / Accuracy: {}'.format(round(precision, 3), round(recall, 3), round(accuracy, 3)))\n",
    "print(confusion_matrix(label_test,pred_test_MNB))\n",
    "print (classification_report(label_test, pred_test_MNB))"
   ]
  },
  {
   "cell_type": "markdown",
   "id": "65b268ef",
   "metadata": {},
   "source": [
    "## <font color='#3f51b5'>Random_Forest_Classifier </font> "
   ]
  },
  {
   "cell_type": "code",
   "execution_count": 40,
   "id": "59847314",
   "metadata": {},
   "outputs": [
    {
     "name": "stdout",
     "output_type": "stream",
     "text": [
      "Precision: 0.963 / Recall: 0.962 / Accuracy: 0.962\n",
      "[[1371    7    8    8    1    3]\n",
      " [  32 1254   21   24    5   14]\n",
      " [  11    5 1274    0   18    2]\n",
      " [   8   20   13 1198   20   79]\n",
      " [   0    0    0    0 1365    0]\n",
      " [   0    0    0    8    0 1345]]\n",
      "              precision    recall  f1-score   support\n",
      "\n",
      "           0       0.96      0.98      0.97      1398\n",
      "           1       0.98      0.93      0.95      1350\n",
      "           2       0.97      0.97      0.97      1310\n",
      "           3       0.97      0.90      0.93      1338\n",
      "           4       0.97      1.00      0.98      1365\n",
      "           5       0.93      0.99      0.96      1353\n",
      "\n",
      "    accuracy                           0.96      8114\n",
      "   macro avg       0.96      0.96      0.96      8114\n",
      "weighted avg       0.96      0.96      0.96      8114\n",
      "\n"
     ]
    }
   ],
   "source": [
    "spam_detect_model3 = RandomForestClassifier().fit(data_tfidf_train, label_train)\n",
    "pred_test_MNB = spam_detect_model3.predict(data_tfidf_test)\n",
    "precision = precision_score(label_test, pred_test_MNB,average='weighted')\n",
    "recall = recall_score(label_test, pred_test_MNB,average='weighted')\n",
    "accuracy = accuracy_score(label_test, pred_test_MNB)\n",
    "print('Precision: {} / Recall: {} / Accuracy: {}'.format(round(precision, 3), round(recall, 3), round(accuracy, 3)))\n",
    "print(confusion_matrix(label_test,pred_test_MNB))\n",
    "print (classification_report(label_test, pred_test_MNB))"
   ]
  },
  {
   "cell_type": "markdown",
   "id": "a006199c",
   "metadata": {},
   "source": [
    "## <font color='#3f51b5'>LogisticRegression </font> "
   ]
  },
  {
   "cell_type": "code",
   "execution_count": 41,
   "id": "ba9916a0",
   "metadata": {},
   "outputs": [
    {
     "name": "stdout",
     "output_type": "stream",
     "text": [
      "Precision: 0.952 / Recall: 0.952 / Accuracy: 0.952\n",
      "[[1332   23   23   13    3    4]\n",
      " [  34 1255   26   21    5    9]\n",
      " [  22    6 1231   12   35    4]\n",
      " [   5   21   11 1216   21   64]\n",
      " [   0    0    3    0 1362    0]\n",
      " [   0    3    0   20    0 1330]]\n",
      "              precision    recall  f1-score   support\n",
      "\n",
      "           0       0.96      0.95      0.95      1398\n",
      "           1       0.96      0.93      0.94      1350\n",
      "           2       0.95      0.94      0.95      1310\n",
      "           3       0.95      0.91      0.93      1338\n",
      "           4       0.96      1.00      0.98      1365\n",
      "           5       0.94      0.98      0.96      1353\n",
      "\n",
      "    accuracy                           0.95      8114\n",
      "   macro avg       0.95      0.95      0.95      8114\n",
      "weighted avg       0.95      0.95      0.95      8114\n",
      "\n"
     ]
    }
   ],
   "source": [
    "from sklearn.linear_model import LogisticRegression\n",
    "\n",
    "lr_model = LogisticRegression(random_state=42)\n",
    "lr_model.fit(data_tfidf_train, label_train)\n",
    "\n",
    "# Use the trained model to make predictions on the test data\n",
    "pred_test_lr = lr_model.predict(data_tfidf_test)\n",
    "\n",
    "# Evaluate the performance of the model using precision, recall, and accuracy\n",
    "precision = precision_score(label_test, pred_test_lr, average='weighted')\n",
    "recall = recall_score(label_test, pred_test_lr, average='weighted')\n",
    "accuracy = accuracy_score(label_test, pred_test_lr)\n",
    "\n",
    "# Print the evaluation metrics\n",
    "print('Precision: {} / Recall: {} / Accuracy: {}'.format(round(precision, 3), round(recall, 3), round(accuracy, 3)))\n",
    "print(confusion_matrix(label_test, pred_test_lr))\n",
    "print(classification_report(label_test, pred_test_lr))"
   ]
  },
  {
   "cell_type": "markdown",
   "id": "d2a1de69",
   "metadata": {},
   "source": [
    "## <font color='#3f51b5'>SVC </font> "
   ]
  },
  {
   "cell_type": "code",
   "execution_count": 42,
   "id": "db13174d",
   "metadata": {},
   "outputs": [
    {
     "name": "stdout",
     "output_type": "stream",
     "text": [
      "Precision: 0.969 / Recall: 0.969 / Accuracy: 0.969\n",
      "[[1351   21    7   18    0    1]\n",
      " [  23 1276   13   29    4    5]\n",
      " [   7    1 1278   11   11    2]\n",
      " [   5   20    7 1253    7   46]\n",
      " [   0    3    0    0 1362    0]\n",
      " [   0    0    0   12    0 1341]]\n",
      "              precision    recall  f1-score   support\n",
      "\n",
      "           0       0.97      0.97      0.97      1398\n",
      "           1       0.97      0.95      0.96      1350\n",
      "           2       0.98      0.98      0.98      1310\n",
      "           3       0.95      0.94      0.94      1338\n",
      "           4       0.98      1.00      0.99      1365\n",
      "           5       0.96      0.99      0.98      1353\n",
      "\n",
      "    accuracy                           0.97      8114\n",
      "   macro avg       0.97      0.97      0.97      8114\n",
      "weighted avg       0.97      0.97      0.97      8114\n",
      "\n"
     ]
    }
   ],
   "source": [
    "from sklearn.svm import SVC\n",
    "\n",
    "# Train an SVM model on the training data\n",
    "svm_model = SVC(random_state=42)\n",
    "svm_model.fit(data_tfidf_train, label_train)\n",
    "\n",
    "# Use the trained model to make predictions on the test data\n",
    "pred_test_svm = svm_model.predict(data_tfidf_test)\n",
    "\n",
    "# Evaluate the performance of the model using precision, recall, and accuracy\n",
    "precision = precision_score(label_test, pred_test_svm, average='weighted')\n",
    "recall = recall_score(label_test, pred_test_svm, average='weighted')\n",
    "accuracy = accuracy_score(label_test, pred_test_svm)\n",
    "\n",
    "# Print the evaluation metrics\n",
    "print('Precision: {} / Recall: {} / Accuracy: {}'.format(round(precision, 3), round(recall, 3), round(accuracy, 3)))\n",
    "print(confusion_matrix(label_test, pred_test_svm))\n",
    "print(classification_report(label_test, pred_test_svm))"
   ]
  },
  {
   "cell_type": "markdown",
   "id": "73d91a3c",
   "metadata": {},
   "source": [
    "## <font color='#3f51b5'>KNeighborsClassifier </font> "
   ]
  },
  {
   "cell_type": "code",
   "execution_count": 43,
   "id": "ac03bd94",
   "metadata": {},
   "outputs": [
    {
     "name": "stdout",
     "output_type": "stream",
     "text": [
      "Precision: 0.85 / Recall: 0.848 / Accuracy: 0.848\n",
      "[[1196   51   50   22   36   43]\n",
      " [  74 1080   75   34   41   46]\n",
      " [  58   47 1112   16   45   32]\n",
      " [  73   61   97  934   57  116]\n",
      " [   3    3    4    0 1354    1]\n",
      " [  28   27   42   33   18 1205]]\n",
      "              precision    recall  f1-score   support\n",
      "\n",
      "           0       0.84      0.86      0.85      1398\n",
      "           1       0.85      0.80      0.82      1350\n",
      "           2       0.81      0.85      0.83      1310\n",
      "           3       0.90      0.70      0.79      1338\n",
      "           4       0.87      0.99      0.93      1365\n",
      "           5       0.84      0.89      0.86      1353\n",
      "\n",
      "    accuracy                           0.85      8114\n",
      "   macro avg       0.85      0.85      0.85      8114\n",
      "weighted avg       0.85      0.85      0.85      8114\n",
      "\n"
     ]
    }
   ],
   "source": [
    "from sklearn.neighbors import KNeighborsClassifier\n",
    "\n",
    "# Train a KNN model on the training data\n",
    "knn_model = KNeighborsClassifier()\n",
    "knn_model.fit(data_tfidf_train, label_train)\n",
    "\n",
    "# Use the trained model to make predictions on the test data\n",
    "pred_test_knn = knn_model.predict(data_tfidf_test)\n",
    "\n",
    "# Evaluate the performance of the model using precision, recall, and accuracy\n",
    "precision = precision_score(label_test, pred_test_knn, average='weighted')\n",
    "recall = recall_score(label_test, pred_test_knn, average='weighted')\n",
    "accuracy = accuracy_score(label_test, pred_test_knn)\n",
    "\n",
    "# Print the evaluation metrics\n",
    "print('Precision: {} / Recall: {} / Accuracy: {}'.format(round(precision, 3), round(recall, 3), round(accuracy, 3)))\n",
    "print(confusion_matrix(label_test, pred_test_knn))\n",
    "print(classification_report(label_test, pred_test_knn))"
   ]
  },
  {
   "cell_type": "markdown",
   "id": "eee0d40a",
   "metadata": {},
   "source": [
    "## <font color='#3f51b5'>xgboost </font> "
   ]
  },
  {
   "cell_type": "code",
   "execution_count": 44,
   "id": "3f2adbef",
   "metadata": {},
   "outputs": [
    {
     "name": "stdout",
     "output_type": "stream",
     "text": [
      "Precision: 0.943 / Recall: 0.942 / Accuracy: 0.942\n",
      "[[1311   10   18   51    4    4]\n",
      " [  37 1225   30   40    7   11]\n",
      " [  15    7 1207   18   61    2]\n",
      " [   5   18   11 1193   27   84]\n",
      " [   0    0    2    0 1363    0]\n",
      " [   0    0    0    6    2 1345]]\n",
      "              precision    recall  f1-score   support\n",
      "\n",
      "           0       0.96      0.94      0.95      1398\n",
      "           1       0.97      0.91      0.94      1350\n",
      "           2       0.95      0.92      0.94      1310\n",
      "           3       0.91      0.89      0.90      1338\n",
      "           4       0.93      1.00      0.96      1365\n",
      "           5       0.93      0.99      0.96      1353\n",
      "\n",
      "    accuracy                           0.94      8114\n",
      "   macro avg       0.94      0.94      0.94      8114\n",
      "weighted avg       0.94      0.94      0.94      8114\n",
      "\n"
     ]
    }
   ],
   "source": [
    "from xgboost import XGBClassifier\n",
    "# Train an XGBClassifier model on the training data\n",
    "xgb_model = XGBClassifier(random_state=42)\n",
    "xgb_model.fit(data_tfidf_train, label_train)\n",
    "\n",
    "# Use the trained model to make predictions on the test data\n",
    "pred_test_xgb = xgb_model.predict(data_tfidf_test)\n",
    "\n",
    "# Evaluate the performance of the model using precision, recall, and accuracy\n",
    "precision = precision_score(label_test, pred_test_xgb, average='weighted')\n",
    "recall = recall_score(label_test, pred_test_xgb, average='weighted')\n",
    "accuracy = accuracy_score(label_test, pred_test_xgb)\n",
    "\n",
    "# Print the evaluation metrics\n",
    "print('Precision: {} / Recall: {} / Accuracy: {}'.format(round(precision, 3), round(recall, 3), round(accuracy, 3)))\n",
    "print(confusion_matrix(label_test, pred_test_xgb))\n",
    "print(classification_report(label_test, pred_test_xgb))"
   ]
  },
  {
   "cell_type": "markdown",
   "id": "13d6b552",
   "metadata": {},
   "source": [
    "## <font color='#3f51b5'>RNN </font> "
   ]
  },
  {
   "cell_type": "code",
   "execution_count": 26,
   "id": "d2153bf8",
   "metadata": {},
   "outputs": [],
   "source": [
    "import numpy as np\n",
    "\n",
    "num_features = data_tfidf_train.shape[1]\n",
    "num_timesteps = 1  # Each sample consists of a single timestep\n",
    "\n",
    "# Reshape training data into 3D tensor\n",
    "X_train = np.reshape(data_tfidf_train.toarray(), (data_tfidf_train.shape[0], num_timesteps, num_features))\n",
    "\n",
    "# Reshape testing data into 3D tensor\n",
    "X_test = np.reshape(data_tfidf_test.toarray(), (data_tfidf_test.shape[0], num_timesteps, num_features))\n",
    "label_train = np.array(label_train).tolist()\n",
    "label_test = np.array(label_test).tolist()"
   ]
  },
  {
   "cell_type": "code",
   "execution_count": 27,
   "id": "0c8b0ad3",
   "metadata": {},
   "outputs": [
    {
     "name": "stdout",
     "output_type": "stream",
     "text": [
      "Epoch 1/5\n",
      "1015/1015 [==============================] - 51s 48ms/step - loss: 0.7837 - accuracy: 0.8460\n",
      "Epoch 2/5\n",
      "1015/1015 [==============================] - 47s 47ms/step - loss: 0.1002 - accuracy: 0.9737\n",
      "Epoch 3/5\n",
      "1015/1015 [==============================] - 46s 46ms/step - loss: 0.0477 - accuracy: 0.9888\n",
      "Epoch 4/5\n",
      "1015/1015 [==============================] - 46s 45ms/step - loss: 0.0310 - accuracy: 0.9922\n",
      "Epoch 5/5\n",
      "1015/1015 [==============================] - 46s 45ms/step - loss: 0.0232 - accuracy: 0.9939\n",
      "254/254 [==============================] - 3s 5ms/step - loss: 0.1272 - accuracy: 0.9618\n",
      "RNN Accuracy: 0.9617944359779358\n"
     ]
    }
   ],
   "source": [
    "from keras.utils import to_categorical\n",
    "\n",
    "# Define RNN model\n",
    "model = Sequential()\n",
    "model.add(LSTM(64, input_shape=(num_timesteps, num_features)))\n",
    "model.add(Dense(6, activation='softmax'))\n",
    "model.compile(loss='sparse_categorical_crossentropy', optimizer='adam', metrics=['accuracy'])\n",
    "\n",
    "# Prepare target labels without one-hot encoding\n",
    "label_train = np.array(label_train)\n",
    "label_test = np.array(label_test)\n",
    "\n",
    "# Train RNN model\n",
    "Model = model.fit(X_train, label_train,  epochs=5, batch_size=32)#validation_data=(X_test, label_test),\n",
    "score = model.evaluate(X_test, label_test, batch_size=32)\n",
    "print('RNN Accuracy:', score[1])"
   ]
  },
  {
   "cell_type": "code",
   "execution_count": 28,
   "id": "e81af32f",
   "metadata": {},
   "outputs": [
    {
     "name": "stdout",
     "output_type": "stream",
     "text": [
      "254/254 [==============================] - 1s 4ms/step\n"
     ]
    }
   ],
   "source": [
    "# Make predictions on test data\n",
    "y_pred = model.predict(X_test)\n",
    "\n",
    "# Convert predictions to class labels\n",
    "y_pred_labels = np.argmax(y_pred, axis=1)"
   ]
  },
  {
   "cell_type": "code",
   "execution_count": 31,
   "id": "86b4a347",
   "metadata": {},
   "outputs": [
    {
     "data": {
      "text/plain": [
       "array([4, 0, 4, 4, 4, 1, 4, 1, 2, 4], dtype=int64)"
      ]
     },
     "execution_count": 31,
     "metadata": {},
     "output_type": "execute_result"
    }
   ],
   "source": [
    "y_pred_labels[:10]"
   ]
  },
  {
   "cell_type": "code",
   "execution_count": 37,
   "id": "973357a0",
   "metadata": {},
   "outputs": [
    {
     "name": "stdout",
     "output_type": "stream",
     "text": [
      "254/254 [==============================] - 1s 3ms/step\n",
      "              precision    recall  f1-score   support\n",
      "\n",
      "           0       0.97      0.97      0.97      1398\n",
      "           1       0.94      0.93      0.94      1350\n",
      "           2       0.97      0.96      0.97      1310\n",
      "           3       0.95      0.91      0.93      1338\n",
      "           4       0.98      1.00      0.99      1365\n",
      "           5       0.95      0.99      0.97      1353\n",
      "\n",
      "    accuracy                           0.96      8114\n",
      "   macro avg       0.96      0.96      0.96      8114\n",
      "weighted avg       0.96      0.96      0.96      8114\n",
      "\n",
      "[[1358   21    7    7    0    5]\n",
      " [  31 1262   18   29    1    9]\n",
      " [   3   15 1263   16   12    1]\n",
      " [   6   36   12 1221    9   54]\n",
      " [   0    0    0    0 1365    0]\n",
      " [   0    2    0   16    0 1335]]\n"
     ]
    }
   ],
   "source": [
    "# Convert true labels to categorical\n",
    "label_test_cat = to_categorical(label_test)\n",
    "\n",
    "# Make predictions on test data\n",
    "y_pred = model.predict(X_test)\n",
    "\n",
    "# Convert predictions to class labels\n",
    "y_pred_labels = np.argmax(y_pred, axis=1)\n",
    "\n",
    "# Print the classification report and confusion matrix\n",
    "print(classification_report(label_test, y_pred_labels))\n",
    "print(confusion_matrix(label_test, y_pred_labels))"
   ]
  },
  {
   "cell_type": "markdown",
   "id": "3719dccd",
   "metadata": {},
   "source": [
    "## <font color='red'>Compare Results To Choose Best Model </font> "
   ]
  },
  {
   "cell_type": "code",
   "execution_count": 48,
   "id": "23217fe6",
   "metadata": {},
   "outputs": [
    {
     "data": {
      "text/plain": [
       "<AxesSubplot:xlabel='Algorithm', ylabel='Accuracy Score'>"
      ]
     },
     "execution_count": 48,
     "metadata": {},
     "output_type": "execute_result"
    },
    {
     "data": {
      "image/png": "[encoded data removed]",
      "text/plain": [
       "<Figure size 1500x800 with 1 Axes>"
      ]
     },
     "metadata": {},
     "output_type": "display_data"
    }
   ],
   "source": [
    "svm_score = svm_model.score(data_tfidf_test, label_test)\n",
    "knn_score = knn_model.score(data_tfidf_test, label_test)\n",
    "xgb_score = xgb_model.score(data_tfidf_test, label_test)\n",
    "lr_score = lr_model.score(data_tfidf_test, label_test)\n",
    "nb_score = spam_detect_model1.score(data_tfidf_test, label_test)\n",
    "dt_score = spam_detect_model2.score(data_tfidf_test, label_test)\n",
    "rf_score = spam_detect_model3.score(data_tfidf_test, label_test)\n",
    "\n",
    "# Create a dataframe with the algorithm names and their scores\n",
    "algorithms = ['nb','dt','rf','Logistic Regression', 'SVM', 'KNN', 'XGBoost', 'RNN']\n",
    "scores = [nb_score, dt_score, rf_score, lr_score, svm_score, knn_score, xgb_score, score[1]]\n",
    "df = pd.DataFrame({'Algorithm': algorithms, 'Accuracy Score': scores})\n",
    "\n",
    "# Set the figure size and labels\n",
    "sns.set(rc={'figure.figsize':(15,8)})\n",
    "plt.xlabel(\"Algorithms\")\n",
    "plt.ylabel(\"Accuracy Score\")\n",
    "\n",
    "# Create the barplot\n",
    "sns.barplot(x='Algorithm', y='Accuracy Score', data=df)"
   ]
  },
  {
   "cell_type": "markdown",
   "id": "38263ef1",
   "metadata": {},
   "source": [
    "## <font color='#3f51b5'>Make Predictions </font> "
   ]
  },
  {
   "cell_type": "code",
   "execution_count": 38,
   "id": "c40c5138",
   "metadata": {},
   "outputs": [],
   "source": [
    "encoding={'anger':0,'sadness':1,'fear':2,'joy':3,'surprise':4,'love':5}\n",
    "def return_label(pred):\n",
    "    for key , value in encoding.items():\n",
    "        if(value== pred):\n",
    "            return key"
   ]
  },
  {
   "cell_type": "code",
   "execution_count": 50,
   "id": "315d9077",
   "metadata": {},
   "outputs": [
    {
     "name": "stdout",
     "output_type": "stream",
     "text": [
      "anger\n"
     ]
    }
   ],
   "source": [
    "text = 'hossam feel dissatisfied'\n",
    "X = tfidf_vec.transform([text])\n",
    "pred = lr_model.predict(X)\n",
    "print(return_label(pred[0]))"
   ]
  },
  {
   "cell_type": "code",
   "execution_count": 51,
   "id": "dd533f8d",
   "metadata": {},
   "outputs": [
    {
     "name": "stdout",
     "output_type": "stream",
     "text": [
      "sadness\n"
     ]
    }
   ],
   "source": [
    "text = 'i feel disappointed'\n",
    "X = tfidf_vec.transform([text])\n",
    "pred = lr_model.predict(X)\n",
    "print(return_label(pred[0]))"
   ]
  },
  {
   "cell_type": "code",
   "execution_count": 52,
   "id": "48a97fe3",
   "metadata": {},
   "outputs": [
    {
     "name": "stdout",
     "output_type": "stream",
     "text": [
      "fear\n"
     ]
    }
   ],
   "source": [
    "text = ' I feel terrified '\n",
    "X = tfidf_vec.transform([text])\n",
    "pred = lr_model.predict(X)\n",
    "print(return_label(pred[0]))"
   ]
  },
  {
   "cell_type": "code",
   "execution_count": 53,
   "id": "d2899995",
   "metadata": {},
   "outputs": [
    {
     "name": "stdout",
     "output_type": "stream",
     "text": [
      "joy\n"
     ]
    }
   ],
   "source": [
    "text = 'I love playing'\n",
    "X = tfidf_vec.transform([text])\n",
    "pred = lr_model.predict(X)\n",
    "print(return_label(pred[0]))"
   ]
  },
  {
   "cell_type": "code",
   "execution_count": 54,
   "id": "bffbc043",
   "metadata": {},
   "outputs": [
    {
     "name": "stdout",
     "output_type": "stream",
     "text": [
      "surprise\n"
     ]
    }
   ],
   "source": [
    "text = 'i m shocked my son pass the exam'\n",
    "X = tfidf_vec.transform([text])\n",
    "pred = lr_model.predict(X)\n",
    "print(return_label(pred[0]))"
   ]
  },
  {
   "cell_type": "code",
   "execution_count": 55,
   "id": "f8bfdee8",
   "metadata": {},
   "outputs": [
    {
     "name": "stdout",
     "output_type": "stream",
     "text": [
      "love\n"
     ]
    }
   ],
   "source": [
    "text = 'hossam love AlAhly SC '\n",
    "X = tfidf_vec.transform([text])\n",
    "pred = lr_model.predict(X)\n",
    "print(return_label(pred[0]))"
   ]
  },
  {
   "cell_type": "markdown",
   "id": "0085ae1c",
   "metadata": {},
   "source": [
    "## <font color='#3f51b5'>Save The Model </font> "
   ]
  },
  {
   "cell_type": "code",
   "execution_count": 48,
   "id": "62d6716b",
   "metadata": {},
   "outputs": [],
   "source": [
    "# saave vectorizer\n",
    "#with open('vectorizer.pkl', 'wb') as f:\n",
    "#    pickle.dump(tfidf_vec, f)\n",
    "#Save the trained model\n",
    "#with open('lr_model.pkl', 'wb') as f:\n",
    "#    pickle.dump(lr_model, f)\n",
    "\n",
    "#with open('rnn_model.pkl', 'wb') as f:\n",
    "#   pickle.dump(Model, f)"
   ]
  },
  {
   "cell_type": "markdown",
   "id": "1d5643aa",
   "metadata": {},
   "source": [
    "## <font color='#3f51b5'>Model Deployment </font> "
   ]
  },
  {
   "cell_type": "code",
   "execution_count": 3,
   "id": "0a445113",
   "metadata": {},
   "outputs": [
    {
     "name": "stdout",
     "output_type": "stream",
     "text": [
      "Enter Your Sentiment: i love you \n",
      "love\n"
     ]
    }
   ],
   "source": [
    "import pickle\n",
    "# Load the saved model and make a prediction\n",
    "with open('vectorizer.pkl', 'rb') as f:\n",
    "    tfidf_vec = pickle.load(f)\n",
    "with open('lr_model.pkl', 'rb') as f:\n",
    "    saved_model = pickle.load(f)\n",
    "\n",
    "# Use the saved model to make a prediction\n",
    "text =input(\"Enter Your Sentiment: \")\n",
    "text_vectorized = tfidf_vec.transform([text])\n",
    "pred = saved_model.predict(text_vectorized)[0]\n",
    "print(return_label(pred))"
   ]
  },
  {
   "cell_type": "markdown",
   "id": "2aa05106",
   "metadata": {},
   "source": [
    "## API"
   ]
  },
  {
   "cell_type": "code",
   "execution_count": 2,
   "id": "66b21470",
   "metadata": {},
   "outputs": [],
   "source": [
    "from flask import Flask, request, jsonify\n",
    "import pickle\n",
    "encoding={'anger':0,'sadness':1,'fear':2,'joy':3,'surprise':4,'love':5}\n",
    "def return_label(pred):\n",
    "    for key , value in encoding.items():\n",
    "        if(value== pred):\n",
    "            return key"
   ]
  },
  {
   "cell_type": "code",
   "execution_count": 4,
   "id": "45279898",
   "metadata": {},
   "outputs": [],
   "source": [
    "\n",
    "\n",
    "app = Flask(__name__)\n",
    "\n",
    "@app.route('/classify', methods=['POST'])\n",
    "def classify_sentence():\n",
    "    text = request.form.get('sentence')\n",
    "    # TODO: Add code to classify the sentence\n",
    "    text_vectorized = tfidf_vec.transform([text])\n",
    "    pred = saved_model.predict(text_vectorized)[0]\n",
    "    classification_result = return_label(pred)\n",
    "    response = {'classification': classification_result}\n",
    "    return jsonify(response)\n"
   ]
  },
  {
   "cell_type": "code",
   "execution_count": null,
   "id": "d0abcc1c",
   "metadata": {},
   "outputs": [
    {
     "name": "stdout",
     "output_type": "stream",
     "text": [
      " * Serving Flask app \"__main__\" (lazy loading)\n",
      " * Environment: production\n",
      "\u001b[31m   WARNING: This is a development server. Do not use it in a production deployment.\u001b[0m\n",
      "\u001b[2m   Use a production WSGI server instead.\u001b[0m\n",
      " * Debug mode: off\n"
     ]
    },
    {
     "name": "stderr",
     "output_type": "stream",
     "text": [
      " * Running on http://127.0.0.1:9000/ (Press CTRL+C to quit)\n",
      "127.0.0.1 - - [10/May/2023 12:45:29] \"POST /classify HTTP/1.1\" 200 -\n",
      "127.0.0.1 - - [10/May/2023 12:46:13] \"POST /classify HTTP/1.1\" 200 -\n",
      "127.0.0.1 - - [10/May/2023 12:48:01] \"POST /classify HTTP/1.1\" 200 -\n",
      "127.0.0.1 - - [10/May/2023 12:49:18] \"POST /classify HTTP/1.1\" 200 -\n",
      "127.0.0.1 - - [10/May/2023 12:51:12] \"POST /classify HTTP/1.1\" 200 -\n"
     ]
    }
   ],
   "source": [
    "app.run(port=9000)"
   ]
  },
  {
   "cell_type": "code",
   "execution_count": null,
   "id": "1e24ea59",
   "metadata": {},
   "outputs": [],
   "source": []
  }
 ],
 "metadata": {
  "kernelspec": {
   "display_name": "Python 3 (ipykernel)",
   "language": "python",
   "name": "python3"
  },
  "language_info": {
   "codemirror_mode": {
    "name": "ipython",
    "version": 3
   },
   "file_extension": ".py",
   "mimetype": "text/x-python",
   "name": "python",
   "nbconvert_exporter": "python",
   "pygments_lexer": "ipython3",
   "version": "3.9.13"
  }
 },
 "nbformat": 4,
 "nbformat_minor": 5
}
